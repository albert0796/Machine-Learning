{
 "cells": [
  {
   "cell_type": "markdown",
   "metadata": {},
   "source": [
    "# Package"
   ]
  },
  {
   "cell_type": "code",
   "execution_count": 123,
   "metadata": {},
   "outputs": [],
   "source": [
    "import pandas as pd\n",
    "import numpy as np\n",
    "import seaborn as sns\n",
    "import matplotlib.pyplot as plt\n",
    "from statistics import mode\n",
    "from sklearn.model_selection import train_test_split\n",
    "from sklearn.ensemble import ExtraTreesClassifier, ExtraTreesRegressor\n",
    "from sklearn.metrics import r2_score\n",
    "from sklearn.metrics import f1_score"
   ]
  },
  {
   "cell_type": "code",
   "execution_count": 124,
   "metadata": {},
   "outputs": [],
   "source": [
    "class Fill_method1:\n",
    "    def __init__(self, data, col, label, label_type):\n",
    "        self.data = data\n",
    "        self.col = col\n",
    "        self.label = label\n",
    "        self.label_type = label_type\n",
    "        self.ls_impo_top10 = None\n",
    "        self.ls_impo_combine = None\n",
    "        self.df = None\n",
    "        self.y_drop, self.y_ndrop = None, None\n",
    "        self.x_idx, self.x_nidx = None, None\n",
    "        \n",
    "    def preprocessing(self):\n",
    "        self.df = self.data.drop([self.label], axis = 1)\n",
    "        self.y_drop = self.df[self.col].dropna(axis = 0)\n",
    "        self.y_ndrop = self.df[self.col]\n",
    "        x = self.df.dropna(axis = 1)\n",
    "        x2 = x.loc[self.y_drop.index]\n",
    "        x2 = pd.get_dummies(x2, drop_first=True)\n",
    "        x3 = pd.get_dummies(x, drop_first=True)\n",
    "        self.x_idx = x2\n",
    "        self.x_nidx = x3\n",
    "        \n",
    "    def impo_measure_top10(self):\n",
    "        X_train, X_test, y_train, y_test = train_test_split(self.x_idx, self.y_drop, test_size = 0.2, random_state = 111)\n",
    "        if self.label_type == object:\n",
    "            model = ExtraTreesClassifier(random_state=111)\n",
    "        else:\n",
    "            model = ExtraTreesRegressor(random_state=111) \n",
    "        model.fit(X_train, y_train)\n",
    "        self.ls_impo_top10 = list(zip(X_train.columns, model.feature_importances_))\n",
    "        self.ls_impo_top10.sort(reverse=True, key=lambda x: x[1])\n",
    "        return self.ls_impo_top10\n",
    "    \n",
    "    def impo_measure_combine(self):\n",
    "        ls_impo, ls_score, ls_model = [], [], []\n",
    "        for i in range(0, 10):\n",
    "            ls_feature_10 = np.array(self.ls_impo_top10)[:, 0]\n",
    "            col_feature = ls_feature_10[0: i + 1]\n",
    "            x = self.x_idx[col_feature]\n",
    "            X_train, X_test, y_train, y_test = train_test_split(x, self.y_drop, test_size = 0.2, random_state = 111)\n",
    "            if self.label_type == object:\n",
    "                model = ExtraTreesClassifier(random_state=111)\n",
    "            else:\n",
    "                model = ExtraTreesRegressor(random_state=111) \n",
    "            model.fit(X_train, y_train)\n",
    "            y_test_pred = model.predict(X_test)\n",
    "            if self.label_type == object:\n",
    "                score = f1_score(y_test, y_test_pred)\n",
    "            else:\n",
    "                score = r2_score(y_test, y_test_pred)\n",
    "            ls_impo.append(col_feature)\n",
    "            ls_score.append(score)\n",
    "            ls_model.append(model)\n",
    "        self.ls_impo_combine = list(zip(ls_impo, ls_score, ls_model))\n",
    "        self.ls_impo_combine.sort(reverse=True, key=lambda x: x[1])\n",
    "        return self.ls_impo_combine\n",
    "    \n",
    "    def fillna(self):\n",
    "        x = self.x_nidx[self.ls_impo_combine[0][0]].loc[pd.isnull(self.y_ndrop) == True]\n",
    "        self.data[self.col].loc[pd.isnull(self.y_ndrop) == True] = self.ls_impo_combine[0][2].predict(x)\n",
    "        return self.data"
   ]
  },
  {
   "cell_type": "markdown",
   "metadata": {},
   "source": [
    "# 1. Data"
   ]
  },
  {
   "cell_type": "code",
   "execution_count": 125,
   "metadata": {},
   "outputs": [],
   "source": [
    "file_path = r'C:\\Users\\user\\Desktop\\git_hub\\finished\\ml\\kaggle房價預測\\data\\train.csv'\n",
    "data = pd.read_csv(file_path, encoding=\"Big5\", low_memory=False)\n",
    "data.drop('Id',axis=1, inplace = True)"
   ]
  },
  {
   "cell_type": "code",
   "execution_count": 126,
   "metadata": {},
   "outputs": [],
   "source": [
    "data_copy = data.copy()"
   ]
  },
  {
   "cell_type": "code",
   "execution_count": 127,
   "metadata": {},
   "outputs": [
    {
     "data": {
      "text/html": [
       "<div>\n",
       "<style scoped>\n",
       "    .dataframe tbody tr th:only-of-type {\n",
       "        vertical-align: middle;\n",
       "    }\n",
       "\n",
       "    .dataframe tbody tr th {\n",
       "        vertical-align: top;\n",
       "    }\n",
       "\n",
       "    .dataframe thead th {\n",
       "        text-align: right;\n",
       "    }\n",
       "</style>\n",
       "<table border=\"1\" class=\"dataframe\">\n",
       "  <thead>\n",
       "    <tr style=\"text-align: right;\">\n",
       "      <th></th>\n",
       "      <th>MSSubClass</th>\n",
       "      <th>MSZoning</th>\n",
       "      <th>LotFrontage</th>\n",
       "      <th>LotArea</th>\n",
       "      <th>Street</th>\n",
       "      <th>Alley</th>\n",
       "      <th>LotShape</th>\n",
       "      <th>LandContour</th>\n",
       "      <th>Utilities</th>\n",
       "      <th>LotConfig</th>\n",
       "      <th>...</th>\n",
       "      <th>PoolArea</th>\n",
       "      <th>PoolQC</th>\n",
       "      <th>Fence</th>\n",
       "      <th>MiscFeature</th>\n",
       "      <th>MiscVal</th>\n",
       "      <th>MoSold</th>\n",
       "      <th>YrSold</th>\n",
       "      <th>SaleType</th>\n",
       "      <th>SaleCondition</th>\n",
       "      <th>SalePrice</th>\n",
       "    </tr>\n",
       "  </thead>\n",
       "  <tbody>\n",
       "    <tr>\n",
       "      <th>0</th>\n",
       "      <td>60</td>\n",
       "      <td>RL</td>\n",
       "      <td>65.0</td>\n",
       "      <td>8450</td>\n",
       "      <td>Pave</td>\n",
       "      <td>NaN</td>\n",
       "      <td>Reg</td>\n",
       "      <td>Lvl</td>\n",
       "      <td>AllPub</td>\n",
       "      <td>Inside</td>\n",
       "      <td>...</td>\n",
       "      <td>0</td>\n",
       "      <td>NaN</td>\n",
       "      <td>NaN</td>\n",
       "      <td>NaN</td>\n",
       "      <td>0</td>\n",
       "      <td>2</td>\n",
       "      <td>2008</td>\n",
       "      <td>WD</td>\n",
       "      <td>Normal</td>\n",
       "      <td>208500</td>\n",
       "    </tr>\n",
       "    <tr>\n",
       "      <th>1</th>\n",
       "      <td>20</td>\n",
       "      <td>RL</td>\n",
       "      <td>80.0</td>\n",
       "      <td>9600</td>\n",
       "      <td>Pave</td>\n",
       "      <td>NaN</td>\n",
       "      <td>Reg</td>\n",
       "      <td>Lvl</td>\n",
       "      <td>AllPub</td>\n",
       "      <td>FR2</td>\n",
       "      <td>...</td>\n",
       "      <td>0</td>\n",
       "      <td>NaN</td>\n",
       "      <td>NaN</td>\n",
       "      <td>NaN</td>\n",
       "      <td>0</td>\n",
       "      <td>5</td>\n",
       "      <td>2007</td>\n",
       "      <td>WD</td>\n",
       "      <td>Normal</td>\n",
       "      <td>181500</td>\n",
       "    </tr>\n",
       "    <tr>\n",
       "      <th>2</th>\n",
       "      <td>60</td>\n",
       "      <td>RL</td>\n",
       "      <td>68.0</td>\n",
       "      <td>11250</td>\n",
       "      <td>Pave</td>\n",
       "      <td>NaN</td>\n",
       "      <td>IR1</td>\n",
       "      <td>Lvl</td>\n",
       "      <td>AllPub</td>\n",
       "      <td>Inside</td>\n",
       "      <td>...</td>\n",
       "      <td>0</td>\n",
       "      <td>NaN</td>\n",
       "      <td>NaN</td>\n",
       "      <td>NaN</td>\n",
       "      <td>0</td>\n",
       "      <td>9</td>\n",
       "      <td>2008</td>\n",
       "      <td>WD</td>\n",
       "      <td>Normal</td>\n",
       "      <td>223500</td>\n",
       "    </tr>\n",
       "  </tbody>\n",
       "</table>\n",
       "<p>3 rows × 80 columns</p>\n",
       "</div>"
      ],
      "text/plain": [
       "   MSSubClass MSZoning  LotFrontage  LotArea Street Alley LotShape  \\\n",
       "0          60       RL         65.0     8450   Pave   NaN      Reg   \n",
       "1          20       RL         80.0     9600   Pave   NaN      Reg   \n",
       "2          60       RL         68.0    11250   Pave   NaN      IR1   \n",
       "\n",
       "  LandContour Utilities LotConfig  ... PoolArea PoolQC Fence MiscFeature  \\\n",
       "0         Lvl    AllPub    Inside  ...        0    NaN   NaN         NaN   \n",
       "1         Lvl    AllPub       FR2  ...        0    NaN   NaN         NaN   \n",
       "2         Lvl    AllPub    Inside  ...        0    NaN   NaN         NaN   \n",
       "\n",
       "  MiscVal MoSold  YrSold  SaleType  SaleCondition  SalePrice  \n",
       "0       0      2    2008        WD         Normal     208500  \n",
       "1       0      5    2007        WD         Normal     181500  \n",
       "2       0      9    2008        WD         Normal     223500  \n",
       "\n",
       "[3 rows x 80 columns]"
      ]
     },
     "execution_count": 127,
     "metadata": {},
     "output_type": "execute_result"
    }
   ],
   "source": [
    "data.head(3)"
   ]
  },
  {
   "cell_type": "markdown",
   "metadata": {},
   "source": [
    "# 2. Type Convertion"
   ]
  },
  {
   "cell_type": "markdown",
   "metadata": {},
   "source": [
    "* 將順序型類別型態特徵按其程度順序依序賦予1、2、3、4...。例如特徵「ExterQual 外部材料品質」，該特徵的類別分別為Excellent、Good、Average/Typical、Fair、Poor，這些類別的意涵本身具有順序性，因此按其意涵的順序分別賦予5、4、3、2、1。\n",
    "* 有些特徵的欄位中出現遺漏值，但在意涵上並非遺漏值而是「不具該特徵」的類別，例如特徵「BsmtQual 地下室之高度」，其中的遺漏值是指「沒有地下室」，也屬於該特徵其中一項類別。對於這類特徵的遺漏值會將其賦予一個新的類別'NA'。\n",
    "* 對於順序型類別型態特徵且具有'NA'類別的特徵，在做數值轉換時會將'NA'賦予一個極端的數值999，並會新增一項欄位「是否具有該特徵」，有的話為0，沒有則為1。\n",
    "* 將意涵上為類別型態的數值形態特徵轉換為類別型態。"
   ]
  },
  {
   "cell_type": "code",
   "execution_count": 128,
   "metadata": {},
   "outputs": [],
   "source": [
    "types = data.dtypes\n",
    "types.unique()\n",
    "obj = types.loc[types == object]\n",
    "num = types.loc[types != object]"
   ]
  },
  {
   "cell_type": "code",
   "execution_count": 129,
   "metadata": {
    "scrolled": true
   },
   "outputs": [
    {
     "data": {
      "text/plain": [
       "MSZoning         object\n",
       "Street           object\n",
       "Alley            object\n",
       "LotShape         object\n",
       "LandContour      object\n",
       "Utilities        object\n",
       "LotConfig        object\n",
       "LandSlope        object\n",
       "Neighborhood     object\n",
       "Condition1       object\n",
       "Condition2       object\n",
       "BldgType         object\n",
       "HouseStyle       object\n",
       "RoofStyle        object\n",
       "RoofMatl         object\n",
       "Exterior1st      object\n",
       "Exterior2nd      object\n",
       "MasVnrType       object\n",
       "ExterQual        object\n",
       "ExterCond        object\n",
       "Foundation       object\n",
       "BsmtQual         object\n",
       "BsmtCond         object\n",
       "BsmtExposure     object\n",
       "BsmtFinType1     object\n",
       "BsmtFinType2     object\n",
       "Heating          object\n",
       "HeatingQC        object\n",
       "CentralAir       object\n",
       "Electrical       object\n",
       "KitchenQual      object\n",
       "Functional       object\n",
       "FireplaceQu      object\n",
       "GarageType       object\n",
       "GarageFinish     object\n",
       "GarageQual       object\n",
       "GarageCond       object\n",
       "PavedDrive       object\n",
       "PoolQC           object\n",
       "Fence            object\n",
       "MiscFeature      object\n",
       "SaleType         object\n",
       "SaleCondition    object\n",
       "dtype: object"
      ]
     },
     "execution_count": 129,
     "metadata": {},
     "output_type": "execute_result"
    }
   ],
   "source": [
    "obj"
   ]
  },
  {
   "cell_type": "code",
   "execution_count": 130,
   "metadata": {},
   "outputs": [
    {
     "data": {
      "text/plain": [
       "MSSubClass         int64\n",
       "LotFrontage      float64\n",
       "LotArea            int64\n",
       "OverallQual        int64\n",
       "OverallCond        int64\n",
       "YearBuilt          int64\n",
       "YearRemodAdd       int64\n",
       "MasVnrArea       float64\n",
       "BsmtFinSF1         int64\n",
       "BsmtFinSF2         int64\n",
       "BsmtUnfSF          int64\n",
       "TotalBsmtSF        int64\n",
       "1stFlrSF           int64\n",
       "2ndFlrSF           int64\n",
       "LowQualFinSF       int64\n",
       "GrLivArea          int64\n",
       "BsmtFullBath       int64\n",
       "BsmtHalfBath       int64\n",
       "FullBath           int64\n",
       "HalfBath           int64\n",
       "BedroomAbvGr       int64\n",
       "KitchenAbvGr       int64\n",
       "TotRmsAbvGrd       int64\n",
       "Fireplaces         int64\n",
       "GarageYrBlt      float64\n",
       "GarageCars         int64\n",
       "GarageArea         int64\n",
       "WoodDeckSF         int64\n",
       "OpenPorchSF        int64\n",
       "EnclosedPorch      int64\n",
       "3SsnPorch          int64\n",
       "ScreenPorch        int64\n",
       "PoolArea           int64\n",
       "MiscVal            int64\n",
       "MoSold             int64\n",
       "YrSold             int64\n",
       "SalePrice          int64\n",
       "dtype: object"
      ]
     },
     "execution_count": 130,
     "metadata": {},
     "output_type": "execute_result"
    }
   ],
   "source": [
    "num"
   ]
  },
  {
   "cell_type": "code",
   "execution_count": 131,
   "metadata": {},
   "outputs": [],
   "source": [
    "data['LotShape'] = data['LotShape'].map({'IR1': 1, 'IR2': 2, 'IR3': 3, 'Reg': 4})\n",
    "data['Utilities'] = data['Utilities'].map({'ELO': 1, 'NoSeWa': 2, 'NoSewr': 3, 'AllPub': 4})\n",
    "data['LandSlope'] = data['LandSlope'].map({'Gtl': 1, 'Mod': 2, 'Sev': 3})\n",
    "data['ExterQual'] = data['ExterQual'].map({'Po': 1, 'Fa': 2, 'TA': 3, 'Gd': 4, 'Ex': 5})\n",
    "data['ExterCond'] = data['ExterCond'].map({'Po': 1, 'Fa': 2, 'TA': 3, 'Gd': 4, 'Ex': 5})"
   ]
  },
  {
   "cell_type": "markdown",
   "metadata": {},
   "source": [
    "'BsmtQual', 'BsmtCond', 'BsmtExposure', 'BsmtFinType2', 'BsmtFinType1' 均和地下室有關且在data description文件中都有紀載具有「沒有地下室」這個類別，然而這些特徵在資料中都沒有出現「沒有地下室」這個類別，只有遺漏值。發現這些遺漏值在這些特徵中都剛好在同一列上，因此推論這些遺漏值應該就是「沒有地下室」這個類別。"
   ]
  },
  {
   "cell_type": "code",
   "execution_count": 132,
   "metadata": {},
   "outputs": [
    {
     "data": {
      "text/plain": [
       "{'BsmtQual': [37,\n",
       "  array([  17,   39,   90,  102,  156,  182,  259,  342,  362,  371,  392,\n",
       "          520,  532,  533,  553,  646,  705,  736,  749,  778,  868,  894,\n",
       "          897,  984, 1000, 1011, 1035, 1045, 1048, 1049, 1090, 1179, 1216,\n",
       "         1218, 1232, 1321, 1412], dtype=int64)],\n",
       " 'BsmtCond': [37,\n",
       "  array([  17,   39,   90,  102,  156,  182,  259,  342,  362,  371,  392,\n",
       "          520,  532,  533,  553,  646,  705,  736,  749,  778,  868,  894,\n",
       "          897,  984, 1000, 1011, 1035, 1045, 1048, 1049, 1090, 1179, 1216,\n",
       "         1218, 1232, 1321, 1412], dtype=int64)],\n",
       " 'BsmtExposure': [38,\n",
       "  array([  17,   39,   90,  102,  156,  182,  259,  342,  362,  371,  392,\n",
       "          520,  532,  533,  553,  646,  705,  736,  749,  778,  868,  894,\n",
       "          897,  948,  984, 1000, 1011, 1035, 1045, 1048, 1049, 1090, 1179,\n",
       "         1216, 1218, 1232, 1321, 1412], dtype=int64)],\n",
       " 'BsmtFinType2': [38,\n",
       "  array([  17,   39,   90,  102,  156,  182,  259,  332,  342,  362,  371,\n",
       "          392,  520,  532,  533,  553,  646,  705,  736,  749,  778,  868,\n",
       "          894,  897,  984, 1000, 1011, 1035, 1045, 1048, 1049, 1090, 1179,\n",
       "         1216, 1218, 1232, 1321, 1412], dtype=int64)],\n",
       " 'BsmtFinType1': [37,\n",
       "  array([  17,   39,   90,  102,  156,  182,  259,  342,  362,  371,  392,\n",
       "          520,  532,  533,  553,  646,  705,  736,  749,  778,  868,  894,\n",
       "          897,  984, 1000, 1011, 1035, 1045, 1048, 1049, 1090, 1179, 1216,\n",
       "         1218, 1232, 1321, 1412], dtype=int64)]}"
      ]
     },
     "execution_count": 132,
     "metadata": {},
     "output_type": "execute_result"
    }
   ],
   "source": [
    "dict_bst_obj = {}\n",
    "ls_bst_obj = ['BsmtQual', 'BsmtCond', 'BsmtExposure', 'BsmtFinType2', 'BsmtFinType1']\n",
    "for i in ls_bst_obj:\n",
    "    ls = []\n",
    "    ls.append(sum(pd.isnull(data[i])))\n",
    "    sry_nan = pd.isnull(data[i])\n",
    "    ls.append(sry_nan.loc[sry_nan == True].index.values)\n",
    "    dict_bst_obj[i] = ls\n",
    "dict_bst_obj"
   ]
  },
  {
   "cell_type": "code",
   "execution_count": 133,
   "metadata": {},
   "outputs": [],
   "source": [
    "data['BsmtQual'].fillna('No', inplace = True)\n",
    "data['BsmtQual'] = data['BsmtQual'].map({'Po': 1, 'Fa': 2, 'TA': 3, 'Gd': 4, 'Ex': 5, 'No': 999})\n",
    "data['NoBsmt'] = np.zeros(data.shape[0])\n",
    "data.loc[data['BsmtQual'] == 999, 'NoBsmt'] = 1\n",
    "data['BsmtCond'].fillna('No', inplace = True)\n",
    "data['BsmtCond'] = data['BsmtCond'].map({'Po': 1, 'Fa': 2, 'TA': 3, 'Gd': 4, 'Ex': 5, 'No': 999})\n",
    "data.loc[data['NoBsmt'] == 1, 'BsmtExposure'] = 'No' \n",
    "data['BsmtExposure'] = data['BsmtExposure'].map({'No': 1, 'Mn': 2, 'Av': 3, 'Gd': 4, 'No': 999})\n",
    "data.loc[data['NoBsmt'] == 1, 'BsmtFinType2'] = 'No' \n",
    "data['BsmtFinType2'] = data['BsmtFinType2'].map({'Unf': 1, 'LwQ': 2, 'Rec': 3, 'BLQ': 4, \n",
    "                                                 'ALQ': 5, 'GLQ':6, 'No': 999})\n",
    "data['BsmtFinType1'].fillna('No', inplace = True)\n",
    "data['BsmtFinType1'] = data['BsmtFinType1'].map({'Unf': 1, 'LwQ': 2, 'Rec': 3, 'BLQ': 4, \n",
    "                                                 'ALQ': 5, 'GLQ':6, 'No': 999})"
   ]
  },
  {
   "cell_type": "markdown",
   "metadata": {},
   "source": [
    "'BsmtFinSF1', 'BsmtFinSF2', 'BsmtUnfSF', 'TotalBsmtSF', 'BsmtFullBath', 'BsmtHalfBath'這些是與地下室有關的數值型態變數，可以發現當「是否具有地下室」這個特徵中「沒有地下室」的類別對應到這些特徵的數值均為0，因此更可以肯定'BsmtQual', 'BsmtCond', 'BsmtExposure', 'BsmtFinType2', 'BsmtFinType1' 這些類別型態特徵的遺漏值為「沒有地下室」這個類別。"
   ]
  },
  {
   "cell_type": "code",
   "execution_count": 134,
   "metadata": {},
   "outputs": [
    {
     "data": {
      "text/plain": [
       "{'BsmtFinSF1': [0, array([0], dtype=int64)],\n",
       " 'BsmtFinSF2': [0, array([0], dtype=int64)],\n",
       " 'BsmtUnfSF': [0, array([0], dtype=int64)],\n",
       " 'TotalBsmtSF': [0, array([0], dtype=int64)],\n",
       " 'BsmtFullBath': [0, array([0], dtype=int64)],\n",
       " 'BsmtHalfBath': [0, array([0], dtype=int64)]}"
      ]
     },
     "execution_count": 134,
     "metadata": {},
     "output_type": "execute_result"
    }
   ],
   "source": [
    "dict_bst_num = {}\n",
    "ls_bst_num = ['BsmtFinSF1', 'BsmtFinSF2', 'BsmtUnfSF', 'TotalBsmtSF', 'BsmtFullBath', 'BsmtHalfBath']\n",
    "for i in ls_bst_num:\n",
    "    ls = []\n",
    "    ls.append(sum(pd.isnull(data[i])))\n",
    "    ls.append(data.loc[data['NoBsmt'] == 1, i].unique())\n",
    "    dict_bst_num[i] = ls\n",
    "dict_bst_num"
   ]
  },
  {
   "cell_type": "code",
   "execution_count": 135,
   "metadata": {},
   "outputs": [],
   "source": [
    "data['HeatingQC'] = data['HeatingQC'].map({'Po': 1, 'Fa': 2, 'TA': 3, 'Gd': 4, 'Ex': 5})\n",
    "data['CentralAir'] = data['CentralAir'].map({'N': 0, 'Y': 1})\n",
    "data['KitchenQual'] = data['KitchenQual'].map({'Po': 1, 'Fa': 2, 'TA': 3, 'Gd': 4, 'Ex': 5})\n",
    "data['Functional'] = data['Functional'].map({'Sal': 1, 'Sev': 2, 'Maj2': 3, 'Maj1': 4, 'Mod': 5,\n",
    "                                             'Min2': 6, 'Min1': 7, 'Typ': 8})\n",
    "data['FireplaceQu'] = data['FireplaceQu'].map({'TA': 1, 'Gd': 2, 'Ex': 3})"
   ]
  },
  {
   "cell_type": "markdown",
   "metadata": {},
   "source": [
    "'GarageType', 'GarageFinish', 'GarageQual', 'GarageCond', 'GarageYrBlt'這些特徵的遺漏值判斷方式與地下室相同。"
   ]
  },
  {
   "cell_type": "code",
   "execution_count": 136,
   "metadata": {},
   "outputs": [],
   "source": [
    "dict_grg_obj = {}\n",
    "ls_grg_obj = ['GarageType', 'GarageFinish', 'GarageQual', 'GarageCond', 'GarageYrBlt']\n",
    "for i in ls_grg_obj:\n",
    "    ls = []\n",
    "    ls.append(sum(pd.isnull(data[i])))\n",
    "    sry_nan = pd.isnull(data[i])\n",
    "    ls.append(sry_nan.loc[sry_nan == True].index.values)\n",
    "    dict_grg_obj[i] = ls"
   ]
  },
  {
   "cell_type": "code",
   "execution_count": 137,
   "metadata": {},
   "outputs": [],
   "source": [
    "data['GarageType'].fillna('No', inplace = True)\n",
    "data['NoGrg'] = np.zeros(data.shape[0])\n",
    "data.loc[data['GarageType'] == 'No', 'NoGrg'] = 1\n",
    "data['GarageFinish'].fillna('No', inplace = True)\n",
    "data['GarageFinish'] = data['GarageFinish'].map({'Unf': 1, 'RFn': 2, 'Fin': 3, 'No': 999})\n",
    "data['GarageQual'].fillna('No', inplace = True)\n",
    "data['GarageQual'] = data['GarageQual'].map({'Po': 1, 'Fa': 2, 'TA': 3, 'Gd': 4, 'Ex': 5, 'No': 999})\n",
    "data['GarageCond'].fillna('No', inplace = True)\n",
    "data['GarageCond'] = data['GarageCond'].map({'Po': 1, 'Fa': 2, 'TA': 3, 'Gd': 4, 'Ex': 5, 'No': 999})"
   ]
  },
  {
   "cell_type": "code",
   "execution_count": 138,
   "metadata": {},
   "outputs": [],
   "source": [
    "dict_grg_num = {}\n",
    "ls_grg_num = ['GarageCars', 'GarageArea']\n",
    "for i in ls_grg_num:\n",
    "    ls = []\n",
    "    ls.append(sum(pd.isnull(data[i])))\n",
    "    ls.append(data.loc[data['NoGrg'] == 1, i].unique())\n",
    "    dict_grg_num[i] = ls"
   ]
  },
  {
   "cell_type": "markdown",
   "metadata": {},
   "source": [
    "判定'GarageYrBlt'的遺漏值是因為沒有Garage而產生，因此將遺漏值賦予0。  \n",
    "'GarageYrBlt'是意涵上為類別型態的數值形態特徵，因此將其轉換成類別型態。  \n",
    "由於'GarageYrBlt'的類別過多，期望能減少類別數量。從'GarageYrBlt', 'SalePrice'(預測的目標變數)的關係圖中判定在1980年後'SalePrice'整體平均上升，因此將'GarageYrBlt'切成三種類別「>=1980」、「<1980」、「沒有garage」。"
   ]
  },
  {
   "cell_type": "code",
   "execution_count": 139,
   "metadata": {},
   "outputs": [
    {
     "data": {
      "text/plain": [
       "[<matplotlib.lines.Line2D at 0x131d7b38>]"
      ]
     },
     "execution_count": 139,
     "metadata": {},
     "output_type": "execute_result"
    },
    {
     "data": {
      "image/png": "[encoded data removed]",
      "text/plain": [
       "<Figure size 432x288 with 1 Axes>"
      ]
     },
     "metadata": {},
     "output_type": "display_data"
    }
   ],
   "source": [
    "df = data[['GarageYrBlt', 'SalePrice']]\n",
    "df = df.loc[pd.isnull(df['GarageYrBlt']) != True]\n",
    "df.sort_values(by = 'GarageYrBlt', ascending = True, inplace = True)\n",
    "x = df['GarageYrBlt']\n",
    "y = df['SalePrice']\n",
    "plt.plot(x, y)"
   ]
  },
  {
   "cell_type": "code",
   "execution_count": 140,
   "metadata": {},
   "outputs": [],
   "source": [
    "data['GarageYrBlt'].fillna(0, inplace = True)\n",
    "data['GrgYrBltPrd'] = 0\n",
    "data.loc[data['GarageYrBlt'] >= 1980, 'GrgYrBltPrd'] = '>= 1980'\n",
    "data.loc[(data['GarageYrBlt'] < 1980) & (data['GarageYrBlt'] > 0), 'GrgYrBltPrd'] = '< 1980'\n",
    "data.loc[data['GarageYrBlt'] == 0, 'GrgYrBltPrd'] = 'No'\n",
    "data.drop(['GarageYrBlt'], axis = 1, inplace = True)"
   ]
  },
  {
   "cell_type": "code",
   "execution_count": 141,
   "metadata": {},
   "outputs": [],
   "source": [
    "data['PavedDrive'] = data['PavedDrive'].map({'N': 1, 'P': 2, 'Y': 3})\n",
    "data['PoolQC'].fillna('No', inplace = True)\n",
    "data['NoPool'] = 0\n",
    "data.loc[data['PoolQC'] == 'No', 'NoPool'] = 1\n",
    "data['PoolQC'] = data['PoolQC'].map({'Fa': 1, 'TA': 2, 'Gd': 3, 'Ex': 4, 'No': 999})\n",
    "\n",
    "data['Fence'].fillna('No', inplace = True)\n",
    "data['NoFence'] = 0\n",
    "data.loc[data['Fence'] == 'No', 'NoFence'] = 1\n",
    "data['Fence'] = data['Fence'].map({'MnWw': 1, 'GdWo': 2, 'MnPrv': 3, 'GdPrv': 4, 'No': 999})\n",
    "\n",
    "data['MiscFeature'].fillna('No', inplace = True)"
   ]
  },
  {
   "cell_type": "markdown",
   "metadata": {},
   "source": [
    "YearRemodAdd得切割概念與GarageYrBlt相同"
   ]
  },
  {
   "cell_type": "code",
   "execution_count": 142,
   "metadata": {},
   "outputs": [
    {
     "name": "stderr",
     "output_type": "stream",
     "text": [
      "C:\\Users\\user\\Anaconda3\\lib\\site-packages\\ipykernel_launcher.py:3: SettingWithCopyWarning: \n",
      "A value is trying to be set on a copy of a slice from a DataFrame\n",
      "\n",
      "See the caveats in the documentation: http://pandas.pydata.org/pandas-docs/stable/indexing.html#indexing-view-versus-copy\n",
      "  This is separate from the ipykernel package so we can avoid doing imports until\n"
     ]
    },
    {
     "data": {
      "text/plain": [
       "[<matplotlib.lines.Line2D at 0x13225860>]"
      ]
     },
     "execution_count": 142,
     "metadata": {},
     "output_type": "execute_result"
    },
    {
     "data": {
      "image/png": "[encoded data removed]",
      "text/plain": [
       "<Figure size 432x288 with 1 Axes>"
      ]
     },
     "metadata": {},
     "output_type": "display_data"
    }
   ],
   "source": [
    "data['YearRemodAdd'].unique()\n",
    "df = data[['YearRemodAdd', 'SalePrice']]\n",
    "df.sort_values(by = 'YearRemodAdd', ascending = True, inplace = True)\n",
    "x = df['YearRemodAdd']\n",
    "y = df['SalePrice']\n",
    "plt.plot(x, y)"
   ]
  },
  {
   "cell_type": "code",
   "execution_count": 143,
   "metadata": {},
   "outputs": [],
   "source": [
    "data['YearRemodAdd_Prd'] = 0\n",
    "data.loc[data['YearRemodAdd'] >= 1990, 'YearRemodAdd_Prd'] = '>= 1990'\n",
    "data.loc[data['YearRemodAdd'] < 1990, 'YearRemodAdd_Prd'] = '< 1990'\n",
    "data.drop(['YearRemodAdd'], axis = 1, inplace = True)"
   ]
  },
  {
   "cell_type": "markdown",
   "metadata": {},
   "source": [
    "將QSold十二個類別轉換成季，共四個類別。"
   ]
  },
  {
   "cell_type": "code",
   "execution_count": 144,
   "metadata": {},
   "outputs": [],
   "source": [
    "data['QSold'] = 'Q1'\n",
    "data.loc[(data['MoSold'] <=6) & (data['MoSold'] >= 4), 'QSold'] = 'Q2'\n",
    "data.loc[(data['MoSold'] <=9) & (data['MoSold'] >= 7), 'QSold'] = 'Q3'\n",
    "data.loc[(data['MoSold'] <=12) & (data['MoSold'] >= 10), 'QSold'] = 'Q4'\n",
    "data.drop(['MoSold'], axis = 1, inplace = True)"
   ]
  },
  {
   "cell_type": "code",
   "execution_count": 145,
   "metadata": {},
   "outputs": [],
   "source": [
    "data['YrSold'] = data['YrSold'].astype('object')"
   ]
  },
  {
   "cell_type": "code",
   "execution_count": 146,
   "metadata": {},
   "outputs": [],
   "source": [
    "data['Alley'].fillna('No', inplace = True)"
   ]
  },
  {
   "cell_type": "code",
   "execution_count": 147,
   "metadata": {},
   "outputs": [],
   "source": [
    "data['FireplaceQu'].fillna(999, inplace = True)\n",
    "data['NoFireplace'] = 0\n",
    "data.loc[data['FireplaceQu'] == 999, 'NoFireplace'] = 1"
   ]
  },
  {
   "cell_type": "code",
   "execution_count": 148,
   "metadata": {},
   "outputs": [],
   "source": [
    "data['MasVnrType'].fillna('No', inplace = True)\n",
    "data['MasVnrArea'].fillna(0, inplace = True)"
   ]
  },
  {
   "cell_type": "markdown",
   "metadata": {},
   "source": [
    "將剩餘的類別型態變數整理起來。"
   ]
  },
  {
   "cell_type": "code",
   "execution_count": 149,
   "metadata": {},
   "outputs": [
    {
     "data": {
      "text/plain": [
       "MSZoning            object\n",
       "Street              object\n",
       "Alley               object\n",
       "LandContour         object\n",
       "LotConfig           object\n",
       "Neighborhood        object\n",
       "Condition1          object\n",
       "Condition2          object\n",
       "BldgType            object\n",
       "HouseStyle          object\n",
       "RoofStyle           object\n",
       "RoofMatl            object\n",
       "Exterior1st         object\n",
       "Exterior2nd         object\n",
       "MasVnrType          object\n",
       "Foundation          object\n",
       "Heating             object\n",
       "Electrical          object\n",
       "GarageType          object\n",
       "MiscFeature         object\n",
       "YrSold              object\n",
       "SaleType            object\n",
       "SaleCondition       object\n",
       "GrgYrBltPrd         object\n",
       "YearRemodAdd_Prd    object\n",
       "QSold               object\n",
       "dtype: object"
      ]
     },
     "execution_count": 149,
     "metadata": {},
     "output_type": "execute_result"
    }
   ],
   "source": [
    "types = data.dtypes\n",
    "obj = types.loc[types == object]\n",
    "obj"
   ]
  },
  {
   "cell_type": "markdown",
   "metadata": {},
   "source": [
    "# 3. 遺漏值填補"
   ]
  },
  {
   "cell_type": "code",
   "execution_count": 150,
   "metadata": {},
   "outputs": [
    {
     "data": {
      "text/plain": [
       "<matplotlib.axes._subplots.AxesSubplot at 0x1326f2e8>"
      ]
     },
     "execution_count": 150,
     "metadata": {},
     "output_type": "execute_result"
    },
    {
     "data": {
      "image/png": "[encoded data removed]",
      "text/plain": [
       "<Figure size 1080x360 with 1 Axes>"
      ]
     },
     "metadata": {},
     "output_type": "display_data"
    }
   ],
   "source": [
    "import seaborn as sns\n",
    "import matplotlib.pyplot as plt\n",
    "sns.set_style(\"whitegrid\")\n",
    "plt.figure(figsize=[15, 5])\n",
    "plt.title(\"Missing Values of Features\", fontdict={\"fontsize\":\"xx-large\"})\n",
    "sns.heatmap(data.drop(\"SalePrice\", axis=1).isnull(), yticklabels=False, cbar=False, cmap=\"coolwarm\")"
   ]
  },
  {
   "cell_type": "code",
   "execution_count": 151,
   "metadata": {},
   "outputs": [
    {
     "data": {
      "text/html": [
       "<div>\n",
       "<style scoped>\n",
       "    .dataframe tbody tr th:only-of-type {\n",
       "        vertical-align: middle;\n",
       "    }\n",
       "\n",
       "    .dataframe tbody tr th {\n",
       "        vertical-align: top;\n",
       "    }\n",
       "\n",
       "    .dataframe thead th {\n",
       "        text-align: right;\n",
       "    }\n",
       "</style>\n",
       "<table border=\"1\" class=\"dataframe\">\n",
       "  <thead>\n",
       "    <tr style=\"text-align: right;\">\n",
       "      <th></th>\n",
       "      <th>num</th>\n",
       "      <th>percentage</th>\n",
       "    </tr>\n",
       "  </thead>\n",
       "  <tbody>\n",
       "    <tr>\n",
       "      <th>LotFrontage</th>\n",
       "      <td>259</td>\n",
       "      <td>0.177397</td>\n",
       "    </tr>\n",
       "    <tr>\n",
       "      <th>BsmtExposure</th>\n",
       "      <td>1</td>\n",
       "      <td>0.000685</td>\n",
       "    </tr>\n",
       "    <tr>\n",
       "      <th>BsmtFinType2</th>\n",
       "      <td>1</td>\n",
       "      <td>0.000685</td>\n",
       "    </tr>\n",
       "    <tr>\n",
       "      <th>Electrical</th>\n",
       "      <td>1</td>\n",
       "      <td>0.000685</td>\n",
       "    </tr>\n",
       "  </tbody>\n",
       "</table>\n",
       "</div>"
      ],
      "text/plain": [
       "              num  percentage\n",
       "LotFrontage   259    0.177397\n",
       "BsmtExposure    1    0.000685\n",
       "BsmtFinType2    1    0.000685\n",
       "Electrical      1    0.000685"
      ]
     },
     "execution_count": 151,
     "metadata": {},
     "output_type": "execute_result"
    }
   ],
   "source": [
    "nan_col = pd.DataFrame(pd.isnull(data).sum(), columns = ['num'])\n",
    "nan_col = nan_col.loc[nan_col['num'] != 0]\n",
    "nan_col['percentage'] = nan_col['num'] / data.shape[0]\n",
    "nan_col.sort_values(by = 'num', ascending = False, inplace = True)\n",
    "nan_col"
   ]
  },
  {
   "cell_type": "code",
   "execution_count": 152,
   "metadata": {},
   "outputs": [
    {
     "data": {
      "text/plain": [
       "array([0, 1], dtype=int64)"
      ]
     },
     "execution_count": 152,
     "metadata": {},
     "output_type": "execute_result"
    }
   ],
   "source": [
    "def count_null(cols):\n",
    "    null_count = sum(pd.isnull(cols))\n",
    "    return null_count\n",
    "\n",
    "\n",
    "nan_row = data.apply(count_null, axis=1)\n",
    "nan_row_index = data.loc[nan_row > (data.shape[1] // 2)].index\n",
    "nan_row.unique()"
   ]
  },
  {
   "cell_type": "markdown",
   "metadata": {},
   "source": [
    "BsmtExposure、BsmtFinType2為地下室有關的特徵，該特徵的遺漏值基本上都對應到「沒有地下室」的類別，唯獨有一列沒有，將其視為誤差，直接以該特徵欄位的眾數來填補。"
   ]
  },
  {
   "cell_type": "code",
   "execution_count": 153,
   "metadata": {},
   "outputs": [],
   "source": [
    "from statistics import mode\n",
    "\n",
    "\n",
    "m = mode(data.loc[data['BsmtExposure'] != 999, 'BsmtExposure'])\n",
    "data['BsmtExposure'].fillna(m, inplace = True)\n",
    "\n",
    "m = mode(data.loc[data['BsmtFinType2'] != 999, 'BsmtFinType2'])\n",
    "data['BsmtFinType2'].fillna(m, inplace = True)"
   ]
  },
  {
   "cell_type": "markdown",
   "metadata": {},
   "source": [
    "將資料集中沒有缺失值的欄位作為解釋變數，將欲填補的欄位作\n",
    "為被解釋變數， 利用 ExtraTreesRegressor模型中\n",
    "feature importances 功能，計算出每個解釋變數 對於被解釋變數欄\n",
    "位 的重要性分數，並依序排序， 找出前 10 重要的欄位 解釋變數\n",
    "再 將該 10 個欄位分成 : 第一重要欄位、第一 + 第二重要欄位、第一 + 第二 + 第三重要欄位 共 10 組欄位組合， 依序用這 10 組特徵\n",
    "組合作為解釋變數，欲填補的欄位做為被解釋變數， 用\n",
    "ExtraTreesRegressor模型進行運算，每組特徵運算時都會有一個正\n",
    "確率指標作為對應。 若 欲填補的欄位是類別型態變數，正確率指標為\n",
    "F1 score；若 欲填補的欄位是數值型態變數，正確率指標為 MSE和\n",
    "RMSE。 最後取正確率指標最好的特徵組合，用 ExtraTreesRegressor模型，來預測與填補欲填補的欄位的缺失值。"
   ]
  },
  {
   "cell_type": "code",
   "execution_count": 154,
   "metadata": {},
   "outputs": [
    {
     "name": "stderr",
     "output_type": "stream",
     "text": [
      "C:\\Users\\user\\Anaconda3\\lib\\site-packages\\sklearn\\ensemble\\forest.py:246: FutureWarning: The default value of n_estimators will change from 10 in version 0.20 to 100 in 0.22.\n",
      "  \"10 in version 0.20 to 100 in 0.22.\", FutureWarning)\n",
      "C:\\Users\\user\\Anaconda3\\lib\\site-packages\\sklearn\\ensemble\\forest.py:246: FutureWarning: The default value of n_estimators will change from 10 in version 0.20 to 100 in 0.22.\n",
      "  \"10 in version 0.20 to 100 in 0.22.\", FutureWarning)\n",
      "C:\\Users\\user\\Anaconda3\\lib\\site-packages\\sklearn\\ensemble\\forest.py:246: FutureWarning: The default value of n_estimators will change from 10 in version 0.20 to 100 in 0.22.\n",
      "  \"10 in version 0.20 to 100 in 0.22.\", FutureWarning)\n",
      "C:\\Users\\user\\Anaconda3\\lib\\site-packages\\sklearn\\ensemble\\forest.py:246: FutureWarning: The default value of n_estimators will change from 10 in version 0.20 to 100 in 0.22.\n",
      "  \"10 in version 0.20 to 100 in 0.22.\", FutureWarning)\n",
      "C:\\Users\\user\\Anaconda3\\lib\\site-packages\\sklearn\\ensemble\\forest.py:246: FutureWarning: The default value of n_estimators will change from 10 in version 0.20 to 100 in 0.22.\n",
      "  \"10 in version 0.20 to 100 in 0.22.\", FutureWarning)\n",
      "C:\\Users\\user\\Anaconda3\\lib\\site-packages\\sklearn\\ensemble\\forest.py:246: FutureWarning: The default value of n_estimators will change from 10 in version 0.20 to 100 in 0.22.\n",
      "  \"10 in version 0.20 to 100 in 0.22.\", FutureWarning)\n",
      "C:\\Users\\user\\Anaconda3\\lib\\site-packages\\sklearn\\ensemble\\forest.py:246: FutureWarning: The default value of n_estimators will change from 10 in version 0.20 to 100 in 0.22.\n",
      "  \"10 in version 0.20 to 100 in 0.22.\", FutureWarning)\n",
      "C:\\Users\\user\\Anaconda3\\lib\\site-packages\\sklearn\\ensemble\\forest.py:246: FutureWarning: The default value of n_estimators will change from 10 in version 0.20 to 100 in 0.22.\n",
      "  \"10 in version 0.20 to 100 in 0.22.\", FutureWarning)\n",
      "C:\\Users\\user\\Anaconda3\\lib\\site-packages\\sklearn\\ensemble\\forest.py:246: FutureWarning: The default value of n_estimators will change from 10 in version 0.20 to 100 in 0.22.\n",
      "  \"10 in version 0.20 to 100 in 0.22.\", FutureWarning)\n",
      "C:\\Users\\user\\Anaconda3\\lib\\site-packages\\sklearn\\ensemble\\forest.py:246: FutureWarning: The default value of n_estimators will change from 10 in version 0.20 to 100 in 0.22.\n",
      "  \"10 in version 0.20 to 100 in 0.22.\", FutureWarning)\n",
      "C:\\Users\\user\\Anaconda3\\lib\\site-packages\\sklearn\\ensemble\\forest.py:246: FutureWarning: The default value of n_estimators will change from 10 in version 0.20 to 100 in 0.22.\n",
      "  \"10 in version 0.20 to 100 in 0.22.\", FutureWarning)\n",
      "C:\\Users\\user\\Anaconda3\\lib\\site-packages\\pandas\\core\\indexing.py:190: SettingWithCopyWarning: \n",
      "A value is trying to be set on a copy of a slice from a DataFrame\n",
      "\n",
      "See the caveats in the documentation: http://pandas.pydata.org/pandas-docs/stable/indexing.html#indexing-view-versus-copy\n",
      "  self._setitem_with_indexer(indexer, value)\n"
     ]
    }
   ],
   "source": [
    "col = 'LotFrontage'\n",
    "label = 'SalePrice'\n",
    "#label_type = data[label].dtypes \n",
    "F = Fill_method1(data, col, label, float)            \n",
    "F.preprocessing()     \n",
    "k = F.impo_measure_top10()   \n",
    "k2 = F.impo_measure_combine()\n",
    "data = F.fillna()"
   ]
  },
  {
   "cell_type": "code",
   "execution_count": 155,
   "metadata": {},
   "outputs": [
    {
     "name": "stdout",
     "output_type": "stream",
     "text": [
      "Feature Importance\n",
      "LotArea :  0.12836628084927693\n",
      "MSZoning_RL :  0.11084840779207221\n",
      "MSSubClass :  0.06301686512020795\n",
      "1stFlrSF :  0.03587067217925511\n",
      "BsmtFinSF1 :  0.03309114986425653\n",
      "Condition1_PosA :  0.03275238042734653\n",
      "TotalBsmtSF :  0.032125609669963764\n",
      "BldgType_TwnhsE :  0.028529811527523867\n",
      "GrLivArea :  0.0277155854288778\n",
      "LotConfig_CulDSac :  0.027132378962469138\n",
      "LotConfig_Inside :  0.019229218295336505\n",
      "BldgType_Twnhs :  0.0190729704982536\n",
      "TotRmsAbvGrd :  0.017810811022669473\n",
      "PoolQC :  0.016304631589728634\n",
      "GarageType_Detchd :  0.015989079118328735\n",
      "RoofMatl_Tar&Grv :  0.014445482770755923\n",
      "GarageArea :  0.012278282356894474\n",
      "Exterior2nd_Wd Sdng :  0.011021907914346285\n",
      "LotShape :  0.010654150706997795\n",
      "GarageCars :  0.010476816000883824\n",
      "LandContour_HLS :  0.00931129223046034\n",
      "Neighborhood_NridgHt :  0.00930315876879985\n",
      "BldgType_2fmCon :  0.009207405856937523\n",
      "LandContour_Lvl :  0.009117321346918277\n",
      "YrSold_2008 :  0.008851860465267303\n",
      "GarageType_Attchd :  0.008540686394260463\n",
      "Neighborhood_Gilbert :  0.008537817894639492\n",
      "LandSlope :  0.008181128348518054\n",
      "EnclosedPorch :  0.007727721554756974\n",
      "OverallQual :  0.007520163711312302\n",
      "2ndFlrSF :  0.007035942023646477\n",
      "LotConfig_FR2 :  0.006495395544736282\n",
      "MasVnrType_None :  0.006480961600973835\n",
      "YearBuilt :  0.006326361151811897\n",
      "ExterQual :  0.006195984228238046\n",
      "Neighborhood_BrkSide :  0.006115726555583337\n",
      "KitchenQual :  0.005666183181845162\n",
      "GarageType_Basment :  0.00537821465513539\n",
      "OverallCond :  0.005274085813581625\n",
      "MSZoning_RM :  0.004877105683044608\n",
      "FullBath :  0.004629995949940199\n",
      "HouseStyle_1Story :  0.004464822670676441\n",
      "Foundation_Wood :  0.004436832963216303\n",
      "BsmtExposure :  0.0043950831293241965\n",
      "SaleType_ConLD :  0.004317944444506712\n",
      "PoolArea :  0.004280005053884958\n",
      "QSold_Q2 :  0.004241044472974853\n",
      "YrSold_2009 :  0.004123407928989022\n",
      "BsmtUnfSF :  0.003974828307189092\n",
      "Fireplaces :  0.0038248516147704734\n",
      "OpenPorchSF :  0.0037942214734066567\n",
      "Neighborhood_CollgCr :  0.003725794140872221\n",
      "WoodDeckSF :  0.0036951743298509706\n",
      "BedroomAbvGr :  0.003594022153601554\n",
      "MasVnrArea :  0.0035560788963830614\n",
      "YrSold_2007 :  0.003515168542449882\n",
      "QSold_Q3 :  0.0034970137228749697\n",
      "Functional :  0.0033726911565403034\n",
      "GarageType_BuiltIn :  0.003372065511328215\n",
      "GarageFinish :  0.003082598138965004\n",
      "Foundation_CBlock :  0.0030217745202140117\n",
      "BsmtQual :  0.002944406645178613\n",
      "GrgYrBltPrd_>= 1980 :  0.002928970297717077\n",
      "LowQualFinSF :  0.0029004544620534296\n",
      "Neighborhood_Mitchel :  0.002899822942368766\n",
      "Neighborhood_Sawyer :  0.0028865935023642533\n",
      "BsmtCond :  0.0028467779339643403\n",
      "YearRemodAdd_Prd_>= 1990 :  0.002649037465560585\n",
      "BsmtFullBath :  0.002499807897891891\n",
      "Exterior2nd_Plywood :  0.002464377571779213\n",
      "Neighborhood_NoRidge :  0.002359374934159728\n",
      "PavedDrive :  0.002305643964373532\n",
      "RoofStyle_Gable :  0.0022582424434926\n",
      "Alley_No :  0.0022130270536752407\n",
      "3SsnPorch :  0.002173089073989535\n",
      "Fence :  0.0021434668922680248\n",
      "BsmtFinType1 :  0.0020705731216130547\n",
      "HalfBath :  0.0020316029841387527\n",
      "Exterior1st_VinylSd :  0.0019825332308556986\n",
      "ScreenPorch :  0.001944521454931829\n",
      "HeatingQC :  0.0019396346365658588\n",
      "FireplaceQu :  0.001928553215908314\n",
      "Neighborhood_Timber :  0.0018433120786499502\n",
      "HouseStyle_2Story :  0.00179288596521401\n",
      "Neighborhood_Edwards :  0.0015794475229485895\n",
      "BsmtFinType2 :  0.0015757843727101657\n",
      "Condition1_Feedr :  0.0015418294390109985\n",
      "NoFireplace :  0.0015378965412299445\n",
      "Exterior1st_MetalSd :  0.0015334350843221047\n",
      "BsmtHalfBath :  0.001514236490704262\n",
      "BsmtFinSF2 :  0.0014406399798571994\n",
      "Exterior2nd_MetalSd :  0.001368086145098562\n",
      "Exterior2nd_HdBoard :  0.0013483936063589436\n",
      "RoofStyle_Hip :  0.0013458979051925223\n",
      "Street_Pave :  0.0013443708437936997\n",
      "MasVnrType_BrkFace :  0.0012990810009374891\n",
      "Neighborhood_NAmes :  0.0011682763382948919\n",
      "Neighborhood_Crawfor :  0.0011557641551451644\n",
      "ExterCond :  0.001139694521937327\n",
      "Neighborhood_SawyerW :  0.0010997066306796777\n",
      "Exterior2nd_VinylSd :  0.0010989762627348922\n",
      "Exterior1st_HdBoard :  0.0010745877862553444\n",
      "QSold_Q4 :  0.001050461357429927\n",
      "NoFence :  0.0010341835000729864\n",
      "MasVnrType_Stone :  0.0010307539117931307\n",
      "Condition1_Norm :  0.0010295954259767746\n",
      "Exterior1st_Wd Sdng :  0.0009719729824652588\n",
      "GarageType_CarPort :  0.0009260649792741627\n",
      "CentralAir :  0.0009250965969759075\n",
      "YrSold_2010 :  0.000870457544736427\n",
      "Foundation_PConc :  0.0008563956410065875\n",
      "Condition2_Feedr :  0.0008411159502403939\n",
      "SaleCondition_Normal :  0.0008296729623206601\n",
      "Condition2_Norm :  0.0008053730565604109\n",
      "Exterior2nd_Stucco :  0.0007706186256281726\n",
      "SaleType_WD :  0.0007347788684814435\n",
      "HouseStyle_SLvl :  0.0007273883544112313\n",
      "Condition1_RRNn :  0.000706549728691864\n",
      "BldgType_Duplex :  0.0006613125229880953\n",
      "KitchenAbvGr :  0.0006419969185552931\n",
      "LotConfig_FR3 :  0.0006116501864056355\n",
      "Exterior1st_CemntBd :  0.0005851866181094654\n",
      "Condition2_PosN :  0.0005408733477607964\n",
      "Neighborhood_NWAmes :  0.000526046657643404\n",
      "Exterior1st_Plywood :  0.0005221635320338179\n",
      "Neighborhood_OldTown :  0.0005216012701844842\n",
      "Condition1_PosN :  0.0004705640587429937\n",
      "Exterior1st_BrkFace :  0.0004565806645081859\n",
      "SaleCondition_Partial :  0.00042307994352444475\n",
      "Exterior2nd_ImStucc :  0.0003986917196337668\n",
      "Neighborhood_SWISU :  0.00038953469296385045\n",
      "Neighborhood_Somerst :  0.0003783637702390264\n",
      "Heating_GasW :  0.00037056915421075295\n",
      "Exterior1st_Stucco :  0.0003571461003664712\n",
      "SaleType_Oth :  0.00033462771701199426\n",
      "Neighborhood_ClearCr :  0.00033097080787877905\n",
      "HouseStyle_SFoyer :  0.00032652094133150104\n",
      "HouseStyle_2.5Unf :  0.00031510123230950223\n",
      "Condition1_RRAn :  0.000302217752315786\n",
      "Exterior1st_WdShing :  0.00029802590662393743\n",
      "GarageQual :  0.00027915286684060284\n",
      "Exterior2nd_Brk Cmn :  0.00024980681992861447\n",
      "Exterior2nd_Wd Shng :  0.00024404078838790927\n",
      "SaleType_New :  0.00024373320546995425\n",
      "Condition1_RRAe :  0.00023470667202835603\n",
      "Neighborhood_IDOTRR :  0.00023201953869377858\n",
      "HouseStyle_2.5Fin :  0.00022038807777662373\n",
      "NoGrg :  0.00020592292651926708\n",
      "GarageCond :  0.00020457441509824027\n",
      "MiscVal :  0.00018788417932352213\n",
      "MSZoning_RH :  0.00014957881069912378\n",
      "Alley_Pave :  0.000140634684988445\n",
      "RoofMatl_CompShg :  0.00011423366184256791\n",
      "RoofMatl_WdShngl :  0.0001039099065695145\n",
      "LandContour_Low :  0.00010263168147985904\n",
      "MSZoning_FV :  9.983019565153962e-05\n",
      "SaleCondition_Family :  9.16359933909857e-05\n",
      "Heating_Grav :  9.097951875101942e-05\n",
      "MiscFeature_Shed :  9.091572032742044e-05\n",
      "Condition2_PosA :  7.656678347601684e-05\n",
      "Exterior2nd_Other :  6.678423116924579e-05\n",
      "Foundation_Stone :  6.466646167170269e-05\n",
      "HouseStyle_1.5Unf :  6.062538809517811e-05\n",
      "MiscFeature_Othr :  5.813110616267327e-05\n",
      "Neighborhood_StoneBr :  5.629828124142307e-05\n",
      "Exterior1st_BrkComm :  5.167385716532716e-05\n",
      "NoBsmt :  4.457771928959266e-05\n",
      "Condition2_RRNn :  4.4201889564086935e-05\n",
      "Neighborhood_Veenker :  4.2065537669505494e-05\n",
      "RoofMatl_Roll :  3.764090142549182e-05\n",
      "GarageType_No :  3.4401021908044983e-05\n",
      "Exterior2nd_BrkFace :  3.358241031693736e-05\n",
      "Neighborhood_MeadowV :  3.179425055833436e-05\n",
      "Exterior2nd_CmentBd :  2.35264914269512e-05\n",
      "SaleCondition_Alloca :  2.1065316772485324e-05\n",
      "Neighborhood_Blueste :  1.912552509085026e-05\n",
      "RoofStyle_Mansard :  1.77438679691485e-05\n",
      "Foundation_Slab :  1.612512277330988e-05\n",
      "RoofStyle_Gambrel :  1.5655114500304893e-05\n",
      "Exterior2nd_AsphShn :  1.1009021860080172e-05\n",
      "MasVnrType_No :  7.894413234724724e-06\n",
      "SaleType_ConLI :  7.5337825829292e-06\n",
      "SaleType_ConLw :  7.120776283005424e-06\n",
      "SaleType_CWD :  6.412429522790763e-06\n",
      "SaleType_Con :  6.192574796295639e-06\n",
      "RoofMatl_WdShake :  5.4719398594479855e-06\n",
      "SaleCondition_AdjLand :  3.106465857707774e-06\n",
      "GrgYrBltPrd_No :  3.0820375547638932e-06\n",
      "Neighborhood_NPkVill :  6.839924824309982e-07\n",
      "Exterior1st_ImStucc :  1.139987470720404e-07\n",
      "Utilities :  0.0\n",
      "NoPool :  0.0\n",
      "Neighborhood_BrDale :  0.0\n",
      "Condition1_RRNe :  0.0\n",
      "RoofMatl_Membran :  0.0\n",
      "Exterior1st_AsphShn :  0.0\n",
      "Exterior1st_CBlock :  0.0\n",
      "Exterior1st_Stone :  0.0\n",
      "Exterior2nd_CBlock :  0.0\n",
      "Exterior2nd_Stone :  0.0\n",
      "Heating_OthW :  0.0\n",
      "Heating_Wall :  0.0\n",
      "MiscFeature_TenC :  0.0\n"
     ]
    }
   ],
   "source": [
    "print('Feature Importance')\n",
    "for i in range(len(k)):\n",
    "    print(k[i][0], ': ', k[i][1])"
   ]
  },
  {
   "cell_type": "code",
   "execution_count": 156,
   "metadata": {},
   "outputs": [
    {
     "name": "stdout",
     "output_type": "stream",
     "text": [
      "Feature Importance (combined)\n",
      "['LotArea' 'MSZoning_RL' 'MSSubClass' '1stFlrSF' 'BsmtFinSF1'] :  0.3926245043997001\n",
      "['LotArea' 'MSZoning_RL' 'MSSubClass' '1stFlrSF' 'BsmtFinSF1'\n",
      " 'Condition1_PosA' 'TotalBsmtSF' 'BldgType_TwnhsE' 'GrLivArea'\n",
      " 'LotConfig_CulDSac'] :  0.38880639030076225\n",
      "['LotArea' 'MSZoning_RL' 'MSSubClass' '1stFlrSF' 'BsmtFinSF1'\n",
      " 'Condition1_PosA' 'TotalBsmtSF' 'BldgType_TwnhsE'] :  0.37085279791367987\n",
      "['LotArea' 'MSZoning_RL' 'MSSubClass' '1stFlrSF' 'BsmtFinSF1'\n",
      " 'Condition1_PosA'] :  0.3267986807451304\n",
      "['LotArea' 'MSZoning_RL' 'MSSubClass' '1stFlrSF' 'BsmtFinSF1'\n",
      " 'Condition1_PosA' 'TotalBsmtSF' 'BldgType_TwnhsE' 'GrLivArea'] :  0.2913550770232871\n",
      "['LotArea' 'MSZoning_RL' 'MSSubClass' '1stFlrSF' 'BsmtFinSF1'\n",
      " 'Condition1_PosA' 'TotalBsmtSF'] :  0.2856602572562531\n",
      "['LotArea' 'MSZoning_RL' 'MSSubClass' '1stFlrSF'] :  0.2759123768523525\n",
      "['LotArea' 'MSZoning_RL' 'MSSubClass'] :  0.24219862025674987\n",
      "['LotArea' 'MSZoning_RL'] :  0.20013033593030904\n",
      "['LotArea'] :  0.18584800506263677\n"
     ]
    }
   ],
   "source": [
    "print('Feature Importance (combined)')\n",
    "for i in range(len(k2)):\n",
    "    print(k2[i][0], ': ', k2[i][1])"
   ]
  },
  {
   "cell_type": "code",
   "execution_count": 157,
   "metadata": {},
   "outputs": [
    {
     "name": "stderr",
     "output_type": "stream",
     "text": [
      "C:\\Users\\user\\Anaconda3\\lib\\site-packages\\sklearn\\ensemble\\forest.py:246: FutureWarning: The default value of n_estimators will change from 10 in version 0.20 to 100 in 0.22.\n",
      "  \"10 in version 0.20 to 100 in 0.22.\", FutureWarning)\n",
      "C:\\Users\\user\\Anaconda3\\lib\\site-packages\\sklearn\\ensemble\\forest.py:246: FutureWarning: The default value of n_estimators will change from 10 in version 0.20 to 100 in 0.22.\n",
      "  \"10 in version 0.20 to 100 in 0.22.\", FutureWarning)\n",
      "C:\\Users\\user\\Anaconda3\\lib\\site-packages\\sklearn\\ensemble\\forest.py:246: FutureWarning: The default value of n_estimators will change from 10 in version 0.20 to 100 in 0.22.\n",
      "  \"10 in version 0.20 to 100 in 0.22.\", FutureWarning)\n",
      "C:\\Users\\user\\Anaconda3\\lib\\site-packages\\sklearn\\ensemble\\forest.py:246: FutureWarning: The default value of n_estimators will change from 10 in version 0.20 to 100 in 0.22.\n",
      "  \"10 in version 0.20 to 100 in 0.22.\", FutureWarning)\n",
      "C:\\Users\\user\\Anaconda3\\lib\\site-packages\\sklearn\\ensemble\\forest.py:246: FutureWarning: The default value of n_estimators will change from 10 in version 0.20 to 100 in 0.22.\n",
      "  \"10 in version 0.20 to 100 in 0.22.\", FutureWarning)\n",
      "C:\\Users\\user\\Anaconda3\\lib\\site-packages\\sklearn\\ensemble\\forest.py:246: FutureWarning: The default value of n_estimators will change from 10 in version 0.20 to 100 in 0.22.\n",
      "  \"10 in version 0.20 to 100 in 0.22.\", FutureWarning)\n",
      "C:\\Users\\user\\Anaconda3\\lib\\site-packages\\sklearn\\ensemble\\forest.py:246: FutureWarning: The default value of n_estimators will change from 10 in version 0.20 to 100 in 0.22.\n",
      "  \"10 in version 0.20 to 100 in 0.22.\", FutureWarning)\n",
      "C:\\Users\\user\\Anaconda3\\lib\\site-packages\\sklearn\\ensemble\\forest.py:246: FutureWarning: The default value of n_estimators will change from 10 in version 0.20 to 100 in 0.22.\n",
      "  \"10 in version 0.20 to 100 in 0.22.\", FutureWarning)\n",
      "C:\\Users\\user\\Anaconda3\\lib\\site-packages\\sklearn\\ensemble\\forest.py:246: FutureWarning: The default value of n_estimators will change from 10 in version 0.20 to 100 in 0.22.\n",
      "  \"10 in version 0.20 to 100 in 0.22.\", FutureWarning)\n",
      "C:\\Users\\user\\Anaconda3\\lib\\site-packages\\sklearn\\ensemble\\forest.py:246: FutureWarning: The default value of n_estimators will change from 10 in version 0.20 to 100 in 0.22.\n",
      "  \"10 in version 0.20 to 100 in 0.22.\", FutureWarning)\n",
      "C:\\Users\\user\\Anaconda3\\lib\\site-packages\\sklearn\\ensemble\\forest.py:246: FutureWarning: The default value of n_estimators will change from 10 in version 0.20 to 100 in 0.22.\n",
      "  \"10 in version 0.20 to 100 in 0.22.\", FutureWarning)\n",
      "C:\\Users\\user\\Anaconda3\\lib\\site-packages\\pandas\\core\\indexing.py:190: SettingWithCopyWarning: \n",
      "A value is trying to be set on a copy of a slice from a DataFrame\n",
      "\n",
      "See the caveats in the documentation: http://pandas.pydata.org/pandas-docs/stable/indexing.html#indexing-view-versus-copy\n",
      "  self._setitem_with_indexer(indexer, value)\n"
     ]
    }
   ],
   "source": [
    "from sklearn.preprocessing import LabelEncoder\n",
    "col = 'Electrical'\n",
    "sry = pd.Series(LabelEncoder().fit_transform(data.loc[data[col].notnull(), col]))\n",
    "data.loc[data[col].notnull(), col] = sry.values\n",
    "F = Fill_method1(data, col, label, float)            \n",
    "F.preprocessing()     \n",
    "k = F.impo_measure_top10()   \n",
    "k2 = F.impo_measure_combine()\n",
    "data = F.fillna()"
   ]
  },
  {
   "cell_type": "code",
   "execution_count": 158,
   "metadata": {},
   "outputs": [
    {
     "name": "stdout",
     "output_type": "stream",
     "text": [
      "Feature Importance\n",
      "CentralAir :  0.07309918869199017\n",
      "YearBuilt :  0.06743705680083026\n",
      "OverallCond :  0.02433550252469025\n",
      "RoofStyle_Hip :  0.024288945770719977\n",
      "Neighborhood_IDOTRR :  0.022208792587333222\n",
      "Exterior1st_BrkFace :  0.021843221902302527\n",
      "BsmtUnfSF :  0.020865348937987926\n",
      "BedroomAbvGr :  0.018411120337672005\n",
      "GarageCars :  0.01836777211182979\n",
      "RoofStyle_Gable :  0.017707607116953634\n",
      "1stFlrSF :  0.01703184222058667\n",
      "PavedDrive :  0.016251983776005275\n",
      "BsmtFinSF1 :  0.015529844693741041\n",
      "QSold_Q4 :  0.014362820924812355\n",
      "EnclosedPorch :  0.014222370854144064\n",
      "FullBath :  0.014045035857988617\n",
      "LowQualFinSF :  0.013698571701648652\n",
      "KitchenQual :  0.013512045164938752\n",
      "Neighborhood_NAmes :  0.013266690256964272\n",
      "GarageType_Basment :  0.013011969852504274\n",
      "TotRmsAbvGrd :  0.012625139272996697\n",
      "GrLivArea :  0.012333316716176594\n",
      "LandContour_HLS :  0.011744402989832169\n",
      "GarageArea :  0.01167512123532984\n",
      "Functional :  0.011373005649953425\n",
      "MSSubClass :  0.010884251473991852\n",
      "YrSold_2007 :  0.010750447068396642\n",
      "OpenPorchSF :  0.010677045434700164\n",
      "HeatingQC :  0.010650363037172242\n",
      "HalfBath :  0.010639883022887866\n",
      "Exterior2nd_Wd Sdng :  0.010596650210616223\n",
      "LotFrontage :  0.010525905939316958\n",
      "ScreenPorch :  0.010061227829299099\n",
      "BsmtFinType1 :  0.009970414038721351\n",
      "YearRemodAdd_Prd_>= 1990 :  0.009214297153954044\n",
      "BsmtCond :  0.009117358368162746\n",
      "BsmtExposure :  0.009048656710963362\n",
      "Foundation_CBlock :  0.008909795720092473\n",
      "2ndFlrSF :  0.008618783872139546\n",
      "QSold_Q2 :  0.008592160313702935\n",
      "MSZoning_RM :  0.008557605426008903\n",
      "OverallQual :  0.008234357771907189\n",
      "BsmtFullBath :  0.008010094480702792\n",
      "BsmtFinSF2 :  0.007872827678561385\n",
      "MSZoning_RL :  0.0077560923552316904\n",
      "LandContour_Lvl :  0.007655539276105255\n",
      "LotArea :  0.007431599299675591\n",
      "Exterior1st_WdShing :  0.007309721515123956\n",
      "ExterCond :  0.0072003406750433905\n",
      "RoofMatl_Roll :  0.007092948210054758\n",
      "LotConfig_Inside :  0.0070014563231088015\n",
      "BsmtFinType2 :  0.006758270698814584\n",
      "TotalBsmtSF :  0.006631246370761344\n",
      "YrSold_2009 :  0.006391624854278496\n",
      "LotShape :  0.006298555838666129\n",
      "GarageQual :  0.006003709982188515\n",
      "Neighborhood_BrkSide :  0.0058739882712583\n",
      "Exterior1st_VinylSd :  0.005638257355525053\n",
      "YrSold_2008 :  0.005086116388477391\n",
      "FireplaceQu :  0.0050749705714212626\n",
      "Condition1_Norm :  0.005050989240379632\n",
      "HouseStyle_1Story :  0.0049616025634685165\n",
      "Neighborhood_ClearCr :  0.004890851638437398\n",
      "HouseStyle_1.5Unf :  0.004884932836700886\n",
      "Utilities :  0.0048412681794308045\n",
      "BldgType_Duplex :  0.004817351059178085\n",
      "BsmtQual :  0.0045687549788146166\n",
      "Exterior1st_HdBoard :  0.004566499258822696\n",
      "Exterior2nd_VinylSd :  0.004546234098934709\n",
      "GarageType_Attchd :  0.004535409915873651\n",
      "HouseStyle_2Story :  0.004401511175773073\n",
      "SaleCondition_Normal :  0.004381128332279769\n",
      "SaleCondition_AdjLand :  0.0043436612498521775\n",
      "Neighborhood_Edwards :  0.004302496874668998\n",
      "Heating_GasA :  0.004044821883168713\n",
      "Fence :  0.003988224266213603\n",
      "ExterQual :  0.003936932628103445\n",
      "Condition1_Feedr :  0.003923177356506171\n",
      "Condition1_RRAn :  0.003922517268845867\n",
      "GarageCond :  0.003871923308028551\n",
      "Exterior1st_Wd Sdng :  0.0038671995476006137\n",
      "LandSlope :  0.003791452868083041\n",
      "SaleType_WD :  0.003632925253787146\n",
      "MasVnrType_BrkFace :  0.0035688498799605175\n",
      "NoFence :  0.0035619715666772565\n",
      "NoBsmt :  0.003509719311010138\n",
      "GarageType_Detchd :  0.0033343240849564963\n",
      "NoGrg :  0.003250619926524233\n",
      "Neighborhood_Mitchel :  0.0031647225623156333\n",
      "QSold_Q3 :  0.003101726117244019\n",
      "3SsnPorch :  0.0030871291143225858\n",
      "YrSold_2010 :  0.0030195071081766216\n",
      "WoodDeckSF :  0.002972329791291489\n",
      "Condition2_Feedr :  0.0029229277723269035\n",
      "GarageType_BuiltIn :  0.002912862604542494\n",
      "Fireplaces :  0.002882279918838511\n",
      "Exterior1st_Stucco :  0.002879242857271558\n",
      "Alley_No :  0.002768885941319782\n",
      "GarageType_No :  0.0026678885334466733\n",
      "Neighborhood_OldTown :  0.0025150921505305624\n",
      "BldgType_2fmCon :  0.0024793839061333423\n",
      "Exterior2nd_ImStucc :  0.0024651864999524946\n",
      "GarageFinish :  0.0023924439175648316\n",
      "Alley_Pave :  0.0023573716601372426\n",
      "Exterior2nd_Wd Shng :  0.0022950671615362545\n",
      "GrgYrBltPrd_No :  0.0022764486189704594\n",
      "KitchenAbvGr :  0.00214075303920453\n",
      "Exterior2nd_HdBoard :  0.0019208389869672063\n",
      "BsmtHalfBath :  0.0018665201024809675\n",
      "Heating_GasW :  0.0016006046749358668\n",
      "NoFireplace :  0.001543741229575197\n",
      "SaleCondition_Family :  0.0013903220385826096\n",
      "Condition2_Norm :  0.0013817684336058292\n",
      "Foundation_PConc :  0.0013734956018847866\n",
      "Foundation_Slab :  0.0012687878511457988\n",
      "Exterior1st_MetalSd :  0.0012190145423179068\n",
      "MasVnrType_None :  0.0011936000499880935\n",
      "LotConfig_CulDSac :  0.0011583276678991112\n",
      "MasVnrArea :  0.0010852310928472387\n",
      "Exterior1st_Plywood :  0.0010263888744181872\n",
      "MiscVal :  0.0009918594792049638\n",
      "Exterior2nd_BrkFace :  0.0009918386093762505\n",
      "SaleCondition_Partial :  0.0009794210612946326\n",
      "LandContour_Low :  0.0009767079835625147\n",
      "MiscFeature_No :  0.0009767079835625147\n",
      "Foundation_Stone :  0.0009374718990269162\n",
      "Heating_Grav :  0.0009202406239594051\n",
      "MasVnrType_Stone :  0.0008902668791275555\n",
      "RoofMatl_CompShg :  0.0008842695494039184\n",
      "SaleType_CWD :  0.0008681848742777909\n",
      "Neighborhood_SWISU :  0.0008268924274757719\n",
      "Condition1_RRNn :  0.0007976448532427203\n",
      "GrgYrBltPrd_>= 1980 :  0.0006782694330295242\n",
      "Exterior2nd_Brk Cmn :  0.0005742097742073241\n",
      "Neighborhood_Crawfor :  0.0005493982407539145\n",
      "Heating_Wall :  0.0005343197895119579\n",
      "RoofStyle_Gambrel :  0.0004741201915560503\n",
      "Exterior2nd_MetalSd :  8.13923319635429e-05\n",
      "Exterior1st_BrkComm :  5.426155464236193e-05\n",
      "PoolArea :  0.0\n",
      "PoolQC :  0.0\n",
      "NoPool :  0.0\n",
      "MSZoning_FV :  0.0\n",
      "MSZoning_RH :  0.0\n",
      "Street_Pave :  0.0\n",
      "LotConfig_FR2 :  0.0\n",
      "LotConfig_FR3 :  0.0\n",
      "Neighborhood_Blueste :  0.0\n",
      "Neighborhood_BrDale :  0.0\n",
      "Neighborhood_CollgCr :  0.0\n",
      "Neighborhood_Gilbert :  0.0\n",
      "Neighborhood_MeadowV :  0.0\n",
      "Neighborhood_NPkVill :  0.0\n",
      "Neighborhood_NWAmes :  0.0\n",
      "Neighborhood_NoRidge :  0.0\n",
      "Neighborhood_NridgHt :  0.0\n",
      "Neighborhood_Sawyer :  0.0\n",
      "Neighborhood_SawyerW :  0.0\n",
      "Neighborhood_Somerst :  0.0\n",
      "Neighborhood_StoneBr :  0.0\n",
      "Neighborhood_Timber :  0.0\n",
      "Neighborhood_Veenker :  0.0\n",
      "Condition1_PosA :  0.0\n",
      "Condition1_PosN :  0.0\n",
      "Condition1_RRAe :  0.0\n",
      "Condition1_RRNe :  0.0\n",
      "Condition2_PosA :  0.0\n",
      "Condition2_PosN :  0.0\n",
      "Condition2_RRAe :  0.0\n",
      "Condition2_RRAn :  0.0\n",
      "Condition2_RRNn :  0.0\n",
      "BldgType_Twnhs :  0.0\n",
      "BldgType_TwnhsE :  0.0\n",
      "HouseStyle_2.5Fin :  0.0\n",
      "HouseStyle_2.5Unf :  0.0\n",
      "HouseStyle_SFoyer :  0.0\n",
      "HouseStyle_SLvl :  0.0\n",
      "RoofStyle_Mansard :  0.0\n",
      "RoofStyle_Shed :  0.0\n",
      "RoofMatl_Membran :  0.0\n",
      "RoofMatl_Metal :  0.0\n",
      "RoofMatl_Tar&Grv :  0.0\n",
      "RoofMatl_WdShake :  0.0\n",
      "RoofMatl_WdShngl :  0.0\n",
      "Exterior1st_AsphShn :  0.0\n",
      "Exterior1st_CBlock :  0.0\n",
      "Exterior1st_CemntBd :  0.0\n",
      "Exterior1st_ImStucc :  0.0\n",
      "Exterior1st_Stone :  0.0\n",
      "Exterior2nd_AsphShn :  0.0\n",
      "Exterior2nd_CBlock :  0.0\n",
      "Exterior2nd_CmentBd :  0.0\n",
      "Exterior2nd_Other :  0.0\n",
      "Exterior2nd_Plywood :  0.0\n",
      "Exterior2nd_Stone :  0.0\n",
      "Exterior2nd_Stucco :  0.0\n",
      "MasVnrType_No :  0.0\n",
      "Foundation_Wood :  0.0\n",
      "Heating_OthW :  0.0\n",
      "GarageType_CarPort :  0.0\n",
      "MiscFeature_Othr :  0.0\n",
      "MiscFeature_Shed :  0.0\n",
      "MiscFeature_TenC :  0.0\n",
      "SaleType_Con :  0.0\n",
      "SaleType_ConLD :  0.0\n",
      "SaleType_ConLI :  0.0\n",
      "SaleType_ConLw :  0.0\n",
      "SaleType_New :  0.0\n",
      "SaleType_Oth :  0.0\n",
      "SaleCondition_Alloca :  0.0\n"
     ]
    }
   ],
   "source": [
    "print('Feature Importance')\n",
    "for i in range(len(k)):\n",
    "    print(k[i][0], ': ', k[i][1])"
   ]
  },
  {
   "cell_type": "code",
   "execution_count": 159,
   "metadata": {},
   "outputs": [
    {
     "name": "stdout",
     "output_type": "stream",
     "text": [
      "Feature Importance (combined)\n",
      "['CentralAir' 'YearBuilt'] :  0.227111983152259\n",
      "['CentralAir' 'YearBuilt' 'OverallCond'] :  0.2030468194248254\n",
      "['CentralAir' 'YearBuilt' 'OverallCond' 'RoofStyle_Hip'] :  0.1936914294207437\n",
      "['CentralAir'] :  0.13034687559214952\n",
      "['CentralAir' 'YearBuilt' 'OverallCond' 'RoofStyle_Hip'\n",
      " 'Neighborhood_IDOTRR'] :  0.13008460682276046\n",
      "['CentralAir' 'YearBuilt' 'OverallCond' 'RoofStyle_Hip'\n",
      " 'Neighborhood_IDOTRR' 'Exterior1st_BrkFace' 'BsmtUnfSF'] :  0.09381924302646183\n",
      "['CentralAir' 'YearBuilt' 'OverallCond' 'RoofStyle_Hip'\n",
      " 'Neighborhood_IDOTRR' 'Exterior1st_BrkFace'] :  0.05517453568410102\n",
      "['CentralAir' 'YearBuilt' 'OverallCond' 'RoofStyle_Hip'\n",
      " 'Neighborhood_IDOTRR' 'Exterior1st_BrkFace' 'BsmtUnfSF' 'BedroomAbvGr'\n",
      " 'GarageCars' 'RoofStyle_Gable'] :  0.0364690084864111\n",
      "['CentralAir' 'YearBuilt' 'OverallCond' 'RoofStyle_Hip'\n",
      " 'Neighborhood_IDOTRR' 'Exterior1st_BrkFace' 'BsmtUnfSF' 'BedroomAbvGr'] :  -0.006530597629534007\n",
      "['CentralAir' 'YearBuilt' 'OverallCond' 'RoofStyle_Hip'\n",
      " 'Neighborhood_IDOTRR' 'Exterior1st_BrkFace' 'BsmtUnfSF' 'BedroomAbvGr'\n",
      " 'GarageCars'] :  -0.04004153686396661\n"
     ]
    }
   ],
   "source": [
    "print('Feature Importance (combined)')\n",
    "for i in range(len(k2)):\n",
    "    print(k2[i][0], ': ', k2[i][1])"
   ]
  },
  {
   "cell_type": "code",
   "execution_count": 160,
   "metadata": {},
   "outputs": [
    {
     "data": {
      "text/html": [
       "<div>\n",
       "<style scoped>\n",
       "    .dataframe tbody tr th:only-of-type {\n",
       "        vertical-align: middle;\n",
       "    }\n",
       "\n",
       "    .dataframe tbody tr th {\n",
       "        vertical-align: top;\n",
       "    }\n",
       "\n",
       "    .dataframe thead th {\n",
       "        text-align: right;\n",
       "    }\n",
       "</style>\n",
       "<table border=\"1\" class=\"dataframe\">\n",
       "  <thead>\n",
       "    <tr style=\"text-align: right;\">\n",
       "      <th></th>\n",
       "      <th>num</th>\n",
       "      <th>percentage</th>\n",
       "    </tr>\n",
       "  </thead>\n",
       "  <tbody>\n",
       "  </tbody>\n",
       "</table>\n",
       "</div>"
      ],
      "text/plain": [
       "Empty DataFrame\n",
       "Columns: [num, percentage]\n",
       "Index: []"
      ]
     },
     "execution_count": 160,
     "metadata": {},
     "output_type": "execute_result"
    }
   ],
   "source": [
    "nan_col = pd.DataFrame(pd.isnull(data).sum(), columns = ['num'])\n",
    "nan_col = nan_col.loc[nan_col['num'] != 0]\n",
    "nan_col['percentage'] = nan_col['num'] / data.shape[0]\n",
    "nan_col.sort_values(by = 'num', ascending = False, inplace = True)\n",
    "nan_col"
   ]
  },
  {
   "cell_type": "markdown",
   "metadata": {},
   "source": [
    "# Save Data"
   ]
  },
  {
   "cell_type": "code",
   "execution_count": 161,
   "metadata": {},
   "outputs": [],
   "source": [
    "file_path = r'C:\\Users\\user\\Desktop\\git_hub\\finished\\ml\\kaggle房價預測\\data\\train_cleaning.csv'\n",
    "data.to_csv(file_path)"
   ]
  },
  {
   "cell_type": "raw",
   "metadata": {},
   "source": [
    "df = pd.read_csv(file_path, encoding=\"Big5\", low_memory=False, index_col=0)"
   ]
  },
  {
   "cell_type": "code",
   "execution_count": null,
   "metadata": {},
   "outputs": [],
   "source": []
  }
 ],
 "metadata": {
  "kernelspec": {
   "display_name": "Python 3",
   "language": "python",
   "name": "python3"
  },
  "language_info": {
   "codemirror_mode": {
    "name": "ipython",
    "version": 3
   },
   "file_extension": ".py",
   "mimetype": "text/x-python",
   "name": "python",
   "nbconvert_exporter": "python",
   "pygments_lexer": "ipython3",
   "version": "3.7.3"
  }
 },
 "nbformat": 4,
 "nbformat_minor": 4
}
