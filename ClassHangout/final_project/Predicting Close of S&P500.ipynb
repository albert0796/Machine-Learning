{
 "cells": [
  {
   "cell_type": "markdown",
   "metadata": {},
   "source": [
    "* 以2010-01-01 年至2018-12-31 之 S&P 500 指數的日資料(daily data) 為研究對象。以當日及過去30 日之每日(Open, High, Low, Close, Volume) 為特徵(features), 預測10 日後之Close。\n",
    "* 訓練樣本(train set) 與測試樣本(test set) 比為8:2。 \n",
    "* 以訓練樣本建立預測模型。特徵預處理(preprocessing) 方法考慮sklearn 之MinMaxScaler 和StandardScaler。\n",
    "* 配合sklearn 之Pipeline, GridSearchCV 作法, 決定模型最佳超參數(hyperparameter(s)), 亦即做下列模型之參數調整(tune parameters)。交叉驗證(cross-validation) 方法取為sklearn 之KFold, scoring 取為'neg mean absolute error'。\n",
    "* 決定最佳超參數準則為：盡可能避免over\f",
    "tting 及希望交叉驗證(cross-validation) 時可考慮mean test score 和std test score, 其中score 為'neg mean absolute error'。"
   ]
  },
  {
   "cell_type": "markdown",
   "metadata": {},
   "source": [
    "# Package"
   ]
  },
  {
   "cell_type": "code",
   "execution_count": 1,
   "metadata": {},
   "outputs": [],
   "source": [
    "import numpy as np \n",
    "import pandas as pd\n",
    "import pandas_datareader as web\n",
    "from sklearn.preprocessing import PolynomialFeatures\n",
    "from sklearn.preprocessing import MinMaxScaler, StandardScaler\n",
    "from sklearn.linear_model import Ridge\n",
    "from sklearn.neural_network import MLPRegressor\n",
    "from sklearn.model_selection import KFold\n",
    "from sklearn.pipeline import make_pipeline, Pipeline\n",
    "# from sklearn.grid_search import GridSearchCV\n",
    "from sklearn.model_selection import GridSearchCV"
   ]
  },
  {
   "cell_type": "markdown",
   "metadata": {},
   "source": [
    "# Dataset"
   ]
  },
  {
   "cell_type": "code",
   "execution_count": 2,
   "metadata": {},
   "outputs": [],
   "source": [
    "ticker = '^GSPC'\n",
    "start = '2009-01-01'\n",
    "end = '2018-12-31'\n",
    "df = web.data.DataReader(ticker, 'yahoo', start, end)\n",
    "df = df.drop(['Adj Close'], axis=1)"
   ]
  },
  {
   "cell_type": "code",
   "execution_count": 3,
   "metadata": {},
   "outputs": [
    {
     "data": {
      "text/html": [
       "<div>\n",
       "<style scoped>\n",
       "    .dataframe tbody tr th:only-of-type {\n",
       "        vertical-align: middle;\n",
       "    }\n",
       "\n",
       "    .dataframe tbody tr th {\n",
       "        vertical-align: top;\n",
       "    }\n",
       "\n",
       "    .dataframe thead th {\n",
       "        text-align: right;\n",
       "    }\n",
       "</style>\n",
       "<table border=\"1\" class=\"dataframe\">\n",
       "  <thead>\n",
       "    <tr style=\"text-align: right;\">\n",
       "      <th></th>\n",
       "      <th>High</th>\n",
       "      <th>Low</th>\n",
       "      <th>Open</th>\n",
       "      <th>Close</th>\n",
       "      <th>Volume</th>\n",
       "    </tr>\n",
       "    <tr>\n",
       "      <th>Date</th>\n",
       "      <th></th>\n",
       "      <th></th>\n",
       "      <th></th>\n",
       "      <th></th>\n",
       "      <th></th>\n",
       "    </tr>\n",
       "  </thead>\n",
       "  <tbody>\n",
       "    <tr>\n",
       "      <th>2008-12-31</th>\n",
       "      <td>910.320007</td>\n",
       "      <td>889.669983</td>\n",
       "      <td>890.590027</td>\n",
       "      <td>903.250000</td>\n",
       "      <td>4172940000</td>\n",
       "    </tr>\n",
       "    <tr>\n",
       "      <th>2009-01-02</th>\n",
       "      <td>934.729980</td>\n",
       "      <td>899.349976</td>\n",
       "      <td>902.989990</td>\n",
       "      <td>931.799988</td>\n",
       "      <td>4048270000</td>\n",
       "    </tr>\n",
       "    <tr>\n",
       "      <th>2009-01-05</th>\n",
       "      <td>936.630005</td>\n",
       "      <td>919.530029</td>\n",
       "      <td>929.169983</td>\n",
       "      <td>927.450012</td>\n",
       "      <td>5413910000</td>\n",
       "    </tr>\n",
       "    <tr>\n",
       "      <th>2009-01-06</th>\n",
       "      <td>943.849976</td>\n",
       "      <td>927.280029</td>\n",
       "      <td>931.169983</td>\n",
       "      <td>934.700012</td>\n",
       "      <td>5392620000</td>\n",
       "    </tr>\n",
       "    <tr>\n",
       "      <th>2009-01-07</th>\n",
       "      <td>927.450012</td>\n",
       "      <td>902.369995</td>\n",
       "      <td>927.450012</td>\n",
       "      <td>906.650024</td>\n",
       "      <td>4704940000</td>\n",
       "    </tr>\n",
       "  </tbody>\n",
       "</table>\n",
       "</div>"
      ],
      "text/plain": [
       "                  High         Low        Open       Close      Volume\n",
       "Date                                                                  \n",
       "2008-12-31  910.320007  889.669983  890.590027  903.250000  4172940000\n",
       "2009-01-02  934.729980  899.349976  902.989990  931.799988  4048270000\n",
       "2009-01-05  936.630005  919.530029  929.169983  927.450012  5413910000\n",
       "2009-01-06  943.849976  927.280029  931.169983  934.700012  5392620000\n",
       "2009-01-07  927.450012  902.369995  927.450012  906.650024  4704940000"
      ]
     },
     "execution_count": 3,
     "metadata": {},
     "output_type": "execute_result"
    }
   ],
   "source": [
    "df.head(5)"
   ]
  },
  {
   "cell_type": "code",
   "execution_count": 4,
   "metadata": {},
   "outputs": [
    {
     "data": {
      "text/plain": [
       "(2517, 5)"
      ]
     },
     "execution_count": 4,
     "metadata": {},
     "output_type": "execute_result"
    }
   ],
   "source": [
    "df.shape"
   ]
  },
  {
   "cell_type": "markdown",
   "metadata": {},
   "source": [
    "# Feature Engineering"
   ]
  },
  {
   "cell_type": "markdown",
   "metadata": {},
   "source": [
    "### Adding Target: \n",
    "'close_next10' : close after 10 days"
   ]
  },
  {
   "cell_type": "code",
   "execution_count": 6,
   "metadata": {},
   "outputs": [],
   "source": [
    "target = 'Close'\n",
    "shift = -10\n",
    "target_next = target+'_next'+str(-shift)\n",
    "target_next_pred = target_next+'_pred'\n",
    "df[target_next] = df[target].shift(shift)\n",
    "df = df.dropna()"
   ]
  },
  {
   "cell_type": "markdown",
   "metadata": {},
   "source": [
    "### Adding Features:  \n",
    "'Close_PctChange': (close2 - close1) / close1  \n",
    "'High_Close_Change': (high1 - close1 ) / close1  \n",
    "'Close_Open_Change': (close1 - open1) / open1  \n",
    "lag 1~30 days for each feature"
   ]
  },
  {
   "cell_type": "code",
   "execution_count": 7,
   "metadata": {},
   "outputs": [],
   "source": [
    "target_PctChange = target+'_PctChange'\n",
    "df[target_PctChange] = df[target].pct_change()"
   ]
  },
  {
   "cell_type": "code",
   "execution_count": 8,
   "metadata": {},
   "outputs": [],
   "source": [
    "df['High_Close_Change'] = (df['High']-df['Close'])/df['Close']\n",
    "df['Close_Open_Change'] = (df['Close']-df['Open'])/df['Open']"
   ]
  },
  {
   "cell_type": "code",
   "execution_count": 9,
   "metadata": {},
   "outputs": [],
   "source": [
    "features = list(df.columns[~df.columns.isin([target_next])])\n",
    "lag = 30\n",
    "for i in range(1,lag+1):\n",
    "    for feature in features:\n",
    "        df[feature+\"_lag\"+str(i)] = df[feature].shift(i)\n",
    "    \n",
    "df = df.dropna()"
   ]
  },
  {
   "cell_type": "markdown",
   "metadata": {},
   "source": [
    "# Preprocessing"
   ]
  },
  {
   "cell_type": "code",
   "execution_count": 10,
   "metadata": {},
   "outputs": [],
   "source": [
    "X = df.drop([target_next], axis=1)\n",
    "y = df[target_next]"
   ]
  },
  {
   "cell_type": "code",
   "execution_count": 11,
   "metadata": {},
   "outputs": [],
   "source": [
    "train_size = 0.8\n",
    "N = X.shape[0]\n",
    "Num_train = int(N*train_size)\n",
    "\n",
    "X_train, y_train = X[:Num_train], y[:Num_train]\n",
    "X_test, y_test = X[Num_train:], y[Num_train:]"
   ]
  },
  {
   "cell_type": "markdown",
   "metadata": {},
   "source": [
    "# Hypetuning"
   ]
  },
  {
   "cell_type": "markdown",
   "metadata": {},
   "source": [
    "* (a) 以sklearn 之Ridge (ridge regression) 為例, 超參數alpha 考慮0.1, 0.01, 0.001, 共3 種情況\n",
    "* (b) 以sklearn 之MLPRegressor (類神經網絡之多層感知機(MultiLayer Perceptron, MLP)) 為例, 超參數alpha 考慮0.1, 0.01, 0.001, 共3 種情況。hidden layer sizes 考慮: 一個hidden layer 的sizes 為64 二個hidden layer的sizes 為64 共4 種情況\n",
    "* 以Pipeline方式同時考慮(a)、(b)\n",
    "* 模型的random state為123457\n",
    "* 交叉驗證的random state為123457\n",
    "* 交叉驗證的scoring為neg_mean_absolute_error\n",
    "* kfold切3等分"
   ]
  },
  {
   "cell_type": "markdown",
   "metadata": {},
   "source": [
    "### 交叉驗證最適參數的選擇為 mean_test_score + 1.96 * std_test_score 最大者。原因在於除了考慮整體平均表現外，還需考慮參數對於模型的穩定性。"
   ]
  },
  {
   "cell_type": "code",
   "execution_count": 12,
   "metadata": {},
   "outputs": [
    {
     "data": {
      "text/plain": [
       "dict_keys(['memory', 'steps', 'scaler', 'regressor', 'scaler__copy', 'scaler__feature_range', 'regressor__alpha', 'regressor__copy_X', 'regressor__fit_intercept', 'regressor__max_iter', 'regressor__normalize', 'regressor__random_state', 'regressor__solver', 'regressor__tol'])"
      ]
     },
     "execution_count": 12,
     "metadata": {},
     "output_type": "execute_result"
    }
   ],
   "source": [
    "pipeline1 = ('scaler', MinMaxScaler())\n",
    "pipeline2 = ('regressor', Ridge())\n",
    "pipeline = Pipeline([pipeline1, pipeline2])\n",
    "\n",
    "pipeline.get_params().keys()"
   ]
  },
  {
   "cell_type": "code",
   "execution_count": 13,
   "metadata": {},
   "outputs": [],
   "source": [
    "random_state = 123457"
   ]
  },
  {
   "cell_type": "code",
   "execution_count": 14,
   "metadata": {},
   "outputs": [],
   "source": [
    "scaler = [None, MinMaxScaler(), StandardScaler()]"
   ]
  },
  {
   "cell_type": "code",
   "execution_count": 15,
   "metadata": {},
   "outputs": [],
   "source": [
    "param_grid1 = {'scaler': scaler,\n",
    "               'regressor': [Ridge(random_state=random_state)],\n",
    "               'regressor__alpha': [0.1, 0.01],\n",
    "               }\n",
    "\n",
    "param_grid2 = {'scaler': scaler,\n",
    "               'regressor': [MLPRegressor(random_state=random_state)],\n",
    "               'regressor__hidden_layer_sizes': [(64), (64, 64)],\n",
    "               'regressor__activation': ['relu'],\n",
    "               'regressor__solver': ['lbfgs'],\n",
    "               'regressor__alpha': [0.1, 0.01],\n",
    "               #'regressor__batch_size': ['auto'], \n",
    "               #'regressor__learning_rate': ['constant'],\n",
    "               #'regressor__learning_rate_init': [0.01, 0.001],\n",
    "               #'regressor__max_iter': [200]\n",
    "               }\n",
    "\n",
    "param_grid = [param_grid1, param_grid2]"
   ]
  },
  {
   "cell_type": "code",
   "execution_count": 16,
   "metadata": {},
   "outputs": [],
   "source": [
    "scoring = 'neg_mean_absolute_error'"
   ]
  },
  {
   "cell_type": "code",
   "execution_count": 17,
   "metadata": {},
   "outputs": [],
   "source": [
    "n_splits = 3\n",
    "random_state = 123457\n",
    "cv = KFold(n_splits=n_splits, shuffle=True, random_state=random_state)  \n",
    "SearchCV = GridSearchCV(estimator=pipeline, \n",
    "                        param_grid=param_grid,\n",
    "                        scoring=scoring, \n",
    "                        cv=cv,\n",
    "                        return_train_score=True,\n",
    "                        verbose=1,\n",
    "                        n_jobs=-1)"
   ]
  },
  {
   "cell_type": "code",
   "execution_count": 18,
   "metadata": {},
   "outputs": [
    {
     "name": "stdout",
     "output_type": "stream",
     "text": [
      "Fitting 3 folds for each of 18 candidates, totalling 54 fits\n"
     ]
    },
    {
     "name": "stderr",
     "output_type": "stream",
     "text": [
      "[Parallel(n_jobs=-1)]: Using backend LokyBackend with 2 concurrent workers.\n",
      "[Parallel(n_jobs=-1)]: Done  46 tasks      | elapsed:  1.5min\n",
      "[Parallel(n_jobs=-1)]: Done  54 out of  54 | elapsed:  1.9min finished\n",
      "C:\\Users\\user\\Anaconda3\\lib\\site-packages\\sklearn\\preprocessing\\data.py:334: DataConversionWarning: Data with input dtype int64, float64 were all converted to float64 by MinMaxScaler.\n",
      "  return self.partial_fit(X, y)\n"
     ]
    },
    {
     "data": {
      "text/plain": [
       "GridSearchCV(cv=KFold(n_splits=3, random_state=123457, shuffle=True),\n",
       "       error_score='raise-deprecating',\n",
       "       estimator=Pipeline(memory=None,\n",
       "     steps=[('scaler', MinMaxScaler(copy=True, feature_range=(0, 1))), ('regressor', Ridge(alpha=1.0, copy_X=True, fit_intercept=True, max_iter=None,\n",
       "   normalize=False, random_state=None, solver='auto', tol=0.001))]),\n",
       "       fit_params=None, iid='warn', n_jobs=-1,\n",
       "       param_grid=[{'scaler': [None, MinMaxScaler(copy=True, feature_range=(0, 1)), StandardScaler(copy=True, with_mean=True, with_std=True)], 'regressor': [Ridge(alpha=1.0, copy_X=True, fit_intercept=True, max_iter=None,\n",
       "   normalize=False, random_state=123457, solver='auto', tol=0.001)], 'regressor__alph...'regressor__activation': ['relu'], 'regressor__solver': ['lbfgs'], 'regressor__alpha': [0.1, 0.01]}],\n",
       "       pre_dispatch='2*n_jobs', refit=True, return_train_score=True,\n",
       "       scoring='neg_mean_absolute_error', verbose=1)"
      ]
     },
     "execution_count": 18,
     "metadata": {},
     "output_type": "execute_result"
    }
   ],
   "source": [
    "SearchCV.fit(X_train, y_train)"
   ]
  },
  {
   "cell_type": "code",
   "execution_count": 21,
   "metadata": {},
   "outputs": [
    {
     "data": {
      "text/plain": [
       "['mean_fit_time',\n",
       " 'mean_score_time',\n",
       " 'mean_test_score',\n",
       " 'mean_train_score',\n",
       " 'param_regressor',\n",
       " 'param_regressor__activation',\n",
       " 'param_regressor__alpha',\n",
       " 'param_regressor__hidden_layer_sizes',\n",
       " 'param_regressor__solver',\n",
       " 'param_scaler',\n",
       " 'params',\n",
       " 'rank_test_score',\n",
       " 'split0_test_score',\n",
       " 'split0_train_score',\n",
       " 'split1_test_score',\n",
       " 'split1_train_score',\n",
       " 'split2_test_score',\n",
       " 'split2_train_score',\n",
       " 'std_fit_time',\n",
       " 'std_score_time',\n",
       " 'std_test_score',\n",
       " 'std_train_score']"
      ]
     },
     "execution_count": 21,
     "metadata": {},
     "output_type": "execute_result"
    }
   ],
   "source": [
    "cv_results = SearchCV.cv_results_\n",
    "cv_results_df = pd.DataFrame(cv_results)\n",
    "sorted(cv_results.keys())"
   ]
  },
  {
   "cell_type": "code",
   "execution_count": 22,
   "metadata": {},
   "outputs": [],
   "source": [
    "cv_results_df['upper_train_score'] = \\\n",
    "    -cv_results_df['mean_train_score']+1.96*cv_results_df['std_train_score']\n",
    "cv_results_df['upper_test_score'] = \\\n",
    "    -cv_results_df['mean_test_score']+1.96*cv_results_df['std_test_score']"
   ]
  },
  {
   "cell_type": "code",
   "execution_count": 23,
   "metadata": {},
   "outputs": [
    {
     "data": {
      "text/html": [
       "<div>\n",
       "<style scoped>\n",
       "    .dataframe tbody tr th:only-of-type {\n",
       "        vertical-align: middle;\n",
       "    }\n",
       "\n",
       "    .dataframe tbody tr th {\n",
       "        vertical-align: top;\n",
       "    }\n",
       "\n",
       "    .dataframe thead th {\n",
       "        text-align: right;\n",
       "    }\n",
       "</style>\n",
       "<table border=\"1\" class=\"dataframe\">\n",
       "  <thead>\n",
       "    <tr style=\"text-align: right;\">\n",
       "      <th></th>\n",
       "      <th>mean_fit_time</th>\n",
       "      <th>std_fit_time</th>\n",
       "      <th>mean_score_time</th>\n",
       "      <th>std_score_time</th>\n",
       "      <th>param_regressor</th>\n",
       "      <th>param_regressor__alpha</th>\n",
       "      <th>param_scaler</th>\n",
       "      <th>param_regressor__activation</th>\n",
       "      <th>param_regressor__hidden_layer_sizes</th>\n",
       "      <th>param_regressor__solver</th>\n",
       "      <th>...</th>\n",
       "      <th>mean_test_score</th>\n",
       "      <th>std_test_score</th>\n",
       "      <th>rank_test_score</th>\n",
       "      <th>split0_train_score</th>\n",
       "      <th>split1_train_score</th>\n",
       "      <th>split2_train_score</th>\n",
       "      <th>mean_train_score</th>\n",
       "      <th>std_train_score</th>\n",
       "      <th>upper_train_score</th>\n",
       "      <th>upper_test_score</th>\n",
       "    </tr>\n",
       "  </thead>\n",
       "  <tbody>\n",
       "    <tr>\n",
       "      <th>16</th>\n",
       "      <td>7.05307</td>\n",
       "      <td>0.272409</td>\n",
       "      <td>0.017334</td>\n",
       "      <td>0.001247</td>\n",
       "      <td>MLPRegressor(activation='relu', alpha=0.01, ba...</td>\n",
       "      <td>0.01</td>\n",
       "      <td>MinMaxScaler(copy=True, feature_range=(0, 1))</td>\n",
       "      <td>relu</td>\n",
       "      <td>(64, 64)</td>\n",
       "      <td>lbfgs</td>\n",
       "      <td>...</td>\n",
       "      <td>-32.112306</td>\n",
       "      <td>0.821257</td>\n",
       "      <td>1</td>\n",
       "      <td>-30.455678</td>\n",
       "      <td>-29.089632</td>\n",
       "      <td>-30.340433</td>\n",
       "      <td>-29.961914</td>\n",
       "      <td>0.618588</td>\n",
       "      <td>31.174348</td>\n",
       "      <td>33.72197</td>\n",
       "    </tr>\n",
       "  </tbody>\n",
       "</table>\n",
       "<p>1 rows × 24 columns</p>\n",
       "</div>"
      ],
      "text/plain": [
       "    mean_fit_time  std_fit_time  mean_score_time  std_score_time  \\\n",
       "16        7.05307      0.272409         0.017334        0.001247   \n",
       "\n",
       "                                      param_regressor param_regressor__alpha  \\\n",
       "16  MLPRegressor(activation='relu', alpha=0.01, ba...                   0.01   \n",
       "\n",
       "                                     param_scaler param_regressor__activation  \\\n",
       "16  MinMaxScaler(copy=True, feature_range=(0, 1))                        relu   \n",
       "\n",
       "   param_regressor__hidden_layer_sizes param_regressor__solver  ...  \\\n",
       "16                            (64, 64)                   lbfgs  ...   \n",
       "\n",
       "   mean_test_score  std_test_score  rank_test_score  split0_train_score  \\\n",
       "16      -32.112306        0.821257                1          -30.455678   \n",
       "\n",
       "    split1_train_score  split2_train_score  mean_train_score  std_train_score  \\\n",
       "16          -29.089632          -30.340433        -29.961914         0.618588   \n",
       "\n",
       "    upper_train_score  upper_test_score  \n",
       "16          31.174348          33.72197  \n",
       "\n",
       "[1 rows x 24 columns]"
      ]
     },
     "execution_count": 23,
     "metadata": {},
     "output_type": "execute_result"
    }
   ],
   "source": [
    "upper_test_score_min = cv_results_df['upper_test_score'].min()\n",
    "best_params = cv_results_df[cv_results_df['upper_test_score'] == upper_test_score_min]\n",
    "best_params"
   ]
  },
  {
   "cell_type": "markdown",
   "metadata": {},
   "source": [
    "# Modeling"
   ]
  },
  {
   "cell_type": "code",
   "execution_count": 24,
   "metadata": {},
   "outputs": [],
   "source": [
    "best_params_scaler = best_params['param_scaler'].values[0]\n",
    "best_params_regressor = best_params['params'].values[0]['regressor']\n",
    "best_scaler = ('scaler', best_params_scaler)\n",
    "best_regressor = ('regressor', best_params_regressor)\n",
    "best_estimator = Pipeline([best_scaler, best_regressor])"
   ]
  },
  {
   "cell_type": "code",
   "execution_count": 26,
   "metadata": {},
   "outputs": [
    {
     "name": "stderr",
     "output_type": "stream",
     "text": [
      "C:\\Users\\user\\Anaconda3\\lib\\site-packages\\sklearn\\preprocessing\\data.py:334: DataConversionWarning: Data with input dtype int64, float64 were all converted to float64 by MinMaxScaler.\n",
      "  return self.partial_fit(X, y)\n"
     ]
    },
    {
     "data": {
      "text/plain": [
       "Pipeline(memory=None,\n",
       "     steps=[('scaler', MinMaxScaler(copy=True, feature_range=(0, 1))), ('regressor', MLPRegressor(activation='relu', alpha=0.01, batch_size='auto', beta_1=0.9,\n",
       "       beta_2=0.999, early_stopping=False, epsilon=1e-08,\n",
       "       hidden_layer_sizes=(64, 64), learning_rate='constant',\n",
       "       learning_rate_init...True, solver='lbfgs', tol=0.0001,\n",
       "       validation_fraction=0.1, verbose=False, warm_start=False))])"
      ]
     },
     "execution_count": 26,
     "metadata": {},
     "output_type": "execute_result"
    }
   ],
   "source": [
    "best_estimator.fit(X_train, y_train)"
   ]
  },
  {
   "cell_type": "code",
   "execution_count": 27,
   "metadata": {},
   "outputs": [],
   "source": [
    "y_train_pred = best_estimator.predict(X_train)\n",
    "y_test_pred = best_estimator.predict(X_test)"
   ]
  },
  {
   "cell_type": "markdown",
   "metadata": {},
   "source": [
    "# Validation"
   ]
  },
  {
   "cell_type": "code",
   "execution_count": 28,
   "metadata": {},
   "outputs": [
    {
     "name": "stdout",
     "output_type": "stream",
     "text": [
      "train MAE (mean_absolute_error): 30.65510286860393\n",
      "test MAE (mean_absolute_error): 47.84897545782607\n",
      "test score (r2): 0.8583839233909528\n"
     ]
    }
   ],
   "source": [
    "import sklearn.metrics as metrics\n",
    "\n",
    "\n",
    "MAE_train = metrics.mean_absolute_error(y_train, y_train_pred)\n",
    "MAE_test = metrics.mean_absolute_error(y_test, y_test_pred)\n",
    "print(\"train MAE (mean_absolute_error):\", MAE_train)\n",
    "print(\"test MAE (mean_absolute_error):\", MAE_test)\n",
    "\n",
    "test_score = best_estimator.score(X_test, y_test)\n",
    "print(\"test score (r2):\", test_score)"
   ]
  },
  {
   "cell_type": "code",
   "execution_count": 47,
   "metadata": {},
   "outputs": [],
   "source": [
    "import matplotlib.pyplot as plt\n",
    "\n",
    "\n",
    "def plot_target_pred(y, y_pred, target_next):\n",
    "    fig, (ax1, ax2) = plt.subplots(1, 2, figsize = (12, 4.5))\n",
    "    target_next_pred = target_next+'_pred'\n",
    "    ax1.plot(y, 'b-', label=target_next)\n",
    "    ax1.plot(y_pred, 'r-.', label=target_next_pred)\n",
    "    ax1.legend()\n",
    "    target_next_pred = target_next+'_pred'\n",
    "    ax2.plot(y, y_pred, '.')\n",
    "    ax2.set_xlabel(target_next)\n",
    "    ax2.set_ylabel(target_next_pred)\n",
    "    ax2.legend()\n",
    "    plt.tight_layout()\n",
    "    plt.show() "
   ]
  },
  {
   "cell_type": "code",
   "execution_count": 48,
   "metadata": {},
   "outputs": [
    {
     "name": "stderr",
     "output_type": "stream",
     "text": [
      "No handles with labels found to put in legend.\n"
     ]
    },
    {
     "name": "stdout",
     "output_type": "stream",
     "text": [
      "Traing Data:\n"
     ]
    },
    {
     "data": {
      "image/png": "[encoded data removed]",
      "text/plain": [
       "<Figure size 864x324 with 2 Axes>"
      ]
     },
     "metadata": {
      "needs_background": "light"
     },
     "output_type": "display_data"
    }
   ],
   "source": [
    "print('Traing Data:')    \n",
    "plot_target_pred(y_train.values, y_train_pred, target_next)"
   ]
  },
  {
   "cell_type": "code",
   "execution_count": 49,
   "metadata": {},
   "outputs": [
    {
     "name": "stderr",
     "output_type": "stream",
     "text": [
      "No handles with labels found to put in legend.\n"
     ]
    },
    {
     "name": "stdout",
     "output_type": "stream",
     "text": [
      "Test Data:\n"
     ]
    },
    {
     "data": {
      "image/png": "[encoded data removed]",
      "text/plain": [
       "<Figure size 864x324 with 2 Axes>"
      ]
     },
     "metadata": {
      "needs_background": "light"
     },
     "output_type": "display_data"
    }
   ],
   "source": [
    "print('Test Data:')\n",
    "plot_target_pred(y_test.values, y_test_pred, target_next)"
   ]
  }
 ],
 "metadata": {
  "kernelspec": {
   "display_name": "Python 3",
   "language": "python",
   "name": "python3"
  },
  "language_info": {
   "codemirror_mode": {
    "name": "ipython",
    "version": 3
   },
   "file_extension": ".py",
   "mimetype": "text/x-python",
   "name": "python",
   "nbconvert_exporter": "python",
   "pygments_lexer": "ipython3",
   "version": "3.7.3"
  }
 },
 "nbformat": 4,
 "nbformat_minor": 4
}
