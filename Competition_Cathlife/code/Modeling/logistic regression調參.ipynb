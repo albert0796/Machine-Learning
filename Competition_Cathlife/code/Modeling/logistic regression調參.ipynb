{
 "cells": [
  {
   "cell_type": "markdown",
   "metadata": {},
   "source": [
    "# Path"
   ]
  },
  {
   "cell_type": "code",
   "execution_count": 6,
   "metadata": {},
   "outputs": [],
   "source": [
    "import os\n",
    "os.chdir(r'C:\\Users\\user\\Desktop\\調參')"
   ]
  },
  {
   "cell_type": "markdown",
   "metadata": {},
   "source": [
    "# Package"
   ]
  },
  {
   "cell_type": "code",
   "execution_count": 2,
   "metadata": {},
   "outputs": [],
   "source": [
    "import numpy as np\n",
    "import matplotlib.pyplot as plt\n",
    "import matplotlib\n",
    "import pandas as pd\n",
    "from sklearn.model_selection import train_test_split\n",
    "from sklearn.model_selection import KFold\n",
    "from sklearn.pipeline import Pipeline\n",
    "from sklearn.model_selection import GridSearchCV\n",
    "from sklearn.linear_model import LogisticRegression"
   ]
  },
  {
   "cell_type": "markdown",
   "metadata": {},
   "source": [
    "# Data"
   ]
  },
  {
   "cell_type": "code",
   "execution_count": 3,
   "metadata": {},
   "outputs": [],
   "source": [
    "train_v1 = pd.read_csv(\"train_cleaned_version1_proc_nontree.csv\", low_memory=False, index_col=0)"
   ]
  },
  {
   "cell_type": "code",
   "execution_count": 5,
   "metadata": {
    "scrolled": false
   },
   "outputs": [
    {
     "data": {
      "text/plain": [
       "(99758, 142)"
      ]
     },
     "execution_count": 5,
     "metadata": {},
     "output_type": "execute_result"
    }
   ],
   "source": [
    "train_v1.shape"
   ]
  },
  {
   "cell_type": "markdown",
   "metadata": {},
   "source": [
    "# Train_test_split"
   ]
  },
  {
   "cell_type": "code",
   "execution_count": 7,
   "metadata": {},
   "outputs": [],
   "source": [
    "X = train_v1.drop(\"Y1\", axis=1)\n",
    "y = train_v1[\"Y1\"]"
   ]
  },
  {
   "cell_type": "code",
   "execution_count": 9,
   "metadata": {},
   "outputs": [],
   "source": [
    "X_train, X_test, y_train, y_test = train_test_split(X, y, test_size=0.33, random_state=42, stratify=y)"
   ]
  },
  {
   "cell_type": "code",
   "execution_count": 10,
   "metadata": {},
   "outputs": [
    {
     "name": "stdout",
     "output_type": "stream",
     "text": [
      "0    65543\n",
      "1     1294\n",
      "Name: Y1, dtype: int64\n",
      "0    32284\n",
      "1      637\n",
      "Name: Y1, dtype: int64\n",
      "y_train 0比例: 98.06394661639511\n",
      "y_train 1比例: 1.9360533836048894\n",
      "y_test 0比例: 98.06506485222198\n",
      "y_test 1比例: 1.9349351477780141\n"
     ]
    }
   ],
   "source": [
    "# 驗證分層抽樣比例\n",
    "print(y_train.value_counts())\n",
    "print(y_test.value_counts())\n",
    "print(\"y_train 0比例:\",65543*100/(65543 + 1294) )\n",
    "print(\"y_train 1比例:\",1294*100/(65543 + 1294) )\n",
    "print(\"y_test 0比例:\", 32284*100/(32284 + 637))\n",
    "print(\"y_test 1比例:\", 637*100/(32284 + 637))"
   ]
  },
  {
   "cell_type": "markdown",
   "metadata": {},
   "source": [
    "# Logistic Regression"
   ]
  },
  {
   "cell_type": "code",
   "execution_count": 11,
   "metadata": {},
   "outputs": [],
   "source": [
    "pipeline = Pipeline([\n",
    "                     ('classifier', LogisticRegression())\n",
    "                     ])\n",
    "parameters = {    \n",
    "              'classifier__penalty': [ 'l1', 'l2'],\n",
    "              'classifier__C': [0.01, 0.1, 1, 10]\n",
    "              }\n",
    "scoring = 'roc_auc'\n",
    "n_splits = 3\n",
    "cv = KFold(n_splits=n_splits, shuffle=True, random_state=123457)\n",
    "SearchCV = GridSearchCV(estimator=pipeline,\n",
    "                        param_grid=parameters,\n",
    "                        scoring=scoring, \n",
    "                        cv=cv,\n",
    "                        return_train_score=True,\n",
    "                        verbose=1, \n",
    "                        n_jobs=2)"
   ]
  },
  {
   "cell_type": "code",
   "execution_count": 12,
   "metadata": {},
   "outputs": [
    {
     "name": "stdout",
     "output_type": "stream",
     "text": [
      "Fitting 3 folds for each of 8 candidates, totalling 24 fits\n"
     ]
    },
    {
     "name": "stderr",
     "output_type": "stream",
     "text": [
      "[Parallel(n_jobs=2)]: Using backend LokyBackend with 2 concurrent workers.\n",
      "[Parallel(n_jobs=2)]: Done  24 out of  24 | elapsed:  3.6min finished\n",
      "C:\\Users\\user\\Anaconda3\\lib\\site-packages\\sklearn\\linear_model\\logistic.py:433: FutureWarning: Default solver will be changed to 'lbfgs' in 0.22. Specify a solver to silence this warning.\n",
      "  FutureWarning)\n"
     ]
    },
    {
     "data": {
      "text/plain": [
       "GridSearchCV(cv=KFold(n_splits=3, random_state=123457, shuffle=True),\n",
       "       error_score='raise-deprecating',\n",
       "       estimator=Pipeline(memory=None,\n",
       "     steps=[('classifier', LogisticRegression(C=1.0, class_weight=None, dual=False, fit_intercept=True,\n",
       "          intercept_scaling=1, max_iter=100, multi_class='warn',\n",
       "          n_jobs=None, penalty='l2', random_state=None, solver='warn',\n",
       "          tol=0.0001, verbose=0, warm_start=False))]),\n",
       "       fit_params=None, iid='warn', n_jobs=2,\n",
       "       param_grid={'classifier__penalty': ['l1', 'l2'], 'classifier__C': [0.01, 0.1, 1, 10]},\n",
       "       pre_dispatch='2*n_jobs', refit=True, return_train_score=True,\n",
       "       scoring='roc_auc', verbose=1)"
      ]
     },
     "execution_count": 12,
     "metadata": {},
     "output_type": "execute_result"
    }
   ],
   "source": [
    "SearchCV.fit(X_train, y_train)"
   ]
  },
  {
   "cell_type": "code",
   "execution_count": 17,
   "metadata": {},
   "outputs": [
    {
     "name": "stdout",
     "output_type": "stream",
     "text": [
      "{'classifier__C': 1, 'classifier__penalty': 'l1'}\n"
     ]
    }
   ],
   "source": [
    "best_estimator = SearchCV.best_estimator_\n",
    "best_params = SearchCV.best_params_\n",
    "print(best_params)"
   ]
  },
  {
   "cell_type": "code",
   "execution_count": 14,
   "metadata": {},
   "outputs": [
    {
     "name": "stdout",
     "output_type": "stream",
     "text": [
      " test score (roc_auc): 0.8013657780525932\n"
     ]
    }
   ],
   "source": [
    "y_test_pred = SearchCV.predict(X_test)\n",
    "test_score = SearchCV.score(X_test, y_test) \n",
    "print(\" test score (\"+scoring+\"):\", test_score)"
   ]
  },
  {
   "cell_type": "code",
   "execution_count": 15,
   "metadata": {},
   "outputs": [],
   "source": [
    "r_lr=SearchCV.cv_results_"
   ]
  },
  {
   "cell_type": "code",
   "execution_count": 16,
   "metadata": {},
   "outputs": [
    {
     "name": "stdout",
     "output_type": "stream",
     "text": [
      "params:\n",
      " [{'classifier__C': 0.01, 'classifier__penalty': 'l1'}, {'classifier__C': 0.01, 'classifier__penalty': 'l2'}, {'classifier__C': 0.1, 'classifier__penalty': 'l1'}, {'classifier__C': 0.1, 'classifier__penalty': 'l2'}, {'classifier__C': 1, 'classifier__penalty': 'l1'}, {'classifier__C': 1, 'classifier__penalty': 'l2'}, {'classifier__C': 10, 'classifier__penalty': 'l1'}, {'classifier__C': 10, 'classifier__penalty': 'l2'}] \n",
      "\n",
      "mean_test_score:\n",
      " [0.74689363 0.77268657 0.79624918 0.7923745  0.79774573 0.79529274\n",
      " 0.79387598 0.79413973] \n",
      "\n",
      "std_test_score:\n",
      " [0.02193695 0.01612713 0.01142928 0.01429723 0.01236487 0.01354423\n",
      " 0.01508336 0.01421541] \n",
      "\n",
      "mean_train_score:\n",
      " [0.7529634  0.78653792 0.80864928 0.81335619 0.82097879 0.82112332\n",
      " 0.82215089 0.82204285] \n",
      "\n",
      "std_train_score:\n",
      " [0.00837872 0.00688056 0.00544448 0.00560852 0.00498166 0.00496416\n",
      " 0.00515812 0.00505623] \n",
      "\n"
     ]
    }
   ],
   "source": [
    "print('params:\\n',r_lr['params'],'\\n')\n",
    "print('mean_test_score:\\n',r_lr['mean_test_score'],'\\n')\n",
    "print('std_test_score:\\n',r_lr['std_test_score'],'\\n')\n",
    "print('mean_train_score:\\n',r_lr['mean_train_score'],'\\n')\n",
    "print('std_train_score:\\n',r_lr['std_train_score'],'\\n')"
   ]
  },
  {
   "cell_type": "code",
   "execution_count": 27,
   "metadata": {},
   "outputs": [],
   "source": [
    "filename = 'SearchCV_logistic'\n",
    "pickle.dump(SearchCV, open(filename, 'wb'))"
   ]
  },
  {
   "cell_type": "code",
   "execution_count": null,
   "metadata": {},
   "outputs": [],
   "source": []
  }
 ],
 "metadata": {
  "kernelspec": {
   "display_name": "Python 3",
   "language": "python",
   "name": "python3"
  },
  "language_info": {
   "codemirror_mode": {
    "name": "ipython",
    "version": 3
   },
   "file_extension": ".py",
   "mimetype": "text/x-python",
   "name": "python",
   "nbconvert_exporter": "python",
   "pygments_lexer": "ipython3",
   "version": "3.7.3"
  }
 },
 "nbformat": 4,
 "nbformat_minor": 2
}
