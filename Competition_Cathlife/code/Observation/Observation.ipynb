{
 "cells": [
  {
   "cell_type": "code",
   "execution_count": 1,
   "metadata": {},
   "outputs": [],
   "source": [
    "import pandas as pd\n",
    "import numpy as np\n",
    "import matplotlib.pyplot as plt\n",
    "import seaborn as sns\n",
    "\n",
    "%matplotlib inline"
   ]
  },
  {
   "cell_type": "code",
   "execution_count": 2,
   "metadata": {},
   "outputs": [
    {
     "name": "stderr",
     "output_type": "stream",
     "text": [
      "C:\\Users\\user\\Anaconda3\\lib\\site-packages\\IPython\\core\\interactiveshell.py:3020: DtypeWarning: Columns (17,21,22) have mixed types. Specify dtype option on import or set low_memory=False.\n",
      "  interactivity=interactivity, compiler=compiler, result=result)\n"
     ]
    }
   ],
   "source": [
    "train_df = pd.read_csv(\"train.csv\", encoding=\"Big5\")\n",
    "test_df = pd.read_csv(\"test.csv\", encoding=\"Big5\")"
   ]
  },
  {
   "cell_type": "code",
   "execution_count": 3,
   "metadata": {},
   "outputs": [
    {
     "data": {
      "text/html": [
       "<div>\n",
       "<style scoped>\n",
       "    .dataframe tbody tr th:only-of-type {\n",
       "        vertical-align: middle;\n",
       "    }\n",
       "\n",
       "    .dataframe tbody tr th {\n",
       "        vertical-align: top;\n",
       "    }\n",
       "\n",
       "    .dataframe thead th {\n",
       "        text-align: right;\n",
       "    }\n",
       "</style>\n",
       "<table border=\"1\" class=\"dataframe\">\n",
       "  <thead>\n",
       "    <tr style=\"text-align: right;\">\n",
       "      <th></th>\n",
       "      <th>CUS_ID</th>\n",
       "      <th>GENDER</th>\n",
       "      <th>AGE</th>\n",
       "      <th>CHARGE_CITY_CD</th>\n",
       "      <th>CONTACT_CITY_CD</th>\n",
       "      <th>EDUCATION_CD</th>\n",
       "      <th>MARRIAGE_CD</th>\n",
       "      <th>LAST_A_CCONTACT_DT</th>\n",
       "      <th>L1YR_A_ISSUE_CNT</th>\n",
       "      <th>LAST_A_ISSUE_DT</th>\n",
       "      <th>...</th>\n",
       "      <th>L1YR_GROSS_PRE_AMT</th>\n",
       "      <th>CUST_9_SEGMENTS_CD</th>\n",
       "      <th>FINANCETOOLS_A</th>\n",
       "      <th>FINANCETOOLS_B</th>\n",
       "      <th>FINANCETOOLS_C</th>\n",
       "      <th>FINANCETOOLS_D</th>\n",
       "      <th>FINANCETOOLS_E</th>\n",
       "      <th>FINANCETOOLS_F</th>\n",
       "      <th>FINANCETOOLS_G</th>\n",
       "      <th>Y1</th>\n",
       "    </tr>\n",
       "  </thead>\n",
       "  <tbody>\n",
       "    <tr>\n",
       "      <th>0</th>\n",
       "      <td>3418</td>\n",
       "      <td>M</td>\n",
       "      <td>低</td>\n",
       "      <td>A1</td>\n",
       "      <td>A1</td>\n",
       "      <td>NaN</td>\n",
       "      <td>NaN</td>\n",
       "      <td>Y</td>\n",
       "      <td>0</td>\n",
       "      <td>N</td>\n",
       "      <td>...</td>\n",
       "      <td>0.000174</td>\n",
       "      <td>C</td>\n",
       "      <td>NaN</td>\n",
       "      <td>NaN</td>\n",
       "      <td>NaN</td>\n",
       "      <td>NaN</td>\n",
       "      <td>NaN</td>\n",
       "      <td>NaN</td>\n",
       "      <td>NaN</td>\n",
       "      <td>N</td>\n",
       "    </tr>\n",
       "    <tr>\n",
       "      <th>1</th>\n",
       "      <td>4302</td>\n",
       "      <td>M</td>\n",
       "      <td>低</td>\n",
       "      <td>A1</td>\n",
       "      <td>A1</td>\n",
       "      <td>NaN</td>\n",
       "      <td>NaN</td>\n",
       "      <td>Y</td>\n",
       "      <td>0</td>\n",
       "      <td>N</td>\n",
       "      <td>...</td>\n",
       "      <td>0.008724</td>\n",
       "      <td>A</td>\n",
       "      <td>NaN</td>\n",
       "      <td>NaN</td>\n",
       "      <td>NaN</td>\n",
       "      <td>NaN</td>\n",
       "      <td>NaN</td>\n",
       "      <td>NaN</td>\n",
       "      <td>NaN</td>\n",
       "      <td>N</td>\n",
       "    </tr>\n",
       "    <tr>\n",
       "      <th>2</th>\n",
       "      <td>5545</td>\n",
       "      <td>M</td>\n",
       "      <td>低</td>\n",
       "      <td>A1</td>\n",
       "      <td>A1</td>\n",
       "      <td>1.0</td>\n",
       "      <td>0.0</td>\n",
       "      <td>Y</td>\n",
       "      <td>1</td>\n",
       "      <td>Y</td>\n",
       "      <td>...</td>\n",
       "      <td>0.005359</td>\n",
       "      <td>A</td>\n",
       "      <td>Y</td>\n",
       "      <td>N</td>\n",
       "      <td>N</td>\n",
       "      <td>N</td>\n",
       "      <td>N</td>\n",
       "      <td>N</td>\n",
       "      <td>N</td>\n",
       "      <td>N</td>\n",
       "    </tr>\n",
       "    <tr>\n",
       "      <th>3</th>\n",
       "      <td>7207</td>\n",
       "      <td>M</td>\n",
       "      <td>低</td>\n",
       "      <td>A1</td>\n",
       "      <td>A1</td>\n",
       "      <td>NaN</td>\n",
       "      <td>0.0</td>\n",
       "      <td>Y</td>\n",
       "      <td>0</td>\n",
       "      <td>N</td>\n",
       "      <td>...</td>\n",
       "      <td>0.000000</td>\n",
       "      <td>C</td>\n",
       "      <td>NaN</td>\n",
       "      <td>NaN</td>\n",
       "      <td>NaN</td>\n",
       "      <td>NaN</td>\n",
       "      <td>NaN</td>\n",
       "      <td>NaN</td>\n",
       "      <td>NaN</td>\n",
       "      <td>N</td>\n",
       "    </tr>\n",
       "    <tr>\n",
       "      <th>4</th>\n",
       "      <td>7213</td>\n",
       "      <td>M</td>\n",
       "      <td>低</td>\n",
       "      <td>A1</td>\n",
       "      <td>A1</td>\n",
       "      <td>1.0</td>\n",
       "      <td>0.0</td>\n",
       "      <td>N</td>\n",
       "      <td>0</td>\n",
       "      <td>N</td>\n",
       "      <td>...</td>\n",
       "      <td>0.000603</td>\n",
       "      <td>C</td>\n",
       "      <td>NaN</td>\n",
       "      <td>NaN</td>\n",
       "      <td>NaN</td>\n",
       "      <td>NaN</td>\n",
       "      <td>NaN</td>\n",
       "      <td>NaN</td>\n",
       "      <td>NaN</td>\n",
       "      <td>N</td>\n",
       "    </tr>\n",
       "  </tbody>\n",
       "</table>\n",
       "<p>5 rows × 132 columns</p>\n",
       "</div>"
      ],
      "text/plain": [
       "   CUS_ID GENDER AGE CHARGE_CITY_CD CONTACT_CITY_CD  EDUCATION_CD  \\\n",
       "0    3418      M   低             A1              A1           NaN   \n",
       "1    4302      M   低             A1              A1           NaN   \n",
       "2    5545      M   低             A1              A1           1.0   \n",
       "3    7207      M   低             A1              A1           NaN   \n",
       "4    7213      M   低             A1              A1           1.0   \n",
       "\n",
       "   MARRIAGE_CD LAST_A_CCONTACT_DT  L1YR_A_ISSUE_CNT LAST_A_ISSUE_DT ...  \\\n",
       "0          NaN                  Y                 0               N ...   \n",
       "1          NaN                  Y                 0               N ...   \n",
       "2          0.0                  Y                 1               Y ...   \n",
       "3          0.0                  Y                 0               N ...   \n",
       "4          0.0                  N                 0               N ...   \n",
       "\n",
       "   L1YR_GROSS_PRE_AMT CUST_9_SEGMENTS_CD  FINANCETOOLS_A  FINANCETOOLS_B  \\\n",
       "0            0.000174                  C             NaN             NaN   \n",
       "1            0.008724                  A             NaN             NaN   \n",
       "2            0.005359                  A               Y               N   \n",
       "3            0.000000                  C             NaN             NaN   \n",
       "4            0.000603                  C             NaN             NaN   \n",
       "\n",
       "   FINANCETOOLS_C  FINANCETOOLS_D  FINANCETOOLS_E FINANCETOOLS_F  \\\n",
       "0             NaN             NaN             NaN            NaN   \n",
       "1             NaN             NaN             NaN            NaN   \n",
       "2               N               N               N              N   \n",
       "3             NaN             NaN             NaN            NaN   \n",
       "4             NaN             NaN             NaN            NaN   \n",
       "\n",
       "  FINANCETOOLS_G Y1  \n",
       "0            NaN  N  \n",
       "1            NaN  N  \n",
       "2              N  N  \n",
       "3            NaN  N  \n",
       "4            NaN  N  \n",
       "\n",
       "[5 rows x 132 columns]"
      ]
     },
     "execution_count": 3,
     "metadata": {},
     "output_type": "execute_result"
    }
   ],
   "source": [
    "train_df.head()"
   ]
  },
  {
   "cell_type": "code",
   "execution_count": 5,
   "metadata": {},
   "outputs": [
    {
     "data": {
      "text/plain": [
       "低     27213\n",
       "中     27148\n",
       "高     23902\n",
       "中高    21737\n",
       "Name: AGE, dtype: int64"
      ]
     },
     "execution_count": 5,
     "metadata": {},
     "output_type": "execute_result"
    }
   ],
   "source": [
    "train_df[\"AGE\"].value_counts()"
   ]
  },
  {
   "cell_type": "code",
   "execution_count": 140,
   "metadata": {},
   "outputs": [
    {
     "name": "stdout",
     "output_type": "stream",
     "text": [
      "<class 'pandas.core.frame.DataFrame'>\n",
      "RangeIndex: 100000 entries, 0 to 99999\n",
      "Data columns (total 132 columns):\n",
      "CUS_ID                       100000 non-null int64\n",
      "GENDER                       99317 non-null object\n",
      "AGE                          100000 non-null object\n",
      "CHARGE_CITY_CD               100000 non-null object\n",
      "CONTACT_CITY_CD              100000 non-null object\n",
      "EDUCATION_CD                 79438 non-null float64\n",
      "MARRIAGE_CD                  92049 non-null float64\n",
      "LAST_A_CCONTACT_DT           100000 non-null object\n",
      "L1YR_A_ISSUE_CNT             100000 non-null int64\n",
      "LAST_A_ISSUE_DT              100000 non-null object\n",
      "L1YR_B_ISSUE_CNT             100000 non-null int64\n",
      "LAST_B_ISSUE_DT              100000 non-null object\n",
      "CHANNEL_A_POL_CNT            100000 non-null int64\n",
      "CHANNEL_B_POL_CNT            100000 non-null int64\n",
      "OCCUPATION_CLASS_CD          96040 non-null float64\n",
      "APC_CNT                      100000 non-null int64\n",
      "INSD_CNT                     100000 non-null int64\n",
      "APC_1ST_AGE                  56718 non-null object\n",
      "INSD_1ST_AGE                 99829 non-null object\n",
      "IF_2ND_GEN_IND               100000 non-null object\n",
      "APC_1ST_YEARDIF              56718 non-null float64\n",
      "RFM_R                        56706 non-null object\n",
      "REBUY_TIMES_CNT              56718 non-null object\n",
      "LEVEL                        56695 non-null float64\n",
      "RFM_M_LEVEL                  56718 non-null float64\n",
      "LIFE_CNT                     100000 non-null object\n",
      "IF_ISSUE_A_IND               100000 non-null object\n",
      "IF_ISSUE_B_IND               100000 non-null object\n",
      "IF_ISSUE_C_IND               100000 non-null object\n",
      "IF_ISSUE_D_IND               100000 non-null object\n",
      "IF_ISSUE_E_IND               100000 non-null object\n",
      "IF_ISSUE_F_IND               100000 non-null object\n",
      "IF_ISSUE_G_IND               100000 non-null object\n",
      "IF_ISSUE_H_IND               100000 non-null object\n",
      "IF_ISSUE_I_IND               100000 non-null object\n",
      "IF_ISSUE_J_IND               100000 non-null object\n",
      "IF_ISSUE_K_IND               100000 non-null object\n",
      "IF_ISSUE_L_IND               100000 non-null object\n",
      "IF_ISSUE_M_IND               100000 non-null object\n",
      "IF_ISSUE_N_IND               100000 non-null object\n",
      "IF_ISSUE_O_IND               100000 non-null object\n",
      "IF_ISSUE_P_IND               100000 non-null object\n",
      "IF_ISSUE_Q_IND               100000 non-null object\n",
      "IF_ADD_F_IND                 100000 non-null object\n",
      "IF_ADD_L_IND                 100000 non-null object\n",
      "IF_ADD_Q_IND                 100000 non-null object\n",
      "IF_ADD_G_IND                 100000 non-null object\n",
      "IF_ADD_R_IND                 100000 non-null object\n",
      "IF_ADD_IND                   100000 non-null object\n",
      "ANNUAL_PREMIUM_AMT           37555 non-null float64\n",
      "AG_CNT                       100000 non-null int64\n",
      "AG_NOW_CNT                   100000 non-null int64\n",
      "CLC_CUR_NUM                  100000 non-null int64\n",
      "ANNUAL_INCOME_AMT            60799 non-null float64\n",
      "L1YR_PAYMENT_REMINDER_IND    100000 non-null object\n",
      "L1YR_LAPSE_IND               100000 non-null object\n",
      "LAST_B_CONTACT_DT            100000 non-null object\n",
      "A_IND                        20129 non-null object\n",
      "B_IND                        20129 non-null object\n",
      "C_IND                        20129 non-null object\n",
      "LAST_C_DT                    100000 non-null object\n",
      "L1YR_C_CNT                   12064 non-null float64\n",
      "BANK_NUMBER_CNT              100000 non-null float64\n",
      "INSD_LAST_YEARDIF_CNT        99829 non-null float64\n",
      "BMI                          83355 non-null float64\n",
      "IF_S_REAL_IND                100000 non-null object\n",
      "IF_Y_REAL_IND                100000 non-null object\n",
      "IM_CNT                       100000 non-null int64\n",
      "IM_IS_A_IND                  100000 non-null object\n",
      "IM_IS_B_IND                  100000 non-null object\n",
      "IM_IS_C_IND                  100000 non-null object\n",
      "IM_IS_D_IND                  100000 non-null object\n",
      "TERMINATION_RATE             56718 non-null float64\n",
      "X_A_IND                      99962 non-null object\n",
      "X_B_IND                      99962 non-null object\n",
      "X_C_IND                      99962 non-null object\n",
      "X_D_IND                      99962 non-null object\n",
      "X_E_IND                      99962 non-null object\n",
      "X_F_IND                      99962 non-null object\n",
      "X_G_IND                      99962 non-null object\n",
      "X_H_IND                      99962 non-null object\n",
      "TOOL_VISIT_1YEAR_CNT         100000 non-null int64\n",
      "DIEBENEFIT_AMT               72460 non-null float64\n",
      "DIEACCIDENT_AMT              72460 non-null float64\n",
      "POLICY_VALUE_AMT             72460 non-null float64\n",
      "ANNUITY_AMT                  72460 non-null float64\n",
      "EXPIRATION_AMT               72460 non-null float64\n",
      "ACCIDENT_HOSPITAL_REC_AMT    72460 non-null float64\n",
      "DISEASES_HOSPITAL_REC_AMT    72460 non-null float64\n",
      "OUTPATIENT_SURGERY_AMT       72460 non-null float64\n",
      "INPATIENT_SURGERY_AMT        72460 non-null float64\n",
      "PAY_LIMIT_MED_MISC_AMT       72460 non-null float64\n",
      "FIRST_CANCER_AMT             72460 non-null float64\n",
      "ILL_ACCELERATION_AMT         72460 non-null float64\n",
      "ILL_ADDITIONAL_AMT           72460 non-null float64\n",
      "LONG_TERM_CARE_AMT           72460 non-null float64\n",
      "MONTHLY_CARE_AMT             72460 non-null float64\n",
      "IF_HOUSEHOLD_CLAIM_IND       100000 non-null object\n",
      "LIFE_INSD_CNT                100000 non-null float64\n",
      "IF_ISSUE_INSD_A_IND          79917 non-null object\n",
      "IF_ISSUE_INSD_B_IND          79917 non-null object\n",
      "IF_ISSUE_INSD_C_IND          79917 non-null object\n",
      "IF_ISSUE_INSD_D_IND          79917 non-null object\n",
      "IF_ISSUE_INSD_E_IND          79917 non-null object\n",
      "IF_ISSUE_INSD_F_IND          79917 non-null object\n",
      "IF_ISSUE_INSD_G_IND          79917 non-null object\n",
      "IF_ISSUE_INSD_H_IND          79917 non-null object\n",
      "IF_ISSUE_INSD_I_IND          79917 non-null object\n",
      "IF_ISSUE_INSD_J_IND          79917 non-null object\n",
      "IF_ISSUE_INSD_K_IND          79917 non-null object\n",
      "IF_ISSUE_INSD_L_IND          79917 non-null object\n",
      "IF_ISSUE_INSD_M_IND          79917 non-null object\n",
      "IF_ISSUE_INSD_N_IND          79917 non-null object\n",
      "IF_ISSUE_INSD_O_IND          79917 non-null object\n",
      "IF_ISSUE_INSD_P_IND          79917 non-null object\n",
      "IF_ISSUE_INSD_Q_IND          79917 non-null object\n",
      "IF_ADD_INSD_F_IND            48152 non-null object\n",
      "IF_ADD_INSD_L_IND            48152 non-null object\n",
      "IF_ADD_INSD_Q_IND            48152 non-null object\n",
      "IF_ADD_INSD_G_IND            48152 non-null object\n",
      "IF_ADD_INSD_R_IND            48152 non-null object\n",
      "IF_ADD_INSD_IND              99829 non-null object\n",
      "L1YR_GROSS_PRE_AMT           100000 non-null float64\n",
      "CUST_9_SEGMENTS_CD           100000 non-null object\n",
      "FINANCETOOLS_A               37359 non-null object\n",
      "FINANCETOOLS_B               37359 non-null object\n",
      "FINANCETOOLS_C               37359 non-null object\n",
      "FINANCETOOLS_D               37359 non-null object\n",
      "FINANCETOOLS_E               37359 non-null object\n",
      "FINANCETOOLS_F               37359 non-null object\n",
      "FINANCETOOLS_G               37359 non-null object\n",
      "Y1                           100000 non-null object\n",
      "dtypes: float64(30), int64(12), object(90)\n",
      "memory usage: 100.7+ MB\n"
     ]
    }
   ],
   "source": [
    "train_df.info(max_cols=150)"
   ]
  },
  {
   "cell_type": "code",
   "execution_count": 15,
   "metadata": {},
   "outputs": [
    {
     "name": "stdout",
     "output_type": "stream",
     "text": [
      "<class 'pandas.core.frame.DataFrame'>\n",
      "RangeIndex: 150000 entries, 0 to 149999\n",
      "Columns: 131 entries, CUS_ID to FINANCETOOLS_G\n",
      "dtypes: float64(30), int64(12), object(89)\n",
      "memory usage: 149.9+ MB\n"
     ]
    }
   ],
   "source": [
    "test_df.info()"
   ]
  },
  {
   "cell_type": "code",
   "execution_count": 14,
   "metadata": {},
   "outputs": [
    {
     "data": {
      "text/plain": [
       "N    98000\n",
       "Y     2000\n",
       "Name: Y1, dtype: int64"
      ]
     },
     "execution_count": 14,
     "metadata": {},
     "output_type": "execute_result"
    }
   ],
   "source": [
    "train_df[\"Y1\"].value_counts()"
   ]
  },
  {
   "cell_type": "code",
   "execution_count": 18,
   "metadata": {},
   "outputs": [
    {
     "data": {
      "text/plain": [
       "<matplotlib.axes._subplots.AxesSubplot at 0x2311ebee2e8>"
      ]
     },
     "execution_count": 18,
     "metadata": {},
     "output_type": "execute_result"
    },
    {
     "data": {
      "image/png": "[encoded data removed]",
      "text/plain": [
       "<Figure size 432x288 with 1 Axes>"
      ]
     },
     "metadata": {
      "needs_background": "light"
     },
     "output_type": "display_data"
    }
   ],
   "source": [
    "sns.countplot(train_df[\"Y1\"], palette=\"viridis\")"
   ]
  },
  {
   "cell_type": "code",
   "execution_count": 61,
   "metadata": {},
   "outputs": [
    {
     "data": {
      "text/plain": [
       "1    52987\n",
       "0    39610\n",
       "2     7099\n",
       "3      294\n",
       "4       10\n",
       "Name: APC_CNT, dtype: int64"
      ]
     },
     "execution_count": 61,
     "metadata": {},
     "output_type": "execute_result"
    }
   ],
   "source": [
    "train_df[\"APC_CNT\"].value_counts()"
   ]
  },
  {
   "cell_type": "code",
   "execution_count": 148,
   "metadata": {},
   "outputs": [
    {
     "data": {
      "text/plain": [
       "N    34308\n",
       "Y     3051\n",
       "Name: FINANCETOOLS_D, dtype: int64"
      ]
     },
     "execution_count": 148,
     "metadata": {},
     "output_type": "execute_result"
    }
   ],
   "source": [
    "train_df[\"FINANCETOOLS_D\"].value_counts() "
   ]
  },
  {
   "cell_type": "code",
   "execution_count": 141,
   "metadata": {},
   "outputs": [
    {
     "data": {
      "text/plain": [
       "<matplotlib.axes._subplots.AxesSubplot at 0x23127b647f0>"
      ]
     },
     "execution_count": 141,
     "metadata": {},
     "output_type": "execute_result"
    },
    {
     "data": {
      "image/png": "[encoded data removed]",
      "text/plain": [
       "<Figure size 1080x360 with 1 Axes>"
      ]
     },
     "metadata": {
      "needs_background": "light"
     },
     "output_type": "display_data"
    }
   ],
   "source": [
    "# Nan figure(red:Nan)\n",
    "plt.figure(figsize=[15, 5])\n",
    "sns.heatmap(train_df.isnull(), yticklabels=False, cbar=False, cmap='coolwarm')"
   ]
  },
  {
   "cell_type": "code",
   "execution_count": 16,
   "metadata": {},
   "outputs": [
    {
     "data": {
      "text/plain": [
       "True"
      ]
     },
     "execution_count": 16,
     "metadata": {},
     "output_type": "execute_result"
    }
   ],
   "source": [
    "# columns of test and train dataset are the same\n",
    "sum(test_df.columns == train_df.drop(\"Y1\", axis=1).columns) == 131"
   ]
  },
  {
   "cell_type": "code",
   "execution_count": 17,
   "metadata": {},
   "outputs": [
    {
     "name": "stdout",
     "output_type": "stream",
     "text": [
      "True\n",
      "True\n"
     ]
    }
   ],
   "source": [
    "# Id are all different in test dataset and train dataset\n",
    "print(test_df[\"CUS_ID\"].value_counts().max() == test_df[\"CUS_ID\"].value_counts().min() == 1)\n",
    "print(train_df[\"CUS_ID\"].value_counts().max() == train_df[\"CUS_ID\"].value_counts().min() == 1)"
   ]
  },
  {
   "cell_type": "code",
   "execution_count": 13,
   "metadata": {},
   "outputs": [],
   "source": [
    "a = train_df.columns[pd.isnull(train_df).sum() != 0]"
   ]
  },
  {
   "cell_type": "code",
   "execution_count": 12,
   "metadata": {},
   "outputs": [],
   "source": [
    "b = test_df.columns[pd.isnull(test_df).sum() != 0]"
   ]
  },
  {
   "cell_type": "code",
   "execution_count": 14,
   "metadata": {},
   "outputs": [
    {
     "data": {
      "text/plain": [
       "array([ True,  True,  True,  True,  True,  True,  True,  True,  True,\n",
       "        True,  True,  True,  True,  True,  True,  True,  True,  True,\n",
       "        True,  True,  True,  True,  True,  True,  True,  True,  True,\n",
       "        True,  True,  True,  True,  True,  True,  True,  True,  True,\n",
       "        True,  True,  True,  True,  True,  True,  True,  True,  True,\n",
       "        True,  True,  True,  True,  True,  True,  True,  True,  True,\n",
       "        True,  True,  True,  True,  True,  True,  True,  True,  True,\n",
       "        True,  True,  True,  True,  True,  True,  True,  True,  True,\n",
       "        True])"
      ]
     },
     "execution_count": 14,
     "metadata": {},
     "output_type": "execute_result"
    }
   ],
   "source": [
    "# 有遺失值得欄位完全相同\n",
    "a == b"
   ]
  }
 ],
 "metadata": {
  "kernelspec": {
   "display_name": "Python 3",
   "language": "python",
   "name": "python3"
  },
  "language_info": {
   "codemirror_mode": {
    "name": "ipython",
    "version": 3
   },
   "file_extension": ".py",
   "mimetype": "text/x-python",
   "name": "python",
   "nbconvert_exporter": "python",
   "pygments_lexer": "ipython3",
   "version": "3.7.1"
  }
 },
 "nbformat": 4,
 "nbformat_minor": 2
}
