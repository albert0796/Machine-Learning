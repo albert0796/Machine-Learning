{
 "cells": [
  {
   "cell_type": "code",
   "execution_count": 1,
   "metadata": {},
   "outputs": [
    {
     "name": "stderr",
     "output_type": "stream",
     "text": [
      "WARNING:root:TensorFlow version 1.10.0 detected. Last version known to be fully compatible is 1.5.0 .\n"
     ]
    }
   ],
   "source": [
    "import coremltools\n",
    "from keras.models import load_model\n",
    "import keras\n",
    "from keras.applications import MobileNet\n",
    "from keras.layers import DepthwiseConv2D\n",
    "from keras.utils.generic_utils import CustomObjectScope\n",
    "\n",
    "with CustomObjectScope({'relu6': keras.applications.mobilenet.relu6,'DepthwiseConv2D': keras.applications.mobilenet.DepthwiseConv2D}):\n",
    "    model = load_model('/Users/cloud/Desktop/MobileNet_Condition01_SaveBest_5to10_03.h5')"
   ]
  },
  {
   "cell_type": "code",
   "execution_count": 2,
   "metadata": {},
   "outputs": [
    {
     "name": "stdout",
     "output_type": "stream",
     "text": [
      "20\n",
      "0 : input_1, <keras.engine.topology.InputLayer object at 0x12187b5c0>\n",
      "1 : conv1_pad, <keras.layers.convolutional.ZeroPadding2D object at 0x12187b630>\n",
      "2 : conv1, <keras.layers.convolutional.Conv2D object at 0x12187bb38>\n",
      "3 : conv1_bn, <keras.layers.normalization.BatchNormalization object at 0x12187b8d0>\n",
      "4 : conv1_relu, <keras.layers.core.Activation object at 0x12187b9e8>\n",
      "5 : conv_pad_1, <keras.layers.convolutional.ZeroPadding2D object at 0x12187bcf8>\n",
      "6 : conv_dw_1, <keras.layers.convolutional.DepthwiseConv2D object at 0x12187bd30>\n",
      "7 : conv_dw_1_bn, <keras.layers.normalization.BatchNormalization object at 0x12187bda0>\n",
      "8 : conv_dw_1_relu, <keras.layers.core.Activation object at 0x12187be10>\n",
      "9 : conv_pw_1, <keras.layers.convolutional.Conv2D object at 0x121915160>\n",
      "10 : conv_pw_1_bn, <keras.layers.normalization.BatchNormalization object at 0x1219152b0>\n",
      "11 : conv_pw_1_relu, <keras.layers.core.Activation object at 0x121915400>\n",
      "12 : conv_pad_2, <keras.layers.convolutional.ZeroPadding2D object at 0x121915438>\n",
      "13 : conv_dw_2, <keras.layers.convolutional.DepthwiseConv2D object at 0x1219154a8>\n",
      "14 : conv_dw_2_bn, <keras.layers.normalization.BatchNormalization object at 0x121915518>\n",
      "15 : conv_dw_2_relu, <keras.layers.core.Activation object at 0x1219157f0>\n",
      "16 : conv_pw_2, <keras.layers.convolutional.Conv2D object at 0x121915828>\n",
      "17 : conv_pw_2_bn, <keras.layers.normalization.BatchNormalization object at 0x121915978>\n",
      "18 : conv_pw_2_relu, <keras.layers.core.Activation object at 0x121915ac8>\n",
      "19 : conv_pad_3, <keras.layers.convolutional.ZeroPadding2D object at 0x121915b00>\n",
      "20 : conv_dw_3, <keras.layers.convolutional.DepthwiseConv2D object at 0x121915b70>\n",
      "21 : conv_dw_3_bn, <keras.layers.normalization.BatchNormalization object at 0x121915be0>\n",
      "22 : conv_dw_3_relu, <keras.layers.core.Activation object at 0x121915eb8>\n",
      "23 : conv_pw_3, <keras.layers.convolutional.Conv2D object at 0x121915ef0>\n",
      "24 : conv_pw_3_bn, <keras.layers.normalization.BatchNormalization object at 0x12187bf60>\n",
      "25 : conv_pw_3_relu, <keras.layers.core.Activation object at 0x12191c1d0>\n",
      "26 : conv_pad_4, <keras.layers.convolutional.ZeroPadding2D object at 0x12191c208>\n",
      "27 : conv_dw_4, <keras.layers.convolutional.DepthwiseConv2D object at 0x12191c278>\n",
      "28 : conv_dw_4_bn, <keras.layers.normalization.BatchNormalization object at 0x12191c2e8>\n",
      "29 : conv_dw_4_relu, <keras.layers.core.Activation object at 0x12191c5c0>\n",
      "30 : conv_pw_4, <keras.layers.convolutional.Conv2D object at 0x12191c5f8>\n",
      "31 : conv_pw_4_bn, <keras.layers.normalization.BatchNormalization object at 0x12191c748>\n",
      "32 : conv_pw_4_relu, <keras.layers.core.Activation object at 0x12191c898>\n",
      "33 : conv_pad_5, <keras.layers.convolutional.ZeroPadding2D object at 0x12191c8d0>\n",
      "34 : conv_dw_5, <keras.layers.convolutional.DepthwiseConv2D object at 0x12191c940>\n",
      "35 : conv_dw_5_bn, <keras.layers.normalization.BatchNormalization object at 0x12191c9b0>\n",
      "36 : conv_dw_5_relu, <keras.layers.core.Activation object at 0x12191cc88>\n",
      "37 : conv_pw_5, <keras.layers.convolutional.Conv2D object at 0x12191ccc0>\n",
      "38 : conv_pw_5_bn, <keras.layers.normalization.BatchNormalization object at 0x12191ce10>\n",
      "39 : conv_pw_5_relu, <keras.layers.core.Activation object at 0x12191cf60>\n",
      "40 : conv_pad_6, <keras.layers.convolutional.ZeroPadding2D object at 0x12191cf98>\n",
      "41 : conv_dw_6, <keras.layers.convolutional.DepthwiseConv2D object at 0x121924048>\n",
      "42 : conv_dw_6_bn, <keras.layers.normalization.BatchNormalization object at 0x1219240b8>\n",
      "43 : conv_dw_6_relu, <keras.layers.core.Activation object at 0x121924390>\n",
      "44 : conv_pw_6, <keras.layers.convolutional.Conv2D object at 0x1219243c8>\n",
      "45 : conv_pw_6_bn, <keras.layers.normalization.BatchNormalization object at 0x121924518>\n",
      "46 : conv_pw_6_relu, <keras.layers.core.Activation object at 0x121924668>\n",
      "47 : conv_pad_7, <keras.layers.convolutional.ZeroPadding2D object at 0x1219246a0>\n",
      "48 : conv_dw_7, <keras.layers.convolutional.DepthwiseConv2D object at 0x121924710>\n",
      "49 : conv_dw_7_bn, <keras.layers.normalization.BatchNormalization object at 0x121924780>\n",
      "50 : conv_dw_7_relu, <keras.layers.core.Activation object at 0x121924a58>\n",
      "51 : conv_pw_7, <keras.layers.convolutional.Conv2D object at 0x121924a90>\n",
      "52 : conv_pw_7_bn, <keras.layers.normalization.BatchNormalization object at 0x121924be0>\n",
      "53 : conv_pw_7_relu, <keras.layers.core.Activation object at 0x121924d30>\n",
      "54 : conv_pad_8, <keras.layers.convolutional.ZeroPadding2D object at 0x121924d68>\n",
      "55 : conv_dw_8, <keras.layers.convolutional.DepthwiseConv2D object at 0x121924dd8>\n",
      "56 : conv_dw_8_bn, <keras.layers.normalization.BatchNormalization object at 0x121924e48>\n",
      "57 : conv_dw_8_relu, <keras.layers.core.Activation object at 0x121915f98>\n",
      "58 : conv_pw_8, <keras.layers.convolutional.Conv2D object at 0x12192b198>\n",
      "59 : conv_pw_8_bn, <keras.layers.normalization.BatchNormalization object at 0x12192b2e8>\n",
      "60 : conv_pw_8_relu, <keras.layers.core.Activation object at 0x12192b438>\n",
      "61 : conv_pad_9, <keras.layers.convolutional.ZeroPadding2D object at 0x12192b470>\n",
      "62 : conv_dw_9, <keras.layers.convolutional.DepthwiseConv2D object at 0x12192b4e0>\n",
      "63 : conv_dw_9_bn, <keras.layers.normalization.BatchNormalization object at 0x12192b550>\n",
      "64 : conv_dw_9_relu, <keras.layers.core.Activation object at 0x12192b828>\n",
      "65 : conv_pw_9, <keras.layers.convolutional.Conv2D object at 0x12192b860>\n",
      "66 : conv_pw_9_bn, <keras.layers.normalization.BatchNormalization object at 0x12192b9b0>\n",
      "67 : conv_pw_9_relu, <keras.layers.core.Activation object at 0x12192bb00>\n",
      "68 : conv_pad_10, <keras.layers.convolutional.ZeroPadding2D object at 0x12192bb38>\n",
      "69 : conv_dw_10, <keras.layers.convolutional.DepthwiseConv2D object at 0x12192bba8>\n",
      "70 : conv_dw_10_bn, <keras.layers.normalization.BatchNormalization object at 0x12192bc18>\n",
      "71 : conv_dw_10_relu, <keras.layers.core.Activation object at 0x12192bef0>\n",
      "72 : conv_pw_10, <keras.layers.convolutional.Conv2D object at 0x12192bf28>\n",
      "73 : conv_pw_10_bn, <keras.layers.normalization.BatchNormalization object at 0x121924f98>\n",
      "74 : conv_pw_10_relu, <keras.layers.core.Activation object at 0x121932208>\n",
      "75 : conv_pad_11, <keras.layers.convolutional.ZeroPadding2D object at 0x121932240>\n",
      "76 : conv_dw_11, <keras.layers.convolutional.DepthwiseConv2D object at 0x1219322b0>\n",
      "77 : conv_dw_11_bn, <keras.layers.normalization.BatchNormalization object at 0x121932320>\n",
      "78 : conv_dw_11_relu, <keras.layers.core.Activation object at 0x1219325f8>\n",
      "79 : conv_pw_11, <keras.layers.convolutional.Conv2D object at 0x121932630>\n",
      "80 : conv_pw_11_bn, <keras.layers.normalization.BatchNormalization object at 0x121932780>\n",
      "81 : conv_pw_11_relu, <keras.layers.core.Activation object at 0x1219328d0>\n",
      "82 : conv_pad_12, <keras.layers.convolutional.ZeroPadding2D object at 0x121932908>\n",
      "83 : conv_dw_12, <keras.layers.convolutional.DepthwiseConv2D object at 0x121932978>\n",
      "84 : conv_dw_12_bn, <keras.layers.normalization.BatchNormalization object at 0x1219329e8>\n",
      "85 : conv_dw_12_relu, <keras.layers.core.Activation object at 0x121932cc0>\n",
      "86 : conv_pw_12, <keras.layers.convolutional.Conv2D object at 0x121932cf8>\n",
      "87 : conv_pw_12_bn, <keras.layers.normalization.BatchNormalization object at 0x121932e48>\n",
      "88 : conv_pw_12_relu, <keras.layers.core.Activation object at 0x121932f98>\n",
      "89 : conv_pad_13, <keras.layers.convolutional.ZeroPadding2D object at 0x12192bfd0>\n",
      "90 : conv_dw_13, <keras.layers.convolutional.DepthwiseConv2D object at 0x12193a080>\n",
      "91 : conv_dw_13_bn, <keras.layers.normalization.BatchNormalization object at 0x12193a0f0>\n",
      "92 : conv_dw_13_relu, <keras.layers.core.Activation object at 0x12193a3c8>\n",
      "93 : conv_pw_13, <keras.layers.convolutional.Conv2D object at 0x12193a400>\n",
      "94 : conv_pw_13_bn, <keras.layers.normalization.BatchNormalization object at 0x12193a550>\n",
      "95 : conv_pw_13_relu, <keras.layers.core.Activation object at 0x12193a6a0>\n",
      "96 : flatten_1, <keras.layers.core.Flatten object at 0x12193a6d8>\n",
      "97 : batch_normalization_1, <keras.layers.normalization.BatchNormalization object at 0x12193a748>\n",
      "98 : dense_1, <keras.layers.core.Dense object at 0x12193a860>\n",
      "99 : dense_1__activation__, <keras.layers.core.Activation object at 0x126304d30>\n",
      "100 : batch_normalization_2, <keras.layers.normalization.BatchNormalization object at 0x12193aa58>\n",
      "101 : dense_2, <keras.layers.core.Dense object at 0x12193ab70>\n",
      "102 : activation_1, <keras.layers.core.Activation object at 0x12193acc0>\n"
     ]
    }
   ],
   "source": [
    "output_labels = ['遊樂園', '海灘', '植物園', '橋', '建築立面', '峽谷',  '懸崖', '溪流', '森林_闊葉', '小島', '湖_天然', '草坪', '市場_戶外', \n",
    "                 '山', '山路', '博物館_戶外', '海洋', '碼頭', '摩天大樓', '廟_亞洲']\n",
    "\n",
    "print(len(output_labels))\n",
    "\n",
    "coreml_model = coremltools.converters.keras.convert(model,\n",
    "                                                    input_names=['image'],\n",
    "                                                    output_names=['output'],\n",
    "                                                    image_input_names='image',\n",
    "                                                    image_scale=1/255.0,\n",
    "                                                    class_labels= output_labels,\n",
    "                                                    is_bgr=True)"
   ]
  },
  {
   "cell_type": "code",
   "execution_count": 3,
   "metadata": {},
   "outputs": [],
   "source": [
    "coreml_model.author = 'Rex Lee'\n",
    "coreml_model.license = 'SCU'\n",
    "coreml_model.short_description = 'Image recognition 20 places'\n",
    "coreml_model.input_description['image'] = 'Digit image'\n",
    "coreml_model.output_description['output'] = 'Probability of each digit'\n",
    "coreml_model.output_description['classLabel'] = 'Labels of digits'"
   ]
  },
  {
   "cell_type": "code",
   "execution_count": 4,
   "metadata": {},
   "outputs": [],
   "source": [
    "coreml_model.save('/Users/cloud/Desktop/MobileNet_place20s.mlmodel')"
   ]
  },
  {
   "cell_type": "code",
   "execution_count": 5,
   "metadata": {},
   "outputs": [
    {
     "name": "stdout",
     "output_type": "stream",
     "text": [
      "input {\n",
      "  name: \"image\"\n",
      "  shortDescription: \"Digit image\"\n",
      "  type {\n",
      "    imageType {\n",
      "      width: 224\n",
      "      height: 224\n",
      "      colorSpace: BGR\n",
      "    }\n",
      "  }\n",
      "}\n",
      "output {\n",
      "  name: \"output\"\n",
      "  shortDescription: \"Probability of each digit\"\n",
      "  type {\n",
      "    dictionaryType {\n",
      "      stringKeyType {\n",
      "      }\n",
      "    }\n",
      "  }\n",
      "}\n",
      "output {\n",
      "  name: \"classLabel\"\n",
      "  shortDescription: \"Labels of digits\"\n",
      "  type {\n",
      "    stringType {\n",
      "    }\n",
      "  }\n",
      "}\n",
      "predictedFeatureName: \"classLabel\"\n",
      "predictedProbabilitiesName: \"output\"\n",
      "metadata {\n",
      "  shortDescription: \"Image recognition 20 places\"\n",
      "  author: \"Rex Lee\"\n",
      "  license: \"SCU\"\n",
      "}\n",
      "\n"
     ]
    }
   ],
   "source": [
    "print(coreml_model)"
   ]
  },
  {
   "cell_type": "code",
   "execution_count": null,
   "metadata": {},
   "outputs": [],
   "source": []
  }
 ],
 "metadata": {
  "kernelspec": {
   "display_name": "Python 3",
   "language": "python",
   "name": "python3"
  },
  "language_info": {
   "codemirror_mode": {
    "name": "ipython",
    "version": 3
   },
   "file_extension": ".py",
   "mimetype": "text/x-python",
   "name": "python",
   "nbconvert_exporter": "python",
   "pygments_lexer": "ipython3",
   "version": "3.6.5"
  }
 },
 "nbformat": 4,
 "nbformat_minor": 2
}
