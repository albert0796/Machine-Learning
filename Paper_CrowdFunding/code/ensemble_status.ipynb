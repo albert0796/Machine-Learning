{
 "cells": [
  {
   "cell_type": "markdown",
   "metadata": {},
   "source": [
    "### Path"
   ]
  },
  {
   "cell_type": "code",
   "execution_count": null,
   "metadata": {},
   "outputs": [],
   "source": [
    "import os\n",
    "os.chdir(r'C:\\Users\\user\\Desktop\\Data')"
   ]
  },
  {
   "cell_type": "markdown",
   "metadata": {},
   "source": [
    "### Package"
   ]
  },
  {
   "cell_type": "code",
   "execution_count": null,
   "metadata": {},
   "outputs": [],
   "source": [
    "import numpy as np\n",
    "import matplotlib.pyplot as plt\n",
    "import matplotlib\n",
    "import pandas as pd\n",
    "from sklearn.model_selection import train_test_split"
   ]
  },
  {
   "cell_type": "markdown",
   "metadata": {},
   "source": [
    "## Data"
   ]
  },
  {
   "cell_type": "code",
   "execution_count": null,
   "metadata": {},
   "outputs": [],
   "source": [
    "data = pd.read_csv(r'.\\mix_platforms_statue_preprocessing.csv', encoding='utf-8',low_memory=False)"
   ]
  },
  {
   "cell_type": "markdown",
   "metadata": {},
   "source": [
    "## Train Test Spliting"
   ]
  },
  {
   "cell_type": "code",
   "execution_count": null,
   "metadata": {},
   "outputs": [],
   "source": [
    "data_v1 = data.copy()"
   ]
  },
  {
   "cell_type": "code",
   "execution_count": null,
   "metadata": {},
   "outputs": [],
   "source": [
    "X = data_v1.drop(\"pledged_usd\", axis=1).values\n",
    "y = data_v1[\"pledged_usd\"].values.reshape(-1,1)"
   ]
  },
  {
   "cell_type": "code",
   "execution_count": null,
   "metadata": {},
   "outputs": [],
   "source": [
    "X_train, X_test, y_train, y_test = train_test_split(X, y, test_size=0.3, random_state=42, stratify=y)"
   ]
  },
  {
   "cell_type": "markdown",
   "metadata": {},
   "source": [
    "## Ensemble"
   ]
  },
  {
   "cell_type": "code",
   "execution_count": null,
   "metadata": {},
   "outputs": [],
   "source": [
    "import numpy as np\n",
    "from sklearn.model_selection import train_test_split\n",
    "from sklearn.calibration import CalibratedClassifierCV\n",
    "from sklearn.svm import LinearSVC\n",
    "from sklearn.linear_model import LogisticRegression\n",
    "from sklearn.tree import DecisionTreeClassifier\n",
    "from sklearn.metrics import roc_curve\n",
    "from sklearn.metrics import auc\n",
    "from sklearn.metrics import r2_score\n",
    "import pickle"
   ]
  },
  {
   "cell_type": "code",
   "execution_count": null,
   "metadata": {},
   "outputs": [],
   "source": [
    "class Stacking:\n",
    "    \n",
    "    def __init__(self, x_train, y_train, x_test, y_test, ls_model_stack, model_final, type_label):\n",
    "        self.trainx = x_train\n",
    "        self.trainy = y_train\n",
    "        self.testx = x_test\n",
    "        self.testy = y_test\n",
    "        self.ls_model_stack = ls_model_stack\n",
    "        self.model_final = model_final\n",
    "        self.type_label = type_label\n",
    "        self.trainx_stacking_input = None\n",
    "        self.trainy_stacking = None\n",
    "        self.trainx_final = None\n",
    "        self.trainy_final = None\n",
    "        self.trainx_final_input = None\n",
    "        self.testx_final_input = np.zeros((x_test.shape[0], len(ls_model_stack)))\n",
    "    \n",
    "    def spliting(self):\n",
    "        if self.type_label == 'discrete':\n",
    "            self.trainx_stacking_input, self.trainx_final, self.trainy_stacking, self.trainy_final = train_test_split (self.trainx, self.trainy, test_size= 0.3, random_state = 42, stratify = self.trainy)\n",
    "        elif self.type_label == 'continuous':\n",
    "            self.trainx_stacking_input, self.trainx_final, self.trainy_stacking, self.trainy_final = train_test_split (self.trainx, self.trainy, test_size= 0.3, random_state = 42)\n",
    "        self.trainx_final_input = np.zeros((self.trainx_final.shape[0], len(self.ls_model_stack)))   \n",
    "    \n",
    "    def modeling_stack_training(self):\n",
    "        for model, i in zip(self.ls_model_stack, range(len(self.ls_model_stack))):\n",
    "            model.fit(self.trainx_stacking_input, self.trainy_stacking)\n",
    "            output = model.predict(self.trainx_final)\n",
    "            self.trainx_final_input[:, i] = output\n",
    "            self.save_model(model, str(i))\n",
    "            \n",
    "    def modeling_final_training(self):\n",
    "        self.model_final.fit(self.trainx_final_input, self.trainy_final)\n",
    "        self.save_model(self.model_final, 'final')\n",
    "        \n",
    "    def predict_stack_testing(self):\n",
    "        for model, i in zip(self.ls_model_stack, range(len(self.ls_model_stack))):\n",
    "            output = model.predict(self.testx)\n",
    "            self.testx_final_input[:, i] = output\n",
    "    \n",
    "    def predict_final_testing(self):\n",
    "        self.testy_pred = self.model_final.predict(self.testx_final_input)\n",
    "        self.testy_pred_prob=self.model_final.predict_proba(self.testx_final_input)\n",
    "        return self.testy_pred, self.testy_pred_prob\n",
    "    \n",
    "    def scoring_testing(self):\n",
    "        if self.type_label == 'discrete':\n",
    "            fpr, tpr, thresholds = roc_curve(self.testy, self.testy_pred_prob[:, 1], pos_label=None)\n",
    "            AUC=auc(fpr, tpr)\n",
    "            return AUC\n",
    "        elif self.type_label == 'continuous':\n",
    "            r2 = r2_score(self.testy, self.testy_pred)\n",
    "            return r2\n",
    "    \n",
    "    def save_model(self, model, filename):\n",
    "        pickle.dump(model, open(filename, 'wb'))\n"
   ]
  },
  {
   "cell_type": "code",
   "execution_count": null,
   "metadata": {},
   "outputs": [],
   "source": [
    "model_stack=[LogisticRegression(),\n",
    "             CalibratedClassifierCV(LinearSVC()),\n",
    "             RandomForestClassifier(),\n",
    "             DecisionTreeClassifier(),\n",
    "             AdaBoostClassifier(),\n",
    "             XGBClassifier(),\n",
    "             MLPClassifier()]\n",
    "                           \n",
    "model_final=LogisticRegression()\n",
    "type_label = 'discrete'"
   ]
  },
  {
   "cell_type": "code",
   "execution_count": null,
   "metadata": {},
   "outputs": [],
   "source": [
    "stacking = Stacking(X_train, y_train, X_test, y_test, model_stack, model_final, type_label)\n",
    "stacking.spliting()\n",
    "stacking.modeling_stack_training()\n",
    "stacking.modeling_final_training()\n",
    "stacking.predict_stack_testing()\n",
    "stacking.predict_final_testing()\n",
    "stacking.scoring_testing()"
   ]
  },
  {
   "cell_type": "code",
   "execution_count": null,
   "metadata": {},
   "outputs": [],
   "source": [
    "testy_pred, testy_pred_prob = ensemble.predict_final_testing()"
   ]
  },
  {
   "cell_type": "code",
   "execution_count": null,
   "metadata": {},
   "outputs": [],
   "source": [
    "fpr, tpr, thresholds = metrics.roc_curve(y_test, testy_pred_prob[:,1], pos_label=None)\n",
    "ensemble_AUC=metrics.auc(fpr, tpr)\n",
    "print(ensemble_AUC)"
   ]
  },
  {
   "cell_type": "code",
   "execution_count": null,
   "metadata": {},
   "outputs": [],
   "source": [
    "evaluate_model(testy_pred_prob,\n",
    "               testy_pred,  \n",
    "               testy)"
   ]
  }
 ],
 "metadata": {
  "kernelspec": {
   "display_name": "Python 3",
   "language": "python",
   "name": "python3"
  },
  "language_info": {
   "codemirror_mode": {
    "name": "ipython",
    "version": 3
   },
   "file_extension": ".py",
   "mimetype": "text/x-python",
   "name": "python",
   "nbconvert_exporter": "python",
   "pygments_lexer": "ipython3",
   "version": "3.7.3"
  }
 },
 "nbformat": 4,
 "nbformat_minor": 2
}
