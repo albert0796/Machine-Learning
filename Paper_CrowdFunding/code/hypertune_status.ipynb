{
 "cells": [
  {
   "cell_type": "markdown",
   "metadata": {},
   "source": [
    "### Path"
   ]
  },
  {
   "cell_type": "code",
   "execution_count": 1,
   "metadata": {},
   "outputs": [],
   "source": [
    "import os\n",
    "os.chdir(r'/Users/iflab/Desktop')"
   ]
  },
  {
   "cell_type": "markdown",
   "metadata": {},
   "source": [
    "### Package"
   ]
  },
  {
   "cell_type": "code",
   "execution_count": 2,
   "metadata": {},
   "outputs": [],
   "source": [
    "import numpy as np\n",
    "import matplotlib.pyplot as plt\n",
    "import matplotlib\n",
    "import pandas as pd\n",
    "from sklearn.model_selection import train_test_split\n",
    "from sklearn.preprocessing import MinMaxScaler, StandardScaler, Normalizer\n",
    "from sklearn.model_selection import KFold\n",
    "from sklearn.pipeline import Pipeline\n",
    "from sklearn.model_selection import GridSearchCV\n",
    "import pickle"
   ]
  },
  {
   "cell_type": "markdown",
   "metadata": {},
   "source": [
    "## Data"
   ]
  },
  {
   "cell_type": "code",
   "execution_count": 3,
   "metadata": {},
   "outputs": [],
   "source": [
    "data = pd.read_csv('mix_platforms.csv', encoding='utf-8',low_memory=False)"
   ]
  },
  {
   "cell_type": "code",
   "execution_count": 4,
   "metadata": {},
   "outputs": [
    {
     "data": {
      "text/html": [
       "<div>\n",
       "<style scoped>\n",
       "    .dataframe tbody tr th:only-of-type {\n",
       "        vertical-align: middle;\n",
       "    }\n",
       "\n",
       "    .dataframe tbody tr th {\n",
       "        vertical-align: top;\n",
       "    }\n",
       "\n",
       "    .dataframe thead th {\n",
       "        text-align: right;\n",
       "    }\n",
       "</style>\n",
       "<table border=\"1\" class=\"dataframe\">\n",
       "  <thead>\n",
       "    <tr style=\"text-align: right;\">\n",
       "      <th></th>\n",
       "      <th>platforms</th>\n",
       "      <th>status</th>\n",
       "      <th>project_id</th>\n",
       "      <th>category</th>\n",
       "      <th>location</th>\n",
       "      <th>backers</th>\n",
       "      <th>pledged_percent</th>\n",
       "      <th>goal_usd</th>\n",
       "      <th>pledged_usd</th>\n",
       "    </tr>\n",
       "  </thead>\n",
       "  <tbody>\n",
       "    <tr>\n",
       "      <td>0</td>\n",
       "      <td>Kickstarter</td>\n",
       "      <td>1</td>\n",
       "      <td>620302213</td>\n",
       "      <td>Art</td>\n",
       "      <td>USD</td>\n",
       "      <td>6</td>\n",
       "      <td>10000.000000</td>\n",
       "      <td>0.01</td>\n",
       "      <td>100.00</td>\n",
       "    </tr>\n",
       "    <tr>\n",
       "      <td>1</td>\n",
       "      <td>Kickstarter</td>\n",
       "      <td>0</td>\n",
       "      <td>9572984</td>\n",
       "      <td>Film &amp; Video</td>\n",
       "      <td>USD</td>\n",
       "      <td>0</td>\n",
       "      <td>0.000000</td>\n",
       "      <td>0.15</td>\n",
       "      <td>0.00</td>\n",
       "    </tr>\n",
       "    <tr>\n",
       "      <td>2</td>\n",
       "      <td>Kickstarter</td>\n",
       "      <td>1</td>\n",
       "      <td>1379346088</td>\n",
       "      <td>Art</td>\n",
       "      <td>MXN</td>\n",
       "      <td>7</td>\n",
       "      <td>33.489796</td>\n",
       "      <td>0.49</td>\n",
       "      <td>16.41</td>\n",
       "    </tr>\n",
       "  </tbody>\n",
       "</table>\n",
       "</div>"
      ],
      "text/plain": [
       "     platforms  status  project_id      category location  backers  \\\n",
       "0  Kickstarter       1   620302213           Art      USD        6   \n",
       "1  Kickstarter       0     9572984  Film & Video      USD        0   \n",
       "2  Kickstarter       1  1379346088           Art      MXN        7   \n",
       "\n",
       "   pledged_percent  goal_usd  pledged_usd  \n",
       "0     10000.000000      0.01       100.00  \n",
       "1         0.000000      0.15         0.00  \n",
       "2        33.489796      0.49        16.41  "
      ]
     },
     "execution_count": 4,
     "metadata": {},
     "output_type": "execute_result"
    }
   ],
   "source": [
    "data.head(3)"
   ]
  },
  {
   "cell_type": "code",
   "execution_count": 5,
   "metadata": {},
   "outputs": [],
   "source": [
    "data.drop(columns=['platforms','pledged_percent','pledged_usd'],inplace=True)"
   ]
  },
  {
   "cell_type": "code",
   "execution_count": 6,
   "metadata": {},
   "outputs": [],
   "source": [
    "data.set_index('project_id',inplace=True)"
   ]
  },
  {
   "cell_type": "code",
   "execution_count": 7,
   "metadata": {},
   "outputs": [
    {
     "data": {
      "text/html": [
       "<div>\n",
       "<style scoped>\n",
       "    .dataframe tbody tr th:only-of-type {\n",
       "        vertical-align: middle;\n",
       "    }\n",
       "\n",
       "    .dataframe tbody tr th {\n",
       "        vertical-align: top;\n",
       "    }\n",
       "\n",
       "    .dataframe thead th {\n",
       "        text-align: right;\n",
       "    }\n",
       "</style>\n",
       "<table border=\"1\" class=\"dataframe\">\n",
       "  <thead>\n",
       "    <tr style=\"text-align: right;\">\n",
       "      <th></th>\n",
       "      <th>status</th>\n",
       "      <th>category</th>\n",
       "      <th>location</th>\n",
       "      <th>backers</th>\n",
       "      <th>goal_usd</th>\n",
       "    </tr>\n",
       "    <tr>\n",
       "      <th>project_id</th>\n",
       "      <th></th>\n",
       "      <th></th>\n",
       "      <th></th>\n",
       "      <th></th>\n",
       "      <th></th>\n",
       "    </tr>\n",
       "  </thead>\n",
       "  <tbody>\n",
       "    <tr>\n",
       "      <td>620302213</td>\n",
       "      <td>1</td>\n",
       "      <td>Art</td>\n",
       "      <td>USD</td>\n",
       "      <td>6</td>\n",
       "      <td>0.01</td>\n",
       "    </tr>\n",
       "    <tr>\n",
       "      <td>9572984</td>\n",
       "      <td>0</td>\n",
       "      <td>Film &amp; Video</td>\n",
       "      <td>USD</td>\n",
       "      <td>0</td>\n",
       "      <td>0.15</td>\n",
       "    </tr>\n",
       "    <tr>\n",
       "      <td>1379346088</td>\n",
       "      <td>1</td>\n",
       "      <td>Art</td>\n",
       "      <td>MXN</td>\n",
       "      <td>7</td>\n",
       "      <td>0.49</td>\n",
       "    </tr>\n",
       "  </tbody>\n",
       "</table>\n",
       "</div>"
      ],
      "text/plain": [
       "            status      category location  backers  goal_usd\n",
       "project_id                                                  \n",
       "620302213        1           Art      USD        6      0.01\n",
       "9572984          0  Film & Video      USD        0      0.15\n",
       "1379346088       1           Art      MXN        7      0.49"
      ]
     },
     "execution_count": 7,
     "metadata": {},
     "output_type": "execute_result"
    }
   ],
   "source": [
    "data.head(3)"
   ]
  },
  {
   "cell_type": "code",
   "execution_count": 8,
   "metadata": {},
   "outputs": [
    {
     "data": {
      "text/plain": [
       "(593011, 5)"
      ]
     },
     "execution_count": 8,
     "metadata": {},
     "output_type": "execute_result"
    }
   ],
   "source": [
    "data.shape"
   ]
  },
  {
   "cell_type": "code",
   "execution_count": 9,
   "metadata": {},
   "outputs": [
    {
     "name": "stderr",
     "output_type": "stream",
     "text": [
      "/Users/iflab/Desktop/anaconda3/lib/python3.7/site-packages/pandas/core/indexing.py:205: SettingWithCopyWarning: \n",
      "A value is trying to be set on a copy of a slice from a DataFrame\n",
      "\n",
      "See the caveats in the documentation: http://pandas.pydata.org/pandas-docs/stable/user_guide/indexing.html#returning-a-view-versus-a-copy\n",
      "  self._setitem_with_indexer(indexer, value)\n"
     ]
    }
   ],
   "source": [
    "data['category'].loc[data['category']=='art']='Art'\n",
    "data['category'].loc[data['category']=='comics']='Comics'\n",
    "data['category'].loc[data['category']=='music']='Music'\n",
    "data['category'].loc[data['category']=='design']='Design'\n",
    "data['category'].loc[data['category']=='technology']='Technology'\n",
    "data['category'].loc[data['category']=='food']='Food'\n",
    "data['category'].loc[data['category']=='photography']='Photography'\n",
    "data['category'].loc[data['category']=='theatre']='Theater'\n",
    "data['category'].loc[data['category']=='fashion']='Fashion'\n",
    "data['category'].loc[data['category']=='dance']='Dance'"
   ]
  },
  {
   "cell_type": "code",
   "execution_count": 10,
   "metadata": {},
   "outputs": [],
   "source": [
    "data=pd.get_dummies(data,drop_first=True)"
   ]
  },
  {
   "cell_type": "code",
   "execution_count": 11,
   "metadata": {},
   "outputs": [
    {
     "data": {
      "text/html": [
       "<div>\n",
       "<style scoped>\n",
       "    .dataframe tbody tr th:only-of-type {\n",
       "        vertical-align: middle;\n",
       "    }\n",
       "\n",
       "    .dataframe tbody tr th {\n",
       "        vertical-align: top;\n",
       "    }\n",
       "\n",
       "    .dataframe thead th {\n",
       "        text-align: right;\n",
       "    }\n",
       "</style>\n",
       "<table border=\"1\" class=\"dataframe\">\n",
       "  <thead>\n",
       "    <tr style=\"text-align: right;\">\n",
       "      <th></th>\n",
       "      <th>status</th>\n",
       "      <th>backers</th>\n",
       "      <th>goal_usd</th>\n",
       "      <th>category_Comics</th>\n",
       "      <th>category_Crafts</th>\n",
       "      <th>category_Dance</th>\n",
       "      <th>category_Design</th>\n",
       "      <th>category_Fashion</th>\n",
       "      <th>category_Film &amp; Video</th>\n",
       "      <th>category_Food</th>\n",
       "      <th>...</th>\n",
       "      <th>location_EUR</th>\n",
       "      <th>location_GBP</th>\n",
       "      <th>location_HKD</th>\n",
       "      <th>location_JPY</th>\n",
       "      <th>location_MXN</th>\n",
       "      <th>location_NOK</th>\n",
       "      <th>location_NZD</th>\n",
       "      <th>location_SEK</th>\n",
       "      <th>location_SGD</th>\n",
       "      <th>location_USD</th>\n",
       "    </tr>\n",
       "    <tr>\n",
       "      <th>project_id</th>\n",
       "      <th></th>\n",
       "      <th></th>\n",
       "      <th></th>\n",
       "      <th></th>\n",
       "      <th></th>\n",
       "      <th></th>\n",
       "      <th></th>\n",
       "      <th></th>\n",
       "      <th></th>\n",
       "      <th></th>\n",
       "      <th></th>\n",
       "      <th></th>\n",
       "      <th></th>\n",
       "      <th></th>\n",
       "      <th></th>\n",
       "      <th></th>\n",
       "      <th></th>\n",
       "      <th></th>\n",
       "      <th></th>\n",
       "      <th></th>\n",
       "      <th></th>\n",
       "    </tr>\n",
       "  </thead>\n",
       "  <tbody>\n",
       "    <tr>\n",
       "      <td>620302213</td>\n",
       "      <td>1</td>\n",
       "      <td>6</td>\n",
       "      <td>0.01</td>\n",
       "      <td>0</td>\n",
       "      <td>0</td>\n",
       "      <td>0</td>\n",
       "      <td>0</td>\n",
       "      <td>0</td>\n",
       "      <td>0</td>\n",
       "      <td>0</td>\n",
       "      <td>...</td>\n",
       "      <td>0</td>\n",
       "      <td>0</td>\n",
       "      <td>0</td>\n",
       "      <td>0</td>\n",
       "      <td>0</td>\n",
       "      <td>0</td>\n",
       "      <td>0</td>\n",
       "      <td>0</td>\n",
       "      <td>0</td>\n",
       "      <td>1</td>\n",
       "    </tr>\n",
       "    <tr>\n",
       "      <td>9572984</td>\n",
       "      <td>0</td>\n",
       "      <td>0</td>\n",
       "      <td>0.15</td>\n",
       "      <td>0</td>\n",
       "      <td>0</td>\n",
       "      <td>0</td>\n",
       "      <td>0</td>\n",
       "      <td>0</td>\n",
       "      <td>1</td>\n",
       "      <td>0</td>\n",
       "      <td>...</td>\n",
       "      <td>0</td>\n",
       "      <td>0</td>\n",
       "      <td>0</td>\n",
       "      <td>0</td>\n",
       "      <td>0</td>\n",
       "      <td>0</td>\n",
       "      <td>0</td>\n",
       "      <td>0</td>\n",
       "      <td>0</td>\n",
       "      <td>1</td>\n",
       "    </tr>\n",
       "    <tr>\n",
       "      <td>1379346088</td>\n",
       "      <td>1</td>\n",
       "      <td>7</td>\n",
       "      <td>0.49</td>\n",
       "      <td>0</td>\n",
       "      <td>0</td>\n",
       "      <td>0</td>\n",
       "      <td>0</td>\n",
       "      <td>0</td>\n",
       "      <td>0</td>\n",
       "      <td>0</td>\n",
       "      <td>...</td>\n",
       "      <td>0</td>\n",
       "      <td>0</td>\n",
       "      <td>0</td>\n",
       "      <td>0</td>\n",
       "      <td>1</td>\n",
       "      <td>0</td>\n",
       "      <td>0</td>\n",
       "      <td>0</td>\n",
       "      <td>0</td>\n",
       "      <td>0</td>\n",
       "    </tr>\n",
       "  </tbody>\n",
       "</table>\n",
       "<p>3 rows × 61 columns</p>\n",
       "</div>"
      ],
      "text/plain": [
       "            status  backers  goal_usd  category_Comics  category_Crafts  \\\n",
       "project_id                                                                \n",
       "620302213        1        6      0.01                0                0   \n",
       "9572984          0        0      0.15                0                0   \n",
       "1379346088       1        7      0.49                0                0   \n",
       "\n",
       "            category_Dance  category_Design  category_Fashion  \\\n",
       "project_id                                                      \n",
       "620302213                0                0                 0   \n",
       "9572984                  0                0                 0   \n",
       "1379346088               0                0                 0   \n",
       "\n",
       "            category_Film & Video  category_Food  ...  location_EUR  \\\n",
       "project_id                                        ...                 \n",
       "620302213                       0              0  ...             0   \n",
       "9572984                         1              0  ...             0   \n",
       "1379346088                      0              0  ...             0   \n",
       "\n",
       "            location_GBP  location_HKD  location_JPY  location_MXN  \\\n",
       "project_id                                                           \n",
       "620302213              0             0             0             0   \n",
       "9572984                0             0             0             0   \n",
       "1379346088             0             0             0             1   \n",
       "\n",
       "            location_NOK  location_NZD  location_SEK  location_SGD  \\\n",
       "project_id                                                           \n",
       "620302213              0             0             0             0   \n",
       "9572984                0             0             0             0   \n",
       "1379346088             0             0             0             0   \n",
       "\n",
       "            location_USD  \n",
       "project_id                \n",
       "620302213              1  \n",
       "9572984                1  \n",
       "1379346088             0  \n",
       "\n",
       "[3 rows x 61 columns]"
      ]
     },
     "execution_count": 11,
     "metadata": {},
     "output_type": "execute_result"
    }
   ],
   "source": [
    "data.head(3)"
   ]
  },
  {
   "cell_type": "code",
   "execution_count": 12,
   "metadata": {},
   "outputs": [
    {
     "data": {
      "text/plain": [
       "(593011, 61)"
      ]
     },
     "execution_count": 12,
     "metadata": {},
     "output_type": "execute_result"
    }
   ],
   "source": [
    "data.shape"
   ]
  },
  {
   "cell_type": "code",
   "execution_count": 13,
   "metadata": {},
   "outputs": [],
   "source": [
    "data.to_csv('mix_platforms_statue_preprocessing.csv')"
   ]
  },
  {
   "cell_type": "markdown",
   "metadata": {},
   "source": [
    "## Train Test Spliting"
   ]
  },
  {
   "cell_type": "code",
   "execution_count": 14,
   "metadata": {},
   "outputs": [],
   "source": [
    "data_v1 = data.copy()"
   ]
  },
  {
   "cell_type": "code",
   "execution_count": 15,
   "metadata": {},
   "outputs": [],
   "source": [
    "X = data_v1.drop(\"status\", axis=1).values\n",
    "y = data_v1[\"status\"].values.reshape(-1,1)"
   ]
  },
  {
   "cell_type": "code",
   "execution_count": 16,
   "metadata": {},
   "outputs": [],
   "source": [
    "X_train, X_test, y_train, y_test = train_test_split(X, y, test_size=0.3, random_state=42, stratify=y)"
   ]
  },
  {
   "cell_type": "markdown",
   "metadata": {},
   "source": [
    "## Model"
   ]
  },
  {
   "cell_type": "code",
   "execution_count": 17,
   "metadata": {},
   "outputs": [],
   "source": [
    "import xgboost as xgb\n",
    "from sklearn.ensemble import AdaBoostClassifier\n",
    "from sklearn.ensemble import RandomForestClassifier\n",
    "from sklearn.linear_model import LogisticRegression\n",
    "from sklearn.tree import DecisionTreeClassifier\n",
    "from sklearn.neural_network import MLPClassifier\n",
    "from sklearn.svm import LinearSVC"
   ]
  },
  {
   "cell_type": "markdown",
   "metadata": {},
   "source": [
    "### Decision Tree"
   ]
  },
  {
   "cell_type": "code",
   "execution_count": 20,
   "metadata": {},
   "outputs": [],
   "source": [
    "pipeline = Pipeline([\n",
    "                    ('scaler', Normalizer()),\n",
    "                    ('classifier', DecisionTreeClassifier())\n",
    "                     ])\n",
    "\n",
    "parameters = { \n",
    "              'scaler': [Normalizer(), MinMaxScaler(), None],\n",
    "              'classifier__criterion': [ 'gini', 'entropy'],\n",
    "              'classifier__max_depth': [4, 6, 8, 10]\n",
    "              }\n",
    "\n",
    "scoring = 'roc_auc'\n",
    "\n",
    "n_splits = 5\n",
    "cv = KFold(n_splits=n_splits, shuffle=True, random_state=123457)\n",
    "\n",
    "SearchCV = GridSearchCV(estimator=pipeline,\n",
    "                        param_grid=parameters,\n",
    "                        scoring=scoring, \n",
    "                        cv=cv,\n",
    "                        return_train_score=True,\n",
    "                        verbose=1, \n",
    "                        n_jobs=-1)"
   ]
  },
  {
   "cell_type": "code",
   "execution_count": 21,
   "metadata": {},
   "outputs": [
    {
     "name": "stdout",
     "output_type": "stream",
     "text": [
      "Fitting 5 folds for each of 24 candidates, totalling 120 fits\n"
     ]
    },
    {
     "name": "stderr",
     "output_type": "stream",
     "text": [
      "[Parallel(n_jobs=-1)]: Using backend LokyBackend with 4 concurrent workers.\n",
      "[Parallel(n_jobs=-1)]: Done  42 tasks      | elapsed:  1.0min\n",
      "[Parallel(n_jobs=-1)]: Done 120 out of 120 | elapsed:  3.1min finished\n"
     ]
    },
    {
     "data": {
      "text/plain": [
       "GridSearchCV(cv=KFold(n_splits=5, random_state=123457, shuffle=True),\n",
       "             error_score='raise-deprecating',\n",
       "             estimator=Pipeline(memory=None,\n",
       "                                steps=[('scaler',\n",
       "                                        Normalizer(copy=True, norm='l2')),\n",
       "                                       ('classifier',\n",
       "                                        DecisionTreeClassifier(class_weight=None,\n",
       "                                                               criterion='gini',\n",
       "                                                               max_depth=None,\n",
       "                                                               max_features=None,\n",
       "                                                               max_leaf_nodes=None,\n",
       "                                                               min_impurity_decrease=0.0,\n",
       "                                                               min_impurity_split=...\n",
       "                                                               presort=False,\n",
       "                                                               random_state=None,\n",
       "                                                               splitter='best'))],\n",
       "                                verbose=False),\n",
       "             iid='warn', n_jobs=-1,\n",
       "             param_grid={'classifier__criterion': ['gini', 'entropy'],\n",
       "                         'classifier__max_depth': [4, 6, 8, 10],\n",
       "                         'scaler': [Normalizer(copy=True, norm='l2'),\n",
       "                                    MinMaxScaler(copy=True,\n",
       "                                                 feature_range=(0, 1)),\n",
       "                                    None]},\n",
       "             pre_dispatch='2*n_jobs', refit=True, return_train_score=True,\n",
       "             scoring='roc_auc', verbose=1)"
      ]
     },
     "execution_count": 21,
     "metadata": {},
     "output_type": "execute_result"
    }
   ],
   "source": [
    "SearchCV.fit(X_train,y_train)"
   ]
  },
  {
   "cell_type": "code",
   "execution_count": 22,
   "metadata": {},
   "outputs": [
    {
     "name": "stdout",
     "output_type": "stream",
     "text": [
      "{'classifier__criterion': 'gini', 'classifier__max_depth': 10, 'scaler': None}\n",
      "0.9601455920111107\n"
     ]
    }
   ],
   "source": [
    "best_estimator = SearchCV.best_estimator_\n",
    "best_params = SearchCV.best_params_\n",
    "print(best_params)\n",
    "print(SearchCV.best_score_)"
   ]
  },
  {
   "cell_type": "code",
   "execution_count": 23,
   "metadata": {},
   "outputs": [
    {
     "name": "stdout",
     "output_type": "stream",
     "text": [
      " test score (roc_auc): 0.9600978176859354\n"
     ]
    }
   ],
   "source": [
    "y_test_pred = SearchCV.predict(X_test)\n",
    "test_score = SearchCV.score(X_test, y_test) \n",
    "print(\" test score (\"+scoring+\"):\", test_score)"
   ]
  },
  {
   "cell_type": "code",
   "execution_count": 24,
   "metadata": {},
   "outputs": [],
   "source": [
    "r_dt=SearchCV.cv_results_"
   ]
  },
  {
   "cell_type": "code",
   "execution_count": 25,
   "metadata": {},
   "outputs": [
    {
     "name": "stdout",
     "output_type": "stream",
     "text": [
      "{'mean_fit_time': array([5.20049219, 4.29624605, 3.58728123, 5.40625482, 5.08885183,\n",
      "       4.79821391, 6.56266737, 5.88333182, 6.17168427, 9.51352153,\n",
      "       7.47713976, 6.44319873, 4.00899906, 3.88414183, 3.57450371,\n",
      "       5.39100165, 4.96095896, 4.74614143, 6.32947536, 5.77044873,\n",
      "       5.53561282, 7.02204485, 6.24118204, 5.24659524]), 'std_fit_time': array([0.24518477, 0.2678904 , 0.05192029, 0.06952739, 0.03078661,\n",
      "       0.04762901, 0.0921489 , 0.09182156, 0.6027781 , 0.24096897,\n",
      "       0.64381748, 0.14759734, 0.04534248, 0.05949743, 0.04005452,\n",
      "       0.15046898, 0.05465048, 0.04548251, 0.13435847, 0.07330425,\n",
      "       0.07508168, 0.16950327, 0.09277074, 0.90622653]), 'mean_score_time': array([0.11657238, 0.07766356, 0.05360799, 0.08378282, 0.08628554,\n",
      "       0.05831547, 0.09131985, 0.09028053, 0.06235561, 0.11002049,\n",
      "       0.10229483, 0.06740384, 0.0859375 , 0.09252434, 0.05519285,\n",
      "       0.0864821 , 0.09036307, 0.0571651 , 0.08618269, 0.08714581,\n",
      "       0.06082692, 0.08496642, 0.09250031, 0.04946914]), 'std_score_time': array([0.02016011, 0.01025368, 0.00277617, 0.00831734, 0.00766467,\n",
      "       0.00511363, 0.00281973, 0.00877476, 0.00461446, 0.02553489,\n",
      "       0.00842427, 0.01502896, 0.00420109, 0.00568421, 0.00370309,\n",
      "       0.00693944, 0.00590988, 0.00506287, 0.00280775, 0.00752921,\n",
      "       0.00501347, 0.00575459, 0.00663378, 0.00933323]), 'param_classifier__criterion': masked_array(data=['gini', 'gini', 'gini', 'gini', 'gini', 'gini', 'gini',\n",
      "                   'gini', 'gini', 'gini', 'gini', 'gini', 'entropy',\n",
      "                   'entropy', 'entropy', 'entropy', 'entropy', 'entropy',\n",
      "                   'entropy', 'entropy', 'entropy', 'entropy', 'entropy',\n",
      "                   'entropy'],\n",
      "             mask=[False, False, False, False, False, False, False, False,\n",
      "                   False, False, False, False, False, False, False, False,\n",
      "                   False, False, False, False, False, False, False, False],\n",
      "       fill_value='?',\n",
      "            dtype=object), 'param_classifier__max_depth': masked_array(data=[4, 4, 4, 6, 6, 6, 8, 8, 8, 10, 10, 10, 4, 4, 4, 6, 6,\n",
      "                   6, 8, 8, 8, 10, 10, 10],\n",
      "             mask=[False, False, False, False, False, False, False, False,\n",
      "                   False, False, False, False, False, False, False, False,\n",
      "                   False, False, False, False, False, False, False, False],\n",
      "       fill_value='?',\n",
      "            dtype=object), 'param_scaler': masked_array(data=[Normalizer(copy=True, norm='l2'),\n",
      "                   MinMaxScaler(copy=True, feature_range=(0, 1)), None,\n",
      "                   Normalizer(copy=True, norm='l2'),\n",
      "                   MinMaxScaler(copy=True, feature_range=(0, 1)), None,\n",
      "                   Normalizer(copy=True, norm='l2'),\n",
      "                   MinMaxScaler(copy=True, feature_range=(0, 1)), None,\n",
      "                   Normalizer(copy=True, norm='l2'),\n",
      "                   MinMaxScaler(copy=True, feature_range=(0, 1)), None,\n",
      "                   Normalizer(copy=True, norm='l2'),\n",
      "                   MinMaxScaler(copy=True, feature_range=(0, 1)), None,\n",
      "                   Normalizer(copy=True, norm='l2'),\n",
      "                   MinMaxScaler(copy=True, feature_range=(0, 1)), None,\n",
      "                   Normalizer(copy=True, norm='l2'),\n",
      "                   MinMaxScaler(copy=True, feature_range=(0, 1)), None,\n",
      "                   Normalizer(copy=True, norm='l2'),\n",
      "                   MinMaxScaler(copy=True, feature_range=(0, 1)), None],\n",
      "             mask=[False, False, False, False, False, False, False, False,\n",
      "                   False, False, False, False, False, False, False, False,\n",
      "                   False, False, False, False, False, False, False, False],\n",
      "       fill_value='?',\n",
      "            dtype=object), 'params': [{'classifier__criterion': 'gini', 'classifier__max_depth': 4, 'scaler': Normalizer(copy=True, norm='l2')}, {'classifier__criterion': 'gini', 'classifier__max_depth': 4, 'scaler': MinMaxScaler(copy=True, feature_range=(0, 1))}, {'classifier__criterion': 'gini', 'classifier__max_depth': 4, 'scaler': None}, {'classifier__criterion': 'gini', 'classifier__max_depth': 6, 'scaler': Normalizer(copy=True, norm='l2')}, {'classifier__criterion': 'gini', 'classifier__max_depth': 6, 'scaler': MinMaxScaler(copy=True, feature_range=(0, 1))}, {'classifier__criterion': 'gini', 'classifier__max_depth': 6, 'scaler': None}, {'classifier__criterion': 'gini', 'classifier__max_depth': 8, 'scaler': Normalizer(copy=True, norm='l2')}, {'classifier__criterion': 'gini', 'classifier__max_depth': 8, 'scaler': MinMaxScaler(copy=True, feature_range=(0, 1))}, {'classifier__criterion': 'gini', 'classifier__max_depth': 8, 'scaler': None}, {'classifier__criterion': 'gini', 'classifier__max_depth': 10, 'scaler': Normalizer(copy=True, norm='l2')}, {'classifier__criterion': 'gini', 'classifier__max_depth': 10, 'scaler': MinMaxScaler(copy=True, feature_range=(0, 1))}, {'classifier__criterion': 'gini', 'classifier__max_depth': 10, 'scaler': None}, {'classifier__criterion': 'entropy', 'classifier__max_depth': 4, 'scaler': Normalizer(copy=True, norm='l2')}, {'classifier__criterion': 'entropy', 'classifier__max_depth': 4, 'scaler': MinMaxScaler(copy=True, feature_range=(0, 1))}, {'classifier__criterion': 'entropy', 'classifier__max_depth': 4, 'scaler': None}, {'classifier__criterion': 'entropy', 'classifier__max_depth': 6, 'scaler': Normalizer(copy=True, norm='l2')}, {'classifier__criterion': 'entropy', 'classifier__max_depth': 6, 'scaler': MinMaxScaler(copy=True, feature_range=(0, 1))}, {'classifier__criterion': 'entropy', 'classifier__max_depth': 6, 'scaler': None}, {'classifier__criterion': 'entropy', 'classifier__max_depth': 8, 'scaler': Normalizer(copy=True, norm='l2')}, {'classifier__criterion': 'entropy', 'classifier__max_depth': 8, 'scaler': MinMaxScaler(copy=True, feature_range=(0, 1))}, {'classifier__criterion': 'entropy', 'classifier__max_depth': 8, 'scaler': None}, {'classifier__criterion': 'entropy', 'classifier__max_depth': 10, 'scaler': Normalizer(copy=True, norm='l2')}, {'classifier__criterion': 'entropy', 'classifier__max_depth': 10, 'scaler': MinMaxScaler(copy=True, feature_range=(0, 1))}, {'classifier__criterion': 'entropy', 'classifier__max_depth': 10, 'scaler': None}], 'split0_test_score': array([0.94973391, 0.90149114, 0.93397835, 0.95568258, 0.92595301,\n",
      "       0.95428075, 0.95845311, 0.94318708, 0.95932867, 0.95807637,\n",
      "       0.95301476, 0.96067476, 0.94919703, 0.89150389, 0.93162317,\n",
      "       0.95529629, 0.91186414, 0.95114322, 0.95834849, 0.94237613,\n",
      "       0.95806404, 0.95862235, 0.94845996, 0.96075209]), 'split1_test_score': array([0.95010467, 0.89625082, 0.93315387, 0.95582429, 0.92678933,\n",
      "       0.95355045, 0.95817227, 0.93908526, 0.95868671, 0.95798779,\n",
      "       0.95177164, 0.96022765, 0.9497362 , 0.88868643, 0.93012074,\n",
      "       0.95577215, 0.91401487, 0.95103785, 0.95846085, 0.93568929,\n",
      "       0.95805047, 0.95842526, 0.94700303, 0.9599666 ]), 'split2_test_score': array([0.95017711, 0.89984471, 0.93451144, 0.955909  , 0.92823852,\n",
      "       0.95414603, 0.95870622, 0.94106169, 0.95901318, 0.95861118,\n",
      "       0.95183295, 0.960317  , 0.9500262 , 0.88940126, 0.9283477 ,\n",
      "       0.95579611, 0.91634344, 0.95075336, 0.9588946 , 0.94150086,\n",
      "       0.95802234, 0.95917954, 0.94949824, 0.96019231]), 'split3_test_score': array([0.9491384 , 0.89042462, 0.93365321, 0.95513551, 0.92851748,\n",
      "       0.95345056, 0.95775467, 0.94457302, 0.95846921, 0.95688718,\n",
      "       0.95251654, 0.95947775, 0.94942428, 0.8870495 , 0.92821324,\n",
      "       0.95501228, 0.90986895, 0.95047373, 0.957822  , 0.94024731,\n",
      "       0.95754138, 0.95741889, 0.94681246, 0.95935208]), 'split4_test_score': array([0.95006408, 0.89441972, 0.93335351, 0.95566057, 0.92236631,\n",
      "       0.95398007, 0.95833694, 0.93763267, 0.95881274, 0.95757755,\n",
      "       0.94863735, 0.9600308 , 0.94964563, 0.89281275, 0.92847025,\n",
      "       0.95539061, 0.91809234, 0.95061867, 0.95827794, 0.93867308,\n",
      "       0.95753106, 0.9578395 , 0.94951179, 0.95979783]), 'mean_test_score': array([0.94984363, 0.89648622, 0.93373008, 0.95564239, 0.92637293,\n",
      "       0.95388157, 0.95828464, 0.94110794, 0.9588621 , 0.95782802,\n",
      "       0.95155465, 0.96014559, 0.94960587, 0.88989077, 0.92935503,\n",
      "       0.95545349, 0.91403674, 0.95080537, 0.95836078, 0.93969733,\n",
      "       0.95784186, 0.95829711, 0.94825709, 0.96001218]), 'std_test_score': array([0.00038402, 0.0039344 , 0.00047998, 0.00026946, 0.00221279,\n",
      "       0.00032692, 0.00031697, 0.00254953, 0.0002926 , 0.00057418,\n",
      "       0.0015292 , 0.00039378, 0.0002812 , 0.00204465, 0.00132906,\n",
      "       0.00029741, 0.00296175, 0.00025129, 0.00034417, 0.00235986,\n",
      "       0.00024994, 0.00061344, 0.00116752, 0.00046123]), 'rank_test_score': array([14, 23, 19,  9, 21, 11,  6, 17,  3,  8, 12,  1, 15, 24, 20, 10, 22,\n",
      "       13,  4, 18,  7,  5, 16,  2], dtype=int32), 'split0_train_score': array([0.95021435, 0.90049818, 0.93375277, 0.95628713, 0.92487345,\n",
      "       0.95428982, 0.96000301, 0.94363364, 0.96018658, 0.96283416,\n",
      "       0.95635746, 0.96475145, 0.94981014, 0.88997869, 0.93052335,\n",
      "       0.9561027 , 0.91095984, 0.95178543, 0.95987674, 0.94314004,\n",
      "       0.95921107, 0.96290315, 0.95081179, 0.96392271]), 'split1_train_score': array([0.95007946, 0.89645236, 0.93362084, 0.95599166, 0.92717171,\n",
      "       0.95416938, 0.95983971, 0.94070382, 0.96014147, 0.96270228,\n",
      "       0.95594672, 0.9648777 , 0.94972168, 0.88841515, 0.93057038,\n",
      "       0.95602625, 0.9138658 , 0.95155303, 0.95977274, 0.93708422,\n",
      "       0.95917053, 0.96291305, 0.95028192, 0.96366666]), 'split2_train_score': array([0.94999142, 0.89873228, 0.93423583, 0.95600659, 0.92855369,\n",
      "       0.95412777, 0.95990288, 0.94206103, 0.96012259, 0.96268371,\n",
      "       0.95510824, 0.96463094, 0.9497953 , 0.88887407, 0.9292434 ,\n",
      "       0.95599007, 0.91576811, 0.95134656, 0.959821  , 0.94236124,\n",
      "       0.95905892, 0.96296589, 0.95182098, 0.96353246]), 'split3_train_score': array([0.95018835, 0.89253776, 0.93433361, 0.95624836, 0.93077772,\n",
      "       0.95456853, 0.96023321, 0.94688038, 0.96022874, 0.96314612,\n",
      "       0.95642494, 0.96471336, 0.94976464, 0.88865596, 0.92894059,\n",
      "       0.9558878 , 0.91196628, 0.95142131, 0.9599212 , 0.94200174,\n",
      "       0.95917339, 0.96313513, 0.95046397, 0.96369003]), 'split4_train_score': array([0.95018111, 0.89590167, 0.93403108, 0.9560495 , 0.92271256,\n",
      "       0.95439023, 0.95992145, 0.9386781 , 0.96032443, 0.96292739,\n",
      "       0.95243268, 0.96500255, 0.94969404, 0.8940075 , 0.92934308,\n",
      "       0.95581123, 0.91851634, 0.95132406, 0.95980912, 0.93971339,\n",
      "       0.95912312, 0.96298669, 0.95228964, 0.96385885]), 'mean_train_score': array([0.95013094, 0.89682445, 0.93399483, 0.95611665, 0.92681783,\n",
      "       0.95430915, 0.95998005, 0.94239139, 0.96020076, 0.96285873,\n",
      "       0.95525401, 0.9647952 , 0.94975716, 0.88998627, 0.92972416,\n",
      "       0.95596361, 0.91421528, 0.95148608, 0.95984016, 0.94086013,\n",
      "       0.95914741, 0.96298078, 0.95113366, 0.96373414]), 'std_train_score': array([8.35292771e-05, 2.70191811e-03, 2.72990180e-04, 1.25423198e-04,\n",
      "       2.80902221e-03, 1.59160897e-04, 1.36894840e-04, 2.77271702e-03,\n",
      "       7.19768691e-05, 1.69125510e-04, 1.48658480e-03, 1.30683008e-04,\n",
      "       4.37274252e-05, 2.08064890e-03, 6.84854071e-04, 1.02892891e-04,\n",
      "       2.70881861e-03, 1.69709757e-04, 5.25022158e-05, 2.20577174e-03,\n",
      "       5.23145172e-05, 8.32995878e-05, 7.85652265e-04, 1.40202263e-04])}\n"
     ]
    }
   ],
   "source": [
    "print(r_dt)"
   ]
  },
  {
   "cell_type": "code",
   "execution_count": 26,
   "metadata": {},
   "outputs": [
    {
     "name": "stdout",
     "output_type": "stream",
     "text": [
      "parans:\n",
      " [{'classifier__criterion': 'gini', 'classifier__max_depth': 4, 'scaler': Normalizer(copy=True, norm='l2')}, {'classifier__criterion': 'gini', 'classifier__max_depth': 4, 'scaler': MinMaxScaler(copy=True, feature_range=(0, 1))}, {'classifier__criterion': 'gini', 'classifier__max_depth': 4, 'scaler': None}, {'classifier__criterion': 'gini', 'classifier__max_depth': 6, 'scaler': Normalizer(copy=True, norm='l2')}, {'classifier__criterion': 'gini', 'classifier__max_depth': 6, 'scaler': MinMaxScaler(copy=True, feature_range=(0, 1))}, {'classifier__criterion': 'gini', 'classifier__max_depth': 6, 'scaler': None}, {'classifier__criterion': 'gini', 'classifier__max_depth': 8, 'scaler': Normalizer(copy=True, norm='l2')}, {'classifier__criterion': 'gini', 'classifier__max_depth': 8, 'scaler': MinMaxScaler(copy=True, feature_range=(0, 1))}, {'classifier__criterion': 'gini', 'classifier__max_depth': 8, 'scaler': None}, {'classifier__criterion': 'gini', 'classifier__max_depth': 10, 'scaler': Normalizer(copy=True, norm='l2')}, {'classifier__criterion': 'gini', 'classifier__max_depth': 10, 'scaler': MinMaxScaler(copy=True, feature_range=(0, 1))}, {'classifier__criterion': 'gini', 'classifier__max_depth': 10, 'scaler': None}, {'classifier__criterion': 'entropy', 'classifier__max_depth': 4, 'scaler': Normalizer(copy=True, norm='l2')}, {'classifier__criterion': 'entropy', 'classifier__max_depth': 4, 'scaler': MinMaxScaler(copy=True, feature_range=(0, 1))}, {'classifier__criterion': 'entropy', 'classifier__max_depth': 4, 'scaler': None}, {'classifier__criterion': 'entropy', 'classifier__max_depth': 6, 'scaler': Normalizer(copy=True, norm='l2')}, {'classifier__criterion': 'entropy', 'classifier__max_depth': 6, 'scaler': MinMaxScaler(copy=True, feature_range=(0, 1))}, {'classifier__criterion': 'entropy', 'classifier__max_depth': 6, 'scaler': None}, {'classifier__criterion': 'entropy', 'classifier__max_depth': 8, 'scaler': Normalizer(copy=True, norm='l2')}, {'classifier__criterion': 'entropy', 'classifier__max_depth': 8, 'scaler': MinMaxScaler(copy=True, feature_range=(0, 1))}, {'classifier__criterion': 'entropy', 'classifier__max_depth': 8, 'scaler': None}, {'classifier__criterion': 'entropy', 'classifier__max_depth': 10, 'scaler': Normalizer(copy=True, norm='l2')}, {'classifier__criterion': 'entropy', 'classifier__max_depth': 10, 'scaler': MinMaxScaler(copy=True, feature_range=(0, 1))}, {'classifier__criterion': 'entropy', 'classifier__max_depth': 10, 'scaler': None}] \n",
      "\n",
      "mean_test_score:\n",
      " [0.94984363 0.89648622 0.93373008 0.95564239 0.92637293 0.95388157\n",
      " 0.95828464 0.94110794 0.9588621  0.95782802 0.95155465 0.96014559\n",
      " 0.94960587 0.88989077 0.92935503 0.95545349 0.91403674 0.95080537\n",
      " 0.95836078 0.93969733 0.95784186 0.95829711 0.94825709 0.96001218] \n",
      "\n",
      "std_test_score:\n",
      " [0.00038402 0.0039344  0.00047998 0.00026946 0.00221279 0.00032692\n",
      " 0.00031697 0.00254953 0.0002926  0.00057418 0.0015292  0.00039378\n",
      " 0.0002812  0.00204465 0.00132906 0.00029741 0.00296175 0.00025129\n",
      " 0.00034417 0.00235986 0.00024994 0.00061344 0.00116752 0.00046123] \n",
      "\n",
      "mean_train_score:\n",
      " [0.95013094 0.89682445 0.93399483 0.95611665 0.92681783 0.95430915\n",
      " 0.95998005 0.94239139 0.96020076 0.96285873 0.95525401 0.9647952\n",
      " 0.94975716 0.88998627 0.92972416 0.95596361 0.91421528 0.95148608\n",
      " 0.95984016 0.94086013 0.95914741 0.96298078 0.95113366 0.96373414] \n",
      "\n",
      "std_train_score:\n",
      " [8.35292771e-05 2.70191811e-03 2.72990180e-04 1.25423198e-04\n",
      " 2.80902221e-03 1.59160897e-04 1.36894840e-04 2.77271702e-03\n",
      " 7.19768691e-05 1.69125510e-04 1.48658480e-03 1.30683008e-04\n",
      " 4.37274252e-05 2.08064890e-03 6.84854071e-04 1.02892891e-04\n",
      " 2.70881861e-03 1.69709757e-04 5.25022158e-05 2.20577174e-03\n",
      " 5.23145172e-05 8.32995878e-05 7.85652265e-04 1.40202263e-04] \n",
      "\n"
     ]
    }
   ],
   "source": [
    "print('parans:\\n',r_dt['params'],'\\n')\n",
    "print('mean_test_score:\\n',r_dt['mean_test_score'],'\\n')\n",
    "print('std_test_score:\\n',r_dt['std_test_score'],'\\n')\n",
    "print('mean_train_score:\\n',r_dt['mean_train_score'],'\\n')\n",
    "print('std_train_score:\\n',r_dt['std_train_score'],'\\n')"
   ]
  },
  {
   "cell_type": "code",
   "execution_count": 27,
   "metadata": {},
   "outputs": [],
   "source": [
    "filename = 'SearchCV_statue_DecisionTree'\n",
    "pickle.dump(SearchCV, open(filename, 'wb'))"
   ]
  },
  {
   "cell_type": "markdown",
   "metadata": {},
   "source": [
    "### Random Forest"
   ]
  },
  {
   "cell_type": "code",
   "execution_count": 18,
   "metadata": {},
   "outputs": [],
   "source": [
    "pipeline = Pipeline([\n",
    "                      ('scaler', Normalizer()),\n",
    "                      ('classifier', RandomForestClassifier())\n",
    "                     ])\n",
    "\n",
    "parameters = {    \n",
    "              'scaler': [Normalizer(), MinMaxScaler(), None],\n",
    "              'classifier__criterion': [ 'gini', 'entropy'],          \n",
    "              'classifier__max_depth': [4, 6, 8, 10]\n",
    "              }\n",
    "\n",
    "scoring = 'roc_auc'\n",
    "\n",
    "n_splits = 5\n",
    "cv = KFold(n_splits=n_splits, shuffle=True, random_state=123457)\n",
    "\n",
    "SearchCV = GridSearchCV(estimator=pipeline,\n",
    "                        param_grid=parameters,\n",
    "                        scoring=scoring, \n",
    "                        cv=cv,\n",
    "                        return_train_score=True,\n",
    "                        verbose=1, \n",
    "                        n_jobs=-1)"
   ]
  },
  {
   "cell_type": "code",
   "execution_count": 19,
   "metadata": {},
   "outputs": [
    {
     "name": "stdout",
     "output_type": "stream",
     "text": [
      "Fitting 5 folds for each of 24 candidates, totalling 120 fits\n"
     ]
    },
    {
     "name": "stderr",
     "output_type": "stream",
     "text": [
      "[Parallel(n_jobs=-1)]: Using backend LokyBackend with 4 concurrent workers.\n",
      "[Parallel(n_jobs=-1)]: Done  42 tasks      | elapsed:  1.2min\n",
      "[Parallel(n_jobs=-1)]: Done 120 out of 120 | elapsed:  3.4min finished\n",
      "/Users/iflab/Desktop/anaconda3/lib/python3.7/site-packages/sklearn/ensemble/forest.py:245: FutureWarning: The default value of n_estimators will change from 10 in version 0.20 to 100 in 0.22.\n",
      "  \"10 in version 0.20 to 100 in 0.22.\", FutureWarning)\n",
      "/Users/iflab/Desktop/anaconda3/lib/python3.7/site-packages/sklearn/pipeline.py:356: DataConversionWarning: A column-vector y was passed when a 1d array was expected. Please change the shape of y to (n_samples,), for example using ravel().\n",
      "  self._final_estimator.fit(Xt, y, **fit_params)\n"
     ]
    },
    {
     "data": {
      "text/plain": [
       "GridSearchCV(cv=KFold(n_splits=5, random_state=123457, shuffle=True),\n",
       "             error_score='raise-deprecating',\n",
       "             estimator=Pipeline(memory=None,\n",
       "                                steps=[('scaler',\n",
       "                                        Normalizer(copy=True, norm='l2')),\n",
       "                                       ('classifier',\n",
       "                                        RandomForestClassifier(bootstrap=True,\n",
       "                                                               class_weight=None,\n",
       "                                                               criterion='gini',\n",
       "                                                               max_depth=None,\n",
       "                                                               max_features='auto',\n",
       "                                                               max_leaf_nodes=None,\n",
       "                                                               min_impurity_decrease=0.0,\n",
       "                                                               mi...\n",
       "                                                               random_state=None,\n",
       "                                                               verbose=0,\n",
       "                                                               warm_start=False))],\n",
       "                                verbose=False),\n",
       "             iid='warn', n_jobs=-1,\n",
       "             param_grid={'classifier__criterion': ['gini', 'entropy'],\n",
       "                         'classifier__max_depth': [4, 6, 8, 10],\n",
       "                         'scaler': [Normalizer(copy=True, norm='l2'),\n",
       "                                    MinMaxScaler(copy=True,\n",
       "                                                 feature_range=(0, 1)),\n",
       "                                    None]},\n",
       "             pre_dispatch='2*n_jobs', refit=True, return_train_score=True,\n",
       "             scoring='roc_auc', verbose=1)"
      ]
     },
     "execution_count": 19,
     "metadata": {},
     "output_type": "execute_result"
    }
   ],
   "source": [
    "SearchCV.fit(X_train,y_train)"
   ]
  },
  {
   "cell_type": "code",
   "execution_count": 20,
   "metadata": {},
   "outputs": [
    {
     "name": "stdout",
     "output_type": "stream",
     "text": [
      "{'classifier__criterion': 'entropy', 'classifier__max_depth': 10, 'scaler': Normalizer(copy=True, norm='l2')}\n",
      "0.9515777172842393\n"
     ]
    }
   ],
   "source": [
    "best_estimator = SearchCV.best_estimator_\n",
    "best_params = SearchCV.best_params_\n",
    "print(best_params)\n",
    "print(SearchCV.best_score_)"
   ]
  },
  {
   "cell_type": "code",
   "execution_count": 21,
   "metadata": {},
   "outputs": [
    {
     "name": "stdout",
     "output_type": "stream",
     "text": [
      " test score (roc_auc): 0.9505423216794475\n"
     ]
    }
   ],
   "source": [
    "y_test_pred = SearchCV.predict(X_test)\n",
    "test_score = SearchCV.score(X_test, y_test) \n",
    "print(\" test score (\"+scoring+\"):\", test_score)"
   ]
  },
  {
   "cell_type": "code",
   "execution_count": 22,
   "metadata": {},
   "outputs": [],
   "source": [
    "r_dt=SearchCV.cv_results_"
   ]
  },
  {
   "cell_type": "code",
   "execution_count": 23,
   "metadata": {},
   "outputs": [
    {
     "name": "stdout",
     "output_type": "stream",
     "text": [
      "{'mean_fit_time': array([6.30979581, 4.26329145, 3.68017139, 5.47624159, 5.20669417,\n",
      "       4.86689534, 6.93174353, 6.31321912, 6.22902493, 8.25782485,\n",
      "       7.54188237, 7.25761886, 4.12042818, 3.89211187, 3.61422486,\n",
      "       5.5842185 , 5.17807541, 4.86977563, 7.03462801, 6.35437303,\n",
      "       6.34176006, 8.29211502, 7.41634212, 6.35537834]), 'std_fit_time': array([0.97410081, 0.12481701, 0.21878071, 0.10486011, 0.03682026,\n",
      "       0.102847  , 0.11739362, 0.10098715, 0.17355285, 0.11835767,\n",
      "       0.1462855 , 0.15926482, 0.13458597, 0.15072992, 0.1511386 ,\n",
      "       0.10190695, 0.1347136 , 0.05761386, 0.16943965, 0.09761123,\n",
      "       0.10247178, 0.09859389, 0.06122323, 1.01501687]), 'mean_score_time': array([0.25732145, 0.15244989, 0.11084828, 0.14342885, 0.14847031,\n",
      "       0.11805868, 0.1665134 , 0.16920724, 0.16083326, 0.168362  ,\n",
      "       0.17859311, 0.14835434, 0.14268861, 0.14707046, 0.11458445,\n",
      "       0.14883094, 0.15520658, 0.11453447, 0.16167483, 0.16480784,\n",
      "       0.13138881, 0.17042375, 0.18201041, 0.1152442 ]), 'std_score_time': array([0.06727489, 0.00951377, 0.00826434, 0.01034815, 0.00899652,\n",
      "       0.00781808, 0.00733245, 0.00694593, 0.04690353, 0.00623108,\n",
      "       0.01019026, 0.00562911, 0.00411075, 0.01044994, 0.00910608,\n",
      "       0.00808475, 0.00823117, 0.00483087, 0.01041801, 0.0038262 ,\n",
      "       0.01048722, 0.00698255, 0.00980814, 0.0260587 ]), 'param_classifier__criterion': masked_array(data=['gini', 'gini', 'gini', 'gini', 'gini', 'gini', 'gini',\n",
      "                   'gini', 'gini', 'gini', 'gini', 'gini', 'entropy',\n",
      "                   'entropy', 'entropy', 'entropy', 'entropy', 'entropy',\n",
      "                   'entropy', 'entropy', 'entropy', 'entropy', 'entropy',\n",
      "                   'entropy'],\n",
      "             mask=[False, False, False, False, False, False, False, False,\n",
      "                   False, False, False, False, False, False, False, False,\n",
      "                   False, False, False, False, False, False, False, False],\n",
      "       fill_value='?',\n",
      "            dtype=object), 'param_classifier__max_depth': masked_array(data=[4, 4, 4, 6, 6, 6, 8, 8, 8, 10, 10, 10, 4, 4, 4, 6, 6,\n",
      "                   6, 8, 8, 8, 10, 10, 10],\n",
      "             mask=[False, False, False, False, False, False, False, False,\n",
      "                   False, False, False, False, False, False, False, False,\n",
      "                   False, False, False, False, False, False, False, False],\n",
      "       fill_value='?',\n",
      "            dtype=object), 'param_scaler': masked_array(data=[Normalizer(copy=True, norm='l2'),\n",
      "                   MinMaxScaler(copy=True, feature_range=(0, 1)), None,\n",
      "                   Normalizer(copy=True, norm='l2'),\n",
      "                   MinMaxScaler(copy=True, feature_range=(0, 1)), None,\n",
      "                   Normalizer(copy=True, norm='l2'),\n",
      "                   MinMaxScaler(copy=True, feature_range=(0, 1)), None,\n",
      "                   Normalizer(copy=True, norm='l2'),\n",
      "                   MinMaxScaler(copy=True, feature_range=(0, 1)), None,\n",
      "                   Normalizer(copy=True, norm='l2'),\n",
      "                   MinMaxScaler(copy=True, feature_range=(0, 1)), None,\n",
      "                   Normalizer(copy=True, norm='l2'),\n",
      "                   MinMaxScaler(copy=True, feature_range=(0, 1)), None,\n",
      "                   Normalizer(copy=True, norm='l2'),\n",
      "                   MinMaxScaler(copy=True, feature_range=(0, 1)), None,\n",
      "                   Normalizer(copy=True, norm='l2'),\n",
      "                   MinMaxScaler(copy=True, feature_range=(0, 1)), None],\n",
      "             mask=[False, False, False, False, False, False, False, False,\n",
      "                   False, False, False, False, False, False, False, False,\n",
      "                   False, False, False, False, False, False, False, False],\n",
      "       fill_value='?',\n",
      "            dtype=object), 'params': [{'classifier__criterion': 'gini', 'classifier__max_depth': 4, 'scaler': Normalizer(copy=True, norm='l2')}, {'classifier__criterion': 'gini', 'classifier__max_depth': 4, 'scaler': MinMaxScaler(copy=True, feature_range=(0, 1))}, {'classifier__criterion': 'gini', 'classifier__max_depth': 4, 'scaler': None}, {'classifier__criterion': 'gini', 'classifier__max_depth': 6, 'scaler': Normalizer(copy=True, norm='l2')}, {'classifier__criterion': 'gini', 'classifier__max_depth': 6, 'scaler': MinMaxScaler(copy=True, feature_range=(0, 1))}, {'classifier__criterion': 'gini', 'classifier__max_depth': 6, 'scaler': None}, {'classifier__criterion': 'gini', 'classifier__max_depth': 8, 'scaler': Normalizer(copy=True, norm='l2')}, {'classifier__criterion': 'gini', 'classifier__max_depth': 8, 'scaler': MinMaxScaler(copy=True, feature_range=(0, 1))}, {'classifier__criterion': 'gini', 'classifier__max_depth': 8, 'scaler': None}, {'classifier__criterion': 'gini', 'classifier__max_depth': 10, 'scaler': Normalizer(copy=True, norm='l2')}, {'classifier__criterion': 'gini', 'classifier__max_depth': 10, 'scaler': MinMaxScaler(copy=True, feature_range=(0, 1))}, {'classifier__criterion': 'gini', 'classifier__max_depth': 10, 'scaler': None}, {'classifier__criterion': 'entropy', 'classifier__max_depth': 4, 'scaler': Normalizer(copy=True, norm='l2')}, {'classifier__criterion': 'entropy', 'classifier__max_depth': 4, 'scaler': MinMaxScaler(copy=True, feature_range=(0, 1))}, {'classifier__criterion': 'entropy', 'classifier__max_depth': 4, 'scaler': None}, {'classifier__criterion': 'entropy', 'classifier__max_depth': 6, 'scaler': Normalizer(copy=True, norm='l2')}, {'classifier__criterion': 'entropy', 'classifier__max_depth': 6, 'scaler': MinMaxScaler(copy=True, feature_range=(0, 1))}, {'classifier__criterion': 'entropy', 'classifier__max_depth': 6, 'scaler': None}, {'classifier__criterion': 'entropy', 'classifier__max_depth': 8, 'scaler': Normalizer(copy=True, norm='l2')}, {'classifier__criterion': 'entropy', 'classifier__max_depth': 8, 'scaler': MinMaxScaler(copy=True, feature_range=(0, 1))}, {'classifier__criterion': 'entropy', 'classifier__max_depth': 8, 'scaler': None}, {'classifier__criterion': 'entropy', 'classifier__max_depth': 10, 'scaler': Normalizer(copy=True, norm='l2')}, {'classifier__criterion': 'entropy', 'classifier__max_depth': 10, 'scaler': MinMaxScaler(copy=True, feature_range=(0, 1))}, {'classifier__criterion': 'entropy', 'classifier__max_depth': 10, 'scaler': None}], 'split0_test_score': array([0.92331039, 0.85860049, 0.88983662, 0.93860406, 0.88673376,\n",
      "       0.92596955, 0.94482053, 0.90657836, 0.92463522, 0.93929966,\n",
      "       0.91939648, 0.94411523, 0.92360241, 0.86883599, 0.83663066,\n",
      "       0.94277987, 0.89650845, 0.90595071, 0.93580599, 0.9020054 ,\n",
      "       0.93414099, 0.95099673, 0.92784823, 0.93902446]), 'split1_test_score': array([0.90122247, 0.85884174, 0.90081709, 0.93788311, 0.88532541,\n",
      "       0.90039123, 0.94669416, 0.9058104 , 0.93952709, 0.94978901,\n",
      "       0.92281682, 0.94799516, 0.92718165, 0.87359716, 0.89716773,\n",
      "       0.93546448, 0.87407729, 0.91947856, 0.9490177 , 0.89785348,\n",
      "       0.93396061, 0.9541183 , 0.91910114, 0.94518514]), 'split2_test_score': array([0.93051917, 0.83996047, 0.85326883, 0.93079933, 0.88393296,\n",
      "       0.92486671, 0.94056007, 0.90070476, 0.93680346, 0.9448722 ,\n",
      "       0.93166872, 0.94763609, 0.91027737, 0.83529181, 0.91139898,\n",
      "       0.94286074, 0.88676279, 0.89370023, 0.9516359 , 0.91897854,\n",
      "       0.94112807, 0.94826245, 0.92051864, 0.9346448 ]), 'split3_test_score': array([0.92543369, 0.87554367, 0.86059139, 0.94173283, 0.89098659,\n",
      "       0.90693514, 0.94342922, 0.90651478, 0.94187571, 0.94963106,\n",
      "       0.91601965, 0.93772504, 0.93476059, 0.87804367, 0.89948357,\n",
      "       0.93696295, 0.88559595, 0.89829827, 0.94267402, 0.89625018,\n",
      "       0.93728082, 0.9517048 , 0.91444353, 0.93766234]), 'split4_test_score': array([0.91928704, 0.85321772, 0.88519479, 0.93907515, 0.88348045,\n",
      "       0.92099212, 0.94493011, 0.9077642 , 0.93124938, 0.94866168,\n",
      "       0.92518088, 0.93619217, 0.94212946, 0.83995521, 0.82082454,\n",
      "       0.93516785, 0.88550429, 0.90680307, 0.94498839, 0.90317867,\n",
      "       0.9350099 , 0.95280629, 0.91862686, 0.94074398]), 'mean_test_score': array([0.91995451, 0.85723283, 0.87794183, 0.9376189 , 0.88609183,\n",
      "       0.91583094, 0.94408683, 0.9054745 , 0.93481816, 0.94645071,\n",
      "       0.9230165 , 0.94273275, 0.92759029, 0.85914483, 0.87310106,\n",
      "       0.93864718, 0.88568975, 0.90484621, 0.94482439, 0.90365324,\n",
      "       0.93630406, 0.95157772, 0.9201077 , 0.93945216]), 'std_test_score': array([0.01004223, 0.01143852, 0.01803975, 0.00364943, 0.00269956,\n",
      "       0.01028198, 0.00204539, 0.00246603, 0.00620248, 0.00399442,\n",
      "       0.00532251, 0.00492957, 0.01075737, 0.01787265, 0.03689143,\n",
      "       0.00346136, 0.00711463, 0.00878936, 0.00547656, 0.00807771,\n",
      "       0.00268591, 0.00196513, 0.00436747, 0.0034938 ]), 'rank_test_score': array([14, 24, 21,  8, 19, 15,  4, 16, 10,  2, 12,  5, 11, 23, 22,  7, 20,\n",
      "       17,  3, 18,  9,  1, 13,  6], dtype=int32), 'split0_train_score': array([0.92420831, 0.85721881, 0.88770105, 0.93951983, 0.88609044,\n",
      "       0.925345  , 0.94602302, 0.90597541, 0.92638769, 0.94122931,\n",
      "       0.92019216, 0.94628079, 0.92438521, 0.86721088, 0.83704633,\n",
      "       0.94331471, 0.89559271, 0.90593721, 0.93668127, 0.90178905,\n",
      "       0.9349842 , 0.952392  , 0.92884129, 0.94121174]), 'split1_train_score': array([0.90050703, 0.86010034, 0.90234763, 0.93845299, 0.88725655,\n",
      "       0.90263078, 0.9473271 , 0.907851  , 0.94196408, 0.95078458,\n",
      "       0.92546082, 0.95093873, 0.92790905, 0.87422315, 0.898112  ,\n",
      "       0.93595198, 0.87575013, 0.92099616, 0.94978635, 0.8994534 ,\n",
      "       0.93590305, 0.95544345, 0.92069928, 0.94866345]), 'split2_train_score': array([0.93060516, 0.83836941, 0.85294847, 0.93129505, 0.88345169,\n",
      "       0.92490356, 0.94067424, 0.90063364, 0.93788172, 0.9458884 ,\n",
      "       0.9332157 , 0.94925719, 0.91027367, 0.83437048, 0.91225844,\n",
      "       0.94329623, 0.88725813, 0.89391806, 0.95196807, 0.9208694 ,\n",
      "       0.94208776, 0.94927584, 0.92383606, 0.93694753]), 'split3_train_score': array([0.92641446, 0.87781271, 0.86160015, 0.94329228, 0.89333433,\n",
      "       0.90860385, 0.94497024, 0.90946225, 0.94355417, 0.95225258,\n",
      "       0.92055344, 0.94127988, 0.93539024, 0.8800632 , 0.90095233,\n",
      "       0.93759066, 0.88800861, 0.89970964, 0.9446493 , 0.89902021,\n",
      "       0.93941566, 0.95359963, 0.91921584, 0.94096526]), 'split4_train_score': array([0.91871434, 0.85429927, 0.88730771, 0.93885689, 0.88540004,\n",
      "       0.92253781, 0.94597092, 0.90949854, 0.93349995, 0.94999721,\n",
      "       0.92828339, 0.93999035, 0.94253168, 0.84040473, 0.82098625,\n",
      "       0.9354068 , 0.88706435, 0.90744993, 0.94553658, 0.90496408,\n",
      "       0.93714659, 0.95420277, 0.92204463, 0.94333672]), 'mean_train_score': array([0.92008986, 0.85756011, 0.878381  , 0.93828341, 0.88710661,\n",
      "       0.9168042 , 0.9449931 , 0.90668417, 0.93665752, 0.94803042,\n",
      "       0.9255411 , 0.94554939, 0.92809797, 0.85925449, 0.87387107,\n",
      "       0.93911207, 0.88673479, 0.9056022 , 0.94572431, 0.90521923,\n",
      "       0.93790745, 0.95298274, 0.92292742, 0.94222494]), 'std_train_score': array([0.01051583, 0.0126147 , 0.01827216, 0.0038939 , 0.00334993,\n",
      "       0.00937604, 0.0022855 , 0.00328972, 0.00620744, 0.00400309,\n",
      "       0.00489722, 0.00430022, 0.01089068, 0.01841138, 0.03727592,\n",
      "       0.00349855, 0.00634241, 0.0090746 , 0.00526217, 0.00810471,\n",
      "       0.00256482, 0.00209829, 0.00332624, 0.00382505])}\n"
     ]
    }
   ],
   "source": [
    "print(r_dt)"
   ]
  },
  {
   "cell_type": "code",
   "execution_count": 24,
   "metadata": {},
   "outputs": [
    {
     "name": "stdout",
     "output_type": "stream",
     "text": [
      "parans:\n",
      " [{'classifier__criterion': 'gini', 'classifier__max_depth': 4, 'scaler': Normalizer(copy=True, norm='l2')}, {'classifier__criterion': 'gini', 'classifier__max_depth': 4, 'scaler': MinMaxScaler(copy=True, feature_range=(0, 1))}, {'classifier__criterion': 'gini', 'classifier__max_depth': 4, 'scaler': None}, {'classifier__criterion': 'gini', 'classifier__max_depth': 6, 'scaler': Normalizer(copy=True, norm='l2')}, {'classifier__criterion': 'gini', 'classifier__max_depth': 6, 'scaler': MinMaxScaler(copy=True, feature_range=(0, 1))}, {'classifier__criterion': 'gini', 'classifier__max_depth': 6, 'scaler': None}, {'classifier__criterion': 'gini', 'classifier__max_depth': 8, 'scaler': Normalizer(copy=True, norm='l2')}, {'classifier__criterion': 'gini', 'classifier__max_depth': 8, 'scaler': MinMaxScaler(copy=True, feature_range=(0, 1))}, {'classifier__criterion': 'gini', 'classifier__max_depth': 8, 'scaler': None}, {'classifier__criterion': 'gini', 'classifier__max_depth': 10, 'scaler': Normalizer(copy=True, norm='l2')}, {'classifier__criterion': 'gini', 'classifier__max_depth': 10, 'scaler': MinMaxScaler(copy=True, feature_range=(0, 1))}, {'classifier__criterion': 'gini', 'classifier__max_depth': 10, 'scaler': None}, {'classifier__criterion': 'entropy', 'classifier__max_depth': 4, 'scaler': Normalizer(copy=True, norm='l2')}, {'classifier__criterion': 'entropy', 'classifier__max_depth': 4, 'scaler': MinMaxScaler(copy=True, feature_range=(0, 1))}, {'classifier__criterion': 'entropy', 'classifier__max_depth': 4, 'scaler': None}, {'classifier__criterion': 'entropy', 'classifier__max_depth': 6, 'scaler': Normalizer(copy=True, norm='l2')}, {'classifier__criterion': 'entropy', 'classifier__max_depth': 6, 'scaler': MinMaxScaler(copy=True, feature_range=(0, 1))}, {'classifier__criterion': 'entropy', 'classifier__max_depth': 6, 'scaler': None}, {'classifier__criterion': 'entropy', 'classifier__max_depth': 8, 'scaler': Normalizer(copy=True, norm='l2')}, {'classifier__criterion': 'entropy', 'classifier__max_depth': 8, 'scaler': MinMaxScaler(copy=True, feature_range=(0, 1))}, {'classifier__criterion': 'entropy', 'classifier__max_depth': 8, 'scaler': None}, {'classifier__criterion': 'entropy', 'classifier__max_depth': 10, 'scaler': Normalizer(copy=True, norm='l2')}, {'classifier__criterion': 'entropy', 'classifier__max_depth': 10, 'scaler': MinMaxScaler(copy=True, feature_range=(0, 1))}, {'classifier__criterion': 'entropy', 'classifier__max_depth': 10, 'scaler': None}] \n",
      "\n",
      "mean_test_score:\n",
      " [0.91995451 0.85723283 0.87794183 0.9376189  0.88609183 0.91583094\n",
      " 0.94408683 0.9054745  0.93481816 0.94645071 0.9230165  0.94273275\n",
      " 0.92759029 0.85914483 0.87310106 0.93864718 0.88568975 0.90484621\n",
      " 0.94482439 0.90365324 0.93630406 0.95157772 0.9201077  0.93945216] \n",
      "\n",
      "std_test_score:\n",
      " [0.01004223 0.01143852 0.01803975 0.00364943 0.00269956 0.01028198\n",
      " 0.00204539 0.00246603 0.00620248 0.00399442 0.00532251 0.00492957\n",
      " 0.01075737 0.01787265 0.03689143 0.00346136 0.00711463 0.00878936\n",
      " 0.00547656 0.00807771 0.00268591 0.00196513 0.00436747 0.0034938 ] \n",
      "\n",
      "mean_train_score:\n",
      " [0.92008986 0.85756011 0.878381   0.93828341 0.88710661 0.9168042\n",
      " 0.9449931  0.90668417 0.93665752 0.94803042 0.9255411  0.94554939\n",
      " 0.92809797 0.85925449 0.87387107 0.93911207 0.88673479 0.9056022\n",
      " 0.94572431 0.90521923 0.93790745 0.95298274 0.92292742 0.94222494] \n",
      "\n",
      "std_train_score:\n",
      " [0.01051583 0.0126147  0.01827216 0.0038939  0.00334993 0.00937604\n",
      " 0.0022855  0.00328972 0.00620744 0.00400309 0.00489722 0.00430022\n",
      " 0.01089068 0.01841138 0.03727592 0.00349855 0.00634241 0.0090746\n",
      " 0.00526217 0.00810471 0.00256482 0.00209829 0.00332624 0.00382505] \n",
      "\n"
     ]
    }
   ],
   "source": [
    "print('parans:\\n',r_dt['params'],'\\n')\n",
    "print('mean_test_score:\\n',r_dt['mean_test_score'],'\\n')\n",
    "print('std_test_score:\\n',r_dt['std_test_score'],'\\n')\n",
    "print('mean_train_score:\\n',r_dt['mean_train_score'],'\\n')\n",
    "print('std_train_score:\\n',r_dt['std_train_score'],'\\n')"
   ]
  },
  {
   "cell_type": "code",
   "execution_count": 25,
   "metadata": {},
   "outputs": [],
   "source": [
    "filename = 'SearchCV_statue_RandomForest'\n",
    "pickle.dump(SearchCV, open(filename, 'wb'))"
   ]
  },
  {
   "cell_type": "markdown",
   "metadata": {},
   "source": [
    "### AdaBoost"
   ]
  },
  {
   "cell_type": "code",
   "execution_count": 26,
   "metadata": {},
   "outputs": [],
   "source": [
    "pipeline = Pipeline([\n",
    "                    ('scaler', Normalizer()),                 \n",
    "                    ('classifier', AdaBoostClassifier(random_state=0))\n",
    "                     ])\n",
    "\n",
    "parameters = {    \n",
    "                'scaler': [Normalizer(), MinMaxScaler(), None],           \n",
    "                'classifier__n_estimators': [100, 200, 300, 400],\n",
    "                'classifier__learning_rate': [0.1, 0.01, 0.001]\n",
    "              }\n",
    "\n",
    "scoring = 'roc_auc'\n",
    "\n",
    "n_splits = 5\n",
    "cv = KFold(n_splits=n_splits, shuffle=True, random_state=123457)\n",
    "\n",
    "SearchCV = GridSearchCV(estimator=pipeline,\n",
    "                        param_grid=parameters,\n",
    "                        scoring=scoring, \n",
    "                        cv=cv,\n",
    "                        return_train_score=True,\n",
    "                        verbose=1, \n",
    "                        n_jobs=-1)\n",
    "\n",
    "scoring = 'roc_auc'\n",
    "\n",
    "n_splits = 5\n",
    "cv = KFold(n_splits=n_splits, shuffle=True, random_state=123457)\n",
    "\n",
    "SearchCV = GridSearchCV(estimator=pipeline,\n",
    "                        param_grid=parameters,\n",
    "                        scoring=scoring, \n",
    "                        cv=cv,\n",
    "                        return_train_score=True,\n",
    "                        verbose=1, \n",
    "                        n_jobs=2)\n"
   ]
  },
  {
   "cell_type": "code",
   "execution_count": 27,
   "metadata": {},
   "outputs": [
    {
     "name": "stdout",
     "output_type": "stream",
     "text": [
      "Fitting 5 folds for each of 36 candidates, totalling 180 fits\n"
     ]
    },
    {
     "name": "stderr",
     "output_type": "stream",
     "text": [
      "[Parallel(n_jobs=2)]: Using backend LokyBackend with 2 concurrent workers.\n",
      "[Parallel(n_jobs=2)]: Done  46 tasks      | elapsed: 51.2min\n",
      "[Parallel(n_jobs=2)]: Done 180 out of 180 | elapsed: 239.5min finished\n",
      "/Users/iflab/Desktop/anaconda3/lib/python3.7/site-packages/sklearn/utils/validation.py:724: DataConversionWarning: A column-vector y was passed when a 1d array was expected. Please change the shape of y to (n_samples, ), for example using ravel().\n",
      "  y = column_or_1d(y, warn=True)\n"
     ]
    },
    {
     "data": {
      "text/plain": [
       "GridSearchCV(cv=KFold(n_splits=5, random_state=123457, shuffle=True),\n",
       "             error_score='raise-deprecating',\n",
       "             estimator=Pipeline(memory=None,\n",
       "                                steps=[('scaler',\n",
       "                                        Normalizer(copy=True, norm='l2')),\n",
       "                                       ('classifier',\n",
       "                                        AdaBoostClassifier(algorithm='SAMME.R',\n",
       "                                                           base_estimator=None,\n",
       "                                                           learning_rate=1.0,\n",
       "                                                           n_estimators=50,\n",
       "                                                           random_state=0))],\n",
       "                                verbose=False),\n",
       "             iid='warn', n_jobs=2,\n",
       "             param_grid={'classifier__learning_rate': [0.1, 0.01, 0.001],\n",
       "                         'classifier__n_estimators': [100, 200, 300, 400],\n",
       "                         'scaler': [Normalizer(copy=True, norm='l2'),\n",
       "                                    MinMaxScaler(copy=True,\n",
       "                                                 feature_range=(0, 1)),\n",
       "                                    None]},\n",
       "             pre_dispatch='2*n_jobs', refit=True, return_train_score=True,\n",
       "             scoring='roc_auc', verbose=1)"
      ]
     },
     "execution_count": 27,
     "metadata": {},
     "output_type": "execute_result"
    }
   ],
   "source": [
    "SearchCV.fit(X_train,y_train)"
   ]
  },
  {
   "cell_type": "code",
   "execution_count": 28,
   "metadata": {},
   "outputs": [
    {
     "name": "stdout",
     "output_type": "stream",
     "text": [
      "{'classifier__learning_rate': 0.1, 'classifier__n_estimators': 400, 'scaler': None}\n",
      "0.9610322885596403\n"
     ]
    }
   ],
   "source": [
    "best_estimator = SearchCV.best_estimator_\n",
    "best_params = SearchCV.best_params_\n",
    "print(best_params)\n",
    "print(SearchCV.best_score_)"
   ]
  },
  {
   "cell_type": "code",
   "execution_count": 30,
   "metadata": {},
   "outputs": [
    {
     "name": "stdout",
     "output_type": "stream",
     "text": [
      " test score (roc_auc): 0.9603422460527806\n"
     ]
    }
   ],
   "source": [
    "y_test_pred = SearchCV.predict(X_test)\n",
    "test_score = SearchCV.score(X_test, y_test) \n",
    "print(\" test score (\"+scoring+\"):\", test_score)"
   ]
  },
  {
   "cell_type": "code",
   "execution_count": 31,
   "metadata": {},
   "outputs": [],
   "source": [
    "r_ab=SearchCV.cv_results_"
   ]
  },
  {
   "cell_type": "code",
   "execution_count": 32,
   "metadata": {},
   "outputs": [
    {
     "name": "stdout",
     "output_type": "stream",
     "text": [
      "parans:\n",
      " [{'classifier__learning_rate': 0.1, 'classifier__n_estimators': 100, 'scaler': Normalizer(copy=True, norm='l2')}, {'classifier__learning_rate': 0.1, 'classifier__n_estimators': 100, 'scaler': MinMaxScaler(copy=True, feature_range=(0, 1))}, {'classifier__learning_rate': 0.1, 'classifier__n_estimators': 100, 'scaler': None}, {'classifier__learning_rate': 0.1, 'classifier__n_estimators': 200, 'scaler': Normalizer(copy=True, norm='l2')}, {'classifier__learning_rate': 0.1, 'classifier__n_estimators': 200, 'scaler': MinMaxScaler(copy=True, feature_range=(0, 1))}, {'classifier__learning_rate': 0.1, 'classifier__n_estimators': 200, 'scaler': None}, {'classifier__learning_rate': 0.1, 'classifier__n_estimators': 300, 'scaler': Normalizer(copy=True, norm='l2')}, {'classifier__learning_rate': 0.1, 'classifier__n_estimators': 300, 'scaler': MinMaxScaler(copy=True, feature_range=(0, 1))}, {'classifier__learning_rate': 0.1, 'classifier__n_estimators': 300, 'scaler': None}, {'classifier__learning_rate': 0.1, 'classifier__n_estimators': 400, 'scaler': Normalizer(copy=True, norm='l2')}, {'classifier__learning_rate': 0.1, 'classifier__n_estimators': 400, 'scaler': MinMaxScaler(copy=True, feature_range=(0, 1))}, {'classifier__learning_rate': 0.1, 'classifier__n_estimators': 400, 'scaler': None}, {'classifier__learning_rate': 0.01, 'classifier__n_estimators': 100, 'scaler': Normalizer(copy=True, norm='l2')}, {'classifier__learning_rate': 0.01, 'classifier__n_estimators': 100, 'scaler': MinMaxScaler(copy=True, feature_range=(0, 1))}, {'classifier__learning_rate': 0.01, 'classifier__n_estimators': 100, 'scaler': None}, {'classifier__learning_rate': 0.01, 'classifier__n_estimators': 200, 'scaler': Normalizer(copy=True, norm='l2')}, {'classifier__learning_rate': 0.01, 'classifier__n_estimators': 200, 'scaler': MinMaxScaler(copy=True, feature_range=(0, 1))}, {'classifier__learning_rate': 0.01, 'classifier__n_estimators': 200, 'scaler': None}, {'classifier__learning_rate': 0.01, 'classifier__n_estimators': 300, 'scaler': Normalizer(copy=True, norm='l2')}, {'classifier__learning_rate': 0.01, 'classifier__n_estimators': 300, 'scaler': MinMaxScaler(copy=True, feature_range=(0, 1))}, {'classifier__learning_rate': 0.01, 'classifier__n_estimators': 300, 'scaler': None}, {'classifier__learning_rate': 0.01, 'classifier__n_estimators': 400, 'scaler': Normalizer(copy=True, norm='l2')}, {'classifier__learning_rate': 0.01, 'classifier__n_estimators': 400, 'scaler': MinMaxScaler(copy=True, feature_range=(0, 1))}, {'classifier__learning_rate': 0.01, 'classifier__n_estimators': 400, 'scaler': None}, {'classifier__learning_rate': 0.001, 'classifier__n_estimators': 100, 'scaler': Normalizer(copy=True, norm='l2')}, {'classifier__learning_rate': 0.001, 'classifier__n_estimators': 100, 'scaler': MinMaxScaler(copy=True, feature_range=(0, 1))}, {'classifier__learning_rate': 0.001, 'classifier__n_estimators': 100, 'scaler': None}, {'classifier__learning_rate': 0.001, 'classifier__n_estimators': 200, 'scaler': Normalizer(copy=True, norm='l2')}, {'classifier__learning_rate': 0.001, 'classifier__n_estimators': 200, 'scaler': MinMaxScaler(copy=True, feature_range=(0, 1))}, {'classifier__learning_rate': 0.001, 'classifier__n_estimators': 200, 'scaler': None}, {'classifier__learning_rate': 0.001, 'classifier__n_estimators': 300, 'scaler': Normalizer(copy=True, norm='l2')}, {'classifier__learning_rate': 0.001, 'classifier__n_estimators': 300, 'scaler': MinMaxScaler(copy=True, feature_range=(0, 1))}, {'classifier__learning_rate': 0.001, 'classifier__n_estimators': 300, 'scaler': None}, {'classifier__learning_rate': 0.001, 'classifier__n_estimators': 400, 'scaler': Normalizer(copy=True, norm='l2')}, {'classifier__learning_rate': 0.001, 'classifier__n_estimators': 400, 'scaler': MinMaxScaler(copy=True, feature_range=(0, 1))}, {'classifier__learning_rate': 0.001, 'classifier__n_estimators': 400, 'scaler': None}] \n",
      "\n",
      "mean_test_score:\n",
      " [0.9536385  0.88428744 0.9517041  0.95681329 0.88880566 0.9584004\n",
      " 0.95820026 0.89057472 0.96004278 0.95906161 0.89143898 0.96103229\n",
      " 0.94035803 0.8441142  0.86346727 0.94706906 0.85786941 0.90602862\n",
      " 0.94825442 0.86812116 0.92318582 0.94942453 0.87330373 0.9333595\n",
      " 0.88885879 0.79399798 0.79399798 0.90650415 0.80755045 0.80755045\n",
      " 0.91454169 0.81974931 0.81974931 0.91956956 0.82848139 0.82848139] \n",
      "\n",
      "std_test_score:\n",
      " [0.00033184 0.00455131 0.00029794 0.00035899 0.00448577 0.0002303\n",
      " 0.00036155 0.00445643 0.0001991  0.0003788  0.00440517 0.00019969\n",
      " 0.00024368 0.00124211 0.00146844 0.00031024 0.00415078 0.00087815\n",
      " 0.00026737 0.00447386 0.00126216 0.00028218 0.00470669 0.00078983\n",
      " 0.00304232 0.00169017 0.00169017 0.00075585 0.00197616 0.00197616\n",
      " 0.00064688 0.00214502 0.00214502 0.00068993 0.00219455 0.00219455] \n",
      "\n",
      "mean_train_score:\n",
      " [0.95379414 0.88449299 0.95187738 0.95699139 0.88902752 0.95857133\n",
      " 0.95841925 0.89084365 0.9602304  0.95930147 0.89171781 0.96124035\n",
      " 0.94046164 0.84425372 0.86358465 0.94716719 0.85795505 0.9061711\n",
      " 0.94835319 0.86821267 0.92336102 0.94951271 0.87340935 0.93352483\n",
      " 0.88914097 0.79413114 0.79413114 0.90653974 0.80770125 0.80770125\n",
      " 0.91463227 0.81985009 0.81985009 0.91967156 0.82856406 0.82856406] \n",
      "\n",
      "std_train_score:\n",
      " [1.03777321e-04 3.64486618e-03 3.32840364e-04 9.73222587e-05\n",
      " 3.52556343e-03 1.87546934e-05 1.12089321e-04 3.50348760e-03\n",
      " 4.47867225e-05 9.96603844e-05 3.49137895e-03 5.23094489e-05\n",
      " 2.16292269e-04 9.84181460e-04 3.82883387e-04 7.31001093e-05\n",
      " 3.26310220e-03 4.10003106e-04 8.98235030e-05 3.61787352e-03\n",
      " 3.33329085e-04 7.87934086e-05 3.79542275e-03 1.43384137e-04\n",
      " 2.67359734e-03 1.34010699e-03 1.34010699e-03 2.06331169e-04\n",
      " 1.15219173e-03 1.15219173e-03 3.25491261e-04 8.62904746e-04\n",
      " 8.62904746e-04 1.27668104e-03 6.83579537e-04 6.83579537e-04] \n",
      "\n"
     ]
    }
   ],
   "source": [
    "print('parans:\\n',r_ab['params'],'\\n')\n",
    "print('mean_test_score:\\n',r_ab['mean_test_score'],'\\n')\n",
    "print('std_test_score:\\n',r_ab['std_test_score'],'\\n')\n",
    "print('mean_train_score:\\n',r_ab['mean_train_score'],'\\n')\n",
    "print('std_train_score:\\n',r_ab['std_train_score'],'\\n')"
   ]
  },
  {
   "cell_type": "code",
   "execution_count": 33,
   "metadata": {},
   "outputs": [],
   "source": [
    "filename = 'SearchCV_statue_AdaBoost'\n",
    "pickle.dump(SearchCV, open(filename, 'wb'))"
   ]
  },
  {
   "cell_type": "markdown",
   "metadata": {},
   "source": [
    "### Logistic Regression"
   ]
  },
  {
   "cell_type": "code",
   "execution_count": 34,
   "metadata": {},
   "outputs": [],
   "source": [
    "pipeline = Pipeline([\n",
    "                    ('scaler', Normalizer()),                 \n",
    "                    ('classifier', LogisticRegression(random_state=0))\n",
    "                     ])\n",
    "\n",
    "parameters = {    \n",
    "              'scaler': [Normalizer(), MinMaxScaler(), None],        \n",
    "              'classifier__penalty': [ 'l1', 'l2'],\n",
    "              'classifier__C': [1, 0.1, 0.01, 0.001]\n",
    "              }\n",
    "\n",
    "scoring = 'roc_auc'\n",
    "\n",
    "n_splits = 5\n",
    "cv = KFold(n_splits=n_splits, shuffle=True, random_state=123457)\n",
    "\n",
    "SearchCV = GridSearchCV(estimator=pipeline,\n",
    "                        param_grid=parameters,\n",
    "                        scoring=scoring, \n",
    "                        cv=cv,\n",
    "                        return_train_score=True,\n",
    "                        verbose=1, \n",
    "                        n_jobs=-1)\n"
   ]
  },
  {
   "cell_type": "code",
   "execution_count": 35,
   "metadata": {},
   "outputs": [
    {
     "name": "stdout",
     "output_type": "stream",
     "text": [
      "Fitting 5 folds for each of 24 candidates, totalling 120 fits\n"
     ]
    },
    {
     "name": "stderr",
     "output_type": "stream",
     "text": [
      "[Parallel(n_jobs=-1)]: Using backend LokyBackend with 4 concurrent workers.\n",
      "[Parallel(n_jobs=-1)]: Done  42 tasks      | elapsed:  7.4min\n",
      "[Parallel(n_jobs=-1)]: Done 120 out of 120 | elapsed:  9.8min finished\n",
      "/Users/iflab/Desktop/anaconda3/lib/python3.7/site-packages/sklearn/linear_model/logistic.py:432: FutureWarning: Default solver will be changed to 'lbfgs' in 0.22. Specify a solver to silence this warning.\n",
      "  FutureWarning)\n",
      "/Users/iflab/Desktop/anaconda3/lib/python3.7/site-packages/sklearn/utils/validation.py:724: DataConversionWarning: A column-vector y was passed when a 1d array was expected. Please change the shape of y to (n_samples, ), for example using ravel().\n",
      "  y = column_or_1d(y, warn=True)\n"
     ]
    },
    {
     "data": {
      "text/plain": [
       "GridSearchCV(cv=KFold(n_splits=5, random_state=123457, shuffle=True),\n",
       "             error_score='raise-deprecating',\n",
       "             estimator=Pipeline(memory=None,\n",
       "                                steps=[('scaler',\n",
       "                                        Normalizer(copy=True, norm='l2')),\n",
       "                                       ('classifier',\n",
       "                                        LogisticRegression(C=1.0,\n",
       "                                                           class_weight=None,\n",
       "                                                           dual=False,\n",
       "                                                           fit_intercept=True,\n",
       "                                                           intercept_scaling=1,\n",
       "                                                           l1_ratio=None,\n",
       "                                                           max_iter=100,\n",
       "                                                           multi_class='warn',\n",
       "                                                           n_jobs=None,\n",
       "                                                           penal...\n",
       "                                                           solver='warn',\n",
       "                                                           tol=0.0001,\n",
       "                                                           verbose=0,\n",
       "                                                           warm_start=False))],\n",
       "                                verbose=False),\n",
       "             iid='warn', n_jobs=-1,\n",
       "             param_grid={'classifier__C': [1, 0.1, 0.01, 0.001],\n",
       "                         'classifier__penalty': ['l1', 'l2'],\n",
       "                         'scaler': [Normalizer(copy=True, norm='l2'),\n",
       "                                    MinMaxScaler(copy=True,\n",
       "                                                 feature_range=(0, 1)),\n",
       "                                    None]},\n",
       "             pre_dispatch='2*n_jobs', refit=True, return_train_score=True,\n",
       "             scoring='roc_auc', verbose=1)"
      ]
     },
     "execution_count": 35,
     "metadata": {},
     "output_type": "execute_result"
    }
   ],
   "source": [
    "SearchCV.fit(X_train,y_train)"
   ]
  },
  {
   "cell_type": "code",
   "execution_count": 36,
   "metadata": {},
   "outputs": [
    {
     "name": "stdout",
     "output_type": "stream",
     "text": [
      "{'classifier__C': 1, 'classifier__penalty': 'l1', 'scaler': Normalizer(copy=True, norm='l2')}\n",
      "0.9503160444489004\n"
     ]
    }
   ],
   "source": [
    "best_estimator = SearchCV.best_estimator_\n",
    "best_params = SearchCV.best_params_\n",
    "print(best_params)\n",
    "print(SearchCV.best_score_)"
   ]
  },
  {
   "cell_type": "code",
   "execution_count": 37,
   "metadata": {},
   "outputs": [
    {
     "name": "stdout",
     "output_type": "stream",
     "text": [
      " test score (roc_auc): 0.9498375356651414\n"
     ]
    }
   ],
   "source": [
    "y_test_pred = SearchCV.predict(X_test)\n",
    "test_score = SearchCV.score(X_test, y_test) \n",
    "print(\" test score (\"+scoring+\"):\", test_score)"
   ]
  },
  {
   "cell_type": "code",
   "execution_count": 38,
   "metadata": {},
   "outputs": [],
   "source": [
    "r_lr=SearchCV.cv_results_"
   ]
  },
  {
   "cell_type": "code",
   "execution_count": 39,
   "metadata": {},
   "outputs": [
    {
     "name": "stdout",
     "output_type": "stream",
     "text": [
      "parans:\n",
      " [{'classifier__C': 1, 'classifier__penalty': 'l1', 'scaler': Normalizer(copy=True, norm='l2')}, {'classifier__C': 1, 'classifier__penalty': 'l1', 'scaler': MinMaxScaler(copy=True, feature_range=(0, 1))}, {'classifier__C': 1, 'classifier__penalty': 'l1', 'scaler': None}, {'classifier__C': 1, 'classifier__penalty': 'l2', 'scaler': Normalizer(copy=True, norm='l2')}, {'classifier__C': 1, 'classifier__penalty': 'l2', 'scaler': MinMaxScaler(copy=True, feature_range=(0, 1))}, {'classifier__C': 1, 'classifier__penalty': 'l2', 'scaler': None}, {'classifier__C': 0.1, 'classifier__penalty': 'l1', 'scaler': Normalizer(copy=True, norm='l2')}, {'classifier__C': 0.1, 'classifier__penalty': 'l1', 'scaler': MinMaxScaler(copy=True, feature_range=(0, 1))}, {'classifier__C': 0.1, 'classifier__penalty': 'l1', 'scaler': None}, {'classifier__C': 0.1, 'classifier__penalty': 'l2', 'scaler': Normalizer(copy=True, norm='l2')}, {'classifier__C': 0.1, 'classifier__penalty': 'l2', 'scaler': MinMaxScaler(copy=True, feature_range=(0, 1))}, {'classifier__C': 0.1, 'classifier__penalty': 'l2', 'scaler': None}, {'classifier__C': 0.01, 'classifier__penalty': 'l1', 'scaler': Normalizer(copy=True, norm='l2')}, {'classifier__C': 0.01, 'classifier__penalty': 'l1', 'scaler': MinMaxScaler(copy=True, feature_range=(0, 1))}, {'classifier__C': 0.01, 'classifier__penalty': 'l1', 'scaler': None}, {'classifier__C': 0.01, 'classifier__penalty': 'l2', 'scaler': Normalizer(copy=True, norm='l2')}, {'classifier__C': 0.01, 'classifier__penalty': 'l2', 'scaler': MinMaxScaler(copy=True, feature_range=(0, 1))}, {'classifier__C': 0.01, 'classifier__penalty': 'l2', 'scaler': None}, {'classifier__C': 0.001, 'classifier__penalty': 'l1', 'scaler': Normalizer(copy=True, norm='l2')}, {'classifier__C': 0.001, 'classifier__penalty': 'l1', 'scaler': MinMaxScaler(copy=True, feature_range=(0, 1))}, {'classifier__C': 0.001, 'classifier__penalty': 'l1', 'scaler': None}, {'classifier__C': 0.001, 'classifier__penalty': 'l2', 'scaler': Normalizer(copy=True, norm='l2')}, {'classifier__C': 0.001, 'classifier__penalty': 'l2', 'scaler': MinMaxScaler(copy=True, feature_range=(0, 1))}, {'classifier__C': 0.001, 'classifier__penalty': 'l2', 'scaler': None}] \n",
      "\n",
      "mean_test_score:\n",
      " [0.95031604 0.78679582 0.7843498  0.94855426 0.65241973 0.92780005\n",
      " 0.94966394 0.75942699 0.78494824 0.94844427 0.62612675 0.92780005\n",
      " 0.94840546 0.61281689 0.78805017 0.94831259 0.61806792 0.92780004\n",
      " 0.94832549 0.5849793  0.82346791 0.94821665 0.61528309 0.92779999] \n",
      "\n",
      "std_test_score:\n",
      " [0.00043134 0.01464093 0.02716404 0.00029102 0.01321096 0.0007631\n",
      " 0.00033437 0.01603747 0.02729197 0.00028716 0.00383296 0.0007631\n",
      " 0.00028607 0.02245586 0.02822342 0.00027727 0.00099269 0.0007631\n",
      " 0.00027914 0.00185234 0.02749652 0.00027346 0.00115555 0.00076309] \n",
      "\n",
      "mean_train_score:\n",
      " [0.95032313 0.7870185  0.78457441 0.94854905 0.6527493  0.92779653\n",
      " 0.94965976 0.75966769 0.78516007 0.94843902 0.62655052 0.92779653\n",
      " 0.94840009 0.61282385 0.78818801 0.94830782 0.61828743 0.92779653\n",
      " 0.9483201  0.58533501 0.8234291  0.94821129 0.61549301 0.92779647] \n",
      "\n",
      "std_train_score:\n",
      " [7.49175059e-05 1.48442883e-02 2.74429191e-02 7.20935862e-05\n",
      " 1.36025833e-02 1.55299555e-04 9.38274636e-05 1.61708160e-02\n",
      " 2.75769267e-02 7.12537094e-05 4.28064103e-03 1.55301025e-04\n",
      " 7.09107966e-05 2.33141653e-02 2.85987903e-02 6.97217847e-05\n",
      " 7.69401186e-04 1.55300155e-04 6.92684685e-05 1.82367026e-03\n",
      " 2.76030113e-02 6.75816776e-05 4.59766715e-04 1.55290730e-04] \n",
      "\n"
     ]
    }
   ],
   "source": [
    "print('parans:\\n',r_lr['params'],'\\n')\n",
    "print('mean_test_score:\\n',r_lr['mean_test_score'],'\\n')\n",
    "print('std_test_score:\\n',r_lr['std_test_score'],'\\n')\n",
    "print('mean_train_score:\\n',r_lr['mean_train_score'],'\\n')\n",
    "print('std_train_score:\\n',r_lr['std_train_score'],'\\n')"
   ]
  },
  {
   "cell_type": "code",
   "execution_count": 40,
   "metadata": {},
   "outputs": [],
   "source": [
    "filename = 'SearchCV_statue_Logistic'\n",
    "pickle.dump(SearchCV, open(filename, 'wb'))"
   ]
  },
  {
   "cell_type": "markdown",
   "metadata": {},
   "source": [
    "### SVM"
   ]
  },
  {
   "cell_type": "code",
   "execution_count": 41,
   "metadata": {},
   "outputs": [],
   "source": [
    "pipeline = Pipeline([\n",
    "                     ('scaler', Normalizer()),\n",
    "                      ('classifier', LinearSVC())\n",
    "                     ])\n",
    "\n",
    "parameters = {    \n",
    "                'scaler': [Normalizer(), MinMaxScaler(), None],           \n",
    "                'classifier__C': [1, 0.1, 0.01, 0.001]\n",
    "              }\n",
    "scoring = 'roc_auc'\n",
    "\n",
    "n_splits = 5\n",
    "cv = KFold(n_splits=n_splits, shuffle=True, random_state=123457)\n",
    "\n",
    "SearchCV = GridSearchCV(estimator=pipeline,\n",
    "                        param_grid=parameters,\n",
    "                        scoring=scoring, \n",
    "                        cv=cv,\n",
    "                        return_train_score=True,\n",
    "                        verbose=1, \n",
    "                        n_jobs=-1)\n"
   ]
  },
  {
   "cell_type": "code",
   "execution_count": 42,
   "metadata": {},
   "outputs": [
    {
     "name": "stdout",
     "output_type": "stream",
     "text": [
      "Fitting 5 folds for each of 12 candidates, totalling 60 fits\n"
     ]
    },
    {
     "name": "stderr",
     "output_type": "stream",
     "text": [
      "[Parallel(n_jobs=-1)]: Using backend LokyBackend with 4 concurrent workers.\n",
      "[Parallel(n_jobs=-1)]: Done  42 tasks      | elapsed:  4.9min\n",
      "[Parallel(n_jobs=-1)]: Done  60 out of  60 | elapsed:  7.8min finished\n",
      "/Users/iflab/Desktop/anaconda3/lib/python3.7/site-packages/sklearn/utils/validation.py:724: DataConversionWarning: A column-vector y was passed when a 1d array was expected. Please change the shape of y to (n_samples, ), for example using ravel().\n",
      "  y = column_or_1d(y, warn=True)\n"
     ]
    },
    {
     "data": {
      "text/plain": [
       "GridSearchCV(cv=KFold(n_splits=5, random_state=123457, shuffle=True),\n",
       "             error_score='raise-deprecating',\n",
       "             estimator=Pipeline(memory=None,\n",
       "                                steps=[('scaler',\n",
       "                                        Normalizer(copy=True, norm='l2')),\n",
       "                                       ('classifier',\n",
       "                                        LinearSVC(C=1.0, class_weight=None,\n",
       "                                                  dual=True, fit_intercept=True,\n",
       "                                                  intercept_scaling=1,\n",
       "                                                  loss='squared_hinge',\n",
       "                                                  max_iter=1000,\n",
       "                                                  multi_class='ovr',\n",
       "                                                  penalty='l2',\n",
       "                                                  random_state=None, tol=0.0001,\n",
       "                                                  verbose=0))],\n",
       "                                verbose=False),\n",
       "             iid='warn', n_jobs=-1,\n",
       "             param_grid={'classifier__C': [1, 0.1, 0.01, 0.001],\n",
       "                         'scaler': [Normalizer(copy=True, norm='l2'),\n",
       "                                    MinMaxScaler(copy=True,\n",
       "                                                 feature_range=(0, 1)),\n",
       "                                    None]},\n",
       "             pre_dispatch='2*n_jobs', refit=True, return_train_score=True,\n",
       "             scoring='roc_auc', verbose=1)"
      ]
     },
     "execution_count": 42,
     "metadata": {},
     "output_type": "execute_result"
    }
   ],
   "source": [
    "SearchCV.fit(X_train,y_train)"
   ]
  },
  {
   "cell_type": "code",
   "execution_count": 43,
   "metadata": {},
   "outputs": [
    {
     "name": "stdout",
     "output_type": "stream",
     "text": [
      "{'classifier__C': 1, 'scaler': Normalizer(copy=True, norm='l2')}\n",
      "0.9499085813486021\n"
     ]
    }
   ],
   "source": [
    "best_estimator = SearchCV.best_estimator_\n",
    "best_params = SearchCV.best_params_\n",
    "print(best_params)\n",
    "print(SearchCV.best_score_)"
   ]
  },
  {
   "cell_type": "code",
   "execution_count": 44,
   "metadata": {},
   "outputs": [
    {
     "name": "stdout",
     "output_type": "stream",
     "text": [
      " test score (roc_auc): 0.9494803901482932\n"
     ]
    }
   ],
   "source": [
    "y_test_pred = SearchCV.predict(X_test)\n",
    "test_score = SearchCV.score(X_test, y_test) \n",
    "print(\" test score (\"+scoring+\"):\", test_score)"
   ]
  },
  {
   "cell_type": "code",
   "execution_count": 45,
   "metadata": {},
   "outputs": [],
   "source": [
    "r_lr=SearchCV.cv_results_"
   ]
  },
  {
   "cell_type": "code",
   "execution_count": 46,
   "metadata": {},
   "outputs": [
    {
     "name": "stdout",
     "output_type": "stream",
     "text": [
      "parans:\n",
      " [{'classifier__C': 1, 'scaler': Normalizer(copy=True, norm='l2')}, {'classifier__C': 1, 'scaler': MinMaxScaler(copy=True, feature_range=(0, 1))}, {'classifier__C': 1, 'scaler': None}, {'classifier__C': 0.1, 'scaler': Normalizer(copy=True, norm='l2')}, {'classifier__C': 0.1, 'scaler': MinMaxScaler(copy=True, feature_range=(0, 1))}, {'classifier__C': 0.1, 'scaler': None}, {'classifier__C': 0.01, 'scaler': Normalizer(copy=True, norm='l2')}, {'classifier__C': 0.01, 'scaler': MinMaxScaler(copy=True, feature_range=(0, 1))}, {'classifier__C': 0.01, 'scaler': None}, {'classifier__C': 0.001, 'scaler': Normalizer(copy=True, norm='l2')}, {'classifier__C': 0.001, 'scaler': MinMaxScaler(copy=True, feature_range=(0, 1))}, {'classifier__C': 0.001, 'scaler': None}] \n",
      "\n",
      "mean_test_score:\n",
      " [0.94990858 0.7115486  0.91103264 0.9487627  0.64973486 0.89834239\n",
      " 0.94845279 0.62540289 0.88865475 0.94830628 0.61766407 0.91519437] \n",
      "\n",
      "std_test_score:\n",
      " [0.00034978 0.01596721 0.03552251 0.00029834 0.01235598 0.03356902\n",
      " 0.00028768 0.0034158  0.03297166 0.00027673 0.00099409 0.02309672] \n",
      "\n",
      "mean_train_score:\n",
      " [0.94990677 0.71192281 0.91060336 0.94875785 0.65008315 0.89912634\n",
      " 0.94844756 0.62581359 0.88857282 0.94830145 0.61791049 0.91495547] \n",
      "\n",
      "std_train_score:\n",
      " [9.05182252e-05 1.62461915e-02 3.52379097e-02 7.52726731e-05\n",
      " 1.27462541e-02 3.26001059e-02 7.13590544e-05 3.86851700e-03\n",
      " 3.41745947e-02 6.95943361e-05 6.77286806e-04 2.28237917e-02] \n",
      "\n"
     ]
    }
   ],
   "source": [
    "print('parans:\\n',r_lr['params'],'\\n')\n",
    "print('mean_test_score:\\n',r_lr['mean_test_score'],'\\n')\n",
    "print('std_test_score:\\n',r_lr['std_test_score'],'\\n')\n",
    "print('mean_train_score:\\n',r_lr['mean_train_score'],'\\n')\n",
    "print('std_train_score:\\n',r_lr['std_train_score'],'\\n')"
   ]
  },
  {
   "cell_type": "code",
   "execution_count": 47,
   "metadata": {},
   "outputs": [],
   "source": [
    "filename = 'SearchCV_statue_SVM'\n",
    "pickle.dump(SearchCV, open(filename, 'wb'))"
   ]
  },
  {
   "cell_type": "markdown",
   "metadata": {},
   "source": [
    "### MLP"
   ]
  },
  {
   "cell_type": "code",
   "execution_count": 51,
   "metadata": {},
   "outputs": [],
   "source": [
    "pipeline = Pipeline([\n",
    "                    ('scaler', Normalizer()),                 \n",
    "                    ('classifier', MLPClassifier())\n",
    "                     ])\n",
    "\n",
    "parameters = {    \n",
    "                'scaler': [Normalizer(), MinMaxScaler(), None],          \n",
    "                'classifier__hidden_layer_sizes': [(32), (64), (128), (64, 64)],\n",
    "                'classifier__activation': ['relu'],\n",
    "                'classifier__solver': ['lbfgs'],\n",
    "                'classifier__alpha': [0.1, 0.01, 0.001],\n",
    "                'classifier__batch_size': ['auto'], \n",
    "                'classifier__learning_rate': ['constant'],\n",
    "                'classifier__learning_rate_init': [0.01, 0.001],\n",
    "                'classifier__max_iter': [200]\n",
    "              }\n",
    "\n",
    "scoring = 'roc_auc'\n",
    "\n",
    "n_splits = 5\n",
    "cv = KFold(n_splits=n_splits, shuffle=True, random_state=123457)\n",
    "\n",
    "SearchCV = GridSearchCV(estimator=pipeline,\n",
    "                        param_grid=parameters,\n",
    "                        scoring=scoring, \n",
    "                        cv=cv,\n",
    "                        return_train_score=True,\n",
    "                        verbose=1, \n",
    "                        n_jobs=-1)"
   ]
  },
  {
   "cell_type": "code",
   "execution_count": 52,
   "metadata": {},
   "outputs": [
    {
     "name": "stdout",
     "output_type": "stream",
     "text": [
      "Fitting 5 folds for each of 72 candidates, totalling 360 fits\n"
     ]
    },
    {
     "name": "stderr",
     "output_type": "stream",
     "text": [
      "[Parallel(n_jobs=-1)]: Using backend LokyBackend with 4 concurrent workers.\n",
      "[Parallel(n_jobs=-1)]: Done  42 tasks      | elapsed:  8.7min\n",
      "[Parallel(n_jobs=-1)]: Done 192 tasks      | elapsed: 90.6min\n",
      "[Parallel(n_jobs=-1)]: Done 360 out of 360 | elapsed: 203.6min finished\n",
      "/Users/iflab/Desktop/anaconda3/lib/python3.7/site-packages/sklearn/neural_network/multilayer_perceptron.py:921: DataConversionWarning: A column-vector y was passed when a 1d array was expected. Please change the shape of y to (n_samples, ), for example using ravel().\n",
      "  y = column_or_1d(y, warn=True)\n"
     ]
    },
    {
     "data": {
      "text/plain": [
       "GridSearchCV(cv=KFold(n_splits=5, random_state=123457, shuffle=True),\n",
       "             error_score='raise-deprecating',\n",
       "             estimator=Pipeline(memory=None,\n",
       "                                steps=[('scaler',\n",
       "                                        Normalizer(copy=True, norm='l2')),\n",
       "                                       ('classifier',\n",
       "                                        MLPClassifier(activation='relu',\n",
       "                                                      alpha=0.0001,\n",
       "                                                      batch_size='auto',\n",
       "                                                      beta_1=0.9, beta_2=0.999,\n",
       "                                                      early_stopping=False,\n",
       "                                                      epsilon=1e-08,\n",
       "                                                      hidden_layer_sizes=(100,),\n",
       "                                                      learning...\n",
       "                         'classifier__hidden_layer_sizes': [32, 64, 128,\n",
       "                                                            (64, 64)],\n",
       "                         'classifier__learning_rate': ['constant'],\n",
       "                         'classifier__learning_rate_init': [0.01, 0.001],\n",
       "                         'classifier__max_iter': [200],\n",
       "                         'classifier__solver': ['lbfgs'],\n",
       "                         'scaler': [Normalizer(copy=True, norm='l2'),\n",
       "                                    MinMaxScaler(copy=True,\n",
       "                                                 feature_range=(0, 1)),\n",
       "                                    None]},\n",
       "             pre_dispatch='2*n_jobs', refit=True, return_train_score=True,\n",
       "             scoring='roc_auc', verbose=1)"
      ]
     },
     "execution_count": 52,
     "metadata": {},
     "output_type": "execute_result"
    }
   ],
   "source": [
    "SearchCV.fit(X_train,y_train)"
   ]
  },
  {
   "cell_type": "code",
   "execution_count": 53,
   "metadata": {},
   "outputs": [
    {
     "name": "stdout",
     "output_type": "stream",
     "text": [
      "{'classifier__activation': 'relu', 'classifier__alpha': 0.1, 'classifier__batch_size': 'auto', 'classifier__hidden_layer_sizes': 32, 'classifier__learning_rate': 'constant', 'classifier__learning_rate_init': 0.001, 'classifier__max_iter': 200, 'classifier__solver': 'lbfgs', 'scaler': Normalizer(copy=True, norm='l2')}\n",
      "0.9483380206948665\n"
     ]
    }
   ],
   "source": [
    "best_estimator = SearchCV.best_estimator_\n",
    "best_params = SearchCV.best_params_\n",
    "print(best_params)\n",
    "print(SearchCV.best_score_)"
   ]
  },
  {
   "cell_type": "code",
   "execution_count": 54,
   "metadata": {},
   "outputs": [
    {
     "name": "stdout",
     "output_type": "stream",
     "text": [
      " test score (roc_auc): 0.9480206560756209\n"
     ]
    }
   ],
   "source": [
    "y_test_pred = SearchCV.predict(X_test)\n",
    "test_score = SearchCV.score(X_test, y_test) \n",
    "print(\" test score (\"+scoring+\"):\", test_score)"
   ]
  },
  {
   "cell_type": "code",
   "execution_count": 55,
   "metadata": {},
   "outputs": [],
   "source": [
    "r_lr=SearchCV.cv_results_"
   ]
  },
  {
   "cell_type": "code",
   "execution_count": 56,
   "metadata": {},
   "outputs": [
    {
     "name": "stdout",
     "output_type": "stream",
     "text": [
      "parans:\n",
      " [{'classifier__activation': 'relu', 'classifier__alpha': 0.1, 'classifier__batch_size': 'auto', 'classifier__hidden_layer_sizes': 32, 'classifier__learning_rate': 'constant', 'classifier__learning_rate_init': 0.01, 'classifier__max_iter': 200, 'classifier__solver': 'lbfgs', 'scaler': Normalizer(copy=True, norm='l2')}, {'classifier__activation': 'relu', 'classifier__alpha': 0.1, 'classifier__batch_size': 'auto', 'classifier__hidden_layer_sizes': 32, 'classifier__learning_rate': 'constant', 'classifier__learning_rate_init': 0.01, 'classifier__max_iter': 200, 'classifier__solver': 'lbfgs', 'scaler': MinMaxScaler(copy=True, feature_range=(0, 1))}, {'classifier__activation': 'relu', 'classifier__alpha': 0.1, 'classifier__batch_size': 'auto', 'classifier__hidden_layer_sizes': 32, 'classifier__learning_rate': 'constant', 'classifier__learning_rate_init': 0.01, 'classifier__max_iter': 200, 'classifier__solver': 'lbfgs', 'scaler': None}, {'classifier__activation': 'relu', 'classifier__alpha': 0.1, 'classifier__batch_size': 'auto', 'classifier__hidden_layer_sizes': 32, 'classifier__learning_rate': 'constant', 'classifier__learning_rate_init': 0.001, 'classifier__max_iter': 200, 'classifier__solver': 'lbfgs', 'scaler': Normalizer(copy=True, norm='l2')}, {'classifier__activation': 'relu', 'classifier__alpha': 0.1, 'classifier__batch_size': 'auto', 'classifier__hidden_layer_sizes': 32, 'classifier__learning_rate': 'constant', 'classifier__learning_rate_init': 0.001, 'classifier__max_iter': 200, 'classifier__solver': 'lbfgs', 'scaler': MinMaxScaler(copy=True, feature_range=(0, 1))}, {'classifier__activation': 'relu', 'classifier__alpha': 0.1, 'classifier__batch_size': 'auto', 'classifier__hidden_layer_sizes': 32, 'classifier__learning_rate': 'constant', 'classifier__learning_rate_init': 0.001, 'classifier__max_iter': 200, 'classifier__solver': 'lbfgs', 'scaler': None}, {'classifier__activation': 'relu', 'classifier__alpha': 0.1, 'classifier__batch_size': 'auto', 'classifier__hidden_layer_sizes': 64, 'classifier__learning_rate': 'constant', 'classifier__learning_rate_init': 0.01, 'classifier__max_iter': 200, 'classifier__solver': 'lbfgs', 'scaler': Normalizer(copy=True, norm='l2')}, {'classifier__activation': 'relu', 'classifier__alpha': 0.1, 'classifier__batch_size': 'auto', 'classifier__hidden_layer_sizes': 64, 'classifier__learning_rate': 'constant', 'classifier__learning_rate_init': 0.01, 'classifier__max_iter': 200, 'classifier__solver': 'lbfgs', 'scaler': MinMaxScaler(copy=True, feature_range=(0, 1))}, {'classifier__activation': 'relu', 'classifier__alpha': 0.1, 'classifier__batch_size': 'auto', 'classifier__hidden_layer_sizes': 64, 'classifier__learning_rate': 'constant', 'classifier__learning_rate_init': 0.01, 'classifier__max_iter': 200, 'classifier__solver': 'lbfgs', 'scaler': None}, {'classifier__activation': 'relu', 'classifier__alpha': 0.1, 'classifier__batch_size': 'auto', 'classifier__hidden_layer_sizes': 64, 'classifier__learning_rate': 'constant', 'classifier__learning_rate_init': 0.001, 'classifier__max_iter': 200, 'classifier__solver': 'lbfgs', 'scaler': Normalizer(copy=True, norm='l2')}, {'classifier__activation': 'relu', 'classifier__alpha': 0.1, 'classifier__batch_size': 'auto', 'classifier__hidden_layer_sizes': 64, 'classifier__learning_rate': 'constant', 'classifier__learning_rate_init': 0.001, 'classifier__max_iter': 200, 'classifier__solver': 'lbfgs', 'scaler': MinMaxScaler(copy=True, feature_range=(0, 1))}, {'classifier__activation': 'relu', 'classifier__alpha': 0.1, 'classifier__batch_size': 'auto', 'classifier__hidden_layer_sizes': 64, 'classifier__learning_rate': 'constant', 'classifier__learning_rate_init': 0.001, 'classifier__max_iter': 200, 'classifier__solver': 'lbfgs', 'scaler': None}, {'classifier__activation': 'relu', 'classifier__alpha': 0.1, 'classifier__batch_size': 'auto', 'classifier__hidden_layer_sizes': 128, 'classifier__learning_rate': 'constant', 'classifier__learning_rate_init': 0.01, 'classifier__max_iter': 200, 'classifier__solver': 'lbfgs', 'scaler': Normalizer(copy=True, norm='l2')}, {'classifier__activation': 'relu', 'classifier__alpha': 0.1, 'classifier__batch_size': 'auto', 'classifier__hidden_layer_sizes': 128, 'classifier__learning_rate': 'constant', 'classifier__learning_rate_init': 0.01, 'classifier__max_iter': 200, 'classifier__solver': 'lbfgs', 'scaler': MinMaxScaler(copy=True, feature_range=(0, 1))}, {'classifier__activation': 'relu', 'classifier__alpha': 0.1, 'classifier__batch_size': 'auto', 'classifier__hidden_layer_sizes': 128, 'classifier__learning_rate': 'constant', 'classifier__learning_rate_init': 0.01, 'classifier__max_iter': 200, 'classifier__solver': 'lbfgs', 'scaler': None}, {'classifier__activation': 'relu', 'classifier__alpha': 0.1, 'classifier__batch_size': 'auto', 'classifier__hidden_layer_sizes': 128, 'classifier__learning_rate': 'constant', 'classifier__learning_rate_init': 0.001, 'classifier__max_iter': 200, 'classifier__solver': 'lbfgs', 'scaler': Normalizer(copy=True, norm='l2')}, {'classifier__activation': 'relu', 'classifier__alpha': 0.1, 'classifier__batch_size': 'auto', 'classifier__hidden_layer_sizes': 128, 'classifier__learning_rate': 'constant', 'classifier__learning_rate_init': 0.001, 'classifier__max_iter': 200, 'classifier__solver': 'lbfgs', 'scaler': MinMaxScaler(copy=True, feature_range=(0, 1))}, {'classifier__activation': 'relu', 'classifier__alpha': 0.1, 'classifier__batch_size': 'auto', 'classifier__hidden_layer_sizes': 128, 'classifier__learning_rate': 'constant', 'classifier__learning_rate_init': 0.001, 'classifier__max_iter': 200, 'classifier__solver': 'lbfgs', 'scaler': None}, {'classifier__activation': 'relu', 'classifier__alpha': 0.1, 'classifier__batch_size': 'auto', 'classifier__hidden_layer_sizes': (64, 64), 'classifier__learning_rate': 'constant', 'classifier__learning_rate_init': 0.01, 'classifier__max_iter': 200, 'classifier__solver': 'lbfgs', 'scaler': Normalizer(copy=True, norm='l2')}, {'classifier__activation': 'relu', 'classifier__alpha': 0.1, 'classifier__batch_size': 'auto', 'classifier__hidden_layer_sizes': (64, 64), 'classifier__learning_rate': 'constant', 'classifier__learning_rate_init': 0.01, 'classifier__max_iter': 200, 'classifier__solver': 'lbfgs', 'scaler': MinMaxScaler(copy=True, feature_range=(0, 1))}, {'classifier__activation': 'relu', 'classifier__alpha': 0.1, 'classifier__batch_size': 'auto', 'classifier__hidden_layer_sizes': (64, 64), 'classifier__learning_rate': 'constant', 'classifier__learning_rate_init': 0.01, 'classifier__max_iter': 200, 'classifier__solver': 'lbfgs', 'scaler': None}, {'classifier__activation': 'relu', 'classifier__alpha': 0.1, 'classifier__batch_size': 'auto', 'classifier__hidden_layer_sizes': (64, 64), 'classifier__learning_rate': 'constant', 'classifier__learning_rate_init': 0.001, 'classifier__max_iter': 200, 'classifier__solver': 'lbfgs', 'scaler': Normalizer(copy=True, norm='l2')}, {'classifier__activation': 'relu', 'classifier__alpha': 0.1, 'classifier__batch_size': 'auto', 'classifier__hidden_layer_sizes': (64, 64), 'classifier__learning_rate': 'constant', 'classifier__learning_rate_init': 0.001, 'classifier__max_iter': 200, 'classifier__solver': 'lbfgs', 'scaler': MinMaxScaler(copy=True, feature_range=(0, 1))}, {'classifier__activation': 'relu', 'classifier__alpha': 0.1, 'classifier__batch_size': 'auto', 'classifier__hidden_layer_sizes': (64, 64), 'classifier__learning_rate': 'constant', 'classifier__learning_rate_init': 0.001, 'classifier__max_iter': 200, 'classifier__solver': 'lbfgs', 'scaler': None}, {'classifier__activation': 'relu', 'classifier__alpha': 0.01, 'classifier__batch_size': 'auto', 'classifier__hidden_layer_sizes': 32, 'classifier__learning_rate': 'constant', 'classifier__learning_rate_init': 0.01, 'classifier__max_iter': 200, 'classifier__solver': 'lbfgs', 'scaler': Normalizer(copy=True, norm='l2')}, {'classifier__activation': 'relu', 'classifier__alpha': 0.01, 'classifier__batch_size': 'auto', 'classifier__hidden_layer_sizes': 32, 'classifier__learning_rate': 'constant', 'classifier__learning_rate_init': 0.01, 'classifier__max_iter': 200, 'classifier__solver': 'lbfgs', 'scaler': MinMaxScaler(copy=True, feature_range=(0, 1))}, {'classifier__activation': 'relu', 'classifier__alpha': 0.01, 'classifier__batch_size': 'auto', 'classifier__hidden_layer_sizes': 32, 'classifier__learning_rate': 'constant', 'classifier__learning_rate_init': 0.01, 'classifier__max_iter': 200, 'classifier__solver': 'lbfgs', 'scaler': None}, {'classifier__activation': 'relu', 'classifier__alpha': 0.01, 'classifier__batch_size': 'auto', 'classifier__hidden_layer_sizes': 32, 'classifier__learning_rate': 'constant', 'classifier__learning_rate_init': 0.001, 'classifier__max_iter': 200, 'classifier__solver': 'lbfgs', 'scaler': Normalizer(copy=True, norm='l2')}, {'classifier__activation': 'relu', 'classifier__alpha': 0.01, 'classifier__batch_size': 'auto', 'classifier__hidden_layer_sizes': 32, 'classifier__learning_rate': 'constant', 'classifier__learning_rate_init': 0.001, 'classifier__max_iter': 200, 'classifier__solver': 'lbfgs', 'scaler': MinMaxScaler(copy=True, feature_range=(0, 1))}, {'classifier__activation': 'relu', 'classifier__alpha': 0.01, 'classifier__batch_size': 'auto', 'classifier__hidden_layer_sizes': 32, 'classifier__learning_rate': 'constant', 'classifier__learning_rate_init': 0.001, 'classifier__max_iter': 200, 'classifier__solver': 'lbfgs', 'scaler': None}, {'classifier__activation': 'relu', 'classifier__alpha': 0.01, 'classifier__batch_size': 'auto', 'classifier__hidden_layer_sizes': 64, 'classifier__learning_rate': 'constant', 'classifier__learning_rate_init': 0.01, 'classifier__max_iter': 200, 'classifier__solver': 'lbfgs', 'scaler': Normalizer(copy=True, norm='l2')}, {'classifier__activation': 'relu', 'classifier__alpha': 0.01, 'classifier__batch_size': 'auto', 'classifier__hidden_layer_sizes': 64, 'classifier__learning_rate': 'constant', 'classifier__learning_rate_init': 0.01, 'classifier__max_iter': 200, 'classifier__solver': 'lbfgs', 'scaler': MinMaxScaler(copy=True, feature_range=(0, 1))}, {'classifier__activation': 'relu', 'classifier__alpha': 0.01, 'classifier__batch_size': 'auto', 'classifier__hidden_layer_sizes': 64, 'classifier__learning_rate': 'constant', 'classifier__learning_rate_init': 0.01, 'classifier__max_iter': 200, 'classifier__solver': 'lbfgs', 'scaler': None}, {'classifier__activation': 'relu', 'classifier__alpha': 0.01, 'classifier__batch_size': 'auto', 'classifier__hidden_layer_sizes': 64, 'classifier__learning_rate': 'constant', 'classifier__learning_rate_init': 0.001, 'classifier__max_iter': 200, 'classifier__solver': 'lbfgs', 'scaler': Normalizer(copy=True, norm='l2')}, {'classifier__activation': 'relu', 'classifier__alpha': 0.01, 'classifier__batch_size': 'auto', 'classifier__hidden_layer_sizes': 64, 'classifier__learning_rate': 'constant', 'classifier__learning_rate_init': 0.001, 'classifier__max_iter': 200, 'classifier__solver': 'lbfgs', 'scaler': MinMaxScaler(copy=True, feature_range=(0, 1))}, {'classifier__activation': 'relu', 'classifier__alpha': 0.01, 'classifier__batch_size': 'auto', 'classifier__hidden_layer_sizes': 64, 'classifier__learning_rate': 'constant', 'classifier__learning_rate_init': 0.001, 'classifier__max_iter': 200, 'classifier__solver': 'lbfgs', 'scaler': None}, {'classifier__activation': 'relu', 'classifier__alpha': 0.01, 'classifier__batch_size': 'auto', 'classifier__hidden_layer_sizes': 128, 'classifier__learning_rate': 'constant', 'classifier__learning_rate_init': 0.01, 'classifier__max_iter': 200, 'classifier__solver': 'lbfgs', 'scaler': Normalizer(copy=True, norm='l2')}, {'classifier__activation': 'relu', 'classifier__alpha': 0.01, 'classifier__batch_size': 'auto', 'classifier__hidden_layer_sizes': 128, 'classifier__learning_rate': 'constant', 'classifier__learning_rate_init': 0.01, 'classifier__max_iter': 200, 'classifier__solver': 'lbfgs', 'scaler': MinMaxScaler(copy=True, feature_range=(0, 1))}, {'classifier__activation': 'relu', 'classifier__alpha': 0.01, 'classifier__batch_size': 'auto', 'classifier__hidden_layer_sizes': 128, 'classifier__learning_rate': 'constant', 'classifier__learning_rate_init': 0.01, 'classifier__max_iter': 200, 'classifier__solver': 'lbfgs', 'scaler': None}, {'classifier__activation': 'relu', 'classifier__alpha': 0.01, 'classifier__batch_size': 'auto', 'classifier__hidden_layer_sizes': 128, 'classifier__learning_rate': 'constant', 'classifier__learning_rate_init': 0.001, 'classifier__max_iter': 200, 'classifier__solver': 'lbfgs', 'scaler': Normalizer(copy=True, norm='l2')}, {'classifier__activation': 'relu', 'classifier__alpha': 0.01, 'classifier__batch_size': 'auto', 'classifier__hidden_layer_sizes': 128, 'classifier__learning_rate': 'constant', 'classifier__learning_rate_init': 0.001, 'classifier__max_iter': 200, 'classifier__solver': 'lbfgs', 'scaler': MinMaxScaler(copy=True, feature_range=(0, 1))}, {'classifier__activation': 'relu', 'classifier__alpha': 0.01, 'classifier__batch_size': 'auto', 'classifier__hidden_layer_sizes': 128, 'classifier__learning_rate': 'constant', 'classifier__learning_rate_init': 0.001, 'classifier__max_iter': 200, 'classifier__solver': 'lbfgs', 'scaler': None}, {'classifier__activation': 'relu', 'classifier__alpha': 0.01, 'classifier__batch_size': 'auto', 'classifier__hidden_layer_sizes': (64, 64), 'classifier__learning_rate': 'constant', 'classifier__learning_rate_init': 0.01, 'classifier__max_iter': 200, 'classifier__solver': 'lbfgs', 'scaler': Normalizer(copy=True, norm='l2')}, {'classifier__activation': 'relu', 'classifier__alpha': 0.01, 'classifier__batch_size': 'auto', 'classifier__hidden_layer_sizes': (64, 64), 'classifier__learning_rate': 'constant', 'classifier__learning_rate_init': 0.01, 'classifier__max_iter': 200, 'classifier__solver': 'lbfgs', 'scaler': MinMaxScaler(copy=True, feature_range=(0, 1))}, {'classifier__activation': 'relu', 'classifier__alpha': 0.01, 'classifier__batch_size': 'auto', 'classifier__hidden_layer_sizes': (64, 64), 'classifier__learning_rate': 'constant', 'classifier__learning_rate_init': 0.01, 'classifier__max_iter': 200, 'classifier__solver': 'lbfgs', 'scaler': None}, {'classifier__activation': 'relu', 'classifier__alpha': 0.01, 'classifier__batch_size': 'auto', 'classifier__hidden_layer_sizes': (64, 64), 'classifier__learning_rate': 'constant', 'classifier__learning_rate_init': 0.001, 'classifier__max_iter': 200, 'classifier__solver': 'lbfgs', 'scaler': Normalizer(copy=True, norm='l2')}, {'classifier__activation': 'relu', 'classifier__alpha': 0.01, 'classifier__batch_size': 'auto', 'classifier__hidden_layer_sizes': (64, 64), 'classifier__learning_rate': 'constant', 'classifier__learning_rate_init': 0.001, 'classifier__max_iter': 200, 'classifier__solver': 'lbfgs', 'scaler': MinMaxScaler(copy=True, feature_range=(0, 1))}, {'classifier__activation': 'relu', 'classifier__alpha': 0.01, 'classifier__batch_size': 'auto', 'classifier__hidden_layer_sizes': (64, 64), 'classifier__learning_rate': 'constant', 'classifier__learning_rate_init': 0.001, 'classifier__max_iter': 200, 'classifier__solver': 'lbfgs', 'scaler': None}, {'classifier__activation': 'relu', 'classifier__alpha': 0.001, 'classifier__batch_size': 'auto', 'classifier__hidden_layer_sizes': 32, 'classifier__learning_rate': 'constant', 'classifier__learning_rate_init': 0.01, 'classifier__max_iter': 200, 'classifier__solver': 'lbfgs', 'scaler': Normalizer(copy=True, norm='l2')}, {'classifier__activation': 'relu', 'classifier__alpha': 0.001, 'classifier__batch_size': 'auto', 'classifier__hidden_layer_sizes': 32, 'classifier__learning_rate': 'constant', 'classifier__learning_rate_init': 0.01, 'classifier__max_iter': 200, 'classifier__solver': 'lbfgs', 'scaler': MinMaxScaler(copy=True, feature_range=(0, 1))}, {'classifier__activation': 'relu', 'classifier__alpha': 0.001, 'classifier__batch_size': 'auto', 'classifier__hidden_layer_sizes': 32, 'classifier__learning_rate': 'constant', 'classifier__learning_rate_init': 0.01, 'classifier__max_iter': 200, 'classifier__solver': 'lbfgs', 'scaler': None}, {'classifier__activation': 'relu', 'classifier__alpha': 0.001, 'classifier__batch_size': 'auto', 'classifier__hidden_layer_sizes': 32, 'classifier__learning_rate': 'constant', 'classifier__learning_rate_init': 0.001, 'classifier__max_iter': 200, 'classifier__solver': 'lbfgs', 'scaler': Normalizer(copy=True, norm='l2')}, {'classifier__activation': 'relu', 'classifier__alpha': 0.001, 'classifier__batch_size': 'auto', 'classifier__hidden_layer_sizes': 32, 'classifier__learning_rate': 'constant', 'classifier__learning_rate_init': 0.001, 'classifier__max_iter': 200, 'classifier__solver': 'lbfgs', 'scaler': MinMaxScaler(copy=True, feature_range=(0, 1))}, {'classifier__activation': 'relu', 'classifier__alpha': 0.001, 'classifier__batch_size': 'auto', 'classifier__hidden_layer_sizes': 32, 'classifier__learning_rate': 'constant', 'classifier__learning_rate_init': 0.001, 'classifier__max_iter': 200, 'classifier__solver': 'lbfgs', 'scaler': None}, {'classifier__activation': 'relu', 'classifier__alpha': 0.001, 'classifier__batch_size': 'auto', 'classifier__hidden_layer_sizes': 64, 'classifier__learning_rate': 'constant', 'classifier__learning_rate_init': 0.01, 'classifier__max_iter': 200, 'classifier__solver': 'lbfgs', 'scaler': Normalizer(copy=True, norm='l2')}, {'classifier__activation': 'relu', 'classifier__alpha': 0.001, 'classifier__batch_size': 'auto', 'classifier__hidden_layer_sizes': 64, 'classifier__learning_rate': 'constant', 'classifier__learning_rate_init': 0.01, 'classifier__max_iter': 200, 'classifier__solver': 'lbfgs', 'scaler': MinMaxScaler(copy=True, feature_range=(0, 1))}, {'classifier__activation': 'relu', 'classifier__alpha': 0.001, 'classifier__batch_size': 'auto', 'classifier__hidden_layer_sizes': 64, 'classifier__learning_rate': 'constant', 'classifier__learning_rate_init': 0.01, 'classifier__max_iter': 200, 'classifier__solver': 'lbfgs', 'scaler': None}, {'classifier__activation': 'relu', 'classifier__alpha': 0.001, 'classifier__batch_size': 'auto', 'classifier__hidden_layer_sizes': 64, 'classifier__learning_rate': 'constant', 'classifier__learning_rate_init': 0.001, 'classifier__max_iter': 200, 'classifier__solver': 'lbfgs', 'scaler': Normalizer(copy=True, norm='l2')}, {'classifier__activation': 'relu', 'classifier__alpha': 0.001, 'classifier__batch_size': 'auto', 'classifier__hidden_layer_sizes': 64, 'classifier__learning_rate': 'constant', 'classifier__learning_rate_init': 0.001, 'classifier__max_iter': 200, 'classifier__solver': 'lbfgs', 'scaler': MinMaxScaler(copy=True, feature_range=(0, 1))}, {'classifier__activation': 'relu', 'classifier__alpha': 0.001, 'classifier__batch_size': 'auto', 'classifier__hidden_layer_sizes': 64, 'classifier__learning_rate': 'constant', 'classifier__learning_rate_init': 0.001, 'classifier__max_iter': 200, 'classifier__solver': 'lbfgs', 'scaler': None}, {'classifier__activation': 'relu', 'classifier__alpha': 0.001, 'classifier__batch_size': 'auto', 'classifier__hidden_layer_sizes': 128, 'classifier__learning_rate': 'constant', 'classifier__learning_rate_init': 0.01, 'classifier__max_iter': 200, 'classifier__solver': 'lbfgs', 'scaler': Normalizer(copy=True, norm='l2')}, {'classifier__activation': 'relu', 'classifier__alpha': 0.001, 'classifier__batch_size': 'auto', 'classifier__hidden_layer_sizes': 128, 'classifier__learning_rate': 'constant', 'classifier__learning_rate_init': 0.01, 'classifier__max_iter': 200, 'classifier__solver': 'lbfgs', 'scaler': MinMaxScaler(copy=True, feature_range=(0, 1))}, {'classifier__activation': 'relu', 'classifier__alpha': 0.001, 'classifier__batch_size': 'auto', 'classifier__hidden_layer_sizes': 128, 'classifier__learning_rate': 'constant', 'classifier__learning_rate_init': 0.01, 'classifier__max_iter': 200, 'classifier__solver': 'lbfgs', 'scaler': None}, {'classifier__activation': 'relu', 'classifier__alpha': 0.001, 'classifier__batch_size': 'auto', 'classifier__hidden_layer_sizes': 128, 'classifier__learning_rate': 'constant', 'classifier__learning_rate_init': 0.001, 'classifier__max_iter': 200, 'classifier__solver': 'lbfgs', 'scaler': Normalizer(copy=True, norm='l2')}, {'classifier__activation': 'relu', 'classifier__alpha': 0.001, 'classifier__batch_size': 'auto', 'classifier__hidden_layer_sizes': 128, 'classifier__learning_rate': 'constant', 'classifier__learning_rate_init': 0.001, 'classifier__max_iter': 200, 'classifier__solver': 'lbfgs', 'scaler': MinMaxScaler(copy=True, feature_range=(0, 1))}, {'classifier__activation': 'relu', 'classifier__alpha': 0.001, 'classifier__batch_size': 'auto', 'classifier__hidden_layer_sizes': 128, 'classifier__learning_rate': 'constant', 'classifier__learning_rate_init': 0.001, 'classifier__max_iter': 200, 'classifier__solver': 'lbfgs', 'scaler': None}, {'classifier__activation': 'relu', 'classifier__alpha': 0.001, 'classifier__batch_size': 'auto', 'classifier__hidden_layer_sizes': (64, 64), 'classifier__learning_rate': 'constant', 'classifier__learning_rate_init': 0.01, 'classifier__max_iter': 200, 'classifier__solver': 'lbfgs', 'scaler': Normalizer(copy=True, norm='l2')}, {'classifier__activation': 'relu', 'classifier__alpha': 0.001, 'classifier__batch_size': 'auto', 'classifier__hidden_layer_sizes': (64, 64), 'classifier__learning_rate': 'constant', 'classifier__learning_rate_init': 0.01, 'classifier__max_iter': 200, 'classifier__solver': 'lbfgs', 'scaler': MinMaxScaler(copy=True, feature_range=(0, 1))}, {'classifier__activation': 'relu', 'classifier__alpha': 0.001, 'classifier__batch_size': 'auto', 'classifier__hidden_layer_sizes': (64, 64), 'classifier__learning_rate': 'constant', 'classifier__learning_rate_init': 0.01, 'classifier__max_iter': 200, 'classifier__solver': 'lbfgs', 'scaler': None}, {'classifier__activation': 'relu', 'classifier__alpha': 0.001, 'classifier__batch_size': 'auto', 'classifier__hidden_layer_sizes': (64, 64), 'classifier__learning_rate': 'constant', 'classifier__learning_rate_init': 0.001, 'classifier__max_iter': 200, 'classifier__solver': 'lbfgs', 'scaler': Normalizer(copy=True, norm='l2')}, {'classifier__activation': 'relu', 'classifier__alpha': 0.001, 'classifier__batch_size': 'auto', 'classifier__hidden_layer_sizes': (64, 64), 'classifier__learning_rate': 'constant', 'classifier__learning_rate_init': 0.001, 'classifier__max_iter': 200, 'classifier__solver': 'lbfgs', 'scaler': MinMaxScaler(copy=True, feature_range=(0, 1))}, {'classifier__activation': 'relu', 'classifier__alpha': 0.001, 'classifier__batch_size': 'auto', 'classifier__hidden_layer_sizes': (64, 64), 'classifier__learning_rate': 'constant', 'classifier__learning_rate_init': 0.001, 'classifier__max_iter': 200, 'classifier__solver': 'lbfgs', 'scaler': None}] \n",
      "\n",
      "mean_test_score:\n",
      " [0.94794643 0.68443422 0.76702779 0.94833802 0.68723377 0.59952198\n",
      " 0.94825979 0.69730577 0.83966828 0.94827014 0.69124356 0.937216\n",
      " 0.94826376 0.69528582 0.75528091 0.94833296 0.69447757 0.89051664\n",
      " 0.94825997 0.68413411 0.93245316 0.9481503  0.68352818 0.87623391\n",
      " 0.94816068 0.6925304  0.69104739 0.94818735 0.69250415 0.7343651\n",
      " 0.94825207 0.69286442 0.88380138 0.94816274 0.69437834 0.89309814\n",
      " 0.94828203 0.69528224 0.86871992 0.94833267 0.69590191 0.82606351\n",
      " 0.9480831  0.691091   0.93231281 0.94823782 0.68254813 0.81679502\n",
      " 0.94771797 0.69341946 0.71368675 0.94547156 0.68774539 0.68504954\n",
      " 0.9482572  0.69312123 0.8276851  0.94830001 0.69417728 0.69383323\n",
      " 0.94830144 0.69266316 0.71708514 0.94823508 0.69413087 0.9002448\n",
      " 0.94814325 0.67521671 0.87946239 0.94818157 0.68309377 0.93161647] \n",
      "\n",
      "std_test_score:\n",
      " [0.00069646 0.02106365 0.1803591  0.00021356 0.00820378 0.16564415\n",
      " 0.00026624 0.00427498 0.16095519 0.00022574 0.00772585 0.00189274\n",
      " 0.00037257 0.00857782 0.15424104 0.00028749 0.00602254 0.05704035\n",
      " 0.00029965 0.00898228 0.00629696 0.00028507 0.01621933 0.11144374\n",
      " 0.00035658 0.0065751  0.14739398 0.00035451 0.00445193 0.1546417\n",
      " 0.00023289 0.00514703 0.08913593 0.00031795 0.00613569 0.0834023\n",
      " 0.00029154 0.00378469 0.07720028 0.00026411 0.00593178 0.17935053\n",
      " 0.00040542 0.00693157 0.00625362 0.00036173 0.01034748 0.13826832\n",
      " 0.00109592 0.0099007  0.18280519 0.00454625 0.00628541 0.20378203\n",
      " 0.00027487 0.01155626 0.10531934 0.00027468 0.00246532 0.19756202\n",
      " 0.00040123 0.00528489 0.17876313 0.00031609 0.00761543 0.06370876\n",
      " 0.00040369 0.01395994 0.10507564 0.00039733 0.02331068 0.00436677] \n",
      "\n",
      "mean_train_score:\n",
      " [0.94796298 0.68583333 0.76751058 0.948352   0.68910594 0.59979674\n",
      " 0.94825691 0.6985929  0.83954997 0.94827729 0.69225663 0.93710987\n",
      " 0.94825151 0.69649038 0.75563793 0.9483245  0.69581439 0.89142153\n",
      " 0.94826011 0.684862   0.93258455 0.9481417  0.68454026 0.8764259\n",
      " 0.94815913 0.69440397 0.69231671 0.94819996 0.69308124 0.73510641\n",
      " 0.94824978 0.69442353 0.88387847 0.94817657 0.69651655 0.89344013\n",
      " 0.94827057 0.69639564 0.86818945 0.94833723 0.69717909 0.82608406\n",
      " 0.94806766 0.69193666 0.9323246  0.94822679 0.68348376 0.81729325\n",
      " 0.94760718 0.6943096  0.7137969  0.9455341  0.68935389 0.68516167\n",
      " 0.94825777 0.69421474 0.82771148 0.9482842  0.69561963 0.69382383\n",
      " 0.94830437 0.69449707 0.71669939 0.94820417 0.6958279  0.90005404\n",
      " 0.94813656 0.67636285 0.87987422 0.94817233 0.68407517 0.93156123] \n",
      "\n",
      "std_train_score:\n",
      " [6.45022340e-04 2.03238713e-02 1.80551792e-01 2.16418731e-04\n",
      " 9.18656909e-03 1.66319189e-01 1.03301175e-04 4.65261119e-03\n",
      " 1.60985987e-01 1.83229405e-04 8.28716489e-03 2.44563405e-03\n",
      " 1.17043386e-04 9.17394983e-03 1.54290668e-01 8.21200189e-05\n",
      " 5.49756411e-03 5.59972694e-02 7.32937994e-05 8.41528246e-03\n",
      " 6.17749260e-03 1.71385283e-04 1.53871295e-02 1.11073172e-01\n",
      " 6.88223610e-05 5.69784811e-03 1.47029229e-01 9.57046295e-05\n",
      " 4.26181169e-03 1.54418291e-01 2.33538714e-04 6.19856611e-03\n",
      " 8.99148078e-02 2.84203500e-04 6.47487972e-03 8.29639869e-02\n",
      " 6.00648652e-05 4.32191096e-03 7.75917406e-02 1.51959035e-04\n",
      " 6.42492137e-03 1.79281009e-01 1.77726290e-04 7.33303496e-03\n",
      " 5.74470283e-03 8.78347058e-05 1.04735356e-02 1.37860207e-01\n",
      " 1.02177248e-03 1.04141595e-02 1.82333518e-01 4.36409520e-03\n",
      " 6.28627944e-03 2.03687641e-01 7.52122343e-05 1.12879301e-02\n",
      " 1.05680529e-01 7.20961304e-05 3.23362265e-03 1.98083583e-01\n",
      " 1.37865406e-04 6.48520422e-03 1.78946375e-01 1.59162427e-04\n",
      " 7.50756775e-03 6.35115105e-02 1.35046906e-04 1.46941459e-02\n",
      " 1.04042229e-01 2.02518729e-04 2.38523413e-02 4.24146882e-03] \n",
      "\n"
     ]
    }
   ],
   "source": [
    "print('parans:\\n',r_lr['params'],'\\n')\n",
    "print('mean_test_score:\\n',r_lr['mean_test_score'],'\\n')\n",
    "print('std_test_score:\\n',r_lr['std_test_score'],'\\n')\n",
    "print('mean_train_score:\\n',r_lr['mean_train_score'],'\\n')\n",
    "print('std_train_score:\\n',r_lr['std_train_score'],'\\n')"
   ]
  },
  {
   "cell_type": "code",
   "execution_count": 57,
   "metadata": {},
   "outputs": [],
   "source": [
    "filename = 'SearchCV_statue_mlp'\n",
    "pickle.dump(SearchCV, open(filename, 'wb'))"
   ]
  },
  {
   "cell_type": "markdown",
   "metadata": {},
   "source": [
    "### XGBoost"
   ]
  },
  {
   "cell_type": "code",
   "execution_count": 58,
   "metadata": {},
   "outputs": [],
   "source": [
    "pipeline = Pipeline([\n",
    "                      ('scaler', Normalizer()),\n",
    "                      ('classifier', xgb.XGBClassifier())\n",
    "                     ])\n",
    "\n",
    "parameters = {    \n",
    "              'scaler': [Normalizer(), MinMaxScaler(), None],\n",
    "              'classifier__learning_rate': [1, 0.1, 0.01],\n",
    "              'classifier__max_depth': [4, 6, 8, 10],\n",
    "              'classifier__min_child_weight': [1, 3],\n",
    "              'classifier__gamma': [0.0, 0.1, 0.2],\n",
    "              'classifier__colsample_bytree': [0.3, 0.5, 0.7, 1]\n",
    "              }\n",
    "\n",
    "scoring = 'roc_auc'\n",
    "\n",
    "n_splits = 5\n",
    "cv = KFold(n_splits=n_splits, shuffle=True, random_state=123457)\n",
    "\n",
    "SearchCV = GridSearchCV(estimator=pipeline,\n",
    "                        param_grid=parameters,\n",
    "                        scoring=scoring, \n",
    "                        cv=cv,\n",
    "                        return_train_score=True,\n",
    "                        verbose=1, \n",
    "                        n_jobs=-1)"
   ]
  },
  {
   "cell_type": "code",
   "execution_count": 59,
   "metadata": {},
   "outputs": [
    {
     "name": "stdout",
     "output_type": "stream",
     "text": [
      "Fitting 5 folds for each of 864 candidates, totalling 4320 fits\n"
     ]
    },
    {
     "name": "stderr",
     "output_type": "stream",
     "text": [
      "[Parallel(n_jobs=-1)]: Using backend LokyBackend with 4 concurrent workers.\n",
      "/Users/iflab/Desktop/anaconda3/lib/python3.7/site-packages/joblib/externals/loky/process_executor.py:706: UserWarning: A worker stopped while some jobs were given to the executor. This can be caused by a too short worker timeout or by a memory leak.\n",
      "  \"timeout or by a memory leak.\", UserWarning\n",
      "[Parallel(n_jobs=-1)]: Done  42 tasks      | elapsed: 20.0min\n",
      "[Parallel(n_jobs=-1)]: Done 192 tasks      | elapsed: 104.3min\n",
      "[Parallel(n_jobs=-1)]: Done 442 tasks      | elapsed: 249.1min\n",
      "[Parallel(n_jobs=-1)]: Done 792 tasks      | elapsed: 449.8min\n",
      "[Parallel(n_jobs=-1)]: Done 1242 tasks      | elapsed: 729.7min\n",
      "[Parallel(n_jobs=-1)]: Done 1792 tasks      | elapsed: 1143.5min\n",
      "[Parallel(n_jobs=-1)]: Done 2442 tasks      | elapsed: 1652.7min\n",
      "[Parallel(n_jobs=-1)]: Done 3192 tasks      | elapsed: 2317.6min\n",
      "[Parallel(n_jobs=-1)]: Done 4042 tasks      | elapsed: 3253.0min\n",
      "[Parallel(n_jobs=-1)]: Done 4320 out of 4320 | elapsed: 3578.3min finished\n",
      "/Users/iflab/Desktop/anaconda3/lib/python3.7/site-packages/sklearn/preprocessing/label.py:219: DataConversionWarning: A column-vector y was passed when a 1d array was expected. Please change the shape of y to (n_samples, ), for example using ravel().\n",
      "  y = column_or_1d(y, warn=True)\n",
      "/Users/iflab/Desktop/anaconda3/lib/python3.7/site-packages/sklearn/preprocessing/label.py:252: DataConversionWarning: A column-vector y was passed when a 1d array was expected. Please change the shape of y to (n_samples, ), for example using ravel().\n",
      "  y = column_or_1d(y, warn=True)\n"
     ]
    },
    {
     "data": {
      "text/plain": [
       "GridSearchCV(cv=KFold(n_splits=5, random_state=123457, shuffle=True),\n",
       "             error_score='raise-deprecating',\n",
       "             estimator=Pipeline(memory=None,\n",
       "                                steps=[('scaler',\n",
       "                                        Normalizer(copy=True, norm='l2')),\n",
       "                                       ('classifier',\n",
       "                                        XGBClassifier(base_score=0.5,\n",
       "                                                      booster='gbtree',\n",
       "                                                      colsample_bylevel=1,\n",
       "                                                      colsample_bynode=1,\n",
       "                                                      colsample_bytree=1,\n",
       "                                                      gamma=0,\n",
       "                                                      learning_rate=0.1,\n",
       "                                                      max_delta_step=0,\n",
       "                                                      max_depth...\n",
       "             param_grid={'classifier__colsample_bytree': [0.3, 0.5, 0.7, 1],\n",
       "                         'classifier__gamma': [0.0, 0.1, 0.2],\n",
       "                         'classifier__learning_rate': [1, 0.1, 0.01],\n",
       "                         'classifier__max_depth': [4, 6, 8, 10],\n",
       "                         'classifier__min_child_weight': [1, 3],\n",
       "                         'scaler': [Normalizer(copy=True, norm='l2'),\n",
       "                                    MinMaxScaler(copy=True,\n",
       "                                                 feature_range=(0, 1)),\n",
       "                                    None]},\n",
       "             pre_dispatch='2*n_jobs', refit=True, return_train_score=True,\n",
       "             scoring='roc_auc', verbose=1)"
      ]
     },
     "execution_count": 59,
     "metadata": {},
     "output_type": "execute_result"
    }
   ],
   "source": [
    "SearchCV.fit(X_train,y_train)"
   ]
  },
  {
   "cell_type": "code",
   "execution_count": 60,
   "metadata": {},
   "outputs": [
    {
     "name": "stdout",
     "output_type": "stream",
     "text": [
      "{'classifier__colsample_bytree': 0.5, 'classifier__gamma': 0.0, 'classifier__learning_rate': 0.1, 'classifier__max_depth': 10, 'classifier__min_child_weight': 1, 'scaler': None}\n",
      "0.9702318533407693\n"
     ]
    }
   ],
   "source": [
    "best_estimator = SearchCV.best_estimator_\n",
    "best_params = SearchCV.best_params_\n",
    "print(best_params)\n",
    "print(SearchCV.best_score_)"
   ]
  },
  {
   "cell_type": "code",
   "execution_count": 61,
   "metadata": {},
   "outputs": [
    {
     "name": "stdout",
     "output_type": "stream",
     "text": [
      " test score (roc_auc): 0.9700551709137117\n"
     ]
    }
   ],
   "source": [
    "y_test_pred = SearchCV.predict(X_test)\n",
    "test_score = SearchCV.score(X_test, y_test) \n",
    "print(\" test score (\"+scoring+\"):\", test_score)"
   ]
  },
  {
   "cell_type": "code",
   "execution_count": 62,
   "metadata": {},
   "outputs": [],
   "source": [
    "r_lr=SearchCV.cv_results_"
   ]
  },
  {
   "cell_type": "code",
   "execution_count": 63,
   "metadata": {},
   "outputs": [
    {
     "name": "stdout",
     "output_type": "stream",
     "text": [
      "parans:\n",
      " [{'classifier__colsample_bytree': 0.3, 'classifier__gamma': 0.0, 'classifier__learning_rate': 1, 'classifier__max_depth': 4, 'classifier__min_child_weight': 1, 'scaler': Normalizer(copy=True, norm='l2')}, {'classifier__colsample_bytree': 0.3, 'classifier__gamma': 0.0, 'classifier__learning_rate': 1, 'classifier__max_depth': 4, 'classifier__min_child_weight': 1, 'scaler': MinMaxScaler(copy=True, feature_range=(0, 1))}, {'classifier__colsample_bytree': 0.3, 'classifier__gamma': 0.0, 'classifier__learning_rate': 1, 'classifier__max_depth': 4, 'classifier__min_child_weight': 1, 'scaler': None}, {'classifier__colsample_bytree': 0.3, 'classifier__gamma': 0.0, 'classifier__learning_rate': 1, 'classifier__max_depth': 4, 'classifier__min_child_weight': 3, 'scaler': Normalizer(copy=True, norm='l2')}, {'classifier__colsample_bytree': 0.3, 'classifier__gamma': 0.0, 'classifier__learning_rate': 1, 'classifier__max_depth': 4, 'classifier__min_child_weight': 3, 'scaler': MinMaxScaler(copy=True, feature_range=(0, 1))}, {'classifier__colsample_bytree': 0.3, 'classifier__gamma': 0.0, 'classifier__learning_rate': 1, 'classifier__max_depth': 4, 'classifier__min_child_weight': 3, 'scaler': None}, {'classifier__colsample_bytree': 0.3, 'classifier__gamma': 0.0, 'classifier__learning_rate': 1, 'classifier__max_depth': 6, 'classifier__min_child_weight': 1, 'scaler': Normalizer(copy=True, norm='l2')}, {'classifier__colsample_bytree': 0.3, 'classifier__gamma': 0.0, 'classifier__learning_rate': 1, 'classifier__max_depth': 6, 'classifier__min_child_weight': 1, 'scaler': MinMaxScaler(copy=True, feature_range=(0, 1))}, {'classifier__colsample_bytree': 0.3, 'classifier__gamma': 0.0, 'classifier__learning_rate': 1, 'classifier__max_depth': 6, 'classifier__min_child_weight': 1, 'scaler': None}, {'classifier__colsample_bytree': 0.3, 'classifier__gamma': 0.0, 'classifier__learning_rate': 1, 'classifier__max_depth': 6, 'classifier__min_child_weight': 3, 'scaler': Normalizer(copy=True, norm='l2')}, {'classifier__colsample_bytree': 0.3, 'classifier__gamma': 0.0, 'classifier__learning_rate': 1, 'classifier__max_depth': 6, 'classifier__min_child_weight': 3, 'scaler': MinMaxScaler(copy=True, feature_range=(0, 1))}, {'classifier__colsample_bytree': 0.3, 'classifier__gamma': 0.0, 'classifier__learning_rate': 1, 'classifier__max_depth': 6, 'classifier__min_child_weight': 3, 'scaler': None}, {'classifier__colsample_bytree': 0.3, 'classifier__gamma': 0.0, 'classifier__learning_rate': 1, 'classifier__max_depth': 8, 'classifier__min_child_weight': 1, 'scaler': Normalizer(copy=True, norm='l2')}, {'classifier__colsample_bytree': 0.3, 'classifier__gamma': 0.0, 'classifier__learning_rate': 1, 'classifier__max_depth': 8, 'classifier__min_child_weight': 1, 'scaler': MinMaxScaler(copy=True, feature_range=(0, 1))}, {'classifier__colsample_bytree': 0.3, 'classifier__gamma': 0.0, 'classifier__learning_rate': 1, 'classifier__max_depth': 8, 'classifier__min_child_weight': 1, 'scaler': None}, {'classifier__colsample_bytree': 0.3, 'classifier__gamma': 0.0, 'classifier__learning_rate': 1, 'classifier__max_depth': 8, 'classifier__min_child_weight': 3, 'scaler': Normalizer(copy=True, norm='l2')}, {'classifier__colsample_bytree': 0.3, 'classifier__gamma': 0.0, 'classifier__learning_rate': 1, 'classifier__max_depth': 8, 'classifier__min_child_weight': 3, 'scaler': MinMaxScaler(copy=True, feature_range=(0, 1))}, {'classifier__colsample_bytree': 0.3, 'classifier__gamma': 0.0, 'classifier__learning_rate': 1, 'classifier__max_depth': 8, 'classifier__min_child_weight': 3, 'scaler': None}, {'classifier__colsample_bytree': 0.3, 'classifier__gamma': 0.0, 'classifier__learning_rate': 1, 'classifier__max_depth': 10, 'classifier__min_child_weight': 1, 'scaler': Normalizer(copy=True, norm='l2')}, {'classifier__colsample_bytree': 0.3, 'classifier__gamma': 0.0, 'classifier__learning_rate': 1, 'classifier__max_depth': 10, 'classifier__min_child_weight': 1, 'scaler': MinMaxScaler(copy=True, feature_range=(0, 1))}, {'classifier__colsample_bytree': 0.3, 'classifier__gamma': 0.0, 'classifier__learning_rate': 1, 'classifier__max_depth': 10, 'classifier__min_child_weight': 1, 'scaler': None}, {'classifier__colsample_bytree': 0.3, 'classifier__gamma': 0.0, 'classifier__learning_rate': 1, 'classifier__max_depth': 10, 'classifier__min_child_weight': 3, 'scaler': Normalizer(copy=True, norm='l2')}, {'classifier__colsample_bytree': 0.3, 'classifier__gamma': 0.0, 'classifier__learning_rate': 1, 'classifier__max_depth': 10, 'classifier__min_child_weight': 3, 'scaler': MinMaxScaler(copy=True, feature_range=(0, 1))}, {'classifier__colsample_bytree': 0.3, 'classifier__gamma': 0.0, 'classifier__learning_rate': 1, 'classifier__max_depth': 10, 'classifier__min_child_weight': 3, 'scaler': None}, {'classifier__colsample_bytree': 0.3, 'classifier__gamma': 0.0, 'classifier__learning_rate': 0.1, 'classifier__max_depth': 4, 'classifier__min_child_weight': 1, 'scaler': Normalizer(copy=True, norm='l2')}, {'classifier__colsample_bytree': 0.3, 'classifier__gamma': 0.0, 'classifier__learning_rate': 0.1, 'classifier__max_depth': 4, 'classifier__min_child_weight': 1, 'scaler': MinMaxScaler(copy=True, feature_range=(0, 1))}, {'classifier__colsample_bytree': 0.3, 'classifier__gamma': 0.0, 'classifier__learning_rate': 0.1, 'classifier__max_depth': 4, 'classifier__min_child_weight': 1, 'scaler': None}, {'classifier__colsample_bytree': 0.3, 'classifier__gamma': 0.0, 'classifier__learning_rate': 0.1, 'classifier__max_depth': 4, 'classifier__min_child_weight': 3, 'scaler': Normalizer(copy=True, norm='l2')}, {'classifier__colsample_bytree': 0.3, 'classifier__gamma': 0.0, 'classifier__learning_rate': 0.1, 'classifier__max_depth': 4, 'classifier__min_child_weight': 3, 'scaler': MinMaxScaler(copy=True, feature_range=(0, 1))}, {'classifier__colsample_bytree': 0.3, 'classifier__gamma': 0.0, 'classifier__learning_rate': 0.1, 'classifier__max_depth': 4, 'classifier__min_child_weight': 3, 'scaler': None}, {'classifier__colsample_bytree': 0.3, 'classifier__gamma': 0.0, 'classifier__learning_rate': 0.1, 'classifier__max_depth': 6, 'classifier__min_child_weight': 1, 'scaler': Normalizer(copy=True, norm='l2')}, {'classifier__colsample_bytree': 0.3, 'classifier__gamma': 0.0, 'classifier__learning_rate': 0.1, 'classifier__max_depth': 6, 'classifier__min_child_weight': 1, 'scaler': MinMaxScaler(copy=True, feature_range=(0, 1))}, {'classifier__colsample_bytree': 0.3, 'classifier__gamma': 0.0, 'classifier__learning_rate': 0.1, 'classifier__max_depth': 6, 'classifier__min_child_weight': 1, 'scaler': None}, {'classifier__colsample_bytree': 0.3, 'classifier__gamma': 0.0, 'classifier__learning_rate': 0.1, 'classifier__max_depth': 6, 'classifier__min_child_weight': 3, 'scaler': Normalizer(copy=True, norm='l2')}, {'classifier__colsample_bytree': 0.3, 'classifier__gamma': 0.0, 'classifier__learning_rate': 0.1, 'classifier__max_depth': 6, 'classifier__min_child_weight': 3, 'scaler': MinMaxScaler(copy=True, feature_range=(0, 1))}, {'classifier__colsample_bytree': 0.3, 'classifier__gamma': 0.0, 'classifier__learning_rate': 0.1, 'classifier__max_depth': 6, 'classifier__min_child_weight': 3, 'scaler': None}, {'classifier__colsample_bytree': 0.3, 'classifier__gamma': 0.0, 'classifier__learning_rate': 0.1, 'classifier__max_depth': 8, 'classifier__min_child_weight': 1, 'scaler': Normalizer(copy=True, norm='l2')}, {'classifier__colsample_bytree': 0.3, 'classifier__gamma': 0.0, 'classifier__learning_rate': 0.1, 'classifier__max_depth': 8, 'classifier__min_child_weight': 1, 'scaler': MinMaxScaler(copy=True, feature_range=(0, 1))}, {'classifier__colsample_bytree': 0.3, 'classifier__gamma': 0.0, 'classifier__learning_rate': 0.1, 'classifier__max_depth': 8, 'classifier__min_child_weight': 1, 'scaler': None}, {'classifier__colsample_bytree': 0.3, 'classifier__gamma': 0.0, 'classifier__learning_rate': 0.1, 'classifier__max_depth': 8, 'classifier__min_child_weight': 3, 'scaler': Normalizer(copy=True, norm='l2')}, {'classifier__colsample_bytree': 0.3, 'classifier__gamma': 0.0, 'classifier__learning_rate': 0.1, 'classifier__max_depth': 8, 'classifier__min_child_weight': 3, 'scaler': MinMaxScaler(copy=True, feature_range=(0, 1))}, {'classifier__colsample_bytree': 0.3, 'classifier__gamma': 0.0, 'classifier__learning_rate': 0.1, 'classifier__max_depth': 8, 'classifier__min_child_weight': 3, 'scaler': None}, {'classifier__colsample_bytree': 0.3, 'classifier__gamma': 0.0, 'classifier__learning_rate': 0.1, 'classifier__max_depth': 10, 'classifier__min_child_weight': 1, 'scaler': Normalizer(copy=True, norm='l2')}, {'classifier__colsample_bytree': 0.3, 'classifier__gamma': 0.0, 'classifier__learning_rate': 0.1, 'classifier__max_depth': 10, 'classifier__min_child_weight': 1, 'scaler': MinMaxScaler(copy=True, feature_range=(0, 1))}, {'classifier__colsample_bytree': 0.3, 'classifier__gamma': 0.0, 'classifier__learning_rate': 0.1, 'classifier__max_depth': 10, 'classifier__min_child_weight': 1, 'scaler': None}, {'classifier__colsample_bytree': 0.3, 'classifier__gamma': 0.0, 'classifier__learning_rate': 0.1, 'classifier__max_depth': 10, 'classifier__min_child_weight': 3, 'scaler': Normalizer(copy=True, norm='l2')}, {'classifier__colsample_bytree': 0.3, 'classifier__gamma': 0.0, 'classifier__learning_rate': 0.1, 'classifier__max_depth': 10, 'classifier__min_child_weight': 3, 'scaler': MinMaxScaler(copy=True, feature_range=(0, 1))}, {'classifier__colsample_bytree': 0.3, 'classifier__gamma': 0.0, 'classifier__learning_rate': 0.1, 'classifier__max_depth': 10, 'classifier__min_child_weight': 3, 'scaler': None}, {'classifier__colsample_bytree': 0.3, 'classifier__gamma': 0.0, 'classifier__learning_rate': 0.01, 'classifier__max_depth': 4, 'classifier__min_child_weight': 1, 'scaler': Normalizer(copy=True, norm='l2')}, {'classifier__colsample_bytree': 0.3, 'classifier__gamma': 0.0, 'classifier__learning_rate': 0.01, 'classifier__max_depth': 4, 'classifier__min_child_weight': 1, 'scaler': MinMaxScaler(copy=True, feature_range=(0, 1))}, {'classifier__colsample_bytree': 0.3, 'classifier__gamma': 0.0, 'classifier__learning_rate': 0.01, 'classifier__max_depth': 4, 'classifier__min_child_weight': 1, 'scaler': None}, {'classifier__colsample_bytree': 0.3, 'classifier__gamma': 0.0, 'classifier__learning_rate': 0.01, 'classifier__max_depth': 4, 'classifier__min_child_weight': 3, 'scaler': Normalizer(copy=True, norm='l2')}, {'classifier__colsample_bytree': 0.3, 'classifier__gamma': 0.0, 'classifier__learning_rate': 0.01, 'classifier__max_depth': 4, 'classifier__min_child_weight': 3, 'scaler': MinMaxScaler(copy=True, feature_range=(0, 1))}, {'classifier__colsample_bytree': 0.3, 'classifier__gamma': 0.0, 'classifier__learning_rate': 0.01, 'classifier__max_depth': 4, 'classifier__min_child_weight': 3, 'scaler': None}, {'classifier__colsample_bytree': 0.3, 'classifier__gamma': 0.0, 'classifier__learning_rate': 0.01, 'classifier__max_depth': 6, 'classifier__min_child_weight': 1, 'scaler': Normalizer(copy=True, norm='l2')}, {'classifier__colsample_bytree': 0.3, 'classifier__gamma': 0.0, 'classifier__learning_rate': 0.01, 'classifier__max_depth': 6, 'classifier__min_child_weight': 1, 'scaler': MinMaxScaler(copy=True, feature_range=(0, 1))}, {'classifier__colsample_bytree': 0.3, 'classifier__gamma': 0.0, 'classifier__learning_rate': 0.01, 'classifier__max_depth': 6, 'classifier__min_child_weight': 1, 'scaler': None}, {'classifier__colsample_bytree': 0.3, 'classifier__gamma': 0.0, 'classifier__learning_rate': 0.01, 'classifier__max_depth': 6, 'classifier__min_child_weight': 3, 'scaler': Normalizer(copy=True, norm='l2')}, {'classifier__colsample_bytree': 0.3, 'classifier__gamma': 0.0, 'classifier__learning_rate': 0.01, 'classifier__max_depth': 6, 'classifier__min_child_weight': 3, 'scaler': MinMaxScaler(copy=True, feature_range=(0, 1))}, {'classifier__colsample_bytree': 0.3, 'classifier__gamma': 0.0, 'classifier__learning_rate': 0.01, 'classifier__max_depth': 6, 'classifier__min_child_weight': 3, 'scaler': None}, {'classifier__colsample_bytree': 0.3, 'classifier__gamma': 0.0, 'classifier__learning_rate': 0.01, 'classifier__max_depth': 8, 'classifier__min_child_weight': 1, 'scaler': Normalizer(copy=True, norm='l2')}, {'classifier__colsample_bytree': 0.3, 'classifier__gamma': 0.0, 'classifier__learning_rate': 0.01, 'classifier__max_depth': 8, 'classifier__min_child_weight': 1, 'scaler': MinMaxScaler(copy=True, feature_range=(0, 1))}, {'classifier__colsample_bytree': 0.3, 'classifier__gamma': 0.0, 'classifier__learning_rate': 0.01, 'classifier__max_depth': 8, 'classifier__min_child_weight': 1, 'scaler': None}, {'classifier__colsample_bytree': 0.3, 'classifier__gamma': 0.0, 'classifier__learning_rate': 0.01, 'classifier__max_depth': 8, 'classifier__min_child_weight': 3, 'scaler': Normalizer(copy=True, norm='l2')}, {'classifier__colsample_bytree': 0.3, 'classifier__gamma': 0.0, 'classifier__learning_rate': 0.01, 'classifier__max_depth': 8, 'classifier__min_child_weight': 3, 'scaler': MinMaxScaler(copy=True, feature_range=(0, 1))}, {'classifier__colsample_bytree': 0.3, 'classifier__gamma': 0.0, 'classifier__learning_rate': 0.01, 'classifier__max_depth': 8, 'classifier__min_child_weight': 3, 'scaler': None}, {'classifier__colsample_bytree': 0.3, 'classifier__gamma': 0.0, 'classifier__learning_rate': 0.01, 'classifier__max_depth': 10, 'classifier__min_child_weight': 1, 'scaler': Normalizer(copy=True, norm='l2')}, {'classifier__colsample_bytree': 0.3, 'classifier__gamma': 0.0, 'classifier__learning_rate': 0.01, 'classifier__max_depth': 10, 'classifier__min_child_weight': 1, 'scaler': MinMaxScaler(copy=True, feature_range=(0, 1))}, {'classifier__colsample_bytree': 0.3, 'classifier__gamma': 0.0, 'classifier__learning_rate': 0.01, 'classifier__max_depth': 10, 'classifier__min_child_weight': 1, 'scaler': None}, {'classifier__colsample_bytree': 0.3, 'classifier__gamma': 0.0, 'classifier__learning_rate': 0.01, 'classifier__max_depth': 10, 'classifier__min_child_weight': 3, 'scaler': Normalizer(copy=True, norm='l2')}, {'classifier__colsample_bytree': 0.3, 'classifier__gamma': 0.0, 'classifier__learning_rate': 0.01, 'classifier__max_depth': 10, 'classifier__min_child_weight': 3, 'scaler': MinMaxScaler(copy=True, feature_range=(0, 1))}, {'classifier__colsample_bytree': 0.3, 'classifier__gamma': 0.0, 'classifier__learning_rate': 0.01, 'classifier__max_depth': 10, 'classifier__min_child_weight': 3, 'scaler': None}, {'classifier__colsample_bytree': 0.3, 'classifier__gamma': 0.1, 'classifier__learning_rate': 1, 'classifier__max_depth': 4, 'classifier__min_child_weight': 1, 'scaler': Normalizer(copy=True, norm='l2')}, {'classifier__colsample_bytree': 0.3, 'classifier__gamma': 0.1, 'classifier__learning_rate': 1, 'classifier__max_depth': 4, 'classifier__min_child_weight': 1, 'scaler': MinMaxScaler(copy=True, feature_range=(0, 1))}, {'classifier__colsample_bytree': 0.3, 'classifier__gamma': 0.1, 'classifier__learning_rate': 1, 'classifier__max_depth': 4, 'classifier__min_child_weight': 1, 'scaler': None}, {'classifier__colsample_bytree': 0.3, 'classifier__gamma': 0.1, 'classifier__learning_rate': 1, 'classifier__max_depth': 4, 'classifier__min_child_weight': 3, 'scaler': Normalizer(copy=True, norm='l2')}, {'classifier__colsample_bytree': 0.3, 'classifier__gamma': 0.1, 'classifier__learning_rate': 1, 'classifier__max_depth': 4, 'classifier__min_child_weight': 3, 'scaler': MinMaxScaler(copy=True, feature_range=(0, 1))}, {'classifier__colsample_bytree': 0.3, 'classifier__gamma': 0.1, 'classifier__learning_rate': 1, 'classifier__max_depth': 4, 'classifier__min_child_weight': 3, 'scaler': None}, {'classifier__colsample_bytree': 0.3, 'classifier__gamma': 0.1, 'classifier__learning_rate': 1, 'classifier__max_depth': 6, 'classifier__min_child_weight': 1, 'scaler': Normalizer(copy=True, norm='l2')}, {'classifier__colsample_bytree': 0.3, 'classifier__gamma': 0.1, 'classifier__learning_rate': 1, 'classifier__max_depth': 6, 'classifier__min_child_weight': 1, 'scaler': MinMaxScaler(copy=True, feature_range=(0, 1))}, {'classifier__colsample_bytree': 0.3, 'classifier__gamma': 0.1, 'classifier__learning_rate': 1, 'classifier__max_depth': 6, 'classifier__min_child_weight': 1, 'scaler': None}, {'classifier__colsample_bytree': 0.3, 'classifier__gamma': 0.1, 'classifier__learning_rate': 1, 'classifier__max_depth': 6, 'classifier__min_child_weight': 3, 'scaler': Normalizer(copy=True, norm='l2')}, {'classifier__colsample_bytree': 0.3, 'classifier__gamma': 0.1, 'classifier__learning_rate': 1, 'classifier__max_depth': 6, 'classifier__min_child_weight': 3, 'scaler': MinMaxScaler(copy=True, feature_range=(0, 1))}, {'classifier__colsample_bytree': 0.3, 'classifier__gamma': 0.1, 'classifier__learning_rate': 1, 'classifier__max_depth': 6, 'classifier__min_child_weight': 3, 'scaler': None}, {'classifier__colsample_bytree': 0.3, 'classifier__gamma': 0.1, 'classifier__learning_rate': 1, 'classifier__max_depth': 8, 'classifier__min_child_weight': 1, 'scaler': Normalizer(copy=True, norm='l2')}, {'classifier__colsample_bytree': 0.3, 'classifier__gamma': 0.1, 'classifier__learning_rate': 1, 'classifier__max_depth': 8, 'classifier__min_child_weight': 1, 'scaler': MinMaxScaler(copy=True, feature_range=(0, 1))}, {'classifier__colsample_bytree': 0.3, 'classifier__gamma': 0.1, 'classifier__learning_rate': 1, 'classifier__max_depth': 8, 'classifier__min_child_weight': 1, 'scaler': None}, {'classifier__colsample_bytree': 0.3, 'classifier__gamma': 0.1, 'classifier__learning_rate': 1, 'classifier__max_depth': 8, 'classifier__min_child_weight': 3, 'scaler': Normalizer(copy=True, norm='l2')}, {'classifier__colsample_bytree': 0.3, 'classifier__gamma': 0.1, 'classifier__learning_rate': 1, 'classifier__max_depth': 8, 'classifier__min_child_weight': 3, 'scaler': MinMaxScaler(copy=True, feature_range=(0, 1))}, {'classifier__colsample_bytree': 0.3, 'classifier__gamma': 0.1, 'classifier__learning_rate': 1, 'classifier__max_depth': 8, 'classifier__min_child_weight': 3, 'scaler': None}, {'classifier__colsample_bytree': 0.3, 'classifier__gamma': 0.1, 'classifier__learning_rate': 1, 'classifier__max_depth': 10, 'classifier__min_child_weight': 1, 'scaler': Normalizer(copy=True, norm='l2')}, {'classifier__colsample_bytree': 0.3, 'classifier__gamma': 0.1, 'classifier__learning_rate': 1, 'classifier__max_depth': 10, 'classifier__min_child_weight': 1, 'scaler': MinMaxScaler(copy=True, feature_range=(0, 1))}, {'classifier__colsample_bytree': 0.3, 'classifier__gamma': 0.1, 'classifier__learning_rate': 1, 'classifier__max_depth': 10, 'classifier__min_child_weight': 1, 'scaler': None}, {'classifier__colsample_bytree': 0.3, 'classifier__gamma': 0.1, 'classifier__learning_rate': 1, 'classifier__max_depth': 10, 'classifier__min_child_weight': 3, 'scaler': Normalizer(copy=True, norm='l2')}, {'classifier__colsample_bytree': 0.3, 'classifier__gamma': 0.1, 'classifier__learning_rate': 1, 'classifier__max_depth': 10, 'classifier__min_child_weight': 3, 'scaler': MinMaxScaler(copy=True, feature_range=(0, 1))}, {'classifier__colsample_bytree': 0.3, 'classifier__gamma': 0.1, 'classifier__learning_rate': 1, 'classifier__max_depth': 10, 'classifier__min_child_weight': 3, 'scaler': None}, {'classifier__colsample_bytree': 0.3, 'classifier__gamma': 0.1, 'classifier__learning_rate': 0.1, 'classifier__max_depth': 4, 'classifier__min_child_weight': 1, 'scaler': Normalizer(copy=True, norm='l2')}, {'classifier__colsample_bytree': 0.3, 'classifier__gamma': 0.1, 'classifier__learning_rate': 0.1, 'classifier__max_depth': 4, 'classifier__min_child_weight': 1, 'scaler': MinMaxScaler(copy=True, feature_range=(0, 1))}, {'classifier__colsample_bytree': 0.3, 'classifier__gamma': 0.1, 'classifier__learning_rate': 0.1, 'classifier__max_depth': 4, 'classifier__min_child_weight': 1, 'scaler': None}, {'classifier__colsample_bytree': 0.3, 'classifier__gamma': 0.1, 'classifier__learning_rate': 0.1, 'classifier__max_depth': 4, 'classifier__min_child_weight': 3, 'scaler': Normalizer(copy=True, norm='l2')}, {'classifier__colsample_bytree': 0.3, 'classifier__gamma': 0.1, 'classifier__learning_rate': 0.1, 'classifier__max_depth': 4, 'classifier__min_child_weight': 3, 'scaler': MinMaxScaler(copy=True, feature_range=(0, 1))}, {'classifier__colsample_bytree': 0.3, 'classifier__gamma': 0.1, 'classifier__learning_rate': 0.1, 'classifier__max_depth': 4, 'classifier__min_child_weight': 3, 'scaler': None}, {'classifier__colsample_bytree': 0.3, 'classifier__gamma': 0.1, 'classifier__learning_rate': 0.1, 'classifier__max_depth': 6, 'classifier__min_child_weight': 1, 'scaler': Normalizer(copy=True, norm='l2')}, {'classifier__colsample_bytree': 0.3, 'classifier__gamma': 0.1, 'classifier__learning_rate': 0.1, 'classifier__max_depth': 6, 'classifier__min_child_weight': 1, 'scaler': MinMaxScaler(copy=True, feature_range=(0, 1))}, {'classifier__colsample_bytree': 0.3, 'classifier__gamma': 0.1, 'classifier__learning_rate': 0.1, 'classifier__max_depth': 6, 'classifier__min_child_weight': 1, 'scaler': None}, {'classifier__colsample_bytree': 0.3, 'classifier__gamma': 0.1, 'classifier__learning_rate': 0.1, 'classifier__max_depth': 6, 'classifier__min_child_weight': 3, 'scaler': Normalizer(copy=True, norm='l2')}, {'classifier__colsample_bytree': 0.3, 'classifier__gamma': 0.1, 'classifier__learning_rate': 0.1, 'classifier__max_depth': 6, 'classifier__min_child_weight': 3, 'scaler': MinMaxScaler(copy=True, feature_range=(0, 1))}, {'classifier__colsample_bytree': 0.3, 'classifier__gamma': 0.1, 'classifier__learning_rate': 0.1, 'classifier__max_depth': 6, 'classifier__min_child_weight': 3, 'scaler': None}, {'classifier__colsample_bytree': 0.3, 'classifier__gamma': 0.1, 'classifier__learning_rate': 0.1, 'classifier__max_depth': 8, 'classifier__min_child_weight': 1, 'scaler': Normalizer(copy=True, norm='l2')}, {'classifier__colsample_bytree': 0.3, 'classifier__gamma': 0.1, 'classifier__learning_rate': 0.1, 'classifier__max_depth': 8, 'classifier__min_child_weight': 1, 'scaler': MinMaxScaler(copy=True, feature_range=(0, 1))}, {'classifier__colsample_bytree': 0.3, 'classifier__gamma': 0.1, 'classifier__learning_rate': 0.1, 'classifier__max_depth': 8, 'classifier__min_child_weight': 1, 'scaler': None}, {'classifier__colsample_bytree': 0.3, 'classifier__gamma': 0.1, 'classifier__learning_rate': 0.1, 'classifier__max_depth': 8, 'classifier__min_child_weight': 3, 'scaler': Normalizer(copy=True, norm='l2')}, {'classifier__colsample_bytree': 0.3, 'classifier__gamma': 0.1, 'classifier__learning_rate': 0.1, 'classifier__max_depth': 8, 'classifier__min_child_weight': 3, 'scaler': MinMaxScaler(copy=True, feature_range=(0, 1))}, {'classifier__colsample_bytree': 0.3, 'classifier__gamma': 0.1, 'classifier__learning_rate': 0.1, 'classifier__max_depth': 8, 'classifier__min_child_weight': 3, 'scaler': None}, {'classifier__colsample_bytree': 0.3, 'classifier__gamma': 0.1, 'classifier__learning_rate': 0.1, 'classifier__max_depth': 10, 'classifier__min_child_weight': 1, 'scaler': Normalizer(copy=True, norm='l2')}, {'classifier__colsample_bytree': 0.3, 'classifier__gamma': 0.1, 'classifier__learning_rate': 0.1, 'classifier__max_depth': 10, 'classifier__min_child_weight': 1, 'scaler': MinMaxScaler(copy=True, feature_range=(0, 1))}, {'classifier__colsample_bytree': 0.3, 'classifier__gamma': 0.1, 'classifier__learning_rate': 0.1, 'classifier__max_depth': 10, 'classifier__min_child_weight': 1, 'scaler': None}, {'classifier__colsample_bytree': 0.3, 'classifier__gamma': 0.1, 'classifier__learning_rate': 0.1, 'classifier__max_depth': 10, 'classifier__min_child_weight': 3, 'scaler': Normalizer(copy=True, norm='l2')}, {'classifier__colsample_bytree': 0.3, 'classifier__gamma': 0.1, 'classifier__learning_rate': 0.1, 'classifier__max_depth': 10, 'classifier__min_child_weight': 3, 'scaler': MinMaxScaler(copy=True, feature_range=(0, 1))}, {'classifier__colsample_bytree': 0.3, 'classifier__gamma': 0.1, 'classifier__learning_rate': 0.1, 'classifier__max_depth': 10, 'classifier__min_child_weight': 3, 'scaler': None}, {'classifier__colsample_bytree': 0.3, 'classifier__gamma': 0.1, 'classifier__learning_rate': 0.01, 'classifier__max_depth': 4, 'classifier__min_child_weight': 1, 'scaler': Normalizer(copy=True, norm='l2')}, {'classifier__colsample_bytree': 0.3, 'classifier__gamma': 0.1, 'classifier__learning_rate': 0.01, 'classifier__max_depth': 4, 'classifier__min_child_weight': 1, 'scaler': MinMaxScaler(copy=True, feature_range=(0, 1))}, {'classifier__colsample_bytree': 0.3, 'classifier__gamma': 0.1, 'classifier__learning_rate': 0.01, 'classifier__max_depth': 4, 'classifier__min_child_weight': 1, 'scaler': None}, {'classifier__colsample_bytree': 0.3, 'classifier__gamma': 0.1, 'classifier__learning_rate': 0.01, 'classifier__max_depth': 4, 'classifier__min_child_weight': 3, 'scaler': Normalizer(copy=True, norm='l2')}, {'classifier__colsample_bytree': 0.3, 'classifier__gamma': 0.1, 'classifier__learning_rate': 0.01, 'classifier__max_depth': 4, 'classifier__min_child_weight': 3, 'scaler': MinMaxScaler(copy=True, feature_range=(0, 1))}, {'classifier__colsample_bytree': 0.3, 'classifier__gamma': 0.1, 'classifier__learning_rate': 0.01, 'classifier__max_depth': 4, 'classifier__min_child_weight': 3, 'scaler': None}, {'classifier__colsample_bytree': 0.3, 'classifier__gamma': 0.1, 'classifier__learning_rate': 0.01, 'classifier__max_depth': 6, 'classifier__min_child_weight': 1, 'scaler': Normalizer(copy=True, norm='l2')}, {'classifier__colsample_bytree': 0.3, 'classifier__gamma': 0.1, 'classifier__learning_rate': 0.01, 'classifier__max_depth': 6, 'classifier__min_child_weight': 1, 'scaler': MinMaxScaler(copy=True, feature_range=(0, 1))}, {'classifier__colsample_bytree': 0.3, 'classifier__gamma': 0.1, 'classifier__learning_rate': 0.01, 'classifier__max_depth': 6, 'classifier__min_child_weight': 1, 'scaler': None}, {'classifier__colsample_bytree': 0.3, 'classifier__gamma': 0.1, 'classifier__learning_rate': 0.01, 'classifier__max_depth': 6, 'classifier__min_child_weight': 3, 'scaler': Normalizer(copy=True, norm='l2')}, {'classifier__colsample_bytree': 0.3, 'classifier__gamma': 0.1, 'classifier__learning_rate': 0.01, 'classifier__max_depth': 6, 'classifier__min_child_weight': 3, 'scaler': MinMaxScaler(copy=True, feature_range=(0, 1))}, {'classifier__colsample_bytree': 0.3, 'classifier__gamma': 0.1, 'classifier__learning_rate': 0.01, 'classifier__max_depth': 6, 'classifier__min_child_weight': 3, 'scaler': None}, {'classifier__colsample_bytree': 0.3, 'classifier__gamma': 0.1, 'classifier__learning_rate': 0.01, 'classifier__max_depth': 8, 'classifier__min_child_weight': 1, 'scaler': Normalizer(copy=True, norm='l2')}, {'classifier__colsample_bytree': 0.3, 'classifier__gamma': 0.1, 'classifier__learning_rate': 0.01, 'classifier__max_depth': 8, 'classifier__min_child_weight': 1, 'scaler': MinMaxScaler(copy=True, feature_range=(0, 1))}, {'classifier__colsample_bytree': 0.3, 'classifier__gamma': 0.1, 'classifier__learning_rate': 0.01, 'classifier__max_depth': 8, 'classifier__min_child_weight': 1, 'scaler': None}, {'classifier__colsample_bytree': 0.3, 'classifier__gamma': 0.1, 'classifier__learning_rate': 0.01, 'classifier__max_depth': 8, 'classifier__min_child_weight': 3, 'scaler': Normalizer(copy=True, norm='l2')}, {'classifier__colsample_bytree': 0.3, 'classifier__gamma': 0.1, 'classifier__learning_rate': 0.01, 'classifier__max_depth': 8, 'classifier__min_child_weight': 3, 'scaler': MinMaxScaler(copy=True, feature_range=(0, 1))}, {'classifier__colsample_bytree': 0.3, 'classifier__gamma': 0.1, 'classifier__learning_rate': 0.01, 'classifier__max_depth': 8, 'classifier__min_child_weight': 3, 'scaler': None}, {'classifier__colsample_bytree': 0.3, 'classifier__gamma': 0.1, 'classifier__learning_rate': 0.01, 'classifier__max_depth': 10, 'classifier__min_child_weight': 1, 'scaler': Normalizer(copy=True, norm='l2')}, {'classifier__colsample_bytree': 0.3, 'classifier__gamma': 0.1, 'classifier__learning_rate': 0.01, 'classifier__max_depth': 10, 'classifier__min_child_weight': 1, 'scaler': MinMaxScaler(copy=True, feature_range=(0, 1))}, {'classifier__colsample_bytree': 0.3, 'classifier__gamma': 0.1, 'classifier__learning_rate': 0.01, 'classifier__max_depth': 10, 'classifier__min_child_weight': 1, 'scaler': None}, {'classifier__colsample_bytree': 0.3, 'classifier__gamma': 0.1, 'classifier__learning_rate': 0.01, 'classifier__max_depth': 10, 'classifier__min_child_weight': 3, 'scaler': Normalizer(copy=True, norm='l2')}, {'classifier__colsample_bytree': 0.3, 'classifier__gamma': 0.1, 'classifier__learning_rate': 0.01, 'classifier__max_depth': 10, 'classifier__min_child_weight': 3, 'scaler': MinMaxScaler(copy=True, feature_range=(0, 1))}, {'classifier__colsample_bytree': 0.3, 'classifier__gamma': 0.1, 'classifier__learning_rate': 0.01, 'classifier__max_depth': 10, 'classifier__min_child_weight': 3, 'scaler': None}, {'classifier__colsample_bytree': 0.3, 'classifier__gamma': 0.2, 'classifier__learning_rate': 1, 'classifier__max_depth': 4, 'classifier__min_child_weight': 1, 'scaler': Normalizer(copy=True, norm='l2')}, {'classifier__colsample_bytree': 0.3, 'classifier__gamma': 0.2, 'classifier__learning_rate': 1, 'classifier__max_depth': 4, 'classifier__min_child_weight': 1, 'scaler': MinMaxScaler(copy=True, feature_range=(0, 1))}, {'classifier__colsample_bytree': 0.3, 'classifier__gamma': 0.2, 'classifier__learning_rate': 1, 'classifier__max_depth': 4, 'classifier__min_child_weight': 1, 'scaler': None}, {'classifier__colsample_bytree': 0.3, 'classifier__gamma': 0.2, 'classifier__learning_rate': 1, 'classifier__max_depth': 4, 'classifier__min_child_weight': 3, 'scaler': Normalizer(copy=True, norm='l2')}, {'classifier__colsample_bytree': 0.3, 'classifier__gamma': 0.2, 'classifier__learning_rate': 1, 'classifier__max_depth': 4, 'classifier__min_child_weight': 3, 'scaler': MinMaxScaler(copy=True, feature_range=(0, 1))}, {'classifier__colsample_bytree': 0.3, 'classifier__gamma': 0.2, 'classifier__learning_rate': 1, 'classifier__max_depth': 4, 'classifier__min_child_weight': 3, 'scaler': None}, {'classifier__colsample_bytree': 0.3, 'classifier__gamma': 0.2, 'classifier__learning_rate': 1, 'classifier__max_depth': 6, 'classifier__min_child_weight': 1, 'scaler': Normalizer(copy=True, norm='l2')}, {'classifier__colsample_bytree': 0.3, 'classifier__gamma': 0.2, 'classifier__learning_rate': 1, 'classifier__max_depth': 6, 'classifier__min_child_weight': 1, 'scaler': MinMaxScaler(copy=True, feature_range=(0, 1))}, {'classifier__colsample_bytree': 0.3, 'classifier__gamma': 0.2, 'classifier__learning_rate': 1, 'classifier__max_depth': 6, 'classifier__min_child_weight': 1, 'scaler': None}, {'classifier__colsample_bytree': 0.3, 'classifier__gamma': 0.2, 'classifier__learning_rate': 1, 'classifier__max_depth': 6, 'classifier__min_child_weight': 3, 'scaler': Normalizer(copy=True, norm='l2')}, {'classifier__colsample_bytree': 0.3, 'classifier__gamma': 0.2, 'classifier__learning_rate': 1, 'classifier__max_depth': 6, 'classifier__min_child_weight': 3, 'scaler': MinMaxScaler(copy=True, feature_range=(0, 1))}, {'classifier__colsample_bytree': 0.3, 'classifier__gamma': 0.2, 'classifier__learning_rate': 1, 'classifier__max_depth': 6, 'classifier__min_child_weight': 3, 'scaler': None}, {'classifier__colsample_bytree': 0.3, 'classifier__gamma': 0.2, 'classifier__learning_rate': 1, 'classifier__max_depth': 8, 'classifier__min_child_weight': 1, 'scaler': Normalizer(copy=True, norm='l2')}, {'classifier__colsample_bytree': 0.3, 'classifier__gamma': 0.2, 'classifier__learning_rate': 1, 'classifier__max_depth': 8, 'classifier__min_child_weight': 1, 'scaler': MinMaxScaler(copy=True, feature_range=(0, 1))}, {'classifier__colsample_bytree': 0.3, 'classifier__gamma': 0.2, 'classifier__learning_rate': 1, 'classifier__max_depth': 8, 'classifier__min_child_weight': 1, 'scaler': None}, {'classifier__colsample_bytree': 0.3, 'classifier__gamma': 0.2, 'classifier__learning_rate': 1, 'classifier__max_depth': 8, 'classifier__min_child_weight': 3, 'scaler': Normalizer(copy=True, norm='l2')}, {'classifier__colsample_bytree': 0.3, 'classifier__gamma': 0.2, 'classifier__learning_rate': 1, 'classifier__max_depth': 8, 'classifier__min_child_weight': 3, 'scaler': MinMaxScaler(copy=True, feature_range=(0, 1))}, {'classifier__colsample_bytree': 0.3, 'classifier__gamma': 0.2, 'classifier__learning_rate': 1, 'classifier__max_depth': 8, 'classifier__min_child_weight': 3, 'scaler': None}, {'classifier__colsample_bytree': 0.3, 'classifier__gamma': 0.2, 'classifier__learning_rate': 1, 'classifier__max_depth': 10, 'classifier__min_child_weight': 1, 'scaler': Normalizer(copy=True, norm='l2')}, {'classifier__colsample_bytree': 0.3, 'classifier__gamma': 0.2, 'classifier__learning_rate': 1, 'classifier__max_depth': 10, 'classifier__min_child_weight': 1, 'scaler': MinMaxScaler(copy=True, feature_range=(0, 1))}, {'classifier__colsample_bytree': 0.3, 'classifier__gamma': 0.2, 'classifier__learning_rate': 1, 'classifier__max_depth': 10, 'classifier__min_child_weight': 1, 'scaler': None}, {'classifier__colsample_bytree': 0.3, 'classifier__gamma': 0.2, 'classifier__learning_rate': 1, 'classifier__max_depth': 10, 'classifier__min_child_weight': 3, 'scaler': Normalizer(copy=True, norm='l2')}, {'classifier__colsample_bytree': 0.3, 'classifier__gamma': 0.2, 'classifier__learning_rate': 1, 'classifier__max_depth': 10, 'classifier__min_child_weight': 3, 'scaler': MinMaxScaler(copy=True, feature_range=(0, 1))}, {'classifier__colsample_bytree': 0.3, 'classifier__gamma': 0.2, 'classifier__learning_rate': 1, 'classifier__max_depth': 10, 'classifier__min_child_weight': 3, 'scaler': None}, {'classifier__colsample_bytree': 0.3, 'classifier__gamma': 0.2, 'classifier__learning_rate': 0.1, 'classifier__max_depth': 4, 'classifier__min_child_weight': 1, 'scaler': Normalizer(copy=True, norm='l2')}, {'classifier__colsample_bytree': 0.3, 'classifier__gamma': 0.2, 'classifier__learning_rate': 0.1, 'classifier__max_depth': 4, 'classifier__min_child_weight': 1, 'scaler': MinMaxScaler(copy=True, feature_range=(0, 1))}, {'classifier__colsample_bytree': 0.3, 'classifier__gamma': 0.2, 'classifier__learning_rate': 0.1, 'classifier__max_depth': 4, 'classifier__min_child_weight': 1, 'scaler': None}, {'classifier__colsample_bytree': 0.3, 'classifier__gamma': 0.2, 'classifier__learning_rate': 0.1, 'classifier__max_depth': 4, 'classifier__min_child_weight': 3, 'scaler': Normalizer(copy=True, norm='l2')}, {'classifier__colsample_bytree': 0.3, 'classifier__gamma': 0.2, 'classifier__learning_rate': 0.1, 'classifier__max_depth': 4, 'classifier__min_child_weight': 3, 'scaler': MinMaxScaler(copy=True, feature_range=(0, 1))}, {'classifier__colsample_bytree': 0.3, 'classifier__gamma': 0.2, 'classifier__learning_rate': 0.1, 'classifier__max_depth': 4, 'classifier__min_child_weight': 3, 'scaler': None}, {'classifier__colsample_bytree': 0.3, 'classifier__gamma': 0.2, 'classifier__learning_rate': 0.1, 'classifier__max_depth': 6, 'classifier__min_child_weight': 1, 'scaler': Normalizer(copy=True, norm='l2')}, {'classifier__colsample_bytree': 0.3, 'classifier__gamma': 0.2, 'classifier__learning_rate': 0.1, 'classifier__max_depth': 6, 'classifier__min_child_weight': 1, 'scaler': MinMaxScaler(copy=True, feature_range=(0, 1))}, {'classifier__colsample_bytree': 0.3, 'classifier__gamma': 0.2, 'classifier__learning_rate': 0.1, 'classifier__max_depth': 6, 'classifier__min_child_weight': 1, 'scaler': None}, {'classifier__colsample_bytree': 0.3, 'classifier__gamma': 0.2, 'classifier__learning_rate': 0.1, 'classifier__max_depth': 6, 'classifier__min_child_weight': 3, 'scaler': Normalizer(copy=True, norm='l2')}, {'classifier__colsample_bytree': 0.3, 'classifier__gamma': 0.2, 'classifier__learning_rate': 0.1, 'classifier__max_depth': 6, 'classifier__min_child_weight': 3, 'scaler': MinMaxScaler(copy=True, feature_range=(0, 1))}, {'classifier__colsample_bytree': 0.3, 'classifier__gamma': 0.2, 'classifier__learning_rate': 0.1, 'classifier__max_depth': 6, 'classifier__min_child_weight': 3, 'scaler': None}, {'classifier__colsample_bytree': 0.3, 'classifier__gamma': 0.2, 'classifier__learning_rate': 0.1, 'classifier__max_depth': 8, 'classifier__min_child_weight': 1, 'scaler': Normalizer(copy=True, norm='l2')}, {'classifier__colsample_bytree': 0.3, 'classifier__gamma': 0.2, 'classifier__learning_rate': 0.1, 'classifier__max_depth': 8, 'classifier__min_child_weight': 1, 'scaler': MinMaxScaler(copy=True, feature_range=(0, 1))}, {'classifier__colsample_bytree': 0.3, 'classifier__gamma': 0.2, 'classifier__learning_rate': 0.1, 'classifier__max_depth': 8, 'classifier__min_child_weight': 1, 'scaler': None}, {'classifier__colsample_bytree': 0.3, 'classifier__gamma': 0.2, 'classifier__learning_rate': 0.1, 'classifier__max_depth': 8, 'classifier__min_child_weight': 3, 'scaler': Normalizer(copy=True, norm='l2')}, {'classifier__colsample_bytree': 0.3, 'classifier__gamma': 0.2, 'classifier__learning_rate': 0.1, 'classifier__max_depth': 8, 'classifier__min_child_weight': 3, 'scaler': MinMaxScaler(copy=True, feature_range=(0, 1))}, {'classifier__colsample_bytree': 0.3, 'classifier__gamma': 0.2, 'classifier__learning_rate': 0.1, 'classifier__max_depth': 8, 'classifier__min_child_weight': 3, 'scaler': None}, {'classifier__colsample_bytree': 0.3, 'classifier__gamma': 0.2, 'classifier__learning_rate': 0.1, 'classifier__max_depth': 10, 'classifier__min_child_weight': 1, 'scaler': Normalizer(copy=True, norm='l2')}, {'classifier__colsample_bytree': 0.3, 'classifier__gamma': 0.2, 'classifier__learning_rate': 0.1, 'classifier__max_depth': 10, 'classifier__min_child_weight': 1, 'scaler': MinMaxScaler(copy=True, feature_range=(0, 1))}, {'classifier__colsample_bytree': 0.3, 'classifier__gamma': 0.2, 'classifier__learning_rate': 0.1, 'classifier__max_depth': 10, 'classifier__min_child_weight': 1, 'scaler': None}, {'classifier__colsample_bytree': 0.3, 'classifier__gamma': 0.2, 'classifier__learning_rate': 0.1, 'classifier__max_depth': 10, 'classifier__min_child_weight': 3, 'scaler': Normalizer(copy=True, norm='l2')}, {'classifier__colsample_bytree': 0.3, 'classifier__gamma': 0.2, 'classifier__learning_rate': 0.1, 'classifier__max_depth': 10, 'classifier__min_child_weight': 3, 'scaler': MinMaxScaler(copy=True, feature_range=(0, 1))}, {'classifier__colsample_bytree': 0.3, 'classifier__gamma': 0.2, 'classifier__learning_rate': 0.1, 'classifier__max_depth': 10, 'classifier__min_child_weight': 3, 'scaler': None}, {'classifier__colsample_bytree': 0.3, 'classifier__gamma': 0.2, 'classifier__learning_rate': 0.01, 'classifier__max_depth': 4, 'classifier__min_child_weight': 1, 'scaler': Normalizer(copy=True, norm='l2')}, {'classifier__colsample_bytree': 0.3, 'classifier__gamma': 0.2, 'classifier__learning_rate': 0.01, 'classifier__max_depth': 4, 'classifier__min_child_weight': 1, 'scaler': MinMaxScaler(copy=True, feature_range=(0, 1))}, {'classifier__colsample_bytree': 0.3, 'classifier__gamma': 0.2, 'classifier__learning_rate': 0.01, 'classifier__max_depth': 4, 'classifier__min_child_weight': 1, 'scaler': None}, {'classifier__colsample_bytree': 0.3, 'classifier__gamma': 0.2, 'classifier__learning_rate': 0.01, 'classifier__max_depth': 4, 'classifier__min_child_weight': 3, 'scaler': Normalizer(copy=True, norm='l2')}, {'classifier__colsample_bytree': 0.3, 'classifier__gamma': 0.2, 'classifier__learning_rate': 0.01, 'classifier__max_depth': 4, 'classifier__min_child_weight': 3, 'scaler': MinMaxScaler(copy=True, feature_range=(0, 1))}, {'classifier__colsample_bytree': 0.3, 'classifier__gamma': 0.2, 'classifier__learning_rate': 0.01, 'classifier__max_depth': 4, 'classifier__min_child_weight': 3, 'scaler': None}, {'classifier__colsample_bytree': 0.3, 'classifier__gamma': 0.2, 'classifier__learning_rate': 0.01, 'classifier__max_depth': 6, 'classifier__min_child_weight': 1, 'scaler': Normalizer(copy=True, norm='l2')}, {'classifier__colsample_bytree': 0.3, 'classifier__gamma': 0.2, 'classifier__learning_rate': 0.01, 'classifier__max_depth': 6, 'classifier__min_child_weight': 1, 'scaler': MinMaxScaler(copy=True, feature_range=(0, 1))}, {'classifier__colsample_bytree': 0.3, 'classifier__gamma': 0.2, 'classifier__learning_rate': 0.01, 'classifier__max_depth': 6, 'classifier__min_child_weight': 1, 'scaler': None}, {'classifier__colsample_bytree': 0.3, 'classifier__gamma': 0.2, 'classifier__learning_rate': 0.01, 'classifier__max_depth': 6, 'classifier__min_child_weight': 3, 'scaler': Normalizer(copy=True, norm='l2')}, {'classifier__colsample_bytree': 0.3, 'classifier__gamma': 0.2, 'classifier__learning_rate': 0.01, 'classifier__max_depth': 6, 'classifier__min_child_weight': 3, 'scaler': MinMaxScaler(copy=True, feature_range=(0, 1))}, {'classifier__colsample_bytree': 0.3, 'classifier__gamma': 0.2, 'classifier__learning_rate': 0.01, 'classifier__max_depth': 6, 'classifier__min_child_weight': 3, 'scaler': None}, {'classifier__colsample_bytree': 0.3, 'classifier__gamma': 0.2, 'classifier__learning_rate': 0.01, 'classifier__max_depth': 8, 'classifier__min_child_weight': 1, 'scaler': Normalizer(copy=True, norm='l2')}, {'classifier__colsample_bytree': 0.3, 'classifier__gamma': 0.2, 'classifier__learning_rate': 0.01, 'classifier__max_depth': 8, 'classifier__min_child_weight': 1, 'scaler': MinMaxScaler(copy=True, feature_range=(0, 1))}, {'classifier__colsample_bytree': 0.3, 'classifier__gamma': 0.2, 'classifier__learning_rate': 0.01, 'classifier__max_depth': 8, 'classifier__min_child_weight': 1, 'scaler': None}, {'classifier__colsample_bytree': 0.3, 'classifier__gamma': 0.2, 'classifier__learning_rate': 0.01, 'classifier__max_depth': 8, 'classifier__min_child_weight': 3, 'scaler': Normalizer(copy=True, norm='l2')}, {'classifier__colsample_bytree': 0.3, 'classifier__gamma': 0.2, 'classifier__learning_rate': 0.01, 'classifier__max_depth': 8, 'classifier__min_child_weight': 3, 'scaler': MinMaxScaler(copy=True, feature_range=(0, 1))}, {'classifier__colsample_bytree': 0.3, 'classifier__gamma': 0.2, 'classifier__learning_rate': 0.01, 'classifier__max_depth': 8, 'classifier__min_child_weight': 3, 'scaler': None}, {'classifier__colsample_bytree': 0.3, 'classifier__gamma': 0.2, 'classifier__learning_rate': 0.01, 'classifier__max_depth': 10, 'classifier__min_child_weight': 1, 'scaler': Normalizer(copy=True, norm='l2')}, {'classifier__colsample_bytree': 0.3, 'classifier__gamma': 0.2, 'classifier__learning_rate': 0.01, 'classifier__max_depth': 10, 'classifier__min_child_weight': 1, 'scaler': MinMaxScaler(copy=True, feature_range=(0, 1))}, {'classifier__colsample_bytree': 0.3, 'classifier__gamma': 0.2, 'classifier__learning_rate': 0.01, 'classifier__max_depth': 10, 'classifier__min_child_weight': 1, 'scaler': None}, {'classifier__colsample_bytree': 0.3, 'classifier__gamma': 0.2, 'classifier__learning_rate': 0.01, 'classifier__max_depth': 10, 'classifier__min_child_weight': 3, 'scaler': Normalizer(copy=True, norm='l2')}, {'classifier__colsample_bytree': 0.3, 'classifier__gamma': 0.2, 'classifier__learning_rate': 0.01, 'classifier__max_depth': 10, 'classifier__min_child_weight': 3, 'scaler': MinMaxScaler(copy=True, feature_range=(0, 1))}, {'classifier__colsample_bytree': 0.3, 'classifier__gamma': 0.2, 'classifier__learning_rate': 0.01, 'classifier__max_depth': 10, 'classifier__min_child_weight': 3, 'scaler': None}, {'classifier__colsample_bytree': 0.5, 'classifier__gamma': 0.0, 'classifier__learning_rate': 1, 'classifier__max_depth': 4, 'classifier__min_child_weight': 1, 'scaler': Normalizer(copy=True, norm='l2')}, {'classifier__colsample_bytree': 0.5, 'classifier__gamma': 0.0, 'classifier__learning_rate': 1, 'classifier__max_depth': 4, 'classifier__min_child_weight': 1, 'scaler': MinMaxScaler(copy=True, feature_range=(0, 1))}, {'classifier__colsample_bytree': 0.5, 'classifier__gamma': 0.0, 'classifier__learning_rate': 1, 'classifier__max_depth': 4, 'classifier__min_child_weight': 1, 'scaler': None}, {'classifier__colsample_bytree': 0.5, 'classifier__gamma': 0.0, 'classifier__learning_rate': 1, 'classifier__max_depth': 4, 'classifier__min_child_weight': 3, 'scaler': Normalizer(copy=True, norm='l2')}, {'classifier__colsample_bytree': 0.5, 'classifier__gamma': 0.0, 'classifier__learning_rate': 1, 'classifier__max_depth': 4, 'classifier__min_child_weight': 3, 'scaler': MinMaxScaler(copy=True, feature_range=(0, 1))}, {'classifier__colsample_bytree': 0.5, 'classifier__gamma': 0.0, 'classifier__learning_rate': 1, 'classifier__max_depth': 4, 'classifier__min_child_weight': 3, 'scaler': None}, {'classifier__colsample_bytree': 0.5, 'classifier__gamma': 0.0, 'classifier__learning_rate': 1, 'classifier__max_depth': 6, 'classifier__min_child_weight': 1, 'scaler': Normalizer(copy=True, norm='l2')}, {'classifier__colsample_bytree': 0.5, 'classifier__gamma': 0.0, 'classifier__learning_rate': 1, 'classifier__max_depth': 6, 'classifier__min_child_weight': 1, 'scaler': MinMaxScaler(copy=True, feature_range=(0, 1))}, {'classifier__colsample_bytree': 0.5, 'classifier__gamma': 0.0, 'classifier__learning_rate': 1, 'classifier__max_depth': 6, 'classifier__min_child_weight': 1, 'scaler': None}, {'classifier__colsample_bytree': 0.5, 'classifier__gamma': 0.0, 'classifier__learning_rate': 1, 'classifier__max_depth': 6, 'classifier__min_child_weight': 3, 'scaler': Normalizer(copy=True, norm='l2')}, {'classifier__colsample_bytree': 0.5, 'classifier__gamma': 0.0, 'classifier__learning_rate': 1, 'classifier__max_depth': 6, 'classifier__min_child_weight': 3, 'scaler': MinMaxScaler(copy=True, feature_range=(0, 1))}, {'classifier__colsample_bytree': 0.5, 'classifier__gamma': 0.0, 'classifier__learning_rate': 1, 'classifier__max_depth': 6, 'classifier__min_child_weight': 3, 'scaler': None}, {'classifier__colsample_bytree': 0.5, 'classifier__gamma': 0.0, 'classifier__learning_rate': 1, 'classifier__max_depth': 8, 'classifier__min_child_weight': 1, 'scaler': Normalizer(copy=True, norm='l2')}, {'classifier__colsample_bytree': 0.5, 'classifier__gamma': 0.0, 'classifier__learning_rate': 1, 'classifier__max_depth': 8, 'classifier__min_child_weight': 1, 'scaler': MinMaxScaler(copy=True, feature_range=(0, 1))}, {'classifier__colsample_bytree': 0.5, 'classifier__gamma': 0.0, 'classifier__learning_rate': 1, 'classifier__max_depth': 8, 'classifier__min_child_weight': 1, 'scaler': None}, {'classifier__colsample_bytree': 0.5, 'classifier__gamma': 0.0, 'classifier__learning_rate': 1, 'classifier__max_depth': 8, 'classifier__min_child_weight': 3, 'scaler': Normalizer(copy=True, norm='l2')}, {'classifier__colsample_bytree': 0.5, 'classifier__gamma': 0.0, 'classifier__learning_rate': 1, 'classifier__max_depth': 8, 'classifier__min_child_weight': 3, 'scaler': MinMaxScaler(copy=True, feature_range=(0, 1))}, {'classifier__colsample_bytree': 0.5, 'classifier__gamma': 0.0, 'classifier__learning_rate': 1, 'classifier__max_depth': 8, 'classifier__min_child_weight': 3, 'scaler': None}, {'classifier__colsample_bytree': 0.5, 'classifier__gamma': 0.0, 'classifier__learning_rate': 1, 'classifier__max_depth': 10, 'classifier__min_child_weight': 1, 'scaler': Normalizer(copy=True, norm='l2')}, {'classifier__colsample_bytree': 0.5, 'classifier__gamma': 0.0, 'classifier__learning_rate': 1, 'classifier__max_depth': 10, 'classifier__min_child_weight': 1, 'scaler': MinMaxScaler(copy=True, feature_range=(0, 1))}, {'classifier__colsample_bytree': 0.5, 'classifier__gamma': 0.0, 'classifier__learning_rate': 1, 'classifier__max_depth': 10, 'classifier__min_child_weight': 1, 'scaler': None}, {'classifier__colsample_bytree': 0.5, 'classifier__gamma': 0.0, 'classifier__learning_rate': 1, 'classifier__max_depth': 10, 'classifier__min_child_weight': 3, 'scaler': Normalizer(copy=True, norm='l2')}, {'classifier__colsample_bytree': 0.5, 'classifier__gamma': 0.0, 'classifier__learning_rate': 1, 'classifier__max_depth': 10, 'classifier__min_child_weight': 3, 'scaler': MinMaxScaler(copy=True, feature_range=(0, 1))}, {'classifier__colsample_bytree': 0.5, 'classifier__gamma': 0.0, 'classifier__learning_rate': 1, 'classifier__max_depth': 10, 'classifier__min_child_weight': 3, 'scaler': None}, {'classifier__colsample_bytree': 0.5, 'classifier__gamma': 0.0, 'classifier__learning_rate': 0.1, 'classifier__max_depth': 4, 'classifier__min_child_weight': 1, 'scaler': Normalizer(copy=True, norm='l2')}, {'classifier__colsample_bytree': 0.5, 'classifier__gamma': 0.0, 'classifier__learning_rate': 0.1, 'classifier__max_depth': 4, 'classifier__min_child_weight': 1, 'scaler': MinMaxScaler(copy=True, feature_range=(0, 1))}, {'classifier__colsample_bytree': 0.5, 'classifier__gamma': 0.0, 'classifier__learning_rate': 0.1, 'classifier__max_depth': 4, 'classifier__min_child_weight': 1, 'scaler': None}, {'classifier__colsample_bytree': 0.5, 'classifier__gamma': 0.0, 'classifier__learning_rate': 0.1, 'classifier__max_depth': 4, 'classifier__min_child_weight': 3, 'scaler': Normalizer(copy=True, norm='l2')}, {'classifier__colsample_bytree': 0.5, 'classifier__gamma': 0.0, 'classifier__learning_rate': 0.1, 'classifier__max_depth': 4, 'classifier__min_child_weight': 3, 'scaler': MinMaxScaler(copy=True, feature_range=(0, 1))}, {'classifier__colsample_bytree': 0.5, 'classifier__gamma': 0.0, 'classifier__learning_rate': 0.1, 'classifier__max_depth': 4, 'classifier__min_child_weight': 3, 'scaler': None}, {'classifier__colsample_bytree': 0.5, 'classifier__gamma': 0.0, 'classifier__learning_rate': 0.1, 'classifier__max_depth': 6, 'classifier__min_child_weight': 1, 'scaler': Normalizer(copy=True, norm='l2')}, {'classifier__colsample_bytree': 0.5, 'classifier__gamma': 0.0, 'classifier__learning_rate': 0.1, 'classifier__max_depth': 6, 'classifier__min_child_weight': 1, 'scaler': MinMaxScaler(copy=True, feature_range=(0, 1))}, {'classifier__colsample_bytree': 0.5, 'classifier__gamma': 0.0, 'classifier__learning_rate': 0.1, 'classifier__max_depth': 6, 'classifier__min_child_weight': 1, 'scaler': None}, {'classifier__colsample_bytree': 0.5, 'classifier__gamma': 0.0, 'classifier__learning_rate': 0.1, 'classifier__max_depth': 6, 'classifier__min_child_weight': 3, 'scaler': Normalizer(copy=True, norm='l2')}, {'classifier__colsample_bytree': 0.5, 'classifier__gamma': 0.0, 'classifier__learning_rate': 0.1, 'classifier__max_depth': 6, 'classifier__min_child_weight': 3, 'scaler': MinMaxScaler(copy=True, feature_range=(0, 1))}, {'classifier__colsample_bytree': 0.5, 'classifier__gamma': 0.0, 'classifier__learning_rate': 0.1, 'classifier__max_depth': 6, 'classifier__min_child_weight': 3, 'scaler': None}, {'classifier__colsample_bytree': 0.5, 'classifier__gamma': 0.0, 'classifier__learning_rate': 0.1, 'classifier__max_depth': 8, 'classifier__min_child_weight': 1, 'scaler': Normalizer(copy=True, norm='l2')}, {'classifier__colsample_bytree': 0.5, 'classifier__gamma': 0.0, 'classifier__learning_rate': 0.1, 'classifier__max_depth': 8, 'classifier__min_child_weight': 1, 'scaler': MinMaxScaler(copy=True, feature_range=(0, 1))}, {'classifier__colsample_bytree': 0.5, 'classifier__gamma': 0.0, 'classifier__learning_rate': 0.1, 'classifier__max_depth': 8, 'classifier__min_child_weight': 1, 'scaler': None}, {'classifier__colsample_bytree': 0.5, 'classifier__gamma': 0.0, 'classifier__learning_rate': 0.1, 'classifier__max_depth': 8, 'classifier__min_child_weight': 3, 'scaler': Normalizer(copy=True, norm='l2')}, {'classifier__colsample_bytree': 0.5, 'classifier__gamma': 0.0, 'classifier__learning_rate': 0.1, 'classifier__max_depth': 8, 'classifier__min_child_weight': 3, 'scaler': MinMaxScaler(copy=True, feature_range=(0, 1))}, {'classifier__colsample_bytree': 0.5, 'classifier__gamma': 0.0, 'classifier__learning_rate': 0.1, 'classifier__max_depth': 8, 'classifier__min_child_weight': 3, 'scaler': None}, {'classifier__colsample_bytree': 0.5, 'classifier__gamma': 0.0, 'classifier__learning_rate': 0.1, 'classifier__max_depth': 10, 'classifier__min_child_weight': 1, 'scaler': Normalizer(copy=True, norm='l2')}, {'classifier__colsample_bytree': 0.5, 'classifier__gamma': 0.0, 'classifier__learning_rate': 0.1, 'classifier__max_depth': 10, 'classifier__min_child_weight': 1, 'scaler': MinMaxScaler(copy=True, feature_range=(0, 1))}, {'classifier__colsample_bytree': 0.5, 'classifier__gamma': 0.0, 'classifier__learning_rate': 0.1, 'classifier__max_depth': 10, 'classifier__min_child_weight': 1, 'scaler': None}, {'classifier__colsample_bytree': 0.5, 'classifier__gamma': 0.0, 'classifier__learning_rate': 0.1, 'classifier__max_depth': 10, 'classifier__min_child_weight': 3, 'scaler': Normalizer(copy=True, norm='l2')}, {'classifier__colsample_bytree': 0.5, 'classifier__gamma': 0.0, 'classifier__learning_rate': 0.1, 'classifier__max_depth': 10, 'classifier__min_child_weight': 3, 'scaler': MinMaxScaler(copy=True, feature_range=(0, 1))}, {'classifier__colsample_bytree': 0.5, 'classifier__gamma': 0.0, 'classifier__learning_rate': 0.1, 'classifier__max_depth': 10, 'classifier__min_child_weight': 3, 'scaler': None}, {'classifier__colsample_bytree': 0.5, 'classifier__gamma': 0.0, 'classifier__learning_rate': 0.01, 'classifier__max_depth': 4, 'classifier__min_child_weight': 1, 'scaler': Normalizer(copy=True, norm='l2')}, {'classifier__colsample_bytree': 0.5, 'classifier__gamma': 0.0, 'classifier__learning_rate': 0.01, 'classifier__max_depth': 4, 'classifier__min_child_weight': 1, 'scaler': MinMaxScaler(copy=True, feature_range=(0, 1))}, {'classifier__colsample_bytree': 0.5, 'classifier__gamma': 0.0, 'classifier__learning_rate': 0.01, 'classifier__max_depth': 4, 'classifier__min_child_weight': 1, 'scaler': None}, {'classifier__colsample_bytree': 0.5, 'classifier__gamma': 0.0, 'classifier__learning_rate': 0.01, 'classifier__max_depth': 4, 'classifier__min_child_weight': 3, 'scaler': Normalizer(copy=True, norm='l2')}, {'classifier__colsample_bytree': 0.5, 'classifier__gamma': 0.0, 'classifier__learning_rate': 0.01, 'classifier__max_depth': 4, 'classifier__min_child_weight': 3, 'scaler': MinMaxScaler(copy=True, feature_range=(0, 1))}, {'classifier__colsample_bytree': 0.5, 'classifier__gamma': 0.0, 'classifier__learning_rate': 0.01, 'classifier__max_depth': 4, 'classifier__min_child_weight': 3, 'scaler': None}, {'classifier__colsample_bytree': 0.5, 'classifier__gamma': 0.0, 'classifier__learning_rate': 0.01, 'classifier__max_depth': 6, 'classifier__min_child_weight': 1, 'scaler': Normalizer(copy=True, norm='l2')}, {'classifier__colsample_bytree': 0.5, 'classifier__gamma': 0.0, 'classifier__learning_rate': 0.01, 'classifier__max_depth': 6, 'classifier__min_child_weight': 1, 'scaler': MinMaxScaler(copy=True, feature_range=(0, 1))}, {'classifier__colsample_bytree': 0.5, 'classifier__gamma': 0.0, 'classifier__learning_rate': 0.01, 'classifier__max_depth': 6, 'classifier__min_child_weight': 1, 'scaler': None}, {'classifier__colsample_bytree': 0.5, 'classifier__gamma': 0.0, 'classifier__learning_rate': 0.01, 'classifier__max_depth': 6, 'classifier__min_child_weight': 3, 'scaler': Normalizer(copy=True, norm='l2')}, {'classifier__colsample_bytree': 0.5, 'classifier__gamma': 0.0, 'classifier__learning_rate': 0.01, 'classifier__max_depth': 6, 'classifier__min_child_weight': 3, 'scaler': MinMaxScaler(copy=True, feature_range=(0, 1))}, {'classifier__colsample_bytree': 0.5, 'classifier__gamma': 0.0, 'classifier__learning_rate': 0.01, 'classifier__max_depth': 6, 'classifier__min_child_weight': 3, 'scaler': None}, {'classifier__colsample_bytree': 0.5, 'classifier__gamma': 0.0, 'classifier__learning_rate': 0.01, 'classifier__max_depth': 8, 'classifier__min_child_weight': 1, 'scaler': Normalizer(copy=True, norm='l2')}, {'classifier__colsample_bytree': 0.5, 'classifier__gamma': 0.0, 'classifier__learning_rate': 0.01, 'classifier__max_depth': 8, 'classifier__min_child_weight': 1, 'scaler': MinMaxScaler(copy=True, feature_range=(0, 1))}, {'classifier__colsample_bytree': 0.5, 'classifier__gamma': 0.0, 'classifier__learning_rate': 0.01, 'classifier__max_depth': 8, 'classifier__min_child_weight': 1, 'scaler': None}, {'classifier__colsample_bytree': 0.5, 'classifier__gamma': 0.0, 'classifier__learning_rate': 0.01, 'classifier__max_depth': 8, 'classifier__min_child_weight': 3, 'scaler': Normalizer(copy=True, norm='l2')}, {'classifier__colsample_bytree': 0.5, 'classifier__gamma': 0.0, 'classifier__learning_rate': 0.01, 'classifier__max_depth': 8, 'classifier__min_child_weight': 3, 'scaler': MinMaxScaler(copy=True, feature_range=(0, 1))}, {'classifier__colsample_bytree': 0.5, 'classifier__gamma': 0.0, 'classifier__learning_rate': 0.01, 'classifier__max_depth': 8, 'classifier__min_child_weight': 3, 'scaler': None}, {'classifier__colsample_bytree': 0.5, 'classifier__gamma': 0.0, 'classifier__learning_rate': 0.01, 'classifier__max_depth': 10, 'classifier__min_child_weight': 1, 'scaler': Normalizer(copy=True, norm='l2')}, {'classifier__colsample_bytree': 0.5, 'classifier__gamma': 0.0, 'classifier__learning_rate': 0.01, 'classifier__max_depth': 10, 'classifier__min_child_weight': 1, 'scaler': MinMaxScaler(copy=True, feature_range=(0, 1))}, {'classifier__colsample_bytree': 0.5, 'classifier__gamma': 0.0, 'classifier__learning_rate': 0.01, 'classifier__max_depth': 10, 'classifier__min_child_weight': 1, 'scaler': None}, {'classifier__colsample_bytree': 0.5, 'classifier__gamma': 0.0, 'classifier__learning_rate': 0.01, 'classifier__max_depth': 10, 'classifier__min_child_weight': 3, 'scaler': Normalizer(copy=True, norm='l2')}, {'classifier__colsample_bytree': 0.5, 'classifier__gamma': 0.0, 'classifier__learning_rate': 0.01, 'classifier__max_depth': 10, 'classifier__min_child_weight': 3, 'scaler': MinMaxScaler(copy=True, feature_range=(0, 1))}, {'classifier__colsample_bytree': 0.5, 'classifier__gamma': 0.0, 'classifier__learning_rate': 0.01, 'classifier__max_depth': 10, 'classifier__min_child_weight': 3, 'scaler': None}, {'classifier__colsample_bytree': 0.5, 'classifier__gamma': 0.1, 'classifier__learning_rate': 1, 'classifier__max_depth': 4, 'classifier__min_child_weight': 1, 'scaler': Normalizer(copy=True, norm='l2')}, {'classifier__colsample_bytree': 0.5, 'classifier__gamma': 0.1, 'classifier__learning_rate': 1, 'classifier__max_depth': 4, 'classifier__min_child_weight': 1, 'scaler': MinMaxScaler(copy=True, feature_range=(0, 1))}, {'classifier__colsample_bytree': 0.5, 'classifier__gamma': 0.1, 'classifier__learning_rate': 1, 'classifier__max_depth': 4, 'classifier__min_child_weight': 1, 'scaler': None}, {'classifier__colsample_bytree': 0.5, 'classifier__gamma': 0.1, 'classifier__learning_rate': 1, 'classifier__max_depth': 4, 'classifier__min_child_weight': 3, 'scaler': Normalizer(copy=True, norm='l2')}, {'classifier__colsample_bytree': 0.5, 'classifier__gamma': 0.1, 'classifier__learning_rate': 1, 'classifier__max_depth': 4, 'classifier__min_child_weight': 3, 'scaler': MinMaxScaler(copy=True, feature_range=(0, 1))}, {'classifier__colsample_bytree': 0.5, 'classifier__gamma': 0.1, 'classifier__learning_rate': 1, 'classifier__max_depth': 4, 'classifier__min_child_weight': 3, 'scaler': None}, {'classifier__colsample_bytree': 0.5, 'classifier__gamma': 0.1, 'classifier__learning_rate': 1, 'classifier__max_depth': 6, 'classifier__min_child_weight': 1, 'scaler': Normalizer(copy=True, norm='l2')}, {'classifier__colsample_bytree': 0.5, 'classifier__gamma': 0.1, 'classifier__learning_rate': 1, 'classifier__max_depth': 6, 'classifier__min_child_weight': 1, 'scaler': MinMaxScaler(copy=True, feature_range=(0, 1))}, {'classifier__colsample_bytree': 0.5, 'classifier__gamma': 0.1, 'classifier__learning_rate': 1, 'classifier__max_depth': 6, 'classifier__min_child_weight': 1, 'scaler': None}, {'classifier__colsample_bytree': 0.5, 'classifier__gamma': 0.1, 'classifier__learning_rate': 1, 'classifier__max_depth': 6, 'classifier__min_child_weight': 3, 'scaler': Normalizer(copy=True, norm='l2')}, {'classifier__colsample_bytree': 0.5, 'classifier__gamma': 0.1, 'classifier__learning_rate': 1, 'classifier__max_depth': 6, 'classifier__min_child_weight': 3, 'scaler': MinMaxScaler(copy=True, feature_range=(0, 1))}, {'classifier__colsample_bytree': 0.5, 'classifier__gamma': 0.1, 'classifier__learning_rate': 1, 'classifier__max_depth': 6, 'classifier__min_child_weight': 3, 'scaler': None}, {'classifier__colsample_bytree': 0.5, 'classifier__gamma': 0.1, 'classifier__learning_rate': 1, 'classifier__max_depth': 8, 'classifier__min_child_weight': 1, 'scaler': Normalizer(copy=True, norm='l2')}, {'classifier__colsample_bytree': 0.5, 'classifier__gamma': 0.1, 'classifier__learning_rate': 1, 'classifier__max_depth': 8, 'classifier__min_child_weight': 1, 'scaler': MinMaxScaler(copy=True, feature_range=(0, 1))}, {'classifier__colsample_bytree': 0.5, 'classifier__gamma': 0.1, 'classifier__learning_rate': 1, 'classifier__max_depth': 8, 'classifier__min_child_weight': 1, 'scaler': None}, {'classifier__colsample_bytree': 0.5, 'classifier__gamma': 0.1, 'classifier__learning_rate': 1, 'classifier__max_depth': 8, 'classifier__min_child_weight': 3, 'scaler': Normalizer(copy=True, norm='l2')}, {'classifier__colsample_bytree': 0.5, 'classifier__gamma': 0.1, 'classifier__learning_rate': 1, 'classifier__max_depth': 8, 'classifier__min_child_weight': 3, 'scaler': MinMaxScaler(copy=True, feature_range=(0, 1))}, {'classifier__colsample_bytree': 0.5, 'classifier__gamma': 0.1, 'classifier__learning_rate': 1, 'classifier__max_depth': 8, 'classifier__min_child_weight': 3, 'scaler': None}, {'classifier__colsample_bytree': 0.5, 'classifier__gamma': 0.1, 'classifier__learning_rate': 1, 'classifier__max_depth': 10, 'classifier__min_child_weight': 1, 'scaler': Normalizer(copy=True, norm='l2')}, {'classifier__colsample_bytree': 0.5, 'classifier__gamma': 0.1, 'classifier__learning_rate': 1, 'classifier__max_depth': 10, 'classifier__min_child_weight': 1, 'scaler': MinMaxScaler(copy=True, feature_range=(0, 1))}, {'classifier__colsample_bytree': 0.5, 'classifier__gamma': 0.1, 'classifier__learning_rate': 1, 'classifier__max_depth': 10, 'classifier__min_child_weight': 1, 'scaler': None}, {'classifier__colsample_bytree': 0.5, 'classifier__gamma': 0.1, 'classifier__learning_rate': 1, 'classifier__max_depth': 10, 'classifier__min_child_weight': 3, 'scaler': Normalizer(copy=True, norm='l2')}, {'classifier__colsample_bytree': 0.5, 'classifier__gamma': 0.1, 'classifier__learning_rate': 1, 'classifier__max_depth': 10, 'classifier__min_child_weight': 3, 'scaler': MinMaxScaler(copy=True, feature_range=(0, 1))}, {'classifier__colsample_bytree': 0.5, 'classifier__gamma': 0.1, 'classifier__learning_rate': 1, 'classifier__max_depth': 10, 'classifier__min_child_weight': 3, 'scaler': None}, {'classifier__colsample_bytree': 0.5, 'classifier__gamma': 0.1, 'classifier__learning_rate': 0.1, 'classifier__max_depth': 4, 'classifier__min_child_weight': 1, 'scaler': Normalizer(copy=True, norm='l2')}, {'classifier__colsample_bytree': 0.5, 'classifier__gamma': 0.1, 'classifier__learning_rate': 0.1, 'classifier__max_depth': 4, 'classifier__min_child_weight': 1, 'scaler': MinMaxScaler(copy=True, feature_range=(0, 1))}, {'classifier__colsample_bytree': 0.5, 'classifier__gamma': 0.1, 'classifier__learning_rate': 0.1, 'classifier__max_depth': 4, 'classifier__min_child_weight': 1, 'scaler': None}, {'classifier__colsample_bytree': 0.5, 'classifier__gamma': 0.1, 'classifier__learning_rate': 0.1, 'classifier__max_depth': 4, 'classifier__min_child_weight': 3, 'scaler': Normalizer(copy=True, norm='l2')}, {'classifier__colsample_bytree': 0.5, 'classifier__gamma': 0.1, 'classifier__learning_rate': 0.1, 'classifier__max_depth': 4, 'classifier__min_child_weight': 3, 'scaler': MinMaxScaler(copy=True, feature_range=(0, 1))}, {'classifier__colsample_bytree': 0.5, 'classifier__gamma': 0.1, 'classifier__learning_rate': 0.1, 'classifier__max_depth': 4, 'classifier__min_child_weight': 3, 'scaler': None}, {'classifier__colsample_bytree': 0.5, 'classifier__gamma': 0.1, 'classifier__learning_rate': 0.1, 'classifier__max_depth': 6, 'classifier__min_child_weight': 1, 'scaler': Normalizer(copy=True, norm='l2')}, {'classifier__colsample_bytree': 0.5, 'classifier__gamma': 0.1, 'classifier__learning_rate': 0.1, 'classifier__max_depth': 6, 'classifier__min_child_weight': 1, 'scaler': MinMaxScaler(copy=True, feature_range=(0, 1))}, {'classifier__colsample_bytree': 0.5, 'classifier__gamma': 0.1, 'classifier__learning_rate': 0.1, 'classifier__max_depth': 6, 'classifier__min_child_weight': 1, 'scaler': None}, {'classifier__colsample_bytree': 0.5, 'classifier__gamma': 0.1, 'classifier__learning_rate': 0.1, 'classifier__max_depth': 6, 'classifier__min_child_weight': 3, 'scaler': Normalizer(copy=True, norm='l2')}, {'classifier__colsample_bytree': 0.5, 'classifier__gamma': 0.1, 'classifier__learning_rate': 0.1, 'classifier__max_depth': 6, 'classifier__min_child_weight': 3, 'scaler': MinMaxScaler(copy=True, feature_range=(0, 1))}, {'classifier__colsample_bytree': 0.5, 'classifier__gamma': 0.1, 'classifier__learning_rate': 0.1, 'classifier__max_depth': 6, 'classifier__min_child_weight': 3, 'scaler': None}, {'classifier__colsample_bytree': 0.5, 'classifier__gamma': 0.1, 'classifier__learning_rate': 0.1, 'classifier__max_depth': 8, 'classifier__min_child_weight': 1, 'scaler': Normalizer(copy=True, norm='l2')}, {'classifier__colsample_bytree': 0.5, 'classifier__gamma': 0.1, 'classifier__learning_rate': 0.1, 'classifier__max_depth': 8, 'classifier__min_child_weight': 1, 'scaler': MinMaxScaler(copy=True, feature_range=(0, 1))}, {'classifier__colsample_bytree': 0.5, 'classifier__gamma': 0.1, 'classifier__learning_rate': 0.1, 'classifier__max_depth': 8, 'classifier__min_child_weight': 1, 'scaler': None}, {'classifier__colsample_bytree': 0.5, 'classifier__gamma': 0.1, 'classifier__learning_rate': 0.1, 'classifier__max_depth': 8, 'classifier__min_child_weight': 3, 'scaler': Normalizer(copy=True, norm='l2')}, {'classifier__colsample_bytree': 0.5, 'classifier__gamma': 0.1, 'classifier__learning_rate': 0.1, 'classifier__max_depth': 8, 'classifier__min_child_weight': 3, 'scaler': MinMaxScaler(copy=True, feature_range=(0, 1))}, {'classifier__colsample_bytree': 0.5, 'classifier__gamma': 0.1, 'classifier__learning_rate': 0.1, 'classifier__max_depth': 8, 'classifier__min_child_weight': 3, 'scaler': None}, {'classifier__colsample_bytree': 0.5, 'classifier__gamma': 0.1, 'classifier__learning_rate': 0.1, 'classifier__max_depth': 10, 'classifier__min_child_weight': 1, 'scaler': Normalizer(copy=True, norm='l2')}, {'classifier__colsample_bytree': 0.5, 'classifier__gamma': 0.1, 'classifier__learning_rate': 0.1, 'classifier__max_depth': 10, 'classifier__min_child_weight': 1, 'scaler': MinMaxScaler(copy=True, feature_range=(0, 1))}, {'classifier__colsample_bytree': 0.5, 'classifier__gamma': 0.1, 'classifier__learning_rate': 0.1, 'classifier__max_depth': 10, 'classifier__min_child_weight': 1, 'scaler': None}, {'classifier__colsample_bytree': 0.5, 'classifier__gamma': 0.1, 'classifier__learning_rate': 0.1, 'classifier__max_depth': 10, 'classifier__min_child_weight': 3, 'scaler': Normalizer(copy=True, norm='l2')}, {'classifier__colsample_bytree': 0.5, 'classifier__gamma': 0.1, 'classifier__learning_rate': 0.1, 'classifier__max_depth': 10, 'classifier__min_child_weight': 3, 'scaler': MinMaxScaler(copy=True, feature_range=(0, 1))}, {'classifier__colsample_bytree': 0.5, 'classifier__gamma': 0.1, 'classifier__learning_rate': 0.1, 'classifier__max_depth': 10, 'classifier__min_child_weight': 3, 'scaler': None}, {'classifier__colsample_bytree': 0.5, 'classifier__gamma': 0.1, 'classifier__learning_rate': 0.01, 'classifier__max_depth': 4, 'classifier__min_child_weight': 1, 'scaler': Normalizer(copy=True, norm='l2')}, {'classifier__colsample_bytree': 0.5, 'classifier__gamma': 0.1, 'classifier__learning_rate': 0.01, 'classifier__max_depth': 4, 'classifier__min_child_weight': 1, 'scaler': MinMaxScaler(copy=True, feature_range=(0, 1))}, {'classifier__colsample_bytree': 0.5, 'classifier__gamma': 0.1, 'classifier__learning_rate': 0.01, 'classifier__max_depth': 4, 'classifier__min_child_weight': 1, 'scaler': None}, {'classifier__colsample_bytree': 0.5, 'classifier__gamma': 0.1, 'classifier__learning_rate': 0.01, 'classifier__max_depth': 4, 'classifier__min_child_weight': 3, 'scaler': Normalizer(copy=True, norm='l2')}, {'classifier__colsample_bytree': 0.5, 'classifier__gamma': 0.1, 'classifier__learning_rate': 0.01, 'classifier__max_depth': 4, 'classifier__min_child_weight': 3, 'scaler': MinMaxScaler(copy=True, feature_range=(0, 1))}, {'classifier__colsample_bytree': 0.5, 'classifier__gamma': 0.1, 'classifier__learning_rate': 0.01, 'classifier__max_depth': 4, 'classifier__min_child_weight': 3, 'scaler': None}, {'classifier__colsample_bytree': 0.5, 'classifier__gamma': 0.1, 'classifier__learning_rate': 0.01, 'classifier__max_depth': 6, 'classifier__min_child_weight': 1, 'scaler': Normalizer(copy=True, norm='l2')}, {'classifier__colsample_bytree': 0.5, 'classifier__gamma': 0.1, 'classifier__learning_rate': 0.01, 'classifier__max_depth': 6, 'classifier__min_child_weight': 1, 'scaler': MinMaxScaler(copy=True, feature_range=(0, 1))}, {'classifier__colsample_bytree': 0.5, 'classifier__gamma': 0.1, 'classifier__learning_rate': 0.01, 'classifier__max_depth': 6, 'classifier__min_child_weight': 1, 'scaler': None}, {'classifier__colsample_bytree': 0.5, 'classifier__gamma': 0.1, 'classifier__learning_rate': 0.01, 'classifier__max_depth': 6, 'classifier__min_child_weight': 3, 'scaler': Normalizer(copy=True, norm='l2')}, {'classifier__colsample_bytree': 0.5, 'classifier__gamma': 0.1, 'classifier__learning_rate': 0.01, 'classifier__max_depth': 6, 'classifier__min_child_weight': 3, 'scaler': MinMaxScaler(copy=True, feature_range=(0, 1))}, {'classifier__colsample_bytree': 0.5, 'classifier__gamma': 0.1, 'classifier__learning_rate': 0.01, 'classifier__max_depth': 6, 'classifier__min_child_weight': 3, 'scaler': None}, {'classifier__colsample_bytree': 0.5, 'classifier__gamma': 0.1, 'classifier__learning_rate': 0.01, 'classifier__max_depth': 8, 'classifier__min_child_weight': 1, 'scaler': Normalizer(copy=True, norm='l2')}, {'classifier__colsample_bytree': 0.5, 'classifier__gamma': 0.1, 'classifier__learning_rate': 0.01, 'classifier__max_depth': 8, 'classifier__min_child_weight': 1, 'scaler': MinMaxScaler(copy=True, feature_range=(0, 1))}, {'classifier__colsample_bytree': 0.5, 'classifier__gamma': 0.1, 'classifier__learning_rate': 0.01, 'classifier__max_depth': 8, 'classifier__min_child_weight': 1, 'scaler': None}, {'classifier__colsample_bytree': 0.5, 'classifier__gamma': 0.1, 'classifier__learning_rate': 0.01, 'classifier__max_depth': 8, 'classifier__min_child_weight': 3, 'scaler': Normalizer(copy=True, norm='l2')}, {'classifier__colsample_bytree': 0.5, 'classifier__gamma': 0.1, 'classifier__learning_rate': 0.01, 'classifier__max_depth': 8, 'classifier__min_child_weight': 3, 'scaler': MinMaxScaler(copy=True, feature_range=(0, 1))}, {'classifier__colsample_bytree': 0.5, 'classifier__gamma': 0.1, 'classifier__learning_rate': 0.01, 'classifier__max_depth': 8, 'classifier__min_child_weight': 3, 'scaler': None}, {'classifier__colsample_bytree': 0.5, 'classifier__gamma': 0.1, 'classifier__learning_rate': 0.01, 'classifier__max_depth': 10, 'classifier__min_child_weight': 1, 'scaler': Normalizer(copy=True, norm='l2')}, {'classifier__colsample_bytree': 0.5, 'classifier__gamma': 0.1, 'classifier__learning_rate': 0.01, 'classifier__max_depth': 10, 'classifier__min_child_weight': 1, 'scaler': MinMaxScaler(copy=True, feature_range=(0, 1))}, {'classifier__colsample_bytree': 0.5, 'classifier__gamma': 0.1, 'classifier__learning_rate': 0.01, 'classifier__max_depth': 10, 'classifier__min_child_weight': 1, 'scaler': None}, {'classifier__colsample_bytree': 0.5, 'classifier__gamma': 0.1, 'classifier__learning_rate': 0.01, 'classifier__max_depth': 10, 'classifier__min_child_weight': 3, 'scaler': Normalizer(copy=True, norm='l2')}, {'classifier__colsample_bytree': 0.5, 'classifier__gamma': 0.1, 'classifier__learning_rate': 0.01, 'classifier__max_depth': 10, 'classifier__min_child_weight': 3, 'scaler': MinMaxScaler(copy=True, feature_range=(0, 1))}, {'classifier__colsample_bytree': 0.5, 'classifier__gamma': 0.1, 'classifier__learning_rate': 0.01, 'classifier__max_depth': 10, 'classifier__min_child_weight': 3, 'scaler': None}, {'classifier__colsample_bytree': 0.5, 'classifier__gamma': 0.2, 'classifier__learning_rate': 1, 'classifier__max_depth': 4, 'classifier__min_child_weight': 1, 'scaler': Normalizer(copy=True, norm='l2')}, {'classifier__colsample_bytree': 0.5, 'classifier__gamma': 0.2, 'classifier__learning_rate': 1, 'classifier__max_depth': 4, 'classifier__min_child_weight': 1, 'scaler': MinMaxScaler(copy=True, feature_range=(0, 1))}, {'classifier__colsample_bytree': 0.5, 'classifier__gamma': 0.2, 'classifier__learning_rate': 1, 'classifier__max_depth': 4, 'classifier__min_child_weight': 1, 'scaler': None}, {'classifier__colsample_bytree': 0.5, 'classifier__gamma': 0.2, 'classifier__learning_rate': 1, 'classifier__max_depth': 4, 'classifier__min_child_weight': 3, 'scaler': Normalizer(copy=True, norm='l2')}, {'classifier__colsample_bytree': 0.5, 'classifier__gamma': 0.2, 'classifier__learning_rate': 1, 'classifier__max_depth': 4, 'classifier__min_child_weight': 3, 'scaler': MinMaxScaler(copy=True, feature_range=(0, 1))}, {'classifier__colsample_bytree': 0.5, 'classifier__gamma': 0.2, 'classifier__learning_rate': 1, 'classifier__max_depth': 4, 'classifier__min_child_weight': 3, 'scaler': None}, {'classifier__colsample_bytree': 0.5, 'classifier__gamma': 0.2, 'classifier__learning_rate': 1, 'classifier__max_depth': 6, 'classifier__min_child_weight': 1, 'scaler': Normalizer(copy=True, norm='l2')}, {'classifier__colsample_bytree': 0.5, 'classifier__gamma': 0.2, 'classifier__learning_rate': 1, 'classifier__max_depth': 6, 'classifier__min_child_weight': 1, 'scaler': MinMaxScaler(copy=True, feature_range=(0, 1))}, {'classifier__colsample_bytree': 0.5, 'classifier__gamma': 0.2, 'classifier__learning_rate': 1, 'classifier__max_depth': 6, 'classifier__min_child_weight': 1, 'scaler': None}, {'classifier__colsample_bytree': 0.5, 'classifier__gamma': 0.2, 'classifier__learning_rate': 1, 'classifier__max_depth': 6, 'classifier__min_child_weight': 3, 'scaler': Normalizer(copy=True, norm='l2')}, {'classifier__colsample_bytree': 0.5, 'classifier__gamma': 0.2, 'classifier__learning_rate': 1, 'classifier__max_depth': 6, 'classifier__min_child_weight': 3, 'scaler': MinMaxScaler(copy=True, feature_range=(0, 1))}, {'classifier__colsample_bytree': 0.5, 'classifier__gamma': 0.2, 'classifier__learning_rate': 1, 'classifier__max_depth': 6, 'classifier__min_child_weight': 3, 'scaler': None}, {'classifier__colsample_bytree': 0.5, 'classifier__gamma': 0.2, 'classifier__learning_rate': 1, 'classifier__max_depth': 8, 'classifier__min_child_weight': 1, 'scaler': Normalizer(copy=True, norm='l2')}, {'classifier__colsample_bytree': 0.5, 'classifier__gamma': 0.2, 'classifier__learning_rate': 1, 'classifier__max_depth': 8, 'classifier__min_child_weight': 1, 'scaler': MinMaxScaler(copy=True, feature_range=(0, 1))}, {'classifier__colsample_bytree': 0.5, 'classifier__gamma': 0.2, 'classifier__learning_rate': 1, 'classifier__max_depth': 8, 'classifier__min_child_weight': 1, 'scaler': None}, {'classifier__colsample_bytree': 0.5, 'classifier__gamma': 0.2, 'classifier__learning_rate': 1, 'classifier__max_depth': 8, 'classifier__min_child_weight': 3, 'scaler': Normalizer(copy=True, norm='l2')}, {'classifier__colsample_bytree': 0.5, 'classifier__gamma': 0.2, 'classifier__learning_rate': 1, 'classifier__max_depth': 8, 'classifier__min_child_weight': 3, 'scaler': MinMaxScaler(copy=True, feature_range=(0, 1))}, {'classifier__colsample_bytree': 0.5, 'classifier__gamma': 0.2, 'classifier__learning_rate': 1, 'classifier__max_depth': 8, 'classifier__min_child_weight': 3, 'scaler': None}, {'classifier__colsample_bytree': 0.5, 'classifier__gamma': 0.2, 'classifier__learning_rate': 1, 'classifier__max_depth': 10, 'classifier__min_child_weight': 1, 'scaler': Normalizer(copy=True, norm='l2')}, {'classifier__colsample_bytree': 0.5, 'classifier__gamma': 0.2, 'classifier__learning_rate': 1, 'classifier__max_depth': 10, 'classifier__min_child_weight': 1, 'scaler': MinMaxScaler(copy=True, feature_range=(0, 1))}, {'classifier__colsample_bytree': 0.5, 'classifier__gamma': 0.2, 'classifier__learning_rate': 1, 'classifier__max_depth': 10, 'classifier__min_child_weight': 1, 'scaler': None}, {'classifier__colsample_bytree': 0.5, 'classifier__gamma': 0.2, 'classifier__learning_rate': 1, 'classifier__max_depth': 10, 'classifier__min_child_weight': 3, 'scaler': Normalizer(copy=True, norm='l2')}, {'classifier__colsample_bytree': 0.5, 'classifier__gamma': 0.2, 'classifier__learning_rate': 1, 'classifier__max_depth': 10, 'classifier__min_child_weight': 3, 'scaler': MinMaxScaler(copy=True, feature_range=(0, 1))}, {'classifier__colsample_bytree': 0.5, 'classifier__gamma': 0.2, 'classifier__learning_rate': 1, 'classifier__max_depth': 10, 'classifier__min_child_weight': 3, 'scaler': None}, {'classifier__colsample_bytree': 0.5, 'classifier__gamma': 0.2, 'classifier__learning_rate': 0.1, 'classifier__max_depth': 4, 'classifier__min_child_weight': 1, 'scaler': Normalizer(copy=True, norm='l2')}, {'classifier__colsample_bytree': 0.5, 'classifier__gamma': 0.2, 'classifier__learning_rate': 0.1, 'classifier__max_depth': 4, 'classifier__min_child_weight': 1, 'scaler': MinMaxScaler(copy=True, feature_range=(0, 1))}, {'classifier__colsample_bytree': 0.5, 'classifier__gamma': 0.2, 'classifier__learning_rate': 0.1, 'classifier__max_depth': 4, 'classifier__min_child_weight': 1, 'scaler': None}, {'classifier__colsample_bytree': 0.5, 'classifier__gamma': 0.2, 'classifier__learning_rate': 0.1, 'classifier__max_depth': 4, 'classifier__min_child_weight': 3, 'scaler': Normalizer(copy=True, norm='l2')}, {'classifier__colsample_bytree': 0.5, 'classifier__gamma': 0.2, 'classifier__learning_rate': 0.1, 'classifier__max_depth': 4, 'classifier__min_child_weight': 3, 'scaler': MinMaxScaler(copy=True, feature_range=(0, 1))}, {'classifier__colsample_bytree': 0.5, 'classifier__gamma': 0.2, 'classifier__learning_rate': 0.1, 'classifier__max_depth': 4, 'classifier__min_child_weight': 3, 'scaler': None}, {'classifier__colsample_bytree': 0.5, 'classifier__gamma': 0.2, 'classifier__learning_rate': 0.1, 'classifier__max_depth': 6, 'classifier__min_child_weight': 1, 'scaler': Normalizer(copy=True, norm='l2')}, {'classifier__colsample_bytree': 0.5, 'classifier__gamma': 0.2, 'classifier__learning_rate': 0.1, 'classifier__max_depth': 6, 'classifier__min_child_weight': 1, 'scaler': MinMaxScaler(copy=True, feature_range=(0, 1))}, {'classifier__colsample_bytree': 0.5, 'classifier__gamma': 0.2, 'classifier__learning_rate': 0.1, 'classifier__max_depth': 6, 'classifier__min_child_weight': 1, 'scaler': None}, {'classifier__colsample_bytree': 0.5, 'classifier__gamma': 0.2, 'classifier__learning_rate': 0.1, 'classifier__max_depth': 6, 'classifier__min_child_weight': 3, 'scaler': Normalizer(copy=True, norm='l2')}, {'classifier__colsample_bytree': 0.5, 'classifier__gamma': 0.2, 'classifier__learning_rate': 0.1, 'classifier__max_depth': 6, 'classifier__min_child_weight': 3, 'scaler': MinMaxScaler(copy=True, feature_range=(0, 1))}, {'classifier__colsample_bytree': 0.5, 'classifier__gamma': 0.2, 'classifier__learning_rate': 0.1, 'classifier__max_depth': 6, 'classifier__min_child_weight': 3, 'scaler': None}, {'classifier__colsample_bytree': 0.5, 'classifier__gamma': 0.2, 'classifier__learning_rate': 0.1, 'classifier__max_depth': 8, 'classifier__min_child_weight': 1, 'scaler': Normalizer(copy=True, norm='l2')}, {'classifier__colsample_bytree': 0.5, 'classifier__gamma': 0.2, 'classifier__learning_rate': 0.1, 'classifier__max_depth': 8, 'classifier__min_child_weight': 1, 'scaler': MinMaxScaler(copy=True, feature_range=(0, 1))}, {'classifier__colsample_bytree': 0.5, 'classifier__gamma': 0.2, 'classifier__learning_rate': 0.1, 'classifier__max_depth': 8, 'classifier__min_child_weight': 1, 'scaler': None}, {'classifier__colsample_bytree': 0.5, 'classifier__gamma': 0.2, 'classifier__learning_rate': 0.1, 'classifier__max_depth': 8, 'classifier__min_child_weight': 3, 'scaler': Normalizer(copy=True, norm='l2')}, {'classifier__colsample_bytree': 0.5, 'classifier__gamma': 0.2, 'classifier__learning_rate': 0.1, 'classifier__max_depth': 8, 'classifier__min_child_weight': 3, 'scaler': MinMaxScaler(copy=True, feature_range=(0, 1))}, {'classifier__colsample_bytree': 0.5, 'classifier__gamma': 0.2, 'classifier__learning_rate': 0.1, 'classifier__max_depth': 8, 'classifier__min_child_weight': 3, 'scaler': None}, {'classifier__colsample_bytree': 0.5, 'classifier__gamma': 0.2, 'classifier__learning_rate': 0.1, 'classifier__max_depth': 10, 'classifier__min_child_weight': 1, 'scaler': Normalizer(copy=True, norm='l2')}, {'classifier__colsample_bytree': 0.5, 'classifier__gamma': 0.2, 'classifier__learning_rate': 0.1, 'classifier__max_depth': 10, 'classifier__min_child_weight': 1, 'scaler': MinMaxScaler(copy=True, feature_range=(0, 1))}, {'classifier__colsample_bytree': 0.5, 'classifier__gamma': 0.2, 'classifier__learning_rate': 0.1, 'classifier__max_depth': 10, 'classifier__min_child_weight': 1, 'scaler': None}, {'classifier__colsample_bytree': 0.5, 'classifier__gamma': 0.2, 'classifier__learning_rate': 0.1, 'classifier__max_depth': 10, 'classifier__min_child_weight': 3, 'scaler': Normalizer(copy=True, norm='l2')}, {'classifier__colsample_bytree': 0.5, 'classifier__gamma': 0.2, 'classifier__learning_rate': 0.1, 'classifier__max_depth': 10, 'classifier__min_child_weight': 3, 'scaler': MinMaxScaler(copy=True, feature_range=(0, 1))}, {'classifier__colsample_bytree': 0.5, 'classifier__gamma': 0.2, 'classifier__learning_rate': 0.1, 'classifier__max_depth': 10, 'classifier__min_child_weight': 3, 'scaler': None}, {'classifier__colsample_bytree': 0.5, 'classifier__gamma': 0.2, 'classifier__learning_rate': 0.01, 'classifier__max_depth': 4, 'classifier__min_child_weight': 1, 'scaler': Normalizer(copy=True, norm='l2')}, {'classifier__colsample_bytree': 0.5, 'classifier__gamma': 0.2, 'classifier__learning_rate': 0.01, 'classifier__max_depth': 4, 'classifier__min_child_weight': 1, 'scaler': MinMaxScaler(copy=True, feature_range=(0, 1))}, {'classifier__colsample_bytree': 0.5, 'classifier__gamma': 0.2, 'classifier__learning_rate': 0.01, 'classifier__max_depth': 4, 'classifier__min_child_weight': 1, 'scaler': None}, {'classifier__colsample_bytree': 0.5, 'classifier__gamma': 0.2, 'classifier__learning_rate': 0.01, 'classifier__max_depth': 4, 'classifier__min_child_weight': 3, 'scaler': Normalizer(copy=True, norm='l2')}, {'classifier__colsample_bytree': 0.5, 'classifier__gamma': 0.2, 'classifier__learning_rate': 0.01, 'classifier__max_depth': 4, 'classifier__min_child_weight': 3, 'scaler': MinMaxScaler(copy=True, feature_range=(0, 1))}, {'classifier__colsample_bytree': 0.5, 'classifier__gamma': 0.2, 'classifier__learning_rate': 0.01, 'classifier__max_depth': 4, 'classifier__min_child_weight': 3, 'scaler': None}, {'classifier__colsample_bytree': 0.5, 'classifier__gamma': 0.2, 'classifier__learning_rate': 0.01, 'classifier__max_depth': 6, 'classifier__min_child_weight': 1, 'scaler': Normalizer(copy=True, norm='l2')}, {'classifier__colsample_bytree': 0.5, 'classifier__gamma': 0.2, 'classifier__learning_rate': 0.01, 'classifier__max_depth': 6, 'classifier__min_child_weight': 1, 'scaler': MinMaxScaler(copy=True, feature_range=(0, 1))}, {'classifier__colsample_bytree': 0.5, 'classifier__gamma': 0.2, 'classifier__learning_rate': 0.01, 'classifier__max_depth': 6, 'classifier__min_child_weight': 1, 'scaler': None}, {'classifier__colsample_bytree': 0.5, 'classifier__gamma': 0.2, 'classifier__learning_rate': 0.01, 'classifier__max_depth': 6, 'classifier__min_child_weight': 3, 'scaler': Normalizer(copy=True, norm='l2')}, {'classifier__colsample_bytree': 0.5, 'classifier__gamma': 0.2, 'classifier__learning_rate': 0.01, 'classifier__max_depth': 6, 'classifier__min_child_weight': 3, 'scaler': MinMaxScaler(copy=True, feature_range=(0, 1))}, {'classifier__colsample_bytree': 0.5, 'classifier__gamma': 0.2, 'classifier__learning_rate': 0.01, 'classifier__max_depth': 6, 'classifier__min_child_weight': 3, 'scaler': None}, {'classifier__colsample_bytree': 0.5, 'classifier__gamma': 0.2, 'classifier__learning_rate': 0.01, 'classifier__max_depth': 8, 'classifier__min_child_weight': 1, 'scaler': Normalizer(copy=True, norm='l2')}, {'classifier__colsample_bytree': 0.5, 'classifier__gamma': 0.2, 'classifier__learning_rate': 0.01, 'classifier__max_depth': 8, 'classifier__min_child_weight': 1, 'scaler': MinMaxScaler(copy=True, feature_range=(0, 1))}, {'classifier__colsample_bytree': 0.5, 'classifier__gamma': 0.2, 'classifier__learning_rate': 0.01, 'classifier__max_depth': 8, 'classifier__min_child_weight': 1, 'scaler': None}, {'classifier__colsample_bytree': 0.5, 'classifier__gamma': 0.2, 'classifier__learning_rate': 0.01, 'classifier__max_depth': 8, 'classifier__min_child_weight': 3, 'scaler': Normalizer(copy=True, norm='l2')}, {'classifier__colsample_bytree': 0.5, 'classifier__gamma': 0.2, 'classifier__learning_rate': 0.01, 'classifier__max_depth': 8, 'classifier__min_child_weight': 3, 'scaler': MinMaxScaler(copy=True, feature_range=(0, 1))}, {'classifier__colsample_bytree': 0.5, 'classifier__gamma': 0.2, 'classifier__learning_rate': 0.01, 'classifier__max_depth': 8, 'classifier__min_child_weight': 3, 'scaler': None}, {'classifier__colsample_bytree': 0.5, 'classifier__gamma': 0.2, 'classifier__learning_rate': 0.01, 'classifier__max_depth': 10, 'classifier__min_child_weight': 1, 'scaler': Normalizer(copy=True, norm='l2')}, {'classifier__colsample_bytree': 0.5, 'classifier__gamma': 0.2, 'classifier__learning_rate': 0.01, 'classifier__max_depth': 10, 'classifier__min_child_weight': 1, 'scaler': MinMaxScaler(copy=True, feature_range=(0, 1))}, {'classifier__colsample_bytree': 0.5, 'classifier__gamma': 0.2, 'classifier__learning_rate': 0.01, 'classifier__max_depth': 10, 'classifier__min_child_weight': 1, 'scaler': None}, {'classifier__colsample_bytree': 0.5, 'classifier__gamma': 0.2, 'classifier__learning_rate': 0.01, 'classifier__max_depth': 10, 'classifier__min_child_weight': 3, 'scaler': Normalizer(copy=True, norm='l2')}, {'classifier__colsample_bytree': 0.5, 'classifier__gamma': 0.2, 'classifier__learning_rate': 0.01, 'classifier__max_depth': 10, 'classifier__min_child_weight': 3, 'scaler': MinMaxScaler(copy=True, feature_range=(0, 1))}, {'classifier__colsample_bytree': 0.5, 'classifier__gamma': 0.2, 'classifier__learning_rate': 0.01, 'classifier__max_depth': 10, 'classifier__min_child_weight': 3, 'scaler': None}, {'classifier__colsample_bytree': 0.7, 'classifier__gamma': 0.0, 'classifier__learning_rate': 1, 'classifier__max_depth': 4, 'classifier__min_child_weight': 1, 'scaler': Normalizer(copy=True, norm='l2')}, {'classifier__colsample_bytree': 0.7, 'classifier__gamma': 0.0, 'classifier__learning_rate': 1, 'classifier__max_depth': 4, 'classifier__min_child_weight': 1, 'scaler': MinMaxScaler(copy=True, feature_range=(0, 1))}, {'classifier__colsample_bytree': 0.7, 'classifier__gamma': 0.0, 'classifier__learning_rate': 1, 'classifier__max_depth': 4, 'classifier__min_child_weight': 1, 'scaler': None}, {'classifier__colsample_bytree': 0.7, 'classifier__gamma': 0.0, 'classifier__learning_rate': 1, 'classifier__max_depth': 4, 'classifier__min_child_weight': 3, 'scaler': Normalizer(copy=True, norm='l2')}, {'classifier__colsample_bytree': 0.7, 'classifier__gamma': 0.0, 'classifier__learning_rate': 1, 'classifier__max_depth': 4, 'classifier__min_child_weight': 3, 'scaler': MinMaxScaler(copy=True, feature_range=(0, 1))}, {'classifier__colsample_bytree': 0.7, 'classifier__gamma': 0.0, 'classifier__learning_rate': 1, 'classifier__max_depth': 4, 'classifier__min_child_weight': 3, 'scaler': None}, {'classifier__colsample_bytree': 0.7, 'classifier__gamma': 0.0, 'classifier__learning_rate': 1, 'classifier__max_depth': 6, 'classifier__min_child_weight': 1, 'scaler': Normalizer(copy=True, norm='l2')}, {'classifier__colsample_bytree': 0.7, 'classifier__gamma': 0.0, 'classifier__learning_rate': 1, 'classifier__max_depth': 6, 'classifier__min_child_weight': 1, 'scaler': MinMaxScaler(copy=True, feature_range=(0, 1))}, {'classifier__colsample_bytree': 0.7, 'classifier__gamma': 0.0, 'classifier__learning_rate': 1, 'classifier__max_depth': 6, 'classifier__min_child_weight': 1, 'scaler': None}, {'classifier__colsample_bytree': 0.7, 'classifier__gamma': 0.0, 'classifier__learning_rate': 1, 'classifier__max_depth': 6, 'classifier__min_child_weight': 3, 'scaler': Normalizer(copy=True, norm='l2')}, {'classifier__colsample_bytree': 0.7, 'classifier__gamma': 0.0, 'classifier__learning_rate': 1, 'classifier__max_depth': 6, 'classifier__min_child_weight': 3, 'scaler': MinMaxScaler(copy=True, feature_range=(0, 1))}, {'classifier__colsample_bytree': 0.7, 'classifier__gamma': 0.0, 'classifier__learning_rate': 1, 'classifier__max_depth': 6, 'classifier__min_child_weight': 3, 'scaler': None}, {'classifier__colsample_bytree': 0.7, 'classifier__gamma': 0.0, 'classifier__learning_rate': 1, 'classifier__max_depth': 8, 'classifier__min_child_weight': 1, 'scaler': Normalizer(copy=True, norm='l2')}, {'classifier__colsample_bytree': 0.7, 'classifier__gamma': 0.0, 'classifier__learning_rate': 1, 'classifier__max_depth': 8, 'classifier__min_child_weight': 1, 'scaler': MinMaxScaler(copy=True, feature_range=(0, 1))}, {'classifier__colsample_bytree': 0.7, 'classifier__gamma': 0.0, 'classifier__learning_rate': 1, 'classifier__max_depth': 8, 'classifier__min_child_weight': 1, 'scaler': None}, {'classifier__colsample_bytree': 0.7, 'classifier__gamma': 0.0, 'classifier__learning_rate': 1, 'classifier__max_depth': 8, 'classifier__min_child_weight': 3, 'scaler': Normalizer(copy=True, norm='l2')}, {'classifier__colsample_bytree': 0.7, 'classifier__gamma': 0.0, 'classifier__learning_rate': 1, 'classifier__max_depth': 8, 'classifier__min_child_weight': 3, 'scaler': MinMaxScaler(copy=True, feature_range=(0, 1))}, {'classifier__colsample_bytree': 0.7, 'classifier__gamma': 0.0, 'classifier__learning_rate': 1, 'classifier__max_depth': 8, 'classifier__min_child_weight': 3, 'scaler': None}, {'classifier__colsample_bytree': 0.7, 'classifier__gamma': 0.0, 'classifier__learning_rate': 1, 'classifier__max_depth': 10, 'classifier__min_child_weight': 1, 'scaler': Normalizer(copy=True, norm='l2')}, {'classifier__colsample_bytree': 0.7, 'classifier__gamma': 0.0, 'classifier__learning_rate': 1, 'classifier__max_depth': 10, 'classifier__min_child_weight': 1, 'scaler': MinMaxScaler(copy=True, feature_range=(0, 1))}, {'classifier__colsample_bytree': 0.7, 'classifier__gamma': 0.0, 'classifier__learning_rate': 1, 'classifier__max_depth': 10, 'classifier__min_child_weight': 1, 'scaler': None}, {'classifier__colsample_bytree': 0.7, 'classifier__gamma': 0.0, 'classifier__learning_rate': 1, 'classifier__max_depth': 10, 'classifier__min_child_weight': 3, 'scaler': Normalizer(copy=True, norm='l2')}, {'classifier__colsample_bytree': 0.7, 'classifier__gamma': 0.0, 'classifier__learning_rate': 1, 'classifier__max_depth': 10, 'classifier__min_child_weight': 3, 'scaler': MinMaxScaler(copy=True, feature_range=(0, 1))}, {'classifier__colsample_bytree': 0.7, 'classifier__gamma': 0.0, 'classifier__learning_rate': 1, 'classifier__max_depth': 10, 'classifier__min_child_weight': 3, 'scaler': None}, {'classifier__colsample_bytree': 0.7, 'classifier__gamma': 0.0, 'classifier__learning_rate': 0.1, 'classifier__max_depth': 4, 'classifier__min_child_weight': 1, 'scaler': Normalizer(copy=True, norm='l2')}, {'classifier__colsample_bytree': 0.7, 'classifier__gamma': 0.0, 'classifier__learning_rate': 0.1, 'classifier__max_depth': 4, 'classifier__min_child_weight': 1, 'scaler': MinMaxScaler(copy=True, feature_range=(0, 1))}, {'classifier__colsample_bytree': 0.7, 'classifier__gamma': 0.0, 'classifier__learning_rate': 0.1, 'classifier__max_depth': 4, 'classifier__min_child_weight': 1, 'scaler': None}, {'classifier__colsample_bytree': 0.7, 'classifier__gamma': 0.0, 'classifier__learning_rate': 0.1, 'classifier__max_depth': 4, 'classifier__min_child_weight': 3, 'scaler': Normalizer(copy=True, norm='l2')}, {'classifier__colsample_bytree': 0.7, 'classifier__gamma': 0.0, 'classifier__learning_rate': 0.1, 'classifier__max_depth': 4, 'classifier__min_child_weight': 3, 'scaler': MinMaxScaler(copy=True, feature_range=(0, 1))}, {'classifier__colsample_bytree': 0.7, 'classifier__gamma': 0.0, 'classifier__learning_rate': 0.1, 'classifier__max_depth': 4, 'classifier__min_child_weight': 3, 'scaler': None}, {'classifier__colsample_bytree': 0.7, 'classifier__gamma': 0.0, 'classifier__learning_rate': 0.1, 'classifier__max_depth': 6, 'classifier__min_child_weight': 1, 'scaler': Normalizer(copy=True, norm='l2')}, {'classifier__colsample_bytree': 0.7, 'classifier__gamma': 0.0, 'classifier__learning_rate': 0.1, 'classifier__max_depth': 6, 'classifier__min_child_weight': 1, 'scaler': MinMaxScaler(copy=True, feature_range=(0, 1))}, {'classifier__colsample_bytree': 0.7, 'classifier__gamma': 0.0, 'classifier__learning_rate': 0.1, 'classifier__max_depth': 6, 'classifier__min_child_weight': 1, 'scaler': None}, {'classifier__colsample_bytree': 0.7, 'classifier__gamma': 0.0, 'classifier__learning_rate': 0.1, 'classifier__max_depth': 6, 'classifier__min_child_weight': 3, 'scaler': Normalizer(copy=True, norm='l2')}, {'classifier__colsample_bytree': 0.7, 'classifier__gamma': 0.0, 'classifier__learning_rate': 0.1, 'classifier__max_depth': 6, 'classifier__min_child_weight': 3, 'scaler': MinMaxScaler(copy=True, feature_range=(0, 1))}, {'classifier__colsample_bytree': 0.7, 'classifier__gamma': 0.0, 'classifier__learning_rate': 0.1, 'classifier__max_depth': 6, 'classifier__min_child_weight': 3, 'scaler': None}, {'classifier__colsample_bytree': 0.7, 'classifier__gamma': 0.0, 'classifier__learning_rate': 0.1, 'classifier__max_depth': 8, 'classifier__min_child_weight': 1, 'scaler': Normalizer(copy=True, norm='l2')}, {'classifier__colsample_bytree': 0.7, 'classifier__gamma': 0.0, 'classifier__learning_rate': 0.1, 'classifier__max_depth': 8, 'classifier__min_child_weight': 1, 'scaler': MinMaxScaler(copy=True, feature_range=(0, 1))}, {'classifier__colsample_bytree': 0.7, 'classifier__gamma': 0.0, 'classifier__learning_rate': 0.1, 'classifier__max_depth': 8, 'classifier__min_child_weight': 1, 'scaler': None}, {'classifier__colsample_bytree': 0.7, 'classifier__gamma': 0.0, 'classifier__learning_rate': 0.1, 'classifier__max_depth': 8, 'classifier__min_child_weight': 3, 'scaler': Normalizer(copy=True, norm='l2')}, {'classifier__colsample_bytree': 0.7, 'classifier__gamma': 0.0, 'classifier__learning_rate': 0.1, 'classifier__max_depth': 8, 'classifier__min_child_weight': 3, 'scaler': MinMaxScaler(copy=True, feature_range=(0, 1))}, {'classifier__colsample_bytree': 0.7, 'classifier__gamma': 0.0, 'classifier__learning_rate': 0.1, 'classifier__max_depth': 8, 'classifier__min_child_weight': 3, 'scaler': None}, {'classifier__colsample_bytree': 0.7, 'classifier__gamma': 0.0, 'classifier__learning_rate': 0.1, 'classifier__max_depth': 10, 'classifier__min_child_weight': 1, 'scaler': Normalizer(copy=True, norm='l2')}, {'classifier__colsample_bytree': 0.7, 'classifier__gamma': 0.0, 'classifier__learning_rate': 0.1, 'classifier__max_depth': 10, 'classifier__min_child_weight': 1, 'scaler': MinMaxScaler(copy=True, feature_range=(0, 1))}, {'classifier__colsample_bytree': 0.7, 'classifier__gamma': 0.0, 'classifier__learning_rate': 0.1, 'classifier__max_depth': 10, 'classifier__min_child_weight': 1, 'scaler': None}, {'classifier__colsample_bytree': 0.7, 'classifier__gamma': 0.0, 'classifier__learning_rate': 0.1, 'classifier__max_depth': 10, 'classifier__min_child_weight': 3, 'scaler': Normalizer(copy=True, norm='l2')}, {'classifier__colsample_bytree': 0.7, 'classifier__gamma': 0.0, 'classifier__learning_rate': 0.1, 'classifier__max_depth': 10, 'classifier__min_child_weight': 3, 'scaler': MinMaxScaler(copy=True, feature_range=(0, 1))}, {'classifier__colsample_bytree': 0.7, 'classifier__gamma': 0.0, 'classifier__learning_rate': 0.1, 'classifier__max_depth': 10, 'classifier__min_child_weight': 3, 'scaler': None}, {'classifier__colsample_bytree': 0.7, 'classifier__gamma': 0.0, 'classifier__learning_rate': 0.01, 'classifier__max_depth': 4, 'classifier__min_child_weight': 1, 'scaler': Normalizer(copy=True, norm='l2')}, {'classifier__colsample_bytree': 0.7, 'classifier__gamma': 0.0, 'classifier__learning_rate': 0.01, 'classifier__max_depth': 4, 'classifier__min_child_weight': 1, 'scaler': MinMaxScaler(copy=True, feature_range=(0, 1))}, {'classifier__colsample_bytree': 0.7, 'classifier__gamma': 0.0, 'classifier__learning_rate': 0.01, 'classifier__max_depth': 4, 'classifier__min_child_weight': 1, 'scaler': None}, {'classifier__colsample_bytree': 0.7, 'classifier__gamma': 0.0, 'classifier__learning_rate': 0.01, 'classifier__max_depth': 4, 'classifier__min_child_weight': 3, 'scaler': Normalizer(copy=True, norm='l2')}, {'classifier__colsample_bytree': 0.7, 'classifier__gamma': 0.0, 'classifier__learning_rate': 0.01, 'classifier__max_depth': 4, 'classifier__min_child_weight': 3, 'scaler': MinMaxScaler(copy=True, feature_range=(0, 1))}, {'classifier__colsample_bytree': 0.7, 'classifier__gamma': 0.0, 'classifier__learning_rate': 0.01, 'classifier__max_depth': 4, 'classifier__min_child_weight': 3, 'scaler': None}, {'classifier__colsample_bytree': 0.7, 'classifier__gamma': 0.0, 'classifier__learning_rate': 0.01, 'classifier__max_depth': 6, 'classifier__min_child_weight': 1, 'scaler': Normalizer(copy=True, norm='l2')}, {'classifier__colsample_bytree': 0.7, 'classifier__gamma': 0.0, 'classifier__learning_rate': 0.01, 'classifier__max_depth': 6, 'classifier__min_child_weight': 1, 'scaler': MinMaxScaler(copy=True, feature_range=(0, 1))}, {'classifier__colsample_bytree': 0.7, 'classifier__gamma': 0.0, 'classifier__learning_rate': 0.01, 'classifier__max_depth': 6, 'classifier__min_child_weight': 1, 'scaler': None}, {'classifier__colsample_bytree': 0.7, 'classifier__gamma': 0.0, 'classifier__learning_rate': 0.01, 'classifier__max_depth': 6, 'classifier__min_child_weight': 3, 'scaler': Normalizer(copy=True, norm='l2')}, {'classifier__colsample_bytree': 0.7, 'classifier__gamma': 0.0, 'classifier__learning_rate': 0.01, 'classifier__max_depth': 6, 'classifier__min_child_weight': 3, 'scaler': MinMaxScaler(copy=True, feature_range=(0, 1))}, {'classifier__colsample_bytree': 0.7, 'classifier__gamma': 0.0, 'classifier__learning_rate': 0.01, 'classifier__max_depth': 6, 'classifier__min_child_weight': 3, 'scaler': None}, {'classifier__colsample_bytree': 0.7, 'classifier__gamma': 0.0, 'classifier__learning_rate': 0.01, 'classifier__max_depth': 8, 'classifier__min_child_weight': 1, 'scaler': Normalizer(copy=True, norm='l2')}, {'classifier__colsample_bytree': 0.7, 'classifier__gamma': 0.0, 'classifier__learning_rate': 0.01, 'classifier__max_depth': 8, 'classifier__min_child_weight': 1, 'scaler': MinMaxScaler(copy=True, feature_range=(0, 1))}, {'classifier__colsample_bytree': 0.7, 'classifier__gamma': 0.0, 'classifier__learning_rate': 0.01, 'classifier__max_depth': 8, 'classifier__min_child_weight': 1, 'scaler': None}, {'classifier__colsample_bytree': 0.7, 'classifier__gamma': 0.0, 'classifier__learning_rate': 0.01, 'classifier__max_depth': 8, 'classifier__min_child_weight': 3, 'scaler': Normalizer(copy=True, norm='l2')}, {'classifier__colsample_bytree': 0.7, 'classifier__gamma': 0.0, 'classifier__learning_rate': 0.01, 'classifier__max_depth': 8, 'classifier__min_child_weight': 3, 'scaler': MinMaxScaler(copy=True, feature_range=(0, 1))}, {'classifier__colsample_bytree': 0.7, 'classifier__gamma': 0.0, 'classifier__learning_rate': 0.01, 'classifier__max_depth': 8, 'classifier__min_child_weight': 3, 'scaler': None}, {'classifier__colsample_bytree': 0.7, 'classifier__gamma': 0.0, 'classifier__learning_rate': 0.01, 'classifier__max_depth': 10, 'classifier__min_child_weight': 1, 'scaler': Normalizer(copy=True, norm='l2')}, {'classifier__colsample_bytree': 0.7, 'classifier__gamma': 0.0, 'classifier__learning_rate': 0.01, 'classifier__max_depth': 10, 'classifier__min_child_weight': 1, 'scaler': MinMaxScaler(copy=True, feature_range=(0, 1))}, {'classifier__colsample_bytree': 0.7, 'classifier__gamma': 0.0, 'classifier__learning_rate': 0.01, 'classifier__max_depth': 10, 'classifier__min_child_weight': 1, 'scaler': None}, {'classifier__colsample_bytree': 0.7, 'classifier__gamma': 0.0, 'classifier__learning_rate': 0.01, 'classifier__max_depth': 10, 'classifier__min_child_weight': 3, 'scaler': Normalizer(copy=True, norm='l2')}, {'classifier__colsample_bytree': 0.7, 'classifier__gamma': 0.0, 'classifier__learning_rate': 0.01, 'classifier__max_depth': 10, 'classifier__min_child_weight': 3, 'scaler': MinMaxScaler(copy=True, feature_range=(0, 1))}, {'classifier__colsample_bytree': 0.7, 'classifier__gamma': 0.0, 'classifier__learning_rate': 0.01, 'classifier__max_depth': 10, 'classifier__min_child_weight': 3, 'scaler': None}, {'classifier__colsample_bytree': 0.7, 'classifier__gamma': 0.1, 'classifier__learning_rate': 1, 'classifier__max_depth': 4, 'classifier__min_child_weight': 1, 'scaler': Normalizer(copy=True, norm='l2')}, {'classifier__colsample_bytree': 0.7, 'classifier__gamma': 0.1, 'classifier__learning_rate': 1, 'classifier__max_depth': 4, 'classifier__min_child_weight': 1, 'scaler': MinMaxScaler(copy=True, feature_range=(0, 1))}, {'classifier__colsample_bytree': 0.7, 'classifier__gamma': 0.1, 'classifier__learning_rate': 1, 'classifier__max_depth': 4, 'classifier__min_child_weight': 1, 'scaler': None}, {'classifier__colsample_bytree': 0.7, 'classifier__gamma': 0.1, 'classifier__learning_rate': 1, 'classifier__max_depth': 4, 'classifier__min_child_weight': 3, 'scaler': Normalizer(copy=True, norm='l2')}, {'classifier__colsample_bytree': 0.7, 'classifier__gamma': 0.1, 'classifier__learning_rate': 1, 'classifier__max_depth': 4, 'classifier__min_child_weight': 3, 'scaler': MinMaxScaler(copy=True, feature_range=(0, 1))}, {'classifier__colsample_bytree': 0.7, 'classifier__gamma': 0.1, 'classifier__learning_rate': 1, 'classifier__max_depth': 4, 'classifier__min_child_weight': 3, 'scaler': None}, {'classifier__colsample_bytree': 0.7, 'classifier__gamma': 0.1, 'classifier__learning_rate': 1, 'classifier__max_depth': 6, 'classifier__min_child_weight': 1, 'scaler': Normalizer(copy=True, norm='l2')}, {'classifier__colsample_bytree': 0.7, 'classifier__gamma': 0.1, 'classifier__learning_rate': 1, 'classifier__max_depth': 6, 'classifier__min_child_weight': 1, 'scaler': MinMaxScaler(copy=True, feature_range=(0, 1))}, {'classifier__colsample_bytree': 0.7, 'classifier__gamma': 0.1, 'classifier__learning_rate': 1, 'classifier__max_depth': 6, 'classifier__min_child_weight': 1, 'scaler': None}, {'classifier__colsample_bytree': 0.7, 'classifier__gamma': 0.1, 'classifier__learning_rate': 1, 'classifier__max_depth': 6, 'classifier__min_child_weight': 3, 'scaler': Normalizer(copy=True, norm='l2')}, {'classifier__colsample_bytree': 0.7, 'classifier__gamma': 0.1, 'classifier__learning_rate': 1, 'classifier__max_depth': 6, 'classifier__min_child_weight': 3, 'scaler': MinMaxScaler(copy=True, feature_range=(0, 1))}, {'classifier__colsample_bytree': 0.7, 'classifier__gamma': 0.1, 'classifier__learning_rate': 1, 'classifier__max_depth': 6, 'classifier__min_child_weight': 3, 'scaler': None}, {'classifier__colsample_bytree': 0.7, 'classifier__gamma': 0.1, 'classifier__learning_rate': 1, 'classifier__max_depth': 8, 'classifier__min_child_weight': 1, 'scaler': Normalizer(copy=True, norm='l2')}, {'classifier__colsample_bytree': 0.7, 'classifier__gamma': 0.1, 'classifier__learning_rate': 1, 'classifier__max_depth': 8, 'classifier__min_child_weight': 1, 'scaler': MinMaxScaler(copy=True, feature_range=(0, 1))}, {'classifier__colsample_bytree': 0.7, 'classifier__gamma': 0.1, 'classifier__learning_rate': 1, 'classifier__max_depth': 8, 'classifier__min_child_weight': 1, 'scaler': None}, {'classifier__colsample_bytree': 0.7, 'classifier__gamma': 0.1, 'classifier__learning_rate': 1, 'classifier__max_depth': 8, 'classifier__min_child_weight': 3, 'scaler': Normalizer(copy=True, norm='l2')}, {'classifier__colsample_bytree': 0.7, 'classifier__gamma': 0.1, 'classifier__learning_rate': 1, 'classifier__max_depth': 8, 'classifier__min_child_weight': 3, 'scaler': MinMaxScaler(copy=True, feature_range=(0, 1))}, {'classifier__colsample_bytree': 0.7, 'classifier__gamma': 0.1, 'classifier__learning_rate': 1, 'classifier__max_depth': 8, 'classifier__min_child_weight': 3, 'scaler': None}, {'classifier__colsample_bytree': 0.7, 'classifier__gamma': 0.1, 'classifier__learning_rate': 1, 'classifier__max_depth': 10, 'classifier__min_child_weight': 1, 'scaler': Normalizer(copy=True, norm='l2')}, {'classifier__colsample_bytree': 0.7, 'classifier__gamma': 0.1, 'classifier__learning_rate': 1, 'classifier__max_depth': 10, 'classifier__min_child_weight': 1, 'scaler': MinMaxScaler(copy=True, feature_range=(0, 1))}, {'classifier__colsample_bytree': 0.7, 'classifier__gamma': 0.1, 'classifier__learning_rate': 1, 'classifier__max_depth': 10, 'classifier__min_child_weight': 1, 'scaler': None}, {'classifier__colsample_bytree': 0.7, 'classifier__gamma': 0.1, 'classifier__learning_rate': 1, 'classifier__max_depth': 10, 'classifier__min_child_weight': 3, 'scaler': Normalizer(copy=True, norm='l2')}, {'classifier__colsample_bytree': 0.7, 'classifier__gamma': 0.1, 'classifier__learning_rate': 1, 'classifier__max_depth': 10, 'classifier__min_child_weight': 3, 'scaler': MinMaxScaler(copy=True, feature_range=(0, 1))}, {'classifier__colsample_bytree': 0.7, 'classifier__gamma': 0.1, 'classifier__learning_rate': 1, 'classifier__max_depth': 10, 'classifier__min_child_weight': 3, 'scaler': None}, {'classifier__colsample_bytree': 0.7, 'classifier__gamma': 0.1, 'classifier__learning_rate': 0.1, 'classifier__max_depth': 4, 'classifier__min_child_weight': 1, 'scaler': Normalizer(copy=True, norm='l2')}, {'classifier__colsample_bytree': 0.7, 'classifier__gamma': 0.1, 'classifier__learning_rate': 0.1, 'classifier__max_depth': 4, 'classifier__min_child_weight': 1, 'scaler': MinMaxScaler(copy=True, feature_range=(0, 1))}, {'classifier__colsample_bytree': 0.7, 'classifier__gamma': 0.1, 'classifier__learning_rate': 0.1, 'classifier__max_depth': 4, 'classifier__min_child_weight': 1, 'scaler': None}, {'classifier__colsample_bytree': 0.7, 'classifier__gamma': 0.1, 'classifier__learning_rate': 0.1, 'classifier__max_depth': 4, 'classifier__min_child_weight': 3, 'scaler': Normalizer(copy=True, norm='l2')}, {'classifier__colsample_bytree': 0.7, 'classifier__gamma': 0.1, 'classifier__learning_rate': 0.1, 'classifier__max_depth': 4, 'classifier__min_child_weight': 3, 'scaler': MinMaxScaler(copy=True, feature_range=(0, 1))}, {'classifier__colsample_bytree': 0.7, 'classifier__gamma': 0.1, 'classifier__learning_rate': 0.1, 'classifier__max_depth': 4, 'classifier__min_child_weight': 3, 'scaler': None}, {'classifier__colsample_bytree': 0.7, 'classifier__gamma': 0.1, 'classifier__learning_rate': 0.1, 'classifier__max_depth': 6, 'classifier__min_child_weight': 1, 'scaler': Normalizer(copy=True, norm='l2')}, {'classifier__colsample_bytree': 0.7, 'classifier__gamma': 0.1, 'classifier__learning_rate': 0.1, 'classifier__max_depth': 6, 'classifier__min_child_weight': 1, 'scaler': MinMaxScaler(copy=True, feature_range=(0, 1))}, {'classifier__colsample_bytree': 0.7, 'classifier__gamma': 0.1, 'classifier__learning_rate': 0.1, 'classifier__max_depth': 6, 'classifier__min_child_weight': 1, 'scaler': None}, {'classifier__colsample_bytree': 0.7, 'classifier__gamma': 0.1, 'classifier__learning_rate': 0.1, 'classifier__max_depth': 6, 'classifier__min_child_weight': 3, 'scaler': Normalizer(copy=True, norm='l2')}, {'classifier__colsample_bytree': 0.7, 'classifier__gamma': 0.1, 'classifier__learning_rate': 0.1, 'classifier__max_depth': 6, 'classifier__min_child_weight': 3, 'scaler': MinMaxScaler(copy=True, feature_range=(0, 1))}, {'classifier__colsample_bytree': 0.7, 'classifier__gamma': 0.1, 'classifier__learning_rate': 0.1, 'classifier__max_depth': 6, 'classifier__min_child_weight': 3, 'scaler': None}, {'classifier__colsample_bytree': 0.7, 'classifier__gamma': 0.1, 'classifier__learning_rate': 0.1, 'classifier__max_depth': 8, 'classifier__min_child_weight': 1, 'scaler': Normalizer(copy=True, norm='l2')}, {'classifier__colsample_bytree': 0.7, 'classifier__gamma': 0.1, 'classifier__learning_rate': 0.1, 'classifier__max_depth': 8, 'classifier__min_child_weight': 1, 'scaler': MinMaxScaler(copy=True, feature_range=(0, 1))}, {'classifier__colsample_bytree': 0.7, 'classifier__gamma': 0.1, 'classifier__learning_rate': 0.1, 'classifier__max_depth': 8, 'classifier__min_child_weight': 1, 'scaler': None}, {'classifier__colsample_bytree': 0.7, 'classifier__gamma': 0.1, 'classifier__learning_rate': 0.1, 'classifier__max_depth': 8, 'classifier__min_child_weight': 3, 'scaler': Normalizer(copy=True, norm='l2')}, {'classifier__colsample_bytree': 0.7, 'classifier__gamma': 0.1, 'classifier__learning_rate': 0.1, 'classifier__max_depth': 8, 'classifier__min_child_weight': 3, 'scaler': MinMaxScaler(copy=True, feature_range=(0, 1))}, {'classifier__colsample_bytree': 0.7, 'classifier__gamma': 0.1, 'classifier__learning_rate': 0.1, 'classifier__max_depth': 8, 'classifier__min_child_weight': 3, 'scaler': None}, {'classifier__colsample_bytree': 0.7, 'classifier__gamma': 0.1, 'classifier__learning_rate': 0.1, 'classifier__max_depth': 10, 'classifier__min_child_weight': 1, 'scaler': Normalizer(copy=True, norm='l2')}, {'classifier__colsample_bytree': 0.7, 'classifier__gamma': 0.1, 'classifier__learning_rate': 0.1, 'classifier__max_depth': 10, 'classifier__min_child_weight': 1, 'scaler': MinMaxScaler(copy=True, feature_range=(0, 1))}, {'classifier__colsample_bytree': 0.7, 'classifier__gamma': 0.1, 'classifier__learning_rate': 0.1, 'classifier__max_depth': 10, 'classifier__min_child_weight': 1, 'scaler': None}, {'classifier__colsample_bytree': 0.7, 'classifier__gamma': 0.1, 'classifier__learning_rate': 0.1, 'classifier__max_depth': 10, 'classifier__min_child_weight': 3, 'scaler': Normalizer(copy=True, norm='l2')}, {'classifier__colsample_bytree': 0.7, 'classifier__gamma': 0.1, 'classifier__learning_rate': 0.1, 'classifier__max_depth': 10, 'classifier__min_child_weight': 3, 'scaler': MinMaxScaler(copy=True, feature_range=(0, 1))}, {'classifier__colsample_bytree': 0.7, 'classifier__gamma': 0.1, 'classifier__learning_rate': 0.1, 'classifier__max_depth': 10, 'classifier__min_child_weight': 3, 'scaler': None}, {'classifier__colsample_bytree': 0.7, 'classifier__gamma': 0.1, 'classifier__learning_rate': 0.01, 'classifier__max_depth': 4, 'classifier__min_child_weight': 1, 'scaler': Normalizer(copy=True, norm='l2')}, {'classifier__colsample_bytree': 0.7, 'classifier__gamma': 0.1, 'classifier__learning_rate': 0.01, 'classifier__max_depth': 4, 'classifier__min_child_weight': 1, 'scaler': MinMaxScaler(copy=True, feature_range=(0, 1))}, {'classifier__colsample_bytree': 0.7, 'classifier__gamma': 0.1, 'classifier__learning_rate': 0.01, 'classifier__max_depth': 4, 'classifier__min_child_weight': 1, 'scaler': None}, {'classifier__colsample_bytree': 0.7, 'classifier__gamma': 0.1, 'classifier__learning_rate': 0.01, 'classifier__max_depth': 4, 'classifier__min_child_weight': 3, 'scaler': Normalizer(copy=True, norm='l2')}, {'classifier__colsample_bytree': 0.7, 'classifier__gamma': 0.1, 'classifier__learning_rate': 0.01, 'classifier__max_depth': 4, 'classifier__min_child_weight': 3, 'scaler': MinMaxScaler(copy=True, feature_range=(0, 1))}, {'classifier__colsample_bytree': 0.7, 'classifier__gamma': 0.1, 'classifier__learning_rate': 0.01, 'classifier__max_depth': 4, 'classifier__min_child_weight': 3, 'scaler': None}, {'classifier__colsample_bytree': 0.7, 'classifier__gamma': 0.1, 'classifier__learning_rate': 0.01, 'classifier__max_depth': 6, 'classifier__min_child_weight': 1, 'scaler': Normalizer(copy=True, norm='l2')}, {'classifier__colsample_bytree': 0.7, 'classifier__gamma': 0.1, 'classifier__learning_rate': 0.01, 'classifier__max_depth': 6, 'classifier__min_child_weight': 1, 'scaler': MinMaxScaler(copy=True, feature_range=(0, 1))}, {'classifier__colsample_bytree': 0.7, 'classifier__gamma': 0.1, 'classifier__learning_rate': 0.01, 'classifier__max_depth': 6, 'classifier__min_child_weight': 1, 'scaler': None}, {'classifier__colsample_bytree': 0.7, 'classifier__gamma': 0.1, 'classifier__learning_rate': 0.01, 'classifier__max_depth': 6, 'classifier__min_child_weight': 3, 'scaler': Normalizer(copy=True, norm='l2')}, {'classifier__colsample_bytree': 0.7, 'classifier__gamma': 0.1, 'classifier__learning_rate': 0.01, 'classifier__max_depth': 6, 'classifier__min_child_weight': 3, 'scaler': MinMaxScaler(copy=True, feature_range=(0, 1))}, {'classifier__colsample_bytree': 0.7, 'classifier__gamma': 0.1, 'classifier__learning_rate': 0.01, 'classifier__max_depth': 6, 'classifier__min_child_weight': 3, 'scaler': None}, {'classifier__colsample_bytree': 0.7, 'classifier__gamma': 0.1, 'classifier__learning_rate': 0.01, 'classifier__max_depth': 8, 'classifier__min_child_weight': 1, 'scaler': Normalizer(copy=True, norm='l2')}, {'classifier__colsample_bytree': 0.7, 'classifier__gamma': 0.1, 'classifier__learning_rate': 0.01, 'classifier__max_depth': 8, 'classifier__min_child_weight': 1, 'scaler': MinMaxScaler(copy=True, feature_range=(0, 1))}, {'classifier__colsample_bytree': 0.7, 'classifier__gamma': 0.1, 'classifier__learning_rate': 0.01, 'classifier__max_depth': 8, 'classifier__min_child_weight': 1, 'scaler': None}, {'classifier__colsample_bytree': 0.7, 'classifier__gamma': 0.1, 'classifier__learning_rate': 0.01, 'classifier__max_depth': 8, 'classifier__min_child_weight': 3, 'scaler': Normalizer(copy=True, norm='l2')}, {'classifier__colsample_bytree': 0.7, 'classifier__gamma': 0.1, 'classifier__learning_rate': 0.01, 'classifier__max_depth': 8, 'classifier__min_child_weight': 3, 'scaler': MinMaxScaler(copy=True, feature_range=(0, 1))}, {'classifier__colsample_bytree': 0.7, 'classifier__gamma': 0.1, 'classifier__learning_rate': 0.01, 'classifier__max_depth': 8, 'classifier__min_child_weight': 3, 'scaler': None}, {'classifier__colsample_bytree': 0.7, 'classifier__gamma': 0.1, 'classifier__learning_rate': 0.01, 'classifier__max_depth': 10, 'classifier__min_child_weight': 1, 'scaler': Normalizer(copy=True, norm='l2')}, {'classifier__colsample_bytree': 0.7, 'classifier__gamma': 0.1, 'classifier__learning_rate': 0.01, 'classifier__max_depth': 10, 'classifier__min_child_weight': 1, 'scaler': MinMaxScaler(copy=True, feature_range=(0, 1))}, {'classifier__colsample_bytree': 0.7, 'classifier__gamma': 0.1, 'classifier__learning_rate': 0.01, 'classifier__max_depth': 10, 'classifier__min_child_weight': 1, 'scaler': None}, {'classifier__colsample_bytree': 0.7, 'classifier__gamma': 0.1, 'classifier__learning_rate': 0.01, 'classifier__max_depth': 10, 'classifier__min_child_weight': 3, 'scaler': Normalizer(copy=True, norm='l2')}, {'classifier__colsample_bytree': 0.7, 'classifier__gamma': 0.1, 'classifier__learning_rate': 0.01, 'classifier__max_depth': 10, 'classifier__min_child_weight': 3, 'scaler': MinMaxScaler(copy=True, feature_range=(0, 1))}, {'classifier__colsample_bytree': 0.7, 'classifier__gamma': 0.1, 'classifier__learning_rate': 0.01, 'classifier__max_depth': 10, 'classifier__min_child_weight': 3, 'scaler': None}, {'classifier__colsample_bytree': 0.7, 'classifier__gamma': 0.2, 'classifier__learning_rate': 1, 'classifier__max_depth': 4, 'classifier__min_child_weight': 1, 'scaler': Normalizer(copy=True, norm='l2')}, {'classifier__colsample_bytree': 0.7, 'classifier__gamma': 0.2, 'classifier__learning_rate': 1, 'classifier__max_depth': 4, 'classifier__min_child_weight': 1, 'scaler': MinMaxScaler(copy=True, feature_range=(0, 1))}, {'classifier__colsample_bytree': 0.7, 'classifier__gamma': 0.2, 'classifier__learning_rate': 1, 'classifier__max_depth': 4, 'classifier__min_child_weight': 1, 'scaler': None}, {'classifier__colsample_bytree': 0.7, 'classifier__gamma': 0.2, 'classifier__learning_rate': 1, 'classifier__max_depth': 4, 'classifier__min_child_weight': 3, 'scaler': Normalizer(copy=True, norm='l2')}, {'classifier__colsample_bytree': 0.7, 'classifier__gamma': 0.2, 'classifier__learning_rate': 1, 'classifier__max_depth': 4, 'classifier__min_child_weight': 3, 'scaler': MinMaxScaler(copy=True, feature_range=(0, 1))}, {'classifier__colsample_bytree': 0.7, 'classifier__gamma': 0.2, 'classifier__learning_rate': 1, 'classifier__max_depth': 4, 'classifier__min_child_weight': 3, 'scaler': None}, {'classifier__colsample_bytree': 0.7, 'classifier__gamma': 0.2, 'classifier__learning_rate': 1, 'classifier__max_depth': 6, 'classifier__min_child_weight': 1, 'scaler': Normalizer(copy=True, norm='l2')}, {'classifier__colsample_bytree': 0.7, 'classifier__gamma': 0.2, 'classifier__learning_rate': 1, 'classifier__max_depth': 6, 'classifier__min_child_weight': 1, 'scaler': MinMaxScaler(copy=True, feature_range=(0, 1))}, {'classifier__colsample_bytree': 0.7, 'classifier__gamma': 0.2, 'classifier__learning_rate': 1, 'classifier__max_depth': 6, 'classifier__min_child_weight': 1, 'scaler': None}, {'classifier__colsample_bytree': 0.7, 'classifier__gamma': 0.2, 'classifier__learning_rate': 1, 'classifier__max_depth': 6, 'classifier__min_child_weight': 3, 'scaler': Normalizer(copy=True, norm='l2')}, {'classifier__colsample_bytree': 0.7, 'classifier__gamma': 0.2, 'classifier__learning_rate': 1, 'classifier__max_depth': 6, 'classifier__min_child_weight': 3, 'scaler': MinMaxScaler(copy=True, feature_range=(0, 1))}, {'classifier__colsample_bytree': 0.7, 'classifier__gamma': 0.2, 'classifier__learning_rate': 1, 'classifier__max_depth': 6, 'classifier__min_child_weight': 3, 'scaler': None}, {'classifier__colsample_bytree': 0.7, 'classifier__gamma': 0.2, 'classifier__learning_rate': 1, 'classifier__max_depth': 8, 'classifier__min_child_weight': 1, 'scaler': Normalizer(copy=True, norm='l2')}, {'classifier__colsample_bytree': 0.7, 'classifier__gamma': 0.2, 'classifier__learning_rate': 1, 'classifier__max_depth': 8, 'classifier__min_child_weight': 1, 'scaler': MinMaxScaler(copy=True, feature_range=(0, 1))}, {'classifier__colsample_bytree': 0.7, 'classifier__gamma': 0.2, 'classifier__learning_rate': 1, 'classifier__max_depth': 8, 'classifier__min_child_weight': 1, 'scaler': None}, {'classifier__colsample_bytree': 0.7, 'classifier__gamma': 0.2, 'classifier__learning_rate': 1, 'classifier__max_depth': 8, 'classifier__min_child_weight': 3, 'scaler': Normalizer(copy=True, norm='l2')}, {'classifier__colsample_bytree': 0.7, 'classifier__gamma': 0.2, 'classifier__learning_rate': 1, 'classifier__max_depth': 8, 'classifier__min_child_weight': 3, 'scaler': MinMaxScaler(copy=True, feature_range=(0, 1))}, {'classifier__colsample_bytree': 0.7, 'classifier__gamma': 0.2, 'classifier__learning_rate': 1, 'classifier__max_depth': 8, 'classifier__min_child_weight': 3, 'scaler': None}, {'classifier__colsample_bytree': 0.7, 'classifier__gamma': 0.2, 'classifier__learning_rate': 1, 'classifier__max_depth': 10, 'classifier__min_child_weight': 1, 'scaler': Normalizer(copy=True, norm='l2')}, {'classifier__colsample_bytree': 0.7, 'classifier__gamma': 0.2, 'classifier__learning_rate': 1, 'classifier__max_depth': 10, 'classifier__min_child_weight': 1, 'scaler': MinMaxScaler(copy=True, feature_range=(0, 1))}, {'classifier__colsample_bytree': 0.7, 'classifier__gamma': 0.2, 'classifier__learning_rate': 1, 'classifier__max_depth': 10, 'classifier__min_child_weight': 1, 'scaler': None}, {'classifier__colsample_bytree': 0.7, 'classifier__gamma': 0.2, 'classifier__learning_rate': 1, 'classifier__max_depth': 10, 'classifier__min_child_weight': 3, 'scaler': Normalizer(copy=True, norm='l2')}, {'classifier__colsample_bytree': 0.7, 'classifier__gamma': 0.2, 'classifier__learning_rate': 1, 'classifier__max_depth': 10, 'classifier__min_child_weight': 3, 'scaler': MinMaxScaler(copy=True, feature_range=(0, 1))}, {'classifier__colsample_bytree': 0.7, 'classifier__gamma': 0.2, 'classifier__learning_rate': 1, 'classifier__max_depth': 10, 'classifier__min_child_weight': 3, 'scaler': None}, {'classifier__colsample_bytree': 0.7, 'classifier__gamma': 0.2, 'classifier__learning_rate': 0.1, 'classifier__max_depth': 4, 'classifier__min_child_weight': 1, 'scaler': Normalizer(copy=True, norm='l2')}, {'classifier__colsample_bytree': 0.7, 'classifier__gamma': 0.2, 'classifier__learning_rate': 0.1, 'classifier__max_depth': 4, 'classifier__min_child_weight': 1, 'scaler': MinMaxScaler(copy=True, feature_range=(0, 1))}, {'classifier__colsample_bytree': 0.7, 'classifier__gamma': 0.2, 'classifier__learning_rate': 0.1, 'classifier__max_depth': 4, 'classifier__min_child_weight': 1, 'scaler': None}, {'classifier__colsample_bytree': 0.7, 'classifier__gamma': 0.2, 'classifier__learning_rate': 0.1, 'classifier__max_depth': 4, 'classifier__min_child_weight': 3, 'scaler': Normalizer(copy=True, norm='l2')}, {'classifier__colsample_bytree': 0.7, 'classifier__gamma': 0.2, 'classifier__learning_rate': 0.1, 'classifier__max_depth': 4, 'classifier__min_child_weight': 3, 'scaler': MinMaxScaler(copy=True, feature_range=(0, 1))}, {'classifier__colsample_bytree': 0.7, 'classifier__gamma': 0.2, 'classifier__learning_rate': 0.1, 'classifier__max_depth': 4, 'classifier__min_child_weight': 3, 'scaler': None}, {'classifier__colsample_bytree': 0.7, 'classifier__gamma': 0.2, 'classifier__learning_rate': 0.1, 'classifier__max_depth': 6, 'classifier__min_child_weight': 1, 'scaler': Normalizer(copy=True, norm='l2')}, {'classifier__colsample_bytree': 0.7, 'classifier__gamma': 0.2, 'classifier__learning_rate': 0.1, 'classifier__max_depth': 6, 'classifier__min_child_weight': 1, 'scaler': MinMaxScaler(copy=True, feature_range=(0, 1))}, {'classifier__colsample_bytree': 0.7, 'classifier__gamma': 0.2, 'classifier__learning_rate': 0.1, 'classifier__max_depth': 6, 'classifier__min_child_weight': 1, 'scaler': None}, {'classifier__colsample_bytree': 0.7, 'classifier__gamma': 0.2, 'classifier__learning_rate': 0.1, 'classifier__max_depth': 6, 'classifier__min_child_weight': 3, 'scaler': Normalizer(copy=True, norm='l2')}, {'classifier__colsample_bytree': 0.7, 'classifier__gamma': 0.2, 'classifier__learning_rate': 0.1, 'classifier__max_depth': 6, 'classifier__min_child_weight': 3, 'scaler': MinMaxScaler(copy=True, feature_range=(0, 1))}, {'classifier__colsample_bytree': 0.7, 'classifier__gamma': 0.2, 'classifier__learning_rate': 0.1, 'classifier__max_depth': 6, 'classifier__min_child_weight': 3, 'scaler': None}, {'classifier__colsample_bytree': 0.7, 'classifier__gamma': 0.2, 'classifier__learning_rate': 0.1, 'classifier__max_depth': 8, 'classifier__min_child_weight': 1, 'scaler': Normalizer(copy=True, norm='l2')}, {'classifier__colsample_bytree': 0.7, 'classifier__gamma': 0.2, 'classifier__learning_rate': 0.1, 'classifier__max_depth': 8, 'classifier__min_child_weight': 1, 'scaler': MinMaxScaler(copy=True, feature_range=(0, 1))}, {'classifier__colsample_bytree': 0.7, 'classifier__gamma': 0.2, 'classifier__learning_rate': 0.1, 'classifier__max_depth': 8, 'classifier__min_child_weight': 1, 'scaler': None}, {'classifier__colsample_bytree': 0.7, 'classifier__gamma': 0.2, 'classifier__learning_rate': 0.1, 'classifier__max_depth': 8, 'classifier__min_child_weight': 3, 'scaler': Normalizer(copy=True, norm='l2')}, {'classifier__colsample_bytree': 0.7, 'classifier__gamma': 0.2, 'classifier__learning_rate': 0.1, 'classifier__max_depth': 8, 'classifier__min_child_weight': 3, 'scaler': MinMaxScaler(copy=True, feature_range=(0, 1))}, {'classifier__colsample_bytree': 0.7, 'classifier__gamma': 0.2, 'classifier__learning_rate': 0.1, 'classifier__max_depth': 8, 'classifier__min_child_weight': 3, 'scaler': None}, {'classifier__colsample_bytree': 0.7, 'classifier__gamma': 0.2, 'classifier__learning_rate': 0.1, 'classifier__max_depth': 10, 'classifier__min_child_weight': 1, 'scaler': Normalizer(copy=True, norm='l2')}, {'classifier__colsample_bytree': 0.7, 'classifier__gamma': 0.2, 'classifier__learning_rate': 0.1, 'classifier__max_depth': 10, 'classifier__min_child_weight': 1, 'scaler': MinMaxScaler(copy=True, feature_range=(0, 1))}, {'classifier__colsample_bytree': 0.7, 'classifier__gamma': 0.2, 'classifier__learning_rate': 0.1, 'classifier__max_depth': 10, 'classifier__min_child_weight': 1, 'scaler': None}, {'classifier__colsample_bytree': 0.7, 'classifier__gamma': 0.2, 'classifier__learning_rate': 0.1, 'classifier__max_depth': 10, 'classifier__min_child_weight': 3, 'scaler': Normalizer(copy=True, norm='l2')}, {'classifier__colsample_bytree': 0.7, 'classifier__gamma': 0.2, 'classifier__learning_rate': 0.1, 'classifier__max_depth': 10, 'classifier__min_child_weight': 3, 'scaler': MinMaxScaler(copy=True, feature_range=(0, 1))}, {'classifier__colsample_bytree': 0.7, 'classifier__gamma': 0.2, 'classifier__learning_rate': 0.1, 'classifier__max_depth': 10, 'classifier__min_child_weight': 3, 'scaler': None}, {'classifier__colsample_bytree': 0.7, 'classifier__gamma': 0.2, 'classifier__learning_rate': 0.01, 'classifier__max_depth': 4, 'classifier__min_child_weight': 1, 'scaler': Normalizer(copy=True, norm='l2')}, {'classifier__colsample_bytree': 0.7, 'classifier__gamma': 0.2, 'classifier__learning_rate': 0.01, 'classifier__max_depth': 4, 'classifier__min_child_weight': 1, 'scaler': MinMaxScaler(copy=True, feature_range=(0, 1))}, {'classifier__colsample_bytree': 0.7, 'classifier__gamma': 0.2, 'classifier__learning_rate': 0.01, 'classifier__max_depth': 4, 'classifier__min_child_weight': 1, 'scaler': None}, {'classifier__colsample_bytree': 0.7, 'classifier__gamma': 0.2, 'classifier__learning_rate': 0.01, 'classifier__max_depth': 4, 'classifier__min_child_weight': 3, 'scaler': Normalizer(copy=True, norm='l2')}, {'classifier__colsample_bytree': 0.7, 'classifier__gamma': 0.2, 'classifier__learning_rate': 0.01, 'classifier__max_depth': 4, 'classifier__min_child_weight': 3, 'scaler': MinMaxScaler(copy=True, feature_range=(0, 1))}, {'classifier__colsample_bytree': 0.7, 'classifier__gamma': 0.2, 'classifier__learning_rate': 0.01, 'classifier__max_depth': 4, 'classifier__min_child_weight': 3, 'scaler': None}, {'classifier__colsample_bytree': 0.7, 'classifier__gamma': 0.2, 'classifier__learning_rate': 0.01, 'classifier__max_depth': 6, 'classifier__min_child_weight': 1, 'scaler': Normalizer(copy=True, norm='l2')}, {'classifier__colsample_bytree': 0.7, 'classifier__gamma': 0.2, 'classifier__learning_rate': 0.01, 'classifier__max_depth': 6, 'classifier__min_child_weight': 1, 'scaler': MinMaxScaler(copy=True, feature_range=(0, 1))}, {'classifier__colsample_bytree': 0.7, 'classifier__gamma': 0.2, 'classifier__learning_rate': 0.01, 'classifier__max_depth': 6, 'classifier__min_child_weight': 1, 'scaler': None}, {'classifier__colsample_bytree': 0.7, 'classifier__gamma': 0.2, 'classifier__learning_rate': 0.01, 'classifier__max_depth': 6, 'classifier__min_child_weight': 3, 'scaler': Normalizer(copy=True, norm='l2')}, {'classifier__colsample_bytree': 0.7, 'classifier__gamma': 0.2, 'classifier__learning_rate': 0.01, 'classifier__max_depth': 6, 'classifier__min_child_weight': 3, 'scaler': MinMaxScaler(copy=True, feature_range=(0, 1))}, {'classifier__colsample_bytree': 0.7, 'classifier__gamma': 0.2, 'classifier__learning_rate': 0.01, 'classifier__max_depth': 6, 'classifier__min_child_weight': 3, 'scaler': None}, {'classifier__colsample_bytree': 0.7, 'classifier__gamma': 0.2, 'classifier__learning_rate': 0.01, 'classifier__max_depth': 8, 'classifier__min_child_weight': 1, 'scaler': Normalizer(copy=True, norm='l2')}, {'classifier__colsample_bytree': 0.7, 'classifier__gamma': 0.2, 'classifier__learning_rate': 0.01, 'classifier__max_depth': 8, 'classifier__min_child_weight': 1, 'scaler': MinMaxScaler(copy=True, feature_range=(0, 1))}, {'classifier__colsample_bytree': 0.7, 'classifier__gamma': 0.2, 'classifier__learning_rate': 0.01, 'classifier__max_depth': 8, 'classifier__min_child_weight': 1, 'scaler': None}, {'classifier__colsample_bytree': 0.7, 'classifier__gamma': 0.2, 'classifier__learning_rate': 0.01, 'classifier__max_depth': 8, 'classifier__min_child_weight': 3, 'scaler': Normalizer(copy=True, norm='l2')}, {'classifier__colsample_bytree': 0.7, 'classifier__gamma': 0.2, 'classifier__learning_rate': 0.01, 'classifier__max_depth': 8, 'classifier__min_child_weight': 3, 'scaler': MinMaxScaler(copy=True, feature_range=(0, 1))}, {'classifier__colsample_bytree': 0.7, 'classifier__gamma': 0.2, 'classifier__learning_rate': 0.01, 'classifier__max_depth': 8, 'classifier__min_child_weight': 3, 'scaler': None}, {'classifier__colsample_bytree': 0.7, 'classifier__gamma': 0.2, 'classifier__learning_rate': 0.01, 'classifier__max_depth': 10, 'classifier__min_child_weight': 1, 'scaler': Normalizer(copy=True, norm='l2')}, {'classifier__colsample_bytree': 0.7, 'classifier__gamma': 0.2, 'classifier__learning_rate': 0.01, 'classifier__max_depth': 10, 'classifier__min_child_weight': 1, 'scaler': MinMaxScaler(copy=True, feature_range=(0, 1))}, {'classifier__colsample_bytree': 0.7, 'classifier__gamma': 0.2, 'classifier__learning_rate': 0.01, 'classifier__max_depth': 10, 'classifier__min_child_weight': 1, 'scaler': None}, {'classifier__colsample_bytree': 0.7, 'classifier__gamma': 0.2, 'classifier__learning_rate': 0.01, 'classifier__max_depth': 10, 'classifier__min_child_weight': 3, 'scaler': Normalizer(copy=True, norm='l2')}, {'classifier__colsample_bytree': 0.7, 'classifier__gamma': 0.2, 'classifier__learning_rate': 0.01, 'classifier__max_depth': 10, 'classifier__min_child_weight': 3, 'scaler': MinMaxScaler(copy=True, feature_range=(0, 1))}, {'classifier__colsample_bytree': 0.7, 'classifier__gamma': 0.2, 'classifier__learning_rate': 0.01, 'classifier__max_depth': 10, 'classifier__min_child_weight': 3, 'scaler': None}, {'classifier__colsample_bytree': 1, 'classifier__gamma': 0.0, 'classifier__learning_rate': 1, 'classifier__max_depth': 4, 'classifier__min_child_weight': 1, 'scaler': Normalizer(copy=True, norm='l2')}, {'classifier__colsample_bytree': 1, 'classifier__gamma': 0.0, 'classifier__learning_rate': 1, 'classifier__max_depth': 4, 'classifier__min_child_weight': 1, 'scaler': MinMaxScaler(copy=True, feature_range=(0, 1))}, {'classifier__colsample_bytree': 1, 'classifier__gamma': 0.0, 'classifier__learning_rate': 1, 'classifier__max_depth': 4, 'classifier__min_child_weight': 1, 'scaler': None}, {'classifier__colsample_bytree': 1, 'classifier__gamma': 0.0, 'classifier__learning_rate': 1, 'classifier__max_depth': 4, 'classifier__min_child_weight': 3, 'scaler': Normalizer(copy=True, norm='l2')}, {'classifier__colsample_bytree': 1, 'classifier__gamma': 0.0, 'classifier__learning_rate': 1, 'classifier__max_depth': 4, 'classifier__min_child_weight': 3, 'scaler': MinMaxScaler(copy=True, feature_range=(0, 1))}, {'classifier__colsample_bytree': 1, 'classifier__gamma': 0.0, 'classifier__learning_rate': 1, 'classifier__max_depth': 4, 'classifier__min_child_weight': 3, 'scaler': None}, {'classifier__colsample_bytree': 1, 'classifier__gamma': 0.0, 'classifier__learning_rate': 1, 'classifier__max_depth': 6, 'classifier__min_child_weight': 1, 'scaler': Normalizer(copy=True, norm='l2')}, {'classifier__colsample_bytree': 1, 'classifier__gamma': 0.0, 'classifier__learning_rate': 1, 'classifier__max_depth': 6, 'classifier__min_child_weight': 1, 'scaler': MinMaxScaler(copy=True, feature_range=(0, 1))}, {'classifier__colsample_bytree': 1, 'classifier__gamma': 0.0, 'classifier__learning_rate': 1, 'classifier__max_depth': 6, 'classifier__min_child_weight': 1, 'scaler': None}, {'classifier__colsample_bytree': 1, 'classifier__gamma': 0.0, 'classifier__learning_rate': 1, 'classifier__max_depth': 6, 'classifier__min_child_weight': 3, 'scaler': Normalizer(copy=True, norm='l2')}, {'classifier__colsample_bytree': 1, 'classifier__gamma': 0.0, 'classifier__learning_rate': 1, 'classifier__max_depth': 6, 'classifier__min_child_weight': 3, 'scaler': MinMaxScaler(copy=True, feature_range=(0, 1))}, {'classifier__colsample_bytree': 1, 'classifier__gamma': 0.0, 'classifier__learning_rate': 1, 'classifier__max_depth': 6, 'classifier__min_child_weight': 3, 'scaler': None}, {'classifier__colsample_bytree': 1, 'classifier__gamma': 0.0, 'classifier__learning_rate': 1, 'classifier__max_depth': 8, 'classifier__min_child_weight': 1, 'scaler': Normalizer(copy=True, norm='l2')}, {'classifier__colsample_bytree': 1, 'classifier__gamma': 0.0, 'classifier__learning_rate': 1, 'classifier__max_depth': 8, 'classifier__min_child_weight': 1, 'scaler': MinMaxScaler(copy=True, feature_range=(0, 1))}, {'classifier__colsample_bytree': 1, 'classifier__gamma': 0.0, 'classifier__learning_rate': 1, 'classifier__max_depth': 8, 'classifier__min_child_weight': 1, 'scaler': None}, {'classifier__colsample_bytree': 1, 'classifier__gamma': 0.0, 'classifier__learning_rate': 1, 'classifier__max_depth': 8, 'classifier__min_child_weight': 3, 'scaler': Normalizer(copy=True, norm='l2')}, {'classifier__colsample_bytree': 1, 'classifier__gamma': 0.0, 'classifier__learning_rate': 1, 'classifier__max_depth': 8, 'classifier__min_child_weight': 3, 'scaler': MinMaxScaler(copy=True, feature_range=(0, 1))}, {'classifier__colsample_bytree': 1, 'classifier__gamma': 0.0, 'classifier__learning_rate': 1, 'classifier__max_depth': 8, 'classifier__min_child_weight': 3, 'scaler': None}, {'classifier__colsample_bytree': 1, 'classifier__gamma': 0.0, 'classifier__learning_rate': 1, 'classifier__max_depth': 10, 'classifier__min_child_weight': 1, 'scaler': Normalizer(copy=True, norm='l2')}, {'classifier__colsample_bytree': 1, 'classifier__gamma': 0.0, 'classifier__learning_rate': 1, 'classifier__max_depth': 10, 'classifier__min_child_weight': 1, 'scaler': MinMaxScaler(copy=True, feature_range=(0, 1))}, {'classifier__colsample_bytree': 1, 'classifier__gamma': 0.0, 'classifier__learning_rate': 1, 'classifier__max_depth': 10, 'classifier__min_child_weight': 1, 'scaler': None}, {'classifier__colsample_bytree': 1, 'classifier__gamma': 0.0, 'classifier__learning_rate': 1, 'classifier__max_depth': 10, 'classifier__min_child_weight': 3, 'scaler': Normalizer(copy=True, norm='l2')}, {'classifier__colsample_bytree': 1, 'classifier__gamma': 0.0, 'classifier__learning_rate': 1, 'classifier__max_depth': 10, 'classifier__min_child_weight': 3, 'scaler': MinMaxScaler(copy=True, feature_range=(0, 1))}, {'classifier__colsample_bytree': 1, 'classifier__gamma': 0.0, 'classifier__learning_rate': 1, 'classifier__max_depth': 10, 'classifier__min_child_weight': 3, 'scaler': None}, {'classifier__colsample_bytree': 1, 'classifier__gamma': 0.0, 'classifier__learning_rate': 0.1, 'classifier__max_depth': 4, 'classifier__min_child_weight': 1, 'scaler': Normalizer(copy=True, norm='l2')}, {'classifier__colsample_bytree': 1, 'classifier__gamma': 0.0, 'classifier__learning_rate': 0.1, 'classifier__max_depth': 4, 'classifier__min_child_weight': 1, 'scaler': MinMaxScaler(copy=True, feature_range=(0, 1))}, {'classifier__colsample_bytree': 1, 'classifier__gamma': 0.0, 'classifier__learning_rate': 0.1, 'classifier__max_depth': 4, 'classifier__min_child_weight': 1, 'scaler': None}, {'classifier__colsample_bytree': 1, 'classifier__gamma': 0.0, 'classifier__learning_rate': 0.1, 'classifier__max_depth': 4, 'classifier__min_child_weight': 3, 'scaler': Normalizer(copy=True, norm='l2')}, {'classifier__colsample_bytree': 1, 'classifier__gamma': 0.0, 'classifier__learning_rate': 0.1, 'classifier__max_depth': 4, 'classifier__min_child_weight': 3, 'scaler': MinMaxScaler(copy=True, feature_range=(0, 1))}, {'classifier__colsample_bytree': 1, 'classifier__gamma': 0.0, 'classifier__learning_rate': 0.1, 'classifier__max_depth': 4, 'classifier__min_child_weight': 3, 'scaler': None}, {'classifier__colsample_bytree': 1, 'classifier__gamma': 0.0, 'classifier__learning_rate': 0.1, 'classifier__max_depth': 6, 'classifier__min_child_weight': 1, 'scaler': Normalizer(copy=True, norm='l2')}, {'classifier__colsample_bytree': 1, 'classifier__gamma': 0.0, 'classifier__learning_rate': 0.1, 'classifier__max_depth': 6, 'classifier__min_child_weight': 1, 'scaler': MinMaxScaler(copy=True, feature_range=(0, 1))}, {'classifier__colsample_bytree': 1, 'classifier__gamma': 0.0, 'classifier__learning_rate': 0.1, 'classifier__max_depth': 6, 'classifier__min_child_weight': 1, 'scaler': None}, {'classifier__colsample_bytree': 1, 'classifier__gamma': 0.0, 'classifier__learning_rate': 0.1, 'classifier__max_depth': 6, 'classifier__min_child_weight': 3, 'scaler': Normalizer(copy=True, norm='l2')}, {'classifier__colsample_bytree': 1, 'classifier__gamma': 0.0, 'classifier__learning_rate': 0.1, 'classifier__max_depth': 6, 'classifier__min_child_weight': 3, 'scaler': MinMaxScaler(copy=True, feature_range=(0, 1))}, {'classifier__colsample_bytree': 1, 'classifier__gamma': 0.0, 'classifier__learning_rate': 0.1, 'classifier__max_depth': 6, 'classifier__min_child_weight': 3, 'scaler': None}, {'classifier__colsample_bytree': 1, 'classifier__gamma': 0.0, 'classifier__learning_rate': 0.1, 'classifier__max_depth': 8, 'classifier__min_child_weight': 1, 'scaler': Normalizer(copy=True, norm='l2')}, {'classifier__colsample_bytree': 1, 'classifier__gamma': 0.0, 'classifier__learning_rate': 0.1, 'classifier__max_depth': 8, 'classifier__min_child_weight': 1, 'scaler': MinMaxScaler(copy=True, feature_range=(0, 1))}, {'classifier__colsample_bytree': 1, 'classifier__gamma': 0.0, 'classifier__learning_rate': 0.1, 'classifier__max_depth': 8, 'classifier__min_child_weight': 1, 'scaler': None}, {'classifier__colsample_bytree': 1, 'classifier__gamma': 0.0, 'classifier__learning_rate': 0.1, 'classifier__max_depth': 8, 'classifier__min_child_weight': 3, 'scaler': Normalizer(copy=True, norm='l2')}, {'classifier__colsample_bytree': 1, 'classifier__gamma': 0.0, 'classifier__learning_rate': 0.1, 'classifier__max_depth': 8, 'classifier__min_child_weight': 3, 'scaler': MinMaxScaler(copy=True, feature_range=(0, 1))}, {'classifier__colsample_bytree': 1, 'classifier__gamma': 0.0, 'classifier__learning_rate': 0.1, 'classifier__max_depth': 8, 'classifier__min_child_weight': 3, 'scaler': None}, {'classifier__colsample_bytree': 1, 'classifier__gamma': 0.0, 'classifier__learning_rate': 0.1, 'classifier__max_depth': 10, 'classifier__min_child_weight': 1, 'scaler': Normalizer(copy=True, norm='l2')}, {'classifier__colsample_bytree': 1, 'classifier__gamma': 0.0, 'classifier__learning_rate': 0.1, 'classifier__max_depth': 10, 'classifier__min_child_weight': 1, 'scaler': MinMaxScaler(copy=True, feature_range=(0, 1))}, {'classifier__colsample_bytree': 1, 'classifier__gamma': 0.0, 'classifier__learning_rate': 0.1, 'classifier__max_depth': 10, 'classifier__min_child_weight': 1, 'scaler': None}, {'classifier__colsample_bytree': 1, 'classifier__gamma': 0.0, 'classifier__learning_rate': 0.1, 'classifier__max_depth': 10, 'classifier__min_child_weight': 3, 'scaler': Normalizer(copy=True, norm='l2')}, {'classifier__colsample_bytree': 1, 'classifier__gamma': 0.0, 'classifier__learning_rate': 0.1, 'classifier__max_depth': 10, 'classifier__min_child_weight': 3, 'scaler': MinMaxScaler(copy=True, feature_range=(0, 1))}, {'classifier__colsample_bytree': 1, 'classifier__gamma': 0.0, 'classifier__learning_rate': 0.1, 'classifier__max_depth': 10, 'classifier__min_child_weight': 3, 'scaler': None}, {'classifier__colsample_bytree': 1, 'classifier__gamma': 0.0, 'classifier__learning_rate': 0.01, 'classifier__max_depth': 4, 'classifier__min_child_weight': 1, 'scaler': Normalizer(copy=True, norm='l2')}, {'classifier__colsample_bytree': 1, 'classifier__gamma': 0.0, 'classifier__learning_rate': 0.01, 'classifier__max_depth': 4, 'classifier__min_child_weight': 1, 'scaler': MinMaxScaler(copy=True, feature_range=(0, 1))}, {'classifier__colsample_bytree': 1, 'classifier__gamma': 0.0, 'classifier__learning_rate': 0.01, 'classifier__max_depth': 4, 'classifier__min_child_weight': 1, 'scaler': None}, {'classifier__colsample_bytree': 1, 'classifier__gamma': 0.0, 'classifier__learning_rate': 0.01, 'classifier__max_depth': 4, 'classifier__min_child_weight': 3, 'scaler': Normalizer(copy=True, norm='l2')}, {'classifier__colsample_bytree': 1, 'classifier__gamma': 0.0, 'classifier__learning_rate': 0.01, 'classifier__max_depth': 4, 'classifier__min_child_weight': 3, 'scaler': MinMaxScaler(copy=True, feature_range=(0, 1))}, {'classifier__colsample_bytree': 1, 'classifier__gamma': 0.0, 'classifier__learning_rate': 0.01, 'classifier__max_depth': 4, 'classifier__min_child_weight': 3, 'scaler': None}, {'classifier__colsample_bytree': 1, 'classifier__gamma': 0.0, 'classifier__learning_rate': 0.01, 'classifier__max_depth': 6, 'classifier__min_child_weight': 1, 'scaler': Normalizer(copy=True, norm='l2')}, {'classifier__colsample_bytree': 1, 'classifier__gamma': 0.0, 'classifier__learning_rate': 0.01, 'classifier__max_depth': 6, 'classifier__min_child_weight': 1, 'scaler': MinMaxScaler(copy=True, feature_range=(0, 1))}, {'classifier__colsample_bytree': 1, 'classifier__gamma': 0.0, 'classifier__learning_rate': 0.01, 'classifier__max_depth': 6, 'classifier__min_child_weight': 1, 'scaler': None}, {'classifier__colsample_bytree': 1, 'classifier__gamma': 0.0, 'classifier__learning_rate': 0.01, 'classifier__max_depth': 6, 'classifier__min_child_weight': 3, 'scaler': Normalizer(copy=True, norm='l2')}, {'classifier__colsample_bytree': 1, 'classifier__gamma': 0.0, 'classifier__learning_rate': 0.01, 'classifier__max_depth': 6, 'classifier__min_child_weight': 3, 'scaler': MinMaxScaler(copy=True, feature_range=(0, 1))}, {'classifier__colsample_bytree': 1, 'classifier__gamma': 0.0, 'classifier__learning_rate': 0.01, 'classifier__max_depth': 6, 'classifier__min_child_weight': 3, 'scaler': None}, {'classifier__colsample_bytree': 1, 'classifier__gamma': 0.0, 'classifier__learning_rate': 0.01, 'classifier__max_depth': 8, 'classifier__min_child_weight': 1, 'scaler': Normalizer(copy=True, norm='l2')}, {'classifier__colsample_bytree': 1, 'classifier__gamma': 0.0, 'classifier__learning_rate': 0.01, 'classifier__max_depth': 8, 'classifier__min_child_weight': 1, 'scaler': MinMaxScaler(copy=True, feature_range=(0, 1))}, {'classifier__colsample_bytree': 1, 'classifier__gamma': 0.0, 'classifier__learning_rate': 0.01, 'classifier__max_depth': 8, 'classifier__min_child_weight': 1, 'scaler': None}, {'classifier__colsample_bytree': 1, 'classifier__gamma': 0.0, 'classifier__learning_rate': 0.01, 'classifier__max_depth': 8, 'classifier__min_child_weight': 3, 'scaler': Normalizer(copy=True, norm='l2')}, {'classifier__colsample_bytree': 1, 'classifier__gamma': 0.0, 'classifier__learning_rate': 0.01, 'classifier__max_depth': 8, 'classifier__min_child_weight': 3, 'scaler': MinMaxScaler(copy=True, feature_range=(0, 1))}, {'classifier__colsample_bytree': 1, 'classifier__gamma': 0.0, 'classifier__learning_rate': 0.01, 'classifier__max_depth': 8, 'classifier__min_child_weight': 3, 'scaler': None}, {'classifier__colsample_bytree': 1, 'classifier__gamma': 0.0, 'classifier__learning_rate': 0.01, 'classifier__max_depth': 10, 'classifier__min_child_weight': 1, 'scaler': Normalizer(copy=True, norm='l2')}, {'classifier__colsample_bytree': 1, 'classifier__gamma': 0.0, 'classifier__learning_rate': 0.01, 'classifier__max_depth': 10, 'classifier__min_child_weight': 1, 'scaler': MinMaxScaler(copy=True, feature_range=(0, 1))}, {'classifier__colsample_bytree': 1, 'classifier__gamma': 0.0, 'classifier__learning_rate': 0.01, 'classifier__max_depth': 10, 'classifier__min_child_weight': 1, 'scaler': None}, {'classifier__colsample_bytree': 1, 'classifier__gamma': 0.0, 'classifier__learning_rate': 0.01, 'classifier__max_depth': 10, 'classifier__min_child_weight': 3, 'scaler': Normalizer(copy=True, norm='l2')}, {'classifier__colsample_bytree': 1, 'classifier__gamma': 0.0, 'classifier__learning_rate': 0.01, 'classifier__max_depth': 10, 'classifier__min_child_weight': 3, 'scaler': MinMaxScaler(copy=True, feature_range=(0, 1))}, {'classifier__colsample_bytree': 1, 'classifier__gamma': 0.0, 'classifier__learning_rate': 0.01, 'classifier__max_depth': 10, 'classifier__min_child_weight': 3, 'scaler': None}, {'classifier__colsample_bytree': 1, 'classifier__gamma': 0.1, 'classifier__learning_rate': 1, 'classifier__max_depth': 4, 'classifier__min_child_weight': 1, 'scaler': Normalizer(copy=True, norm='l2')}, {'classifier__colsample_bytree': 1, 'classifier__gamma': 0.1, 'classifier__learning_rate': 1, 'classifier__max_depth': 4, 'classifier__min_child_weight': 1, 'scaler': MinMaxScaler(copy=True, feature_range=(0, 1))}, {'classifier__colsample_bytree': 1, 'classifier__gamma': 0.1, 'classifier__learning_rate': 1, 'classifier__max_depth': 4, 'classifier__min_child_weight': 1, 'scaler': None}, {'classifier__colsample_bytree': 1, 'classifier__gamma': 0.1, 'classifier__learning_rate': 1, 'classifier__max_depth': 4, 'classifier__min_child_weight': 3, 'scaler': Normalizer(copy=True, norm='l2')}, {'classifier__colsample_bytree': 1, 'classifier__gamma': 0.1, 'classifier__learning_rate': 1, 'classifier__max_depth': 4, 'classifier__min_child_weight': 3, 'scaler': MinMaxScaler(copy=True, feature_range=(0, 1))}, {'classifier__colsample_bytree': 1, 'classifier__gamma': 0.1, 'classifier__learning_rate': 1, 'classifier__max_depth': 4, 'classifier__min_child_weight': 3, 'scaler': None}, {'classifier__colsample_bytree': 1, 'classifier__gamma': 0.1, 'classifier__learning_rate': 1, 'classifier__max_depth': 6, 'classifier__min_child_weight': 1, 'scaler': Normalizer(copy=True, norm='l2')}, {'classifier__colsample_bytree': 1, 'classifier__gamma': 0.1, 'classifier__learning_rate': 1, 'classifier__max_depth': 6, 'classifier__min_child_weight': 1, 'scaler': MinMaxScaler(copy=True, feature_range=(0, 1))}, {'classifier__colsample_bytree': 1, 'classifier__gamma': 0.1, 'classifier__learning_rate': 1, 'classifier__max_depth': 6, 'classifier__min_child_weight': 1, 'scaler': None}, {'classifier__colsample_bytree': 1, 'classifier__gamma': 0.1, 'classifier__learning_rate': 1, 'classifier__max_depth': 6, 'classifier__min_child_weight': 3, 'scaler': Normalizer(copy=True, norm='l2')}, {'classifier__colsample_bytree': 1, 'classifier__gamma': 0.1, 'classifier__learning_rate': 1, 'classifier__max_depth': 6, 'classifier__min_child_weight': 3, 'scaler': MinMaxScaler(copy=True, feature_range=(0, 1))}, {'classifier__colsample_bytree': 1, 'classifier__gamma': 0.1, 'classifier__learning_rate': 1, 'classifier__max_depth': 6, 'classifier__min_child_weight': 3, 'scaler': None}, {'classifier__colsample_bytree': 1, 'classifier__gamma': 0.1, 'classifier__learning_rate': 1, 'classifier__max_depth': 8, 'classifier__min_child_weight': 1, 'scaler': Normalizer(copy=True, norm='l2')}, {'classifier__colsample_bytree': 1, 'classifier__gamma': 0.1, 'classifier__learning_rate': 1, 'classifier__max_depth': 8, 'classifier__min_child_weight': 1, 'scaler': MinMaxScaler(copy=True, feature_range=(0, 1))}, {'classifier__colsample_bytree': 1, 'classifier__gamma': 0.1, 'classifier__learning_rate': 1, 'classifier__max_depth': 8, 'classifier__min_child_weight': 1, 'scaler': None}, {'classifier__colsample_bytree': 1, 'classifier__gamma': 0.1, 'classifier__learning_rate': 1, 'classifier__max_depth': 8, 'classifier__min_child_weight': 3, 'scaler': Normalizer(copy=True, norm='l2')}, {'classifier__colsample_bytree': 1, 'classifier__gamma': 0.1, 'classifier__learning_rate': 1, 'classifier__max_depth': 8, 'classifier__min_child_weight': 3, 'scaler': MinMaxScaler(copy=True, feature_range=(0, 1))}, {'classifier__colsample_bytree': 1, 'classifier__gamma': 0.1, 'classifier__learning_rate': 1, 'classifier__max_depth': 8, 'classifier__min_child_weight': 3, 'scaler': None}, {'classifier__colsample_bytree': 1, 'classifier__gamma': 0.1, 'classifier__learning_rate': 1, 'classifier__max_depth': 10, 'classifier__min_child_weight': 1, 'scaler': Normalizer(copy=True, norm='l2')}, {'classifier__colsample_bytree': 1, 'classifier__gamma': 0.1, 'classifier__learning_rate': 1, 'classifier__max_depth': 10, 'classifier__min_child_weight': 1, 'scaler': MinMaxScaler(copy=True, feature_range=(0, 1))}, {'classifier__colsample_bytree': 1, 'classifier__gamma': 0.1, 'classifier__learning_rate': 1, 'classifier__max_depth': 10, 'classifier__min_child_weight': 1, 'scaler': None}, {'classifier__colsample_bytree': 1, 'classifier__gamma': 0.1, 'classifier__learning_rate': 1, 'classifier__max_depth': 10, 'classifier__min_child_weight': 3, 'scaler': Normalizer(copy=True, norm='l2')}, {'classifier__colsample_bytree': 1, 'classifier__gamma': 0.1, 'classifier__learning_rate': 1, 'classifier__max_depth': 10, 'classifier__min_child_weight': 3, 'scaler': MinMaxScaler(copy=True, feature_range=(0, 1))}, {'classifier__colsample_bytree': 1, 'classifier__gamma': 0.1, 'classifier__learning_rate': 1, 'classifier__max_depth': 10, 'classifier__min_child_weight': 3, 'scaler': None}, {'classifier__colsample_bytree': 1, 'classifier__gamma': 0.1, 'classifier__learning_rate': 0.1, 'classifier__max_depth': 4, 'classifier__min_child_weight': 1, 'scaler': Normalizer(copy=True, norm='l2')}, {'classifier__colsample_bytree': 1, 'classifier__gamma': 0.1, 'classifier__learning_rate': 0.1, 'classifier__max_depth': 4, 'classifier__min_child_weight': 1, 'scaler': MinMaxScaler(copy=True, feature_range=(0, 1))}, {'classifier__colsample_bytree': 1, 'classifier__gamma': 0.1, 'classifier__learning_rate': 0.1, 'classifier__max_depth': 4, 'classifier__min_child_weight': 1, 'scaler': None}, {'classifier__colsample_bytree': 1, 'classifier__gamma': 0.1, 'classifier__learning_rate': 0.1, 'classifier__max_depth': 4, 'classifier__min_child_weight': 3, 'scaler': Normalizer(copy=True, norm='l2')}, {'classifier__colsample_bytree': 1, 'classifier__gamma': 0.1, 'classifier__learning_rate': 0.1, 'classifier__max_depth': 4, 'classifier__min_child_weight': 3, 'scaler': MinMaxScaler(copy=True, feature_range=(0, 1))}, {'classifier__colsample_bytree': 1, 'classifier__gamma': 0.1, 'classifier__learning_rate': 0.1, 'classifier__max_depth': 4, 'classifier__min_child_weight': 3, 'scaler': None}, {'classifier__colsample_bytree': 1, 'classifier__gamma': 0.1, 'classifier__learning_rate': 0.1, 'classifier__max_depth': 6, 'classifier__min_child_weight': 1, 'scaler': Normalizer(copy=True, norm='l2')}, {'classifier__colsample_bytree': 1, 'classifier__gamma': 0.1, 'classifier__learning_rate': 0.1, 'classifier__max_depth': 6, 'classifier__min_child_weight': 1, 'scaler': MinMaxScaler(copy=True, feature_range=(0, 1))}, {'classifier__colsample_bytree': 1, 'classifier__gamma': 0.1, 'classifier__learning_rate': 0.1, 'classifier__max_depth': 6, 'classifier__min_child_weight': 1, 'scaler': None}, {'classifier__colsample_bytree': 1, 'classifier__gamma': 0.1, 'classifier__learning_rate': 0.1, 'classifier__max_depth': 6, 'classifier__min_child_weight': 3, 'scaler': Normalizer(copy=True, norm='l2')}, {'classifier__colsample_bytree': 1, 'classifier__gamma': 0.1, 'classifier__learning_rate': 0.1, 'classifier__max_depth': 6, 'classifier__min_child_weight': 3, 'scaler': MinMaxScaler(copy=True, feature_range=(0, 1))}, {'classifier__colsample_bytree': 1, 'classifier__gamma': 0.1, 'classifier__learning_rate': 0.1, 'classifier__max_depth': 6, 'classifier__min_child_weight': 3, 'scaler': None}, {'classifier__colsample_bytree': 1, 'classifier__gamma': 0.1, 'classifier__learning_rate': 0.1, 'classifier__max_depth': 8, 'classifier__min_child_weight': 1, 'scaler': Normalizer(copy=True, norm='l2')}, {'classifier__colsample_bytree': 1, 'classifier__gamma': 0.1, 'classifier__learning_rate': 0.1, 'classifier__max_depth': 8, 'classifier__min_child_weight': 1, 'scaler': MinMaxScaler(copy=True, feature_range=(0, 1))}, {'classifier__colsample_bytree': 1, 'classifier__gamma': 0.1, 'classifier__learning_rate': 0.1, 'classifier__max_depth': 8, 'classifier__min_child_weight': 1, 'scaler': None}, {'classifier__colsample_bytree': 1, 'classifier__gamma': 0.1, 'classifier__learning_rate': 0.1, 'classifier__max_depth': 8, 'classifier__min_child_weight': 3, 'scaler': Normalizer(copy=True, norm='l2')}, {'classifier__colsample_bytree': 1, 'classifier__gamma': 0.1, 'classifier__learning_rate': 0.1, 'classifier__max_depth': 8, 'classifier__min_child_weight': 3, 'scaler': MinMaxScaler(copy=True, feature_range=(0, 1))}, {'classifier__colsample_bytree': 1, 'classifier__gamma': 0.1, 'classifier__learning_rate': 0.1, 'classifier__max_depth': 8, 'classifier__min_child_weight': 3, 'scaler': None}, {'classifier__colsample_bytree': 1, 'classifier__gamma': 0.1, 'classifier__learning_rate': 0.1, 'classifier__max_depth': 10, 'classifier__min_child_weight': 1, 'scaler': Normalizer(copy=True, norm='l2')}, {'classifier__colsample_bytree': 1, 'classifier__gamma': 0.1, 'classifier__learning_rate': 0.1, 'classifier__max_depth': 10, 'classifier__min_child_weight': 1, 'scaler': MinMaxScaler(copy=True, feature_range=(0, 1))}, {'classifier__colsample_bytree': 1, 'classifier__gamma': 0.1, 'classifier__learning_rate': 0.1, 'classifier__max_depth': 10, 'classifier__min_child_weight': 1, 'scaler': None}, {'classifier__colsample_bytree': 1, 'classifier__gamma': 0.1, 'classifier__learning_rate': 0.1, 'classifier__max_depth': 10, 'classifier__min_child_weight': 3, 'scaler': Normalizer(copy=True, norm='l2')}, {'classifier__colsample_bytree': 1, 'classifier__gamma': 0.1, 'classifier__learning_rate': 0.1, 'classifier__max_depth': 10, 'classifier__min_child_weight': 3, 'scaler': MinMaxScaler(copy=True, feature_range=(0, 1))}, {'classifier__colsample_bytree': 1, 'classifier__gamma': 0.1, 'classifier__learning_rate': 0.1, 'classifier__max_depth': 10, 'classifier__min_child_weight': 3, 'scaler': None}, {'classifier__colsample_bytree': 1, 'classifier__gamma': 0.1, 'classifier__learning_rate': 0.01, 'classifier__max_depth': 4, 'classifier__min_child_weight': 1, 'scaler': Normalizer(copy=True, norm='l2')}, {'classifier__colsample_bytree': 1, 'classifier__gamma': 0.1, 'classifier__learning_rate': 0.01, 'classifier__max_depth': 4, 'classifier__min_child_weight': 1, 'scaler': MinMaxScaler(copy=True, feature_range=(0, 1))}, {'classifier__colsample_bytree': 1, 'classifier__gamma': 0.1, 'classifier__learning_rate': 0.01, 'classifier__max_depth': 4, 'classifier__min_child_weight': 1, 'scaler': None}, {'classifier__colsample_bytree': 1, 'classifier__gamma': 0.1, 'classifier__learning_rate': 0.01, 'classifier__max_depth': 4, 'classifier__min_child_weight': 3, 'scaler': Normalizer(copy=True, norm='l2')}, {'classifier__colsample_bytree': 1, 'classifier__gamma': 0.1, 'classifier__learning_rate': 0.01, 'classifier__max_depth': 4, 'classifier__min_child_weight': 3, 'scaler': MinMaxScaler(copy=True, feature_range=(0, 1))}, {'classifier__colsample_bytree': 1, 'classifier__gamma': 0.1, 'classifier__learning_rate': 0.01, 'classifier__max_depth': 4, 'classifier__min_child_weight': 3, 'scaler': None}, {'classifier__colsample_bytree': 1, 'classifier__gamma': 0.1, 'classifier__learning_rate': 0.01, 'classifier__max_depth': 6, 'classifier__min_child_weight': 1, 'scaler': Normalizer(copy=True, norm='l2')}, {'classifier__colsample_bytree': 1, 'classifier__gamma': 0.1, 'classifier__learning_rate': 0.01, 'classifier__max_depth': 6, 'classifier__min_child_weight': 1, 'scaler': MinMaxScaler(copy=True, feature_range=(0, 1))}, {'classifier__colsample_bytree': 1, 'classifier__gamma': 0.1, 'classifier__learning_rate': 0.01, 'classifier__max_depth': 6, 'classifier__min_child_weight': 1, 'scaler': None}, {'classifier__colsample_bytree': 1, 'classifier__gamma': 0.1, 'classifier__learning_rate': 0.01, 'classifier__max_depth': 6, 'classifier__min_child_weight': 3, 'scaler': Normalizer(copy=True, norm='l2')}, {'classifier__colsample_bytree': 1, 'classifier__gamma': 0.1, 'classifier__learning_rate': 0.01, 'classifier__max_depth': 6, 'classifier__min_child_weight': 3, 'scaler': MinMaxScaler(copy=True, feature_range=(0, 1))}, {'classifier__colsample_bytree': 1, 'classifier__gamma': 0.1, 'classifier__learning_rate': 0.01, 'classifier__max_depth': 6, 'classifier__min_child_weight': 3, 'scaler': None}, {'classifier__colsample_bytree': 1, 'classifier__gamma': 0.1, 'classifier__learning_rate': 0.01, 'classifier__max_depth': 8, 'classifier__min_child_weight': 1, 'scaler': Normalizer(copy=True, norm='l2')}, {'classifier__colsample_bytree': 1, 'classifier__gamma': 0.1, 'classifier__learning_rate': 0.01, 'classifier__max_depth': 8, 'classifier__min_child_weight': 1, 'scaler': MinMaxScaler(copy=True, feature_range=(0, 1))}, {'classifier__colsample_bytree': 1, 'classifier__gamma': 0.1, 'classifier__learning_rate': 0.01, 'classifier__max_depth': 8, 'classifier__min_child_weight': 1, 'scaler': None}, {'classifier__colsample_bytree': 1, 'classifier__gamma': 0.1, 'classifier__learning_rate': 0.01, 'classifier__max_depth': 8, 'classifier__min_child_weight': 3, 'scaler': Normalizer(copy=True, norm='l2')}, {'classifier__colsample_bytree': 1, 'classifier__gamma': 0.1, 'classifier__learning_rate': 0.01, 'classifier__max_depth': 8, 'classifier__min_child_weight': 3, 'scaler': MinMaxScaler(copy=True, feature_range=(0, 1))}, {'classifier__colsample_bytree': 1, 'classifier__gamma': 0.1, 'classifier__learning_rate': 0.01, 'classifier__max_depth': 8, 'classifier__min_child_weight': 3, 'scaler': None}, {'classifier__colsample_bytree': 1, 'classifier__gamma': 0.1, 'classifier__learning_rate': 0.01, 'classifier__max_depth': 10, 'classifier__min_child_weight': 1, 'scaler': Normalizer(copy=True, norm='l2')}, {'classifier__colsample_bytree': 1, 'classifier__gamma': 0.1, 'classifier__learning_rate': 0.01, 'classifier__max_depth': 10, 'classifier__min_child_weight': 1, 'scaler': MinMaxScaler(copy=True, feature_range=(0, 1))}, {'classifier__colsample_bytree': 1, 'classifier__gamma': 0.1, 'classifier__learning_rate': 0.01, 'classifier__max_depth': 10, 'classifier__min_child_weight': 1, 'scaler': None}, {'classifier__colsample_bytree': 1, 'classifier__gamma': 0.1, 'classifier__learning_rate': 0.01, 'classifier__max_depth': 10, 'classifier__min_child_weight': 3, 'scaler': Normalizer(copy=True, norm='l2')}, {'classifier__colsample_bytree': 1, 'classifier__gamma': 0.1, 'classifier__learning_rate': 0.01, 'classifier__max_depth': 10, 'classifier__min_child_weight': 3, 'scaler': MinMaxScaler(copy=True, feature_range=(0, 1))}, {'classifier__colsample_bytree': 1, 'classifier__gamma': 0.1, 'classifier__learning_rate': 0.01, 'classifier__max_depth': 10, 'classifier__min_child_weight': 3, 'scaler': None}, {'classifier__colsample_bytree': 1, 'classifier__gamma': 0.2, 'classifier__learning_rate': 1, 'classifier__max_depth': 4, 'classifier__min_child_weight': 1, 'scaler': Normalizer(copy=True, norm='l2')}, {'classifier__colsample_bytree': 1, 'classifier__gamma': 0.2, 'classifier__learning_rate': 1, 'classifier__max_depth': 4, 'classifier__min_child_weight': 1, 'scaler': MinMaxScaler(copy=True, feature_range=(0, 1))}, {'classifier__colsample_bytree': 1, 'classifier__gamma': 0.2, 'classifier__learning_rate': 1, 'classifier__max_depth': 4, 'classifier__min_child_weight': 1, 'scaler': None}, {'classifier__colsample_bytree': 1, 'classifier__gamma': 0.2, 'classifier__learning_rate': 1, 'classifier__max_depth': 4, 'classifier__min_child_weight': 3, 'scaler': Normalizer(copy=True, norm='l2')}, {'classifier__colsample_bytree': 1, 'classifier__gamma': 0.2, 'classifier__learning_rate': 1, 'classifier__max_depth': 4, 'classifier__min_child_weight': 3, 'scaler': MinMaxScaler(copy=True, feature_range=(0, 1))}, {'classifier__colsample_bytree': 1, 'classifier__gamma': 0.2, 'classifier__learning_rate': 1, 'classifier__max_depth': 4, 'classifier__min_child_weight': 3, 'scaler': None}, {'classifier__colsample_bytree': 1, 'classifier__gamma': 0.2, 'classifier__learning_rate': 1, 'classifier__max_depth': 6, 'classifier__min_child_weight': 1, 'scaler': Normalizer(copy=True, norm='l2')}, {'classifier__colsample_bytree': 1, 'classifier__gamma': 0.2, 'classifier__learning_rate': 1, 'classifier__max_depth': 6, 'classifier__min_child_weight': 1, 'scaler': MinMaxScaler(copy=True, feature_range=(0, 1))}, {'classifier__colsample_bytree': 1, 'classifier__gamma': 0.2, 'classifier__learning_rate': 1, 'classifier__max_depth': 6, 'classifier__min_child_weight': 1, 'scaler': None}, {'classifier__colsample_bytree': 1, 'classifier__gamma': 0.2, 'classifier__learning_rate': 1, 'classifier__max_depth': 6, 'classifier__min_child_weight': 3, 'scaler': Normalizer(copy=True, norm='l2')}, {'classifier__colsample_bytree': 1, 'classifier__gamma': 0.2, 'classifier__learning_rate': 1, 'classifier__max_depth': 6, 'classifier__min_child_weight': 3, 'scaler': MinMaxScaler(copy=True, feature_range=(0, 1))}, {'classifier__colsample_bytree': 1, 'classifier__gamma': 0.2, 'classifier__learning_rate': 1, 'classifier__max_depth': 6, 'classifier__min_child_weight': 3, 'scaler': None}, {'classifier__colsample_bytree': 1, 'classifier__gamma': 0.2, 'classifier__learning_rate': 1, 'classifier__max_depth': 8, 'classifier__min_child_weight': 1, 'scaler': Normalizer(copy=True, norm='l2')}, {'classifier__colsample_bytree': 1, 'classifier__gamma': 0.2, 'classifier__learning_rate': 1, 'classifier__max_depth': 8, 'classifier__min_child_weight': 1, 'scaler': MinMaxScaler(copy=True, feature_range=(0, 1))}, {'classifier__colsample_bytree': 1, 'classifier__gamma': 0.2, 'classifier__learning_rate': 1, 'classifier__max_depth': 8, 'classifier__min_child_weight': 1, 'scaler': None}, {'classifier__colsample_bytree': 1, 'classifier__gamma': 0.2, 'classifier__learning_rate': 1, 'classifier__max_depth': 8, 'classifier__min_child_weight': 3, 'scaler': Normalizer(copy=True, norm='l2')}, {'classifier__colsample_bytree': 1, 'classifier__gamma': 0.2, 'classifier__learning_rate': 1, 'classifier__max_depth': 8, 'classifier__min_child_weight': 3, 'scaler': MinMaxScaler(copy=True, feature_range=(0, 1))}, {'classifier__colsample_bytree': 1, 'classifier__gamma': 0.2, 'classifier__learning_rate': 1, 'classifier__max_depth': 8, 'classifier__min_child_weight': 3, 'scaler': None}, {'classifier__colsample_bytree': 1, 'classifier__gamma': 0.2, 'classifier__learning_rate': 1, 'classifier__max_depth': 10, 'classifier__min_child_weight': 1, 'scaler': Normalizer(copy=True, norm='l2')}, {'classifier__colsample_bytree': 1, 'classifier__gamma': 0.2, 'classifier__learning_rate': 1, 'classifier__max_depth': 10, 'classifier__min_child_weight': 1, 'scaler': MinMaxScaler(copy=True, feature_range=(0, 1))}, {'classifier__colsample_bytree': 1, 'classifier__gamma': 0.2, 'classifier__learning_rate': 1, 'classifier__max_depth': 10, 'classifier__min_child_weight': 1, 'scaler': None}, {'classifier__colsample_bytree': 1, 'classifier__gamma': 0.2, 'classifier__learning_rate': 1, 'classifier__max_depth': 10, 'classifier__min_child_weight': 3, 'scaler': Normalizer(copy=True, norm='l2')}, {'classifier__colsample_bytree': 1, 'classifier__gamma': 0.2, 'classifier__learning_rate': 1, 'classifier__max_depth': 10, 'classifier__min_child_weight': 3, 'scaler': MinMaxScaler(copy=True, feature_range=(0, 1))}, {'classifier__colsample_bytree': 1, 'classifier__gamma': 0.2, 'classifier__learning_rate': 1, 'classifier__max_depth': 10, 'classifier__min_child_weight': 3, 'scaler': None}, {'classifier__colsample_bytree': 1, 'classifier__gamma': 0.2, 'classifier__learning_rate': 0.1, 'classifier__max_depth': 4, 'classifier__min_child_weight': 1, 'scaler': Normalizer(copy=True, norm='l2')}, {'classifier__colsample_bytree': 1, 'classifier__gamma': 0.2, 'classifier__learning_rate': 0.1, 'classifier__max_depth': 4, 'classifier__min_child_weight': 1, 'scaler': MinMaxScaler(copy=True, feature_range=(0, 1))}, {'classifier__colsample_bytree': 1, 'classifier__gamma': 0.2, 'classifier__learning_rate': 0.1, 'classifier__max_depth': 4, 'classifier__min_child_weight': 1, 'scaler': None}, {'classifier__colsample_bytree': 1, 'classifier__gamma': 0.2, 'classifier__learning_rate': 0.1, 'classifier__max_depth': 4, 'classifier__min_child_weight': 3, 'scaler': Normalizer(copy=True, norm='l2')}, {'classifier__colsample_bytree': 1, 'classifier__gamma': 0.2, 'classifier__learning_rate': 0.1, 'classifier__max_depth': 4, 'classifier__min_child_weight': 3, 'scaler': MinMaxScaler(copy=True, feature_range=(0, 1))}, {'classifier__colsample_bytree': 1, 'classifier__gamma': 0.2, 'classifier__learning_rate': 0.1, 'classifier__max_depth': 4, 'classifier__min_child_weight': 3, 'scaler': None}, {'classifier__colsample_bytree': 1, 'classifier__gamma': 0.2, 'classifier__learning_rate': 0.1, 'classifier__max_depth': 6, 'classifier__min_child_weight': 1, 'scaler': Normalizer(copy=True, norm='l2')}, {'classifier__colsample_bytree': 1, 'classifier__gamma': 0.2, 'classifier__learning_rate': 0.1, 'classifier__max_depth': 6, 'classifier__min_child_weight': 1, 'scaler': MinMaxScaler(copy=True, feature_range=(0, 1))}, {'classifier__colsample_bytree': 1, 'classifier__gamma': 0.2, 'classifier__learning_rate': 0.1, 'classifier__max_depth': 6, 'classifier__min_child_weight': 1, 'scaler': None}, {'classifier__colsample_bytree': 1, 'classifier__gamma': 0.2, 'classifier__learning_rate': 0.1, 'classifier__max_depth': 6, 'classifier__min_child_weight': 3, 'scaler': Normalizer(copy=True, norm='l2')}, {'classifier__colsample_bytree': 1, 'classifier__gamma': 0.2, 'classifier__learning_rate': 0.1, 'classifier__max_depth': 6, 'classifier__min_child_weight': 3, 'scaler': MinMaxScaler(copy=True, feature_range=(0, 1))}, {'classifier__colsample_bytree': 1, 'classifier__gamma': 0.2, 'classifier__learning_rate': 0.1, 'classifier__max_depth': 6, 'classifier__min_child_weight': 3, 'scaler': None}, {'classifier__colsample_bytree': 1, 'classifier__gamma': 0.2, 'classifier__learning_rate': 0.1, 'classifier__max_depth': 8, 'classifier__min_child_weight': 1, 'scaler': Normalizer(copy=True, norm='l2')}, {'classifier__colsample_bytree': 1, 'classifier__gamma': 0.2, 'classifier__learning_rate': 0.1, 'classifier__max_depth': 8, 'classifier__min_child_weight': 1, 'scaler': MinMaxScaler(copy=True, feature_range=(0, 1))}, {'classifier__colsample_bytree': 1, 'classifier__gamma': 0.2, 'classifier__learning_rate': 0.1, 'classifier__max_depth': 8, 'classifier__min_child_weight': 1, 'scaler': None}, {'classifier__colsample_bytree': 1, 'classifier__gamma': 0.2, 'classifier__learning_rate': 0.1, 'classifier__max_depth': 8, 'classifier__min_child_weight': 3, 'scaler': Normalizer(copy=True, norm='l2')}, {'classifier__colsample_bytree': 1, 'classifier__gamma': 0.2, 'classifier__learning_rate': 0.1, 'classifier__max_depth': 8, 'classifier__min_child_weight': 3, 'scaler': MinMaxScaler(copy=True, feature_range=(0, 1))}, {'classifier__colsample_bytree': 1, 'classifier__gamma': 0.2, 'classifier__learning_rate': 0.1, 'classifier__max_depth': 8, 'classifier__min_child_weight': 3, 'scaler': None}, {'classifier__colsample_bytree': 1, 'classifier__gamma': 0.2, 'classifier__learning_rate': 0.1, 'classifier__max_depth': 10, 'classifier__min_child_weight': 1, 'scaler': Normalizer(copy=True, norm='l2')}, {'classifier__colsample_bytree': 1, 'classifier__gamma': 0.2, 'classifier__learning_rate': 0.1, 'classifier__max_depth': 10, 'classifier__min_child_weight': 1, 'scaler': MinMaxScaler(copy=True, feature_range=(0, 1))}, {'classifier__colsample_bytree': 1, 'classifier__gamma': 0.2, 'classifier__learning_rate': 0.1, 'classifier__max_depth': 10, 'classifier__min_child_weight': 1, 'scaler': None}, {'classifier__colsample_bytree': 1, 'classifier__gamma': 0.2, 'classifier__learning_rate': 0.1, 'classifier__max_depth': 10, 'classifier__min_child_weight': 3, 'scaler': Normalizer(copy=True, norm='l2')}, {'classifier__colsample_bytree': 1, 'classifier__gamma': 0.2, 'classifier__learning_rate': 0.1, 'classifier__max_depth': 10, 'classifier__min_child_weight': 3, 'scaler': MinMaxScaler(copy=True, feature_range=(0, 1))}, {'classifier__colsample_bytree': 1, 'classifier__gamma': 0.2, 'classifier__learning_rate': 0.1, 'classifier__max_depth': 10, 'classifier__min_child_weight': 3, 'scaler': None}, {'classifier__colsample_bytree': 1, 'classifier__gamma': 0.2, 'classifier__learning_rate': 0.01, 'classifier__max_depth': 4, 'classifier__min_child_weight': 1, 'scaler': Normalizer(copy=True, norm='l2')}, {'classifier__colsample_bytree': 1, 'classifier__gamma': 0.2, 'classifier__learning_rate': 0.01, 'classifier__max_depth': 4, 'classifier__min_child_weight': 1, 'scaler': MinMaxScaler(copy=True, feature_range=(0, 1))}, {'classifier__colsample_bytree': 1, 'classifier__gamma': 0.2, 'classifier__learning_rate': 0.01, 'classifier__max_depth': 4, 'classifier__min_child_weight': 1, 'scaler': None}, {'classifier__colsample_bytree': 1, 'classifier__gamma': 0.2, 'classifier__learning_rate': 0.01, 'classifier__max_depth': 4, 'classifier__min_child_weight': 3, 'scaler': Normalizer(copy=True, norm='l2')}, {'classifier__colsample_bytree': 1, 'classifier__gamma': 0.2, 'classifier__learning_rate': 0.01, 'classifier__max_depth': 4, 'classifier__min_child_weight': 3, 'scaler': MinMaxScaler(copy=True, feature_range=(0, 1))}, {'classifier__colsample_bytree': 1, 'classifier__gamma': 0.2, 'classifier__learning_rate': 0.01, 'classifier__max_depth': 4, 'classifier__min_child_weight': 3, 'scaler': None}, {'classifier__colsample_bytree': 1, 'classifier__gamma': 0.2, 'classifier__learning_rate': 0.01, 'classifier__max_depth': 6, 'classifier__min_child_weight': 1, 'scaler': Normalizer(copy=True, norm='l2')}, {'classifier__colsample_bytree': 1, 'classifier__gamma': 0.2, 'classifier__learning_rate': 0.01, 'classifier__max_depth': 6, 'classifier__min_child_weight': 1, 'scaler': MinMaxScaler(copy=True, feature_range=(0, 1))}, {'classifier__colsample_bytree': 1, 'classifier__gamma': 0.2, 'classifier__learning_rate': 0.01, 'classifier__max_depth': 6, 'classifier__min_child_weight': 1, 'scaler': None}, {'classifier__colsample_bytree': 1, 'classifier__gamma': 0.2, 'classifier__learning_rate': 0.01, 'classifier__max_depth': 6, 'classifier__min_child_weight': 3, 'scaler': Normalizer(copy=True, norm='l2')}, {'classifier__colsample_bytree': 1, 'classifier__gamma': 0.2, 'classifier__learning_rate': 0.01, 'classifier__max_depth': 6, 'classifier__min_child_weight': 3, 'scaler': MinMaxScaler(copy=True, feature_range=(0, 1))}, {'classifier__colsample_bytree': 1, 'classifier__gamma': 0.2, 'classifier__learning_rate': 0.01, 'classifier__max_depth': 6, 'classifier__min_child_weight': 3, 'scaler': None}, {'classifier__colsample_bytree': 1, 'classifier__gamma': 0.2, 'classifier__learning_rate': 0.01, 'classifier__max_depth': 8, 'classifier__min_child_weight': 1, 'scaler': Normalizer(copy=True, norm='l2')}, {'classifier__colsample_bytree': 1, 'classifier__gamma': 0.2, 'classifier__learning_rate': 0.01, 'classifier__max_depth': 8, 'classifier__min_child_weight': 1, 'scaler': MinMaxScaler(copy=True, feature_range=(0, 1))}, {'classifier__colsample_bytree': 1, 'classifier__gamma': 0.2, 'classifier__learning_rate': 0.01, 'classifier__max_depth': 8, 'classifier__min_child_weight': 1, 'scaler': None}, {'classifier__colsample_bytree': 1, 'classifier__gamma': 0.2, 'classifier__learning_rate': 0.01, 'classifier__max_depth': 8, 'classifier__min_child_weight': 3, 'scaler': Normalizer(copy=True, norm='l2')}, {'classifier__colsample_bytree': 1, 'classifier__gamma': 0.2, 'classifier__learning_rate': 0.01, 'classifier__max_depth': 8, 'classifier__min_child_weight': 3, 'scaler': MinMaxScaler(copy=True, feature_range=(0, 1))}, {'classifier__colsample_bytree': 1, 'classifier__gamma': 0.2, 'classifier__learning_rate': 0.01, 'classifier__max_depth': 8, 'classifier__min_child_weight': 3, 'scaler': None}, {'classifier__colsample_bytree': 1, 'classifier__gamma': 0.2, 'classifier__learning_rate': 0.01, 'classifier__max_depth': 10, 'classifier__min_child_weight': 1, 'scaler': Normalizer(copy=True, norm='l2')}, {'classifier__colsample_bytree': 1, 'classifier__gamma': 0.2, 'classifier__learning_rate': 0.01, 'classifier__max_depth': 10, 'classifier__min_child_weight': 1, 'scaler': MinMaxScaler(copy=True, feature_range=(0, 1))}, {'classifier__colsample_bytree': 1, 'classifier__gamma': 0.2, 'classifier__learning_rate': 0.01, 'classifier__max_depth': 10, 'classifier__min_child_weight': 1, 'scaler': None}, {'classifier__colsample_bytree': 1, 'classifier__gamma': 0.2, 'classifier__learning_rate': 0.01, 'classifier__max_depth': 10, 'classifier__min_child_weight': 3, 'scaler': Normalizer(copy=True, norm='l2')}, {'classifier__colsample_bytree': 1, 'classifier__gamma': 0.2, 'classifier__learning_rate': 0.01, 'classifier__max_depth': 10, 'classifier__min_child_weight': 3, 'scaler': MinMaxScaler(copy=True, feature_range=(0, 1))}, {'classifier__colsample_bytree': 1, 'classifier__gamma': 0.2, 'classifier__learning_rate': 0.01, 'classifier__max_depth': 10, 'classifier__min_child_weight': 3, 'scaler': None}] \n",
      "\n",
      "mean_test_score:\n",
      " [0.96695025 0.96752527 0.96752434 0.96699841 0.9675774  0.96757653\n",
      " 0.967186   0.96897319 0.96897289 0.96707868 0.96886077 0.96886057\n",
      " 0.9670241  0.9691     0.96909796 0.96715929 0.96892498 0.9689255\n",
      " 0.96664797 0.96906469 0.96908652 0.96684296 0.96901859 0.9690245\n",
      " 0.96248451 0.96219962 0.96219962 0.962509   0.96218511 0.96218511\n",
      " 0.96533937 0.96545449 0.96545449 0.96534251 0.96540966 0.96540966\n",
      " 0.96722073 0.96772971 0.96772985 0.96721805 0.96765641 0.96765654\n",
      " 0.96873902 0.9693726  0.96937335 0.96867431 0.96920043 0.96920091\n",
      " 0.95080987 0.95019684 0.95019684 0.95081024 0.95019706 0.95019706\n",
      " 0.95475491 0.95658969 0.95658971 0.95475796 0.95659736 0.95659738\n",
      " 0.95694839 0.95918098 0.95918113 0.95696185 0.9591726  0.95917285\n",
      " 0.95881654 0.96114772 0.96114771 0.95882248 0.96107738 0.96107766\n",
      " 0.96684631 0.96730295 0.96730184 0.96706886 0.96747304 0.96747226\n",
      " 0.96712483 0.96897026 0.96894483 0.96714069 0.96890823 0.96890824\n",
      " 0.9668875  0.96922035 0.96922136 0.96669787 0.96903386 0.96903583\n",
      " 0.96650346 0.96893279 0.96894479 0.96697752 0.96904528 0.96905347\n",
      " 0.96248458 0.96220313 0.96220313 0.96250908 0.96218839 0.96218839\n",
      " 0.9653432  0.96541765 0.96541765 0.96530367 0.96541811 0.9654181\n",
      " 0.96722093 0.96773599 0.96773609 0.9671929  0.96767561 0.9676757\n",
      " 0.96874632 0.96936419 0.96936337 0.96866938 0.96924548 0.96924573\n",
      " 0.95080985 0.95019698 0.95019698 0.95081022 0.95019713 0.95019713\n",
      " 0.95475631 0.95658917 0.95658919 0.95475853 0.95659712 0.95659714\n",
      " 0.95694497 0.95918095 0.95918109 0.95695834 0.95917408 0.95917433\n",
      " 0.95881208 0.96114607 0.9611461  0.95881434 0.96107405 0.96107434\n",
      " 0.96678041 0.96738635 0.96738547 0.96700705 0.96764994 0.96764886\n",
      " 0.96712858 0.96890165 0.96890057 0.96715493 0.96886002 0.96885974\n",
      " 0.96666362 0.96923036 0.96923109 0.96712331 0.96904269 0.96904336\n",
      " 0.96652608 0.96912677 0.96907647 0.9669482  0.96904171 0.96904015\n",
      " 0.96248294 0.96220014 0.96220014 0.96253269 0.96218577 0.96218577\n",
      " 0.96534557 0.96547793 0.96547793 0.96530927 0.96543535 0.96543534\n",
      " 0.96727515 0.96775274 0.96775295 0.96719345 0.96768926 0.96768932\n",
      " 0.96876217 0.96935935 0.96936739 0.96868936 0.9692099  0.96921006\n",
      " 0.95080985 0.95019727 0.95019727 0.95081023 0.95019738 0.95019738\n",
      " 0.95475311 0.956582   0.95658202 0.95475709 0.95658166 0.95658168\n",
      " 0.95694308 0.95917855 0.95917871 0.95695379 0.95917088 0.95917113\n",
      " 0.95881003 0.96114154 0.96114158 0.9588198  0.96107043 0.96107073\n",
      " 0.96686433 0.96814454 0.9681445  0.96691756 0.96837296 0.96837283\n",
      " 0.96741451 0.96900316 0.96900066 0.96744714 0.96895885 0.96895991\n",
      " 0.96708244 0.96883312 0.968842   0.96738273 0.9691564  0.96915477\n",
      " 0.96669295 0.96878209 0.96878458 0.96719459 0.96892047 0.9689205\n",
      " 0.96318596 0.96344604 0.96344604 0.96318407 0.96345364 0.96345364\n",
      " 0.96558848 0.96630733 0.96630738 0.96555827 0.96629059 0.96629067\n",
      " 0.96747406 0.96853602 0.96853624 0.96745243 0.96840241 0.96840278\n",
      " 0.96881462 0.9702313  0.97023185 0.96876537 0.97003313 0.97004844\n",
      " 0.95432448 0.9524365  0.9524365  0.95432967 0.95243654 0.95243654\n",
      " 0.95849577 0.95890266 0.95890273 0.95849798 0.95891734 0.95891739\n",
      " 0.9607284  0.96176954 0.96176988 0.96074321 0.96176286 0.9617633\n",
      " 0.96250038 0.96401169 0.96401237 0.96252447 0.96394401 0.96394486\n",
      " 0.96687082 0.96804836 0.96804832 0.96692082 0.96829897 0.96829981\n",
      " 0.96725494 0.96894405 0.96894424 0.96750104 0.9690091  0.9690071\n",
      " 0.96720263 0.96897058 0.96897202 0.96723452 0.96901959 0.96902026\n",
      " 0.96674199 0.96870151 0.96869909 0.96718411 0.96889449 0.96889423\n",
      " 0.96318571 0.96344579 0.96344579 0.96318231 0.96345338 0.96345338\n",
      " 0.96556271 0.96632441 0.96632445 0.96558133 0.96631079 0.96631086\n",
      " 0.9674919  0.96851192 0.96851209 0.96746461 0.9684258  0.968426\n",
      " 0.96885016 0.97020046 0.97020119 0.96870794 0.96999708 0.97000463\n",
      " 0.95432448 0.95243651 0.95243651 0.95432967 0.95243656 0.95243656\n",
      " 0.95849806 0.9589066  0.95890665 0.95849873 0.95891818 0.95891823\n",
      " 0.96072629 0.9617727  0.96177304 0.96073989 0.9617547  0.96175514\n",
      " 0.96249983 0.96401319 0.96401397 0.96251892 0.96394438 0.9639452\n",
      " 0.96666491 0.96805217 0.96805202 0.96698369 0.96831982 0.96832072\n",
      " 0.96708992 0.96895105 0.96894983 0.96755105 0.96878447 0.96878442\n",
      " 0.96713895 0.96865576 0.96865718 0.96738908 0.96890301 0.96890236\n",
      " 0.96694681 0.96833095 0.96835362 0.96708313 0.96880325 0.96883223\n",
      " 0.96318569 0.96345635 0.96345635 0.96317199 0.96345312 0.96345312\n",
      " 0.96560353 0.96631211 0.96631222 0.96556894 0.96632902 0.96632912\n",
      " 0.96744845 0.96851381 0.96851407 0.96749318 0.96844541 0.96844556\n",
      " 0.96882917 0.97017889 0.9701796  0.96877601 0.96999858 0.96997864\n",
      " 0.95432448 0.95243642 0.95243642 0.95432968 0.95243645 0.95243645\n",
      " 0.95849594 0.9589063  0.95890636 0.9584983  0.95891861 0.95891866\n",
      " 0.96072412 0.96176693 0.96176729 0.96074408 0.96175949 0.96175993\n",
      " 0.96249493 0.96401592 0.96401676 0.96251805 0.96394578 0.96394664\n",
      " 0.96703065 0.96846862 0.96846852 0.96695687 0.96858233 0.96858214\n",
      " 0.9671801  0.96890306 0.96890259 0.96754297 0.96924296 0.96924325\n",
      " 0.96689516 0.96904614 0.96905857 0.96724637 0.96920822 0.96920698\n",
      " 0.96675515 0.96911754 0.96911376 0.96682221 0.96890582 0.96889512\n",
      " 0.96300651 0.96345884 0.96345884 0.9630147  0.96341233 0.96341233\n",
      " 0.96500079 0.96640879 0.9664088  0.96502736 0.96639889 0.96639883\n",
      " 0.96664343 0.96846597 0.96846613 0.96665333 0.96842366 0.96842383\n",
      " 0.96794933 0.97009031 0.97009079 0.96792867 0.9699322  0.9699325\n",
      " 0.95553982 0.95393711 0.95393711 0.95554032 0.95393686 0.95393686\n",
      " 0.9596865  0.95992111 0.95992116 0.95968714 0.95990788 0.95990792\n",
      " 0.9619846  0.96282503 0.96282537 0.96202181 0.96282329 0.96282361\n",
      " 0.9636458  0.96546142 0.96546185 0.96367009 0.96543725 0.96543789\n",
      " 0.96698347 0.96850252 0.96850302 0.96697122 0.96857445 0.96857344\n",
      " 0.96729507 0.96912925 0.9690933  0.96753563 0.9691023  0.96911076\n",
      " 0.96696577 0.96903362 0.96903288 0.96730732 0.96910942 0.96910749\n",
      " 0.96676546 0.96899641 0.96899581 0.96686659 0.9688443  0.96884409\n",
      " 0.96300652 0.96345847 0.96345847 0.96301875 0.96341199 0.963412\n",
      " 0.9650581  0.96642037 0.96642032 0.96495911 0.96639782 0.96639777\n",
      " 0.96660048 0.96846827 0.96846831 0.96662523 0.96841601 0.96841619\n",
      " 0.96796699 0.97005959 0.97006059 0.96789579 0.96990008 0.96990042\n",
      " 0.95553982 0.95393716 0.95393716 0.95554032 0.95393691 0.95393691\n",
      " 0.95968638 0.95992083 0.95992088 0.95968959 0.95990791 0.95990795\n",
      " 0.96199263 0.96281636 0.96281668 0.96202247 0.96281806 0.96281842\n",
      " 0.96363824 0.9654739  0.96547431 0.96367938 0.96543134 0.96543196\n",
      " 0.96698207 0.96843341 0.96843377 0.96689617 0.96865922 0.96865925\n",
      " 0.96723238 0.96914602 0.96914612 0.96759491 0.96914751 0.96917555\n",
      " 0.96715876 0.96908459 0.96908856 0.96729896 0.96913619 0.96912523\n",
      " 0.96640267 0.9688467  0.96885491 0.96696128 0.96888892 0.96886505\n",
      " 0.96300706 0.96345847 0.96345847 0.96301884 0.96339957 0.96339957\n",
      " 0.96506747 0.96640549 0.96640555 0.96492943 0.96638158 0.9663816\n",
      " 0.96661902 0.96849676 0.96849689 0.96659324 0.96839064 0.96839091\n",
      " 0.96794459 0.9700836  0.97008395 0.96790613 0.96987652 0.9698767\n",
      " 0.95553981 0.95393716 0.95393716 0.95554032 0.95393691 0.95393691\n",
      " 0.95967881 0.95992163 0.95992167 0.95968593 0.95991083 0.95991087\n",
      " 0.96198506 0.96280919 0.96280954 0.96202014 0.96281505 0.96281544\n",
      " 0.96364678 0.96546726 0.96546769 0.9636799  0.96543078 0.96543137\n",
      " 0.96717735 0.96834949 0.96834784 0.96737365 0.96862232 0.96862291\n",
      " 0.96723519 0.96884424 0.96884391 0.9676019  0.96890137 0.9688995\n",
      " 0.96701464 0.96885931 0.96887109 0.9674656  0.96891182 0.96890802\n",
      " 0.96671658 0.96849736 0.96847017 0.96693068 0.96861104 0.96859455\n",
      " 0.9629225  0.96358567 0.9635856  0.96294413 0.96361082 0.9636108\n",
      " 0.96463947 0.96557609 0.96557597 0.96468792 0.96578988 0.96578981\n",
      " 0.96615163 0.96758663 0.96758634 0.96608112 0.96751137 0.96751134\n",
      " 0.96725392 0.96905679 0.96905687 0.96729641 0.96894173 0.96894215\n",
      " 0.95551105 0.95237297 0.95237297 0.95551105 0.95237297 0.95237297\n",
      " 0.9594781  0.95887979 0.95887979 0.95948667 0.95888135 0.95888135\n",
      " 0.96179259 0.96202718 0.96202702 0.96180163 0.96201874 0.96201868\n",
      " 0.96343028 0.96468298 0.96468335 0.96348691 0.96466708 0.96466727\n",
      " 0.96722203 0.96830608 0.96830603 0.96742449 0.96854464 0.968545\n",
      " 0.96744388 0.96886841 0.96886647 0.96763789 0.96899917 0.96899942\n",
      " 0.96693933 0.96903091 0.96902921 0.96737394 0.96881211 0.96882205\n",
      " 0.96678413 0.96855633 0.96861565 0.96707276 0.96855145 0.96862036\n",
      " 0.96292212 0.96356932 0.96356925 0.96292863 0.96361071 0.96361069\n",
      " 0.96465752 0.96562113 0.96562093 0.96462188 0.96575078 0.96575065\n",
      " 0.96605523 0.96758805 0.96758796 0.96614087 0.96755165 0.9675514\n",
      " 0.9672818  0.96911149 0.9691115  0.96720589 0.96887064 0.96887095\n",
      " 0.95551105 0.95237297 0.95237297 0.95551105 0.95237297 0.95237297\n",
      " 0.95947797 0.95887838 0.95887838 0.95948639 0.95888048 0.95888048\n",
      " 0.96179284 0.96203371 0.96203356 0.96180705 0.96202331 0.96202326\n",
      " 0.9634287  0.96468079 0.96468114 0.96348683 0.96465709 0.96465735\n",
      " 0.96741737 0.9682737  0.96827281 0.96730489 0.96858737 0.96858773\n",
      " 0.9672515  0.96886802 0.96886505 0.96778782 0.96908957 0.96908952\n",
      " 0.96721188 0.96887951 0.968872   0.96737883 0.96881743 0.96881433\n",
      " 0.96685408 0.96848566 0.96848692 0.96692313 0.96855715 0.96855599\n",
      " 0.96292221 0.96356935 0.96356928 0.96293051 0.96361073 0.96361071\n",
      " 0.96470694 0.96567963 0.96567406 0.96473404 0.96566684 0.96566675\n",
      " 0.96617241 0.96754721 0.96754226 0.96617469 0.96760079 0.96760028\n",
      " 0.96723674 0.96907184 0.96907207 0.96732077 0.96892442 0.96892477\n",
      " 0.95551105 0.95237297 0.95237297 0.95551105 0.95237297 0.95237297\n",
      " 0.95947803 0.95887863 0.95887863 0.95948693 0.95888065 0.95888065\n",
      " 0.96178891 0.96203144 0.96203129 0.96180745 0.96201966 0.96201962\n",
      " 0.96343364 0.96467491 0.96467524 0.96348813 0.96465921 0.96465942] \n",
      "\n",
      "std_test_score:\n",
      " [0.00050387 0.00043986 0.00043909 0.00054504 0.00040829 0.00040731\n",
      " 0.00042472 0.00045106 0.00045104 0.00061208 0.00048906 0.00048824\n",
      " 0.00069963 0.00049265 0.00048966 0.00053717 0.00040086 0.00040111\n",
      " 0.00045385 0.00049114 0.00048363 0.00039166 0.0004561  0.00045782\n",
      " 0.00035394 0.00036403 0.00036403 0.00030878 0.00037408 0.00037408\n",
      " 0.00036955 0.00037699 0.00037699 0.00032478 0.00038672 0.00038671\n",
      " 0.00041224 0.00043173 0.00043156 0.00039527 0.00040539 0.00040541\n",
      " 0.00043193 0.0004619  0.00046141 0.00041044 0.00039292 0.00039265\n",
      " 0.00027734 0.00059694 0.00059694 0.00027705 0.00059687 0.00059687\n",
      " 0.00040247 0.00062275 0.00062278 0.00040229 0.00061039 0.00061041\n",
      " 0.00042322 0.00050865 0.00050838 0.0004229  0.00050854 0.00050828\n",
      " 0.00043666 0.00056242 0.00056203 0.00044196 0.00056218 0.00056182\n",
      " 0.00051575 0.00041704 0.00041604 0.00055023 0.00040709 0.00040595\n",
      " 0.00056429 0.00053225 0.0005149  0.00052729 0.00048967 0.00048966\n",
      " 0.00053553 0.00051462 0.0005138  0.0009801  0.00040389 0.00040145\n",
      " 0.00051224 0.000455   0.00044992 0.00050688 0.00056887 0.00056806\n",
      " 0.00035395 0.00036674 0.00036674 0.00030876 0.00037645 0.00037645\n",
      " 0.00036594 0.00036237 0.00036237 0.00034498 0.00038701 0.00038701\n",
      " 0.0004124  0.00042926 0.00042918 0.00038322 0.00042505 0.000425\n",
      " 0.00041954 0.0004491  0.00044768 0.00045669 0.0004464  0.00044616\n",
      " 0.00027732 0.00059694 0.00059694 0.00027703 0.00059679 0.00059679\n",
      " 0.00040201 0.0006229  0.00062293 0.00039796 0.00061062 0.00061064\n",
      " 0.00042241 0.00051151 0.00051124 0.0004236  0.0005106  0.00051035\n",
      " 0.00043721 0.00056188 0.00056144 0.00044878 0.00056195 0.00056159\n",
      " 0.00063357 0.00038672 0.00038596 0.00062588 0.00045245 0.00045172\n",
      " 0.00067725 0.00050257 0.00050189 0.00058225 0.00037979 0.00037966\n",
      " 0.00090242 0.00032782 0.00032781 0.00057292 0.00027248 0.00027112\n",
      " 0.00049629 0.00058295 0.00058471 0.00026014 0.00047709 0.00047646\n",
      " 0.0003542  0.00036391 0.00036391 0.00034885 0.00037384 0.00037384\n",
      " 0.00037463 0.00039001 0.00039001 0.00037942 0.00037365 0.00037365\n",
      " 0.00041875 0.00041154 0.00041153 0.00040977 0.00040657 0.00040654\n",
      " 0.00044001 0.00042979 0.00043416 0.00042636 0.00041921 0.00041906\n",
      " 0.00027732 0.00059663 0.00059663 0.00027703 0.00059651 0.00059651\n",
      " 0.00040202 0.00062565 0.00062568 0.00039929 0.00062661 0.00062663\n",
      " 0.0004238  0.00051303 0.00051277 0.00042119 0.00050962 0.00050937\n",
      " 0.00043941 0.00056268 0.00056229 0.00045392 0.00056273 0.00056239\n",
      " 0.00047585 0.00039223 0.00039227 0.00048962 0.00045192 0.00045205\n",
      " 0.00055892 0.00045293 0.00045195 0.00050146 0.00027737 0.000277\n",
      " 0.00048079 0.00041049 0.00041188 0.00053544 0.00036189 0.0003612\n",
      " 0.00063104 0.00031303 0.0003106  0.00047979 0.00039607 0.00039538\n",
      " 0.00039255 0.0002825  0.0002825  0.00034746 0.00028658 0.00028658\n",
      " 0.0004384  0.00040897 0.00040899 0.00035173 0.00038718 0.00038726\n",
      " 0.00042298 0.00035564 0.00035545 0.00034531 0.00036431 0.00036403\n",
      " 0.00044318 0.00041003 0.00040938 0.00035629 0.00042652 0.00043512\n",
      " 0.00022819 0.00060414 0.00060414 0.00023511 0.00060413 0.00060413\n",
      " 0.00030532 0.00049315 0.00049323 0.00030056 0.0004967  0.00049676\n",
      " 0.00028489 0.00046554 0.00046534 0.00030265 0.00045143 0.00045127\n",
      " 0.00033254 0.00046341 0.00046284 0.00032044 0.00046389 0.00046316\n",
      " 0.00045334 0.00056193 0.00056198 0.00051646 0.00037901 0.00037777\n",
      " 0.00046967 0.00035249 0.00035287 0.00052453 0.00029094 0.00029135\n",
      " 0.00062739 0.00054049 0.00053863 0.0004982  0.00047297 0.0004728\n",
      " 0.00050684 0.00038047 0.00037339 0.0005694  0.00031964 0.0003192\n",
      " 0.00039257 0.00028255 0.00028255 0.00034771 0.00028664 0.00028664\n",
      " 0.00044298 0.00042188 0.00042189 0.00042678 0.00040714 0.00040722\n",
      " 0.00039737 0.00038529 0.00038527 0.00047877 0.00038868 0.00038855\n",
      " 0.00041949 0.00042319 0.00042232 0.00041268 0.00042833 0.00043307\n",
      " 0.00022819 0.00060415 0.00060415 0.00023511 0.00060413 0.00060413\n",
      " 0.00030351 0.00049785 0.00049792 0.00029982 0.0004977  0.00049776\n",
      " 0.0002855  0.00046456 0.00046436 0.00030435 0.00044424 0.0004441\n",
      " 0.00033328 0.00046643 0.00046581 0.00031864 0.00046388 0.00046318\n",
      " 0.00036983 0.00052289 0.00052291 0.00050552 0.00045964 0.00045867\n",
      " 0.00078447 0.00031552 0.00031556 0.00065123 0.00041574 0.00041596\n",
      " 0.00044018 0.00054907 0.00054782 0.00044524 0.00040557 0.00040365\n",
      " 0.00042717 0.00048335 0.00046664 0.00054946 0.00026254 0.00027686\n",
      " 0.00039249 0.00027961 0.00027961 0.00034996 0.00028672 0.00028672\n",
      " 0.00042149 0.00041728 0.0004174  0.00039858 0.00035147 0.00035153\n",
      " 0.00036605 0.00038993 0.00038997 0.00038176 0.00034075 0.00034055\n",
      " 0.00037347 0.00041379 0.00041284 0.00040502 0.00043106 0.00041306\n",
      " 0.00022819 0.00060416 0.00060416 0.00023512 0.00060416 0.00060416\n",
      " 0.00030285 0.0004978  0.00049786 0.00030182 0.00049893 0.00049899\n",
      " 0.00028337 0.00045913 0.00045897 0.00030028 0.00046674 0.0004666\n",
      " 0.00032894 0.0004718  0.00047116 0.0003174  0.00046676 0.00046603\n",
      " 0.00053024 0.0005318  0.00053244 0.00064694 0.00049809 0.00049798\n",
      " 0.00054652 0.00043811 0.00043865 0.00060807 0.00055909 0.00055884\n",
      " 0.00063354 0.00050821 0.00052295 0.00039595 0.00054479 0.00054228\n",
      " 0.00055088 0.00038566 0.00038517 0.00048109 0.00029046 0.00028096\n",
      " 0.00036859 0.000314   0.000314   0.00037401 0.00030908 0.00030908\n",
      " 0.00037286 0.00033609 0.00033612 0.00042262 0.00038535 0.00038534\n",
      " 0.00039607 0.00031871 0.00031871 0.00036353 0.0003579  0.00035789\n",
      " 0.00038162 0.00040436 0.0004034  0.00044062 0.00038727 0.00038685\n",
      " 0.00025717 0.00024002 0.00024002 0.00025722 0.00024    0.00024\n",
      " 0.0002821  0.0004434  0.00044345 0.00028363 0.00044396 0.000444\n",
      " 0.00028491 0.0003925  0.00039222 0.00028127 0.00039885 0.00039871\n",
      " 0.00030805 0.00038799 0.00038779 0.00031084 0.00038316 0.00038268\n",
      " 0.0006026  0.00051916 0.00051962 0.00048074 0.00051823 0.00051927\n",
      " 0.00054826 0.00040171 0.00037607 0.00059126 0.00041689 0.00041824\n",
      " 0.00028257 0.00056256 0.00056547 0.00050524 0.00039285 0.00039237\n",
      " 0.00044893 0.00050561 0.00050306 0.00048531 0.00034903 0.00034706\n",
      " 0.00036868 0.00031403 0.00031403 0.00037327 0.00030925 0.00030925\n",
      " 0.00036182 0.0003307  0.00033068 0.000392   0.00035906 0.0003591\n",
      " 0.00046127 0.00041281 0.00041277 0.00038193 0.0004328  0.00043298\n",
      " 0.00037093 0.00044991 0.0004494  0.00035258 0.00042629 0.00042586\n",
      " 0.00025717 0.00024012 0.00024012 0.00025722 0.0002401  0.0002401\n",
      " 0.00028096 0.0004435  0.00044354 0.00028479 0.00044399 0.00044404\n",
      " 0.0002844  0.00039222 0.00039193 0.00028669 0.00039568 0.00039549\n",
      " 0.00030477 0.00037059 0.00037036 0.00031489 0.00038049 0.00038003\n",
      " 0.00057374 0.00058345 0.00058379 0.00045097 0.00051296 0.00051302\n",
      " 0.00047246 0.00035137 0.00035207 0.00043382 0.00034754 0.00034782\n",
      " 0.00034255 0.00039435 0.00039976 0.0004059  0.00055439 0.00055882\n",
      " 0.00049448 0.00030235 0.0003165  0.00037024 0.00043722 0.0004347\n",
      " 0.00036864 0.00031403 0.00031403 0.00037326 0.00031307 0.00031307\n",
      " 0.00030036 0.00033928 0.00033938 0.00032932 0.00035945 0.00035948\n",
      " 0.00034165 0.00043395 0.00043393 0.00043549 0.00041492 0.00041482\n",
      " 0.00052001 0.00036808 0.00036755 0.00041339 0.0004528  0.00045258\n",
      " 0.00025718 0.00024012 0.00024012 0.00025722 0.0002401  0.0002401\n",
      " 0.00028732 0.00044857 0.00044861 0.00028368 0.00044814 0.00044819\n",
      " 0.00028461 0.00038006 0.00037976 0.00028128 0.00039227 0.00039207\n",
      " 0.00030637 0.00038371 0.00038343 0.00031036 0.0003769  0.00037649\n",
      " 0.00037202 0.00047596 0.00047601 0.00053704 0.00054191 0.00054263\n",
      " 0.00060925 0.00040843 0.00040868 0.00052039 0.00035809 0.00035422\n",
      " 0.0004278  0.00042656 0.00041919 0.00048325 0.00040475 0.00040501\n",
      " 0.00065186 0.00039122 0.00043862 0.00037037 0.00026505 0.00025482\n",
      " 0.0003213  0.00028714 0.00028712 0.00032644 0.00029756 0.00029755\n",
      " 0.00035246 0.00034621 0.0003461  0.00038069 0.00033725 0.00033725\n",
      " 0.00042321 0.00039751 0.0003978  0.00032979 0.00045064 0.00045053\n",
      " 0.00049594 0.00043029 0.0004301  0.00045078 0.00041149 0.00041114\n",
      " 0.00032732 0.00020316 0.00020316 0.00032732 0.00020316 0.00020316\n",
      " 0.0002925  0.00027144 0.00027144 0.00029017 0.00027313 0.00027313\n",
      " 0.00027865 0.00029368 0.00029353 0.00027357 0.00028573 0.00028568\n",
      " 0.00030053 0.00028146 0.00028114 0.00028068 0.00026123 0.00026103\n",
      " 0.00036971 0.00060927 0.00060931 0.0004563  0.00053675 0.00053739\n",
      " 0.00044222 0.00042048 0.00041857 0.00049166 0.00024879 0.00024959\n",
      " 0.00054128 0.00030968 0.00031051 0.00046311 0.00038621 0.00038458\n",
      " 0.00056652 0.00031731 0.00030637 0.00038616 0.00032316 0.0004546\n",
      " 0.00032142 0.0003113  0.00031127 0.00033612 0.00029762 0.00029761\n",
      " 0.00045529 0.00035138 0.0003511  0.00038861 0.00026951 0.00026953\n",
      " 0.00040527 0.00042097 0.00042076 0.00035423 0.00036055 0.00036048\n",
      " 0.00044518 0.00045644 0.00045596 0.00045671 0.00041681 0.00041608\n",
      " 0.00032732 0.00020316 0.00020316 0.00032732 0.00020316 0.00020316\n",
      " 0.0002921  0.00026994 0.00026994 0.00029108 0.00027197 0.00027197\n",
      " 0.00027812 0.00028948 0.00028934 0.00027209 0.00028181 0.00028176\n",
      " 0.00030744 0.0002878  0.00028749 0.00027684 0.00026612 0.00026585\n",
      " 0.00040742 0.0006269  0.00062728 0.00045231 0.00052546 0.00052604\n",
      " 0.00054043 0.00026473 0.00026416 0.00030323 0.00031612 0.00031719\n",
      " 0.00059814 0.00039221 0.00038386 0.00055818 0.00036264 0.00035702\n",
      " 0.00060207 0.00028421 0.00028759 0.0005357  0.00035768 0.00035773\n",
      " 0.00032141 0.00031123 0.00031121 0.00033248 0.00029759 0.00029758\n",
      " 0.0004177  0.00046113 0.00045306 0.00038153 0.00034293 0.00034283\n",
      " 0.0004157  0.0003653  0.00035666 0.00033618 0.00047309 0.00047335\n",
      " 0.00045347 0.00041846 0.00041789 0.00039996 0.00039281 0.00039212\n",
      " 0.00032732 0.00020316 0.00020316 0.00032732 0.00020316 0.00020316\n",
      " 0.00029211 0.00027019 0.00027019 0.00029212 0.00027204 0.00027204\n",
      " 0.00028269 0.00028552 0.00028537 0.00027276 0.00028567 0.00028563\n",
      " 0.00030337 0.00028312 0.0002828  0.00026952 0.00026539 0.00026514] \n",
      "\n",
      "mean_train_score:\n",
      " [0.97048548 0.96920661 0.96920661 0.97022417 0.96922013 0.96922013\n",
      " 0.97484242 0.97306977 0.97306977 0.97394897 0.97246833 0.97246833\n",
      " 0.97930866 0.97670704 0.97670715 0.97772714 0.97537659 0.97537659\n",
      " 0.9837793  0.98034233 0.98033438 0.98142247 0.97863857 0.97866426\n",
      " 0.96306435 0.96260079 0.96260079 0.96308095 0.96258872 0.96258872\n",
      " 0.96680541 0.96637989 0.96637989 0.96673081 0.96632876 0.96632876\n",
      " 0.97046805 0.96984548 0.96984548 0.97016672 0.96960519 0.96960519\n",
      " 0.97457543 0.97346502 0.97346494 0.97372115 0.97288679 0.97288681\n",
      " 0.95113203 0.95050985 0.95050985 0.95113177 0.95050956 0.95050956\n",
      " 0.95554606 0.95719598 0.95719598 0.95552545 0.95719929 0.95719929\n",
      " 0.95875552 0.9605914  0.9605914  0.95865191 0.960527   0.960527\n",
      " 0.96210525 0.96401487 0.96401487 0.96175062 0.96371144 0.96371144\n",
      " 0.97035978 0.96901708 0.96901708 0.97037041 0.96912226 0.96912226\n",
      " 0.97479288 0.97300384 0.97299058 0.97383497 0.97274746 0.97274746\n",
      " 0.97942887 0.97646321 0.97646321 0.97773534 0.97546946 0.97546946\n",
      " 0.98370427 0.98013729 0.98013954 0.98123599 0.97855915 0.97858815\n",
      " 0.96306427 0.96260424 0.96260424 0.96308079 0.9625917  0.9625917\n",
      " 0.96680311 0.96634869 0.96634869 0.96670742 0.96633856 0.96633856\n",
      " 0.97046689 0.96982892 0.96982892 0.97013165 0.96962697 0.96962697\n",
      " 0.97454863 0.97342537 0.97342577 0.97373721 0.97289232 0.97289232\n",
      " 0.95113202 0.95050999 0.95050999 0.95113176 0.95050966 0.95050966\n",
      " 0.95554659 0.95719519 0.95719519 0.95552562 0.95719868 0.95719868\n",
      " 0.95875067 0.96058928 0.96058928 0.95864652 0.96052312 0.96052312\n",
      " 0.96209648 0.96400659 0.96400659 0.96173636 0.96370217 0.96370217\n",
      " 0.97031583 0.96910406 0.96910406 0.97036988 0.9692492  0.9692492\n",
      " 0.97483947 0.97293384 0.97293384 0.97410663 0.97270915 0.97270915\n",
      " 0.97941151 0.97646698 0.97646698 0.97782427 0.97557834 0.97557834\n",
      " 0.98380169 0.98028393 0.98026584 0.98122083 0.97840787 0.9784079\n",
      " 0.96306168 0.9626005  0.9626005  0.96309481 0.96258856 0.96258856\n",
      " 0.96679725 0.96639227 0.96639227 0.96668515 0.96635008 0.96635008\n",
      " 0.97052084 0.96983447 0.96983447 0.97012931 0.96962209 0.96962209\n",
      " 0.97456361 0.97342424 0.97342657 0.97370995 0.97286517 0.97286517\n",
      " 0.95113202 0.95051018 0.95051018 0.95113176 0.95050987 0.95050987\n",
      " 0.9555414  0.95718849 0.95718849 0.95552261 0.95718625 0.95718625\n",
      " 0.9587472  0.96058223 0.96058223 0.95864023 0.96051882 0.96051882\n",
      " 0.96208469 0.96399557 0.96399557 0.9617274  0.96369311 0.96369311\n",
      " 0.97075712 0.9706602  0.9706602  0.97046675 0.97063779 0.97063779\n",
      " 0.97551396 0.97452655 0.97452655 0.97469649 0.97398008 0.97398008\n",
      " 0.98049123 0.97771092 0.97773444 0.97865412 0.9773435  0.9773435\n",
      " 0.98467498 0.98141669 0.98141669 0.98214846 0.98011521 0.98011521\n",
      " 0.96378066 0.96384748 0.96384748 0.9637751  0.96386077 0.96386077\n",
      " 0.96712851 0.96737044 0.96737044 0.96700945 0.96731868 0.96731868\n",
      " 0.9708051  0.97102432 0.97102432 0.97044923 0.970706   0.970706\n",
      " 0.97473547 0.97502995 0.97502996 0.97385246 0.97431369 0.97432234\n",
      " 0.95458649 0.95272215 0.95272215 0.9545907  0.95272198 0.95272198\n",
      " 0.95919082 0.95951657 0.95951657 0.95917622 0.95952375 0.95952375\n",
      " 0.96239036 0.96322665 0.96322665 0.96229644 0.96315819 0.96315819\n",
      " 0.96569992 0.96703257 0.96703257 0.96539272 0.96671755 0.96671755\n",
      " 0.9706589  0.97058228 0.97058228 0.97050732 0.97058916 0.97058916\n",
      " 0.97540061 0.97444128 0.97444114 0.97470462 0.97399692 0.97399692\n",
      " 0.98050237 0.97740131 0.97740131 0.97847497 0.97716621 0.97716621\n",
      " 0.98461138 0.98142918 0.98144498 0.98198438 0.98015025 0.98015235\n",
      " 0.96378065 0.96384743 0.96384743 0.96376965 0.96386074 0.96386074\n",
      " 0.96711075 0.9673961  0.9673961  0.96702236 0.96734068 0.96734068\n",
      " 0.9708445  0.97100466 0.97100466 0.97045208 0.97075641 0.97075641\n",
      " 0.97482578 0.97503003 0.97503003 0.9737687  0.97428605 0.97428606\n",
      " 0.95458649 0.95272212 0.95272212 0.9545907  0.95272197 0.95272197\n",
      " 0.95919227 0.95951804 0.95951804 0.95917635 0.95952436 0.95952436\n",
      " 0.96238509 0.96322787 0.96322787 0.96229186 0.96315096 0.96315096\n",
      " 0.96569032 0.96702846 0.96702846 0.96538289 0.96670492 0.96670492\n",
      " 0.97043378 0.97053831 0.97053831 0.97051053 0.97053789 0.97053789\n",
      " 0.97546589 0.97446182 0.97446182 0.97468179 0.97393404 0.97393404\n",
      " 0.98020078 0.97690451 0.97690451 0.97859153 0.97715672 0.97715672\n",
      " 0.98456916 0.98139568 0.98147309 0.98195643 0.9800143  0.98002464\n",
      " 0.96378059 0.96385591 0.96385591 0.96375492 0.96386067 0.96386067\n",
      " 0.96715336 0.96737263 0.96737263 0.96702225 0.96735252 0.96735252\n",
      " 0.97077309 0.97098603 0.97098603 0.9704658  0.97075197 0.97075197\n",
      " 0.97473801 0.97495619 0.97495619 0.97384754 0.97428869 0.97426299\n",
      " 0.95458649 0.95272207 0.95272207 0.9545907  0.95272191 0.95272191\n",
      " 0.95919052 0.95951751 0.95951751 0.95917544 0.95952396 0.95952396\n",
      " 0.96238021 0.96321631 0.96321631 0.96228929 0.96315626 0.96315626\n",
      " 0.96567751 0.96702352 0.96702352 0.9653732  0.96669573 0.96669573\n",
      " 0.97095002 0.97137306 0.97137306 0.97074522 0.97129134 0.97129134\n",
      " 0.97581444 0.97596445 0.97596445 0.97505855 0.97514572 0.97514572\n",
      " 0.98083745 0.98038225 0.98043928 0.97900276 0.97882529 0.97882529\n",
      " 0.98510797 0.98483879 0.98483879 0.98231019 0.98218895 0.98218131\n",
      " 0.96362651 0.96397857 0.96397857 0.96362869 0.96393527 0.96393527\n",
      " 0.9666119  0.96770565 0.96770565 0.96652078 0.96761741 0.96761741\n",
      " 0.97004626 0.9712914  0.97129137 0.96968812 0.97098188 0.97098188\n",
      " 0.97385661 0.975324   0.975324   0.97298928 0.97452915 0.97452914\n",
      " 0.95578498 0.95422901 0.95422901 0.95578513 0.95422866 0.95422866\n",
      " 0.96031469 0.96050603 0.96050603 0.96030318 0.96048822 0.96048822\n",
      " 0.96357212 0.9642644  0.9642644  0.96350852 0.96420537 0.96420537\n",
      " 0.96684145 0.96859477 0.96859477 0.96654153 0.9683004  0.9683004\n",
      " 0.97081322 0.97138782 0.97138782 0.97067396 0.97124459 0.97124459\n",
      " 0.97585152 0.97590599 0.97590379 0.97502754 0.9752216  0.97525191\n",
      " 0.98055474 0.98058303 0.98058303 0.97870201 0.97893678 0.97893678\n",
      " 0.9853034  0.98485247 0.98485247 0.98241236 0.98206095 0.98206095\n",
      " 0.96362652 0.96397846 0.96397846 0.96363091 0.9639352  0.9639352\n",
      " 0.96667135 0.96770054 0.96770054 0.96647825 0.9676051  0.9676051\n",
      " 0.96995573 0.97126367 0.97126358 0.96962424 0.970967   0.970967\n",
      " 0.973864   0.97531266 0.97531266 0.97292275 0.97445009 0.97445008\n",
      " 0.95578499 0.95422905 0.95422905 0.95578513 0.9542287  0.9542287\n",
      " 0.96031369 0.96050548 0.96050548 0.96030271 0.96048795 0.96048795\n",
      " 0.96357651 0.96425336 0.96425336 0.9635067  0.96419536 0.96419536\n",
      " 0.96682776 0.96859361 0.96859361 0.96654308 0.96828569 0.96828569\n",
      " 0.97079117 0.97138489 0.97138489 0.97062132 0.97131586 0.97131586\n",
      " 0.97584009 0.97592667 0.97592667 0.9750692  0.97510208 0.9749916\n",
      " 0.98072826 0.98044312 0.98051771 0.97883305 0.97869603 0.97868221\n",
      " 0.98522598 0.98485602 0.9849712  0.98223969 0.98185183 0.98189489\n",
      " 0.96362651 0.96397844 0.96397844 0.96363083 0.96391755 0.96391755\n",
      " 0.96668219 0.96766058 0.96766058 0.96643655 0.96759806 0.96759806\n",
      " 0.97001565 0.97132322 0.97132322 0.96960889 0.97092208 0.97092208\n",
      " 0.97386132 0.97532087 0.97532087 0.97292357 0.97446273 0.97446273\n",
      " 0.95578498 0.95422907 0.95422907 0.95578513 0.95422872 0.95422872\n",
      " 0.96030484 0.96050628 0.96050628 0.96029972 0.96049423 0.96049423\n",
      " 0.96357066 0.96424414 0.96424414 0.96350301 0.96418936 0.96418936\n",
      " 0.9668281  0.96857719 0.96857719 0.96654032 0.96827445 0.96827445\n",
      " 0.97103953 0.97168164 0.97168165 0.9710472  0.97164848 0.97164848\n",
      " 0.97596954 0.97689696 0.97689696 0.97525803 0.97613863 0.97613863\n",
      " 0.98107876 0.98235684 0.98233476 0.97920738 0.9802633  0.98026325\n",
      " 0.98538338 0.98725087 0.98713984 0.98262317 0.98400073 0.9840885\n",
      " 0.96357363 0.96420533 0.96420533 0.96356271 0.96420388 0.96420388\n",
      " 0.96627913 0.96699785 0.96699785 0.96621994 0.96712291 0.96712291\n",
      " 0.96959043 0.97048922 0.97048922 0.96913267 0.97011251 0.97011251\n",
      " 0.97335436 0.97454506 0.9745451  0.97246032 0.97364356 0.97364356\n",
      " 0.95575516 0.9526904  0.9526904  0.95575516 0.9526904  0.9526904\n",
      " 0.96008058 0.95946973 0.95946973 0.96007795 0.95947027 0.95947027\n",
      " 0.96337048 0.9634556  0.9634556  0.96329845 0.96339757 0.96339757\n",
      " 0.96673943 0.96801461 0.96801461 0.96647506 0.96771013 0.96771013\n",
      " 0.9711226  0.97165701 0.97165701 0.9711467  0.97161262 0.97161262\n",
      " 0.97623567 0.97692631 0.97692631 0.97518347 0.97602354 0.97602354\n",
      " 0.98109783 0.9823526  0.9823526  0.97907929 0.9803177  0.98032081\n",
      " 0.98524691 0.987587   0.98752288 0.98250839 0.98397242 0.98399704\n",
      " 0.96357358 0.9641891  0.9641891  0.96355259 0.9642038  0.9642038\n",
      " 0.9662988  0.96702942 0.96702942 0.96615631 0.96709883 0.96709883\n",
      " 0.9695304  0.97051627 0.97051624 0.96921181 0.97015606 0.97015606\n",
      " 0.97336365 0.97460911 0.9746091  0.97241332 0.97357154 0.97357154\n",
      " 0.95575516 0.9526904  0.9526904  0.95575516 0.9526904  0.9526904\n",
      " 0.96007961 0.95946699 0.95946699 0.96007904 0.95946836 0.95946836\n",
      " 0.96336662 0.96345878 0.96345878 0.9633006  0.96339578 0.96339578\n",
      " 0.96673068 0.96800627 0.96800627 0.96647057 0.96769621 0.96769621\n",
      " 0.97132051 0.97168054 0.97168054 0.97102669 0.97170514 0.97170514\n",
      " 0.97618123 0.97691162 0.97691162 0.97539701 0.97611447 0.97611447\n",
      " 0.98114509 0.98237535 0.98237535 0.97899474 0.9801921  0.9801921\n",
      " 0.98528945 0.98717223 0.98717223 0.98242703 0.98396977 0.98396977\n",
      " 0.96357352 0.96418905 0.96418905 0.96355807 0.96420364 0.96420364\n",
      " 0.96633948 0.96709884 0.96709049 0.96626826 0.96699885 0.96699885\n",
      " 0.96963661 0.97046234 0.97046172 0.96923309 0.97023204 0.97023204\n",
      " 0.97328308 0.97449667 0.97449668 0.97250804 0.97361113 0.97361113\n",
      " 0.95575516 0.9526904  0.9526904  0.95575516 0.9526904  0.9526904\n",
      " 0.96007919 0.95946647 0.95946647 0.96007963 0.95946769 0.95946769\n",
      " 0.96336093 0.963454   0.963454   0.96330195 0.96338547 0.96338547\n",
      " 0.96672084 0.96799346 0.96799346 0.9664606  0.96768865 0.96768865] \n",
      "\n",
      "std_train_score:\n",
      " [1.41144766e-04 1.96646723e-04 1.96646723e-04 2.57996954e-04\n",
      " 1.53688811e-04 1.53688811e-04 1.94197115e-04 6.99615175e-05\n",
      " 6.99615175e-05 5.00859442e-04 1.10652866e-04 1.10652866e-04\n",
      " 2.12103546e-04 1.81675938e-04 1.81863132e-04 1.61218415e-04\n",
      " 2.16720014e-04 2.16720014e-04 3.48867878e-04 1.25550375e-04\n",
      " 1.19858503e-04 1.65399064e-04 2.90110964e-04 3.23206817e-04\n",
      " 9.60378711e-05 9.17187518e-05 9.17187518e-05 1.36646479e-04\n",
      " 8.86636878e-05 8.86636878e-05 1.28263445e-04 1.05422121e-04\n",
      " 1.05422121e-04 1.59854059e-04 9.11357151e-05 9.11357151e-05\n",
      " 1.52493773e-04 1.19052237e-04 1.19052237e-04 1.19682142e-04\n",
      " 1.30511960e-04 1.30511960e-04 9.51723293e-05 9.86344047e-05\n",
      " 9.86834232e-05 1.22915887e-04 1.47171186e-04 1.47163909e-04\n",
      " 1.20477706e-04 1.87529627e-04 1.87529627e-04 1.20721134e-04\n",
      " 1.87542732e-04 1.87542732e-04 5.73978281e-05 7.89624525e-05\n",
      " 7.89624525e-05 6.01864991e-05 9.04686748e-05 9.04686748e-05\n",
      " 8.47775843e-05 1.80517951e-04 1.80517951e-04 8.45714428e-05\n",
      " 1.82948759e-04 1.82948759e-04 1.06827112e-04 1.85184790e-04\n",
      " 1.85184790e-04 1.17607745e-04 1.76307662e-04 1.76307781e-04\n",
      " 2.94333519e-04 1.70896419e-04 1.70896419e-04 1.60961719e-04\n",
      " 2.14197544e-04 2.14197544e-04 2.34460037e-04 1.62142059e-04\n",
      " 1.54640972e-04 2.20649968e-04 1.37009263e-04 1.37009263e-04\n",
      " 4.95887070e-04 2.36820609e-04 2.36820609e-04 1.90462360e-04\n",
      " 2.53921866e-04 2.53921866e-04 2.16386563e-04 2.47883130e-04\n",
      " 2.50434336e-04 1.96534808e-04 2.75988171e-04 2.33644802e-04\n",
      " 9.60746016e-05 8.87836328e-05 8.87836328e-05 1.36523843e-04\n",
      " 8.64490776e-05 8.64490776e-05 1.30809483e-04 1.15143976e-04\n",
      " 1.15143976e-04 1.44657672e-04 9.57685392e-05 9.57685392e-05\n",
      " 1.03986067e-04 1.23365892e-04 1.23365892e-04 1.35907162e-04\n",
      " 1.30424873e-04 1.30424873e-04 1.15255318e-04 1.24288749e-04\n",
      " 1.24228432e-04 9.85475925e-05 1.16501209e-04 1.16500760e-04\n",
      " 1.20492224e-04 1.87655408e-04 1.87655408e-04 1.20735562e-04\n",
      " 1.87628204e-04 1.87628204e-04 5.71573025e-05 7.93325026e-05\n",
      " 7.93325026e-05 5.88805363e-05 9.08824829e-05 9.08824829e-05\n",
      " 8.51287485e-05 1.75581782e-04 1.75581782e-04 8.46236397e-05\n",
      " 1.82495014e-04 1.82495014e-04 1.06506197e-04 1.86128424e-04\n",
      " 1.86128424e-04 1.19912612e-04 1.76608861e-04 1.76608946e-04\n",
      " 3.45370272e-04 1.57850195e-04 1.57850195e-04 1.42116547e-04\n",
      " 2.72393696e-04 2.72393696e-04 2.01161816e-04 1.24444748e-04\n",
      " 1.24444748e-04 2.18856004e-04 1.39146962e-04 1.39146962e-04\n",
      " 4.57232708e-04 1.65150089e-04 1.65150089e-04 2.14894312e-04\n",
      " 2.22633796e-04 2.22633796e-04 1.80324266e-04 2.10368660e-04\n",
      " 2.13604012e-04 4.28145131e-04 2.12707951e-04 2.12722752e-04\n",
      " 9.40580436e-05 9.15789353e-05 9.15789353e-05 1.15683729e-04\n",
      " 8.85188446e-05 8.85188446e-05 1.23735893e-04 1.09208787e-04\n",
      " 1.09208787e-04 1.10643552e-04 1.00049312e-04 1.00049312e-04\n",
      " 1.22845134e-04 1.24696406e-04 1.24696406e-04 1.32452817e-04\n",
      " 1.19400710e-04 1.19400710e-04 1.22981521e-04 1.14419396e-04\n",
      " 1.14094721e-04 1.33683448e-04 1.10233419e-04 1.10232815e-04\n",
      " 1.20492224e-04 1.87430902e-04 1.87430902e-04 1.20739648e-04\n",
      " 1.87430456e-04 1.87430456e-04 5.80799374e-05 8.09914023e-05\n",
      " 8.09914023e-05 5.97611164e-05 8.05652059e-05 8.05652059e-05\n",
      " 8.51187299e-05 1.76611754e-04 1.76611754e-04 8.37493871e-05\n",
      " 1.84507158e-04 1.84507158e-04 1.05927492e-04 1.82096771e-04\n",
      " 1.82096771e-04 1.15392285e-04 1.75997659e-04 1.75997567e-04\n",
      " 2.19334613e-04 2.15497112e-04 2.15497112e-04 1.89615898e-04\n",
      " 1.27227346e-04 1.27227346e-04 1.88346070e-04 1.60067692e-04\n",
      " 1.60067692e-04 3.67749077e-04 1.07857016e-04 1.07857666e-04\n",
      " 3.72083488e-04 9.30378689e-04 8.85014589e-04 1.48160225e-04\n",
      " 1.47225637e-04 1.47225637e-04 3.75072760e-04 1.11039219e-03\n",
      " 1.11039219e-03 3.40127920e-04 1.43775031e-04 1.43775031e-04\n",
      " 5.29405642e-05 1.26850631e-04 1.26850631e-04 1.13582162e-04\n",
      " 1.25211275e-04 1.25211275e-04 6.85633072e-05 7.83187782e-05\n",
      " 7.83187782e-05 1.55490244e-04 1.13881275e-04 1.13881275e-04\n",
      " 1.31802312e-04 1.29964706e-04 1.29964706e-04 1.47460599e-04\n",
      " 1.46355014e-04 1.46355014e-04 9.03258962e-05 1.31824408e-04\n",
      " 1.31822241e-04 1.63042602e-04 1.04798685e-04 9.32597757e-05\n",
      " 9.05928012e-05 1.52891261e-04 1.52891261e-04 8.47175971e-05\n",
      " 1.52718064e-04 1.52718064e-04 3.90576580e-05 9.94467269e-05\n",
      " 9.94467269e-05 3.85743288e-05 1.00593393e-04 1.00593393e-04\n",
      " 6.76622616e-05 1.59929708e-04 1.59929708e-04 5.97247741e-05\n",
      " 1.71007239e-04 1.71007239e-04 9.27832594e-05 1.35420616e-04\n",
      " 1.35420616e-04 9.97437489e-05 1.17042875e-04 1.17042875e-04\n",
      " 3.04542794e-04 1.83381390e-04 1.83381390e-04 1.89291121e-04\n",
      " 1.58678520e-04 1.58678520e-04 3.55229730e-04 2.07101388e-04\n",
      " 2.07352903e-04 4.02088723e-04 1.16098277e-04 1.16098277e-04\n",
      " 2.00311712e-04 1.01442609e-03 1.01442609e-03 1.38931280e-04\n",
      " 3.90049206e-04 3.90049206e-04 5.21172193e-04 7.64245843e-04\n",
      " 7.75106912e-04 3.67367095e-04 4.01206280e-04 3.97595661e-04\n",
      " 5.29380185e-05 1.26896375e-04 1.26896375e-04 1.11996431e-04\n",
      " 1.25254761e-04 1.25254761e-04 1.20231488e-04 5.08565056e-05\n",
      " 5.08565056e-05 8.75706731e-05 8.88401848e-05 8.88401848e-05\n",
      " 1.38735945e-04 1.27936365e-04 1.27936365e-04 1.16259095e-04\n",
      " 1.07174516e-04 1.07174516e-04 1.32828314e-04 1.19982056e-04\n",
      " 1.19982056e-04 1.09755574e-04 1.06372557e-04 1.06357178e-04\n",
      " 9.05928012e-05 1.52850397e-04 1.52850397e-04 8.47193533e-05\n",
      " 1.52673006e-04 1.52673006e-04 4.04749294e-05 9.90985084e-05\n",
      " 9.90985084e-05 4.06126932e-05 9.85760941e-05 9.85760941e-05\n",
      " 6.71572251e-05 1.59184004e-04 1.59184004e-04 5.97143946e-05\n",
      " 1.75505456e-04 1.75505456e-04 9.32128025e-05 1.34129925e-04\n",
      " 1.34129925e-04 9.82696239e-05 1.16317229e-04 1.16317229e-04\n",
      " 2.63856146e-04 1.58135652e-04 1.58135652e-04 2.07250378e-04\n",
      " 2.48025278e-04 2.48025278e-04 2.96597192e-04 1.87407232e-04\n",
      " 1.87407313e-04 2.15431262e-04 1.35278806e-04 1.35278806e-04\n",
      " 3.96017467e-04 6.98129344e-04 6.98129344e-04 3.01072855e-04\n",
      " 2.29439082e-04 2.29439082e-04 3.79229829e-04 9.40575360e-04\n",
      " 9.09365585e-04 3.22552808e-04 1.65251902e-04 1.50270329e-04\n",
      " 5.29138507e-05 1.30704071e-04 1.30704071e-04 1.12949725e-04\n",
      " 1.25242532e-04 1.25242532e-04 1.01963432e-04 6.42432300e-05\n",
      " 6.42432300e-05 1.54958010e-04 1.35463457e-04 1.35463457e-04\n",
      " 2.08160547e-04 1.00151634e-04 1.00151634e-04 1.71680968e-04\n",
      " 1.59222494e-04 1.59222494e-04 1.27545938e-04 1.08862979e-04\n",
      " 1.08862979e-04 1.32166039e-04 8.85301274e-05 1.13230766e-04\n",
      " 9.05928012e-05 1.52980760e-04 1.52980760e-04 8.47217031e-05\n",
      " 1.52830869e-04 1.52830869e-04 3.96973100e-05 9.90986876e-05\n",
      " 9.90986876e-05 3.84176300e-05 9.84102496e-05 9.84102496e-05\n",
      " 6.59557235e-05 1.62204969e-04 1.62204969e-04 6.29603005e-05\n",
      " 1.62296307e-04 1.62296307e-04 9.46080046e-05 1.29827722e-04\n",
      " 1.29827722e-04 9.79381199e-05 1.18397402e-04 1.18397402e-04\n",
      " 2.88730413e-04 1.94894587e-04 1.94894587e-04 2.63054929e-04\n",
      " 1.65695736e-04 1.65695736e-04 2.02690472e-04 1.32864700e-04\n",
      " 1.32864700e-04 1.26580040e-04 8.65166495e-05 8.65166495e-05\n",
      " 2.01736998e-04 2.63640549e-04 2.89023421e-04 2.94851845e-04\n",
      " 1.84119754e-04 1.84119754e-04 3.24912055e-04 2.57801758e-04\n",
      " 2.57801758e-04 2.67379181e-04 2.50372954e-04 2.56603950e-04\n",
      " 9.71431720e-05 9.01979210e-05 9.01979210e-05 8.80816271e-05\n",
      " 1.13247118e-04 1.13247118e-04 1.23648946e-04 1.32565050e-04\n",
      " 1.32565050e-04 1.11442455e-04 9.50429141e-05 9.50429141e-05\n",
      " 1.39614659e-04 1.84009944e-04 1.84056617e-04 1.62398121e-04\n",
      " 1.56702770e-04 1.56702770e-04 1.43031910e-04 1.37521806e-04\n",
      " 1.37521806e-04 1.11459646e-04 1.00556222e-04 1.00557507e-04\n",
      " 6.66870204e-05 1.95922792e-04 1.95922792e-04 6.66303570e-05\n",
      " 1.96136412e-04 1.96136412e-04 5.59691282e-05 4.32273280e-05\n",
      " 4.32273280e-05 5.42277436e-05 4.68039619e-05 4.68039619e-05\n",
      " 7.80467485e-05 1.21762245e-04 1.21762245e-04 8.54788861e-05\n",
      " 1.12862168e-04 1.12862168e-04 1.11088415e-04 1.06973758e-04\n",
      " 1.06973758e-04 9.85982602e-05 1.07914674e-04 1.07913955e-04\n",
      " 3.74880269e-04 2.15973717e-04 2.15973717e-04 2.57112185e-04\n",
      " 1.08796132e-04 1.08796132e-04 2.65781959e-04 6.12974411e-05\n",
      " 6.49534498e-05 1.96449764e-04 1.21246296e-04 1.20147620e-04\n",
      " 3.85997431e-04 2.40419310e-04 2.40419310e-04 3.61286158e-04\n",
      " 2.15020224e-04 2.15020256e-04 2.10065969e-04 5.15276672e-05\n",
      " 5.15276672e-05 1.99571173e-04 2.86744692e-04 2.86744692e-04\n",
      " 9.72292593e-05 9.02350651e-05 9.02350651e-05 8.50653850e-05\n",
      " 1.13280998e-04 1.13280998e-04 1.27220230e-04 1.28810293e-04\n",
      " 1.28810293e-04 1.69747231e-04 9.96635009e-05 9.96635009e-05\n",
      " 1.80860635e-04 1.20548667e-04 1.20644632e-04 1.82591580e-04\n",
      " 6.93445322e-05 6.93445322e-05 1.40524205e-04 6.74158217e-05\n",
      " 6.74158217e-05 1.73214361e-04 8.07681949e-05 8.07873508e-05\n",
      " 6.66867201e-05 1.95914899e-04 1.95914899e-04 6.66300701e-05\n",
      " 1.96128607e-04 1.96128607e-04 5.70303973e-05 4.35865562e-05\n",
      " 4.35865562e-05 5.53375874e-05 4.67491249e-05 4.67491249e-05\n",
      " 8.45979971e-05 1.19921544e-04 1.19921544e-04 8.20530367e-05\n",
      " 1.10835652e-04 1.10835652e-04 1.06818702e-04 1.19345551e-04\n",
      " 1.19345551e-04 1.02059546e-04 1.14133605e-04 1.14133605e-04\n",
      " 3.48219718e-04 1.78207828e-04 1.78207828e-04 3.54160914e-04\n",
      " 1.08653824e-04 1.08653824e-04 2.65371531e-04 2.11423128e-04\n",
      " 2.11423128e-04 1.15561519e-04 2.15946966e-04 2.09110157e-04\n",
      " 4.15569958e-04 2.29566290e-04 1.34479776e-04 1.22557251e-04\n",
      " 9.42521989e-05 1.01890019e-04 3.45083279e-04 2.18657879e-04\n",
      " 1.92833509e-04 1.48500560e-04 2.06524809e-04 2.78644736e-04\n",
      " 9.72533265e-05 9.02408004e-05 9.02408004e-05 8.50515274e-05\n",
      " 9.93713181e-05 9.93713181e-05 2.03436237e-04 1.60259337e-04\n",
      " 1.60259337e-04 1.88648665e-04 9.97779745e-05 9.97779745e-05\n",
      " 1.87882021e-04 9.13872619e-05 9.13872619e-05 2.44706392e-04\n",
      " 1.13982192e-04 1.13982192e-04 6.16423961e-05 1.18859421e-04\n",
      " 1.18859421e-04 1.67288812e-04 3.42913436e-05 3.42913436e-05\n",
      " 6.66829722e-05 1.95927911e-04 1.95927911e-04 6.66300701e-05\n",
      " 1.96141245e-04 1.96141245e-04 5.18128430e-05 4.13102470e-05\n",
      " 4.13102470e-05 5.46130351e-05 4.70038488e-05 4.70038488e-05\n",
      " 8.07608669e-05 1.23808321e-04 1.23808321e-04 8.45225120e-05\n",
      " 1.13885073e-04 1.13885073e-04 1.05816716e-04 1.15689559e-04\n",
      " 1.15689559e-04 1.02370678e-04 1.19513138e-04 1.19513138e-04\n",
      " 2.07113606e-04 2.40306937e-04 2.40305197e-04 1.38017100e-04\n",
      " 1.73095980e-04 1.73095980e-04 2.55898337e-04 2.36327522e-04\n",
      " 2.36327522e-04 1.56431845e-04 2.44772746e-04 2.44772746e-04\n",
      " 2.72766593e-04 3.99143980e-04 3.79726087e-04 1.39341275e-04\n",
      " 2.25323135e-04 2.25329285e-04 1.91168559e-04 2.16024673e-04\n",
      " 2.18421158e-04 2.66498858e-04 3.77235794e-04 3.25738059e-04\n",
      " 1.17038830e-04 1.10829386e-04 1.10829386e-04 1.22627150e-04\n",
      " 1.07749915e-04 1.07749915e-04 1.78955967e-04 2.89270727e-04\n",
      " 2.89270727e-04 1.33621777e-04 1.52477462e-04 1.52477462e-04\n",
      " 8.78004004e-05 1.87565616e-04 1.87565616e-04 2.32227589e-04\n",
      " 1.23007599e-04 1.23007599e-04 1.01080145e-04 1.73735020e-04\n",
      " 1.73710104e-04 1.40473988e-04 1.25224444e-04 1.25224444e-04\n",
      " 6.25435217e-05 1.34003265e-04 1.34003265e-04 6.25435217e-05\n",
      " 1.34003265e-04 1.34003265e-04 7.03349305e-05 4.26259454e-05\n",
      " 4.26259454e-05 8.06454352e-05 3.99828979e-05 3.99828979e-05\n",
      " 7.78560927e-05 9.69148752e-05 9.69148752e-05 8.55759648e-05\n",
      " 1.02678531e-04 1.02678531e-04 1.11001444e-04 8.80444585e-05\n",
      " 8.80444585e-05 9.66096853e-05 1.04050443e-04 1.04050443e-04\n",
      " 2.48490655e-04 2.15281542e-04 2.15281542e-04 1.80649295e-04\n",
      " 4.00928316e-05 4.00928316e-05 2.53118262e-04 1.70756731e-04\n",
      " 1.70756731e-04 3.55674683e-04 1.36165451e-04 1.36165451e-04\n",
      " 1.23899928e-04 2.11642748e-04 2.11642748e-04 2.55107668e-04\n",
      " 1.31498686e-04 1.29142017e-04 3.76165518e-04 2.59100514e-04\n",
      " 2.37440047e-04 2.50097145e-04 1.59788726e-04 1.89551950e-04\n",
      " 1.17076236e-04 9.02792660e-05 9.02792660e-05 1.02489071e-04\n",
      " 1.07744621e-04 1.07744621e-04 1.11380700e-04 1.57535597e-04\n",
      " 1.57535597e-04 1.37908452e-04 2.58145378e-04 2.58145378e-04\n",
      " 1.44029762e-04 1.72671223e-04 1.72693280e-04 1.68413537e-04\n",
      " 2.16898451e-04 2.16898451e-04 1.57454460e-04 1.88061994e-04\n",
      " 1.88079954e-04 1.39762892e-04 1.54871627e-04 1.54871627e-04\n",
      " 6.25435217e-05 1.34003265e-04 1.34003265e-04 6.25435217e-05\n",
      " 1.34003265e-04 1.34003265e-04 7.14861746e-05 4.36413175e-05\n",
      " 4.36413175e-05 8.03990033e-05 4.13241086e-05 4.13241086e-05\n",
      " 7.76344215e-05 9.83354585e-05 9.83354585e-05 8.43923845e-05\n",
      " 1.02720245e-04 1.02720245e-04 1.02607311e-04 7.32697345e-05\n",
      " 7.32697345e-05 1.00416859e-04 1.03779224e-04 1.03779224e-04\n",
      " 3.03449480e-04 2.27859703e-04 2.27859703e-04 3.43516497e-04\n",
      " 8.16158917e-05 8.16158917e-05 4.30806178e-04 1.12873811e-04\n",
      " 1.12873811e-04 2.78279921e-04 3.18706600e-04 3.18706600e-04\n",
      " 4.58015838e-04 1.50672284e-04 1.50672284e-04 1.88907699e-04\n",
      " 2.29583778e-04 2.29584755e-04 1.88035909e-04 1.44763926e-04\n",
      " 1.44768138e-04 2.86452287e-04 2.63579913e-04 2.63579589e-04\n",
      " 1.17073656e-04 9.02643357e-05 9.02643357e-05 1.20987558e-04\n",
      " 1.07689736e-04 1.07689736e-04 9.13476467e-05 3.65590341e-05\n",
      " 4.78099333e-05 2.27390510e-04 1.98346347e-04 1.98346347e-04\n",
      " 1.58818317e-04 2.93184045e-04 2.93517377e-04 2.85915632e-04\n",
      " 8.68463356e-05 8.68463356e-05 2.09814542e-04 1.11602824e-04\n",
      " 1.11592370e-04 2.07172547e-04 2.32381389e-04 2.32381389e-04\n",
      " 6.25435217e-05 1.34003265e-04 1.34003265e-04 6.25435217e-05\n",
      " 1.34003265e-04 1.34003265e-04 7.13530464e-05 4.31358966e-05\n",
      " 4.31358966e-05 7.85214225e-05 4.10312376e-05 4.10312376e-05\n",
      " 7.38123549e-05 1.00799119e-04 1.00799119e-04 8.75230336e-05\n",
      " 1.02657774e-04 1.02657774e-04 1.09708569e-04 8.69369626e-05\n",
      " 8.69369626e-05 1.12950774e-04 1.06623607e-04 1.06623607e-04] \n",
      "\n"
     ]
    }
   ],
   "source": [
    "print('parans:\\n',r_lr['params'],'\\n')\n",
    "print('mean_test_score:\\n',r_lr['mean_test_score'],'\\n')\n",
    "print('std_test_score:\\n',r_lr['std_test_score'],'\\n')\n",
    "print('mean_train_score:\\n',r_lr['mean_train_score'],'\\n')\n",
    "print('std_train_score:\\n',r_lr['std_train_score'],'\\n')"
   ]
  },
  {
   "cell_type": "code",
   "execution_count": 64,
   "metadata": {},
   "outputs": [],
   "source": [
    "filename = 'SearchCV_statue_XGBoost'\n",
    "pickle.dump(SearchCV, open(filename, 'wb'))"
   ]
  }
 ],
 "metadata": {
  "kernelspec": {
   "display_name": "Python 3",
   "language": "python",
   "name": "python3"
  },
  "language_info": {
   "codemirror_mode": {
    "name": "ipython",
    "version": 3
   },
   "file_extension": ".py",
   "mimetype": "text/x-python",
   "name": "python",
   "nbconvert_exporter": "python",
   "pygments_lexer": "ipython3",
   "version": "3.7.4"
  }
 },
 "nbformat": 4,
 "nbformat_minor": 2
}
