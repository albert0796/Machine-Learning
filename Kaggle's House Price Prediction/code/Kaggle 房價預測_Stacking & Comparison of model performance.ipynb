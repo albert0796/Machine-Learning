{
 "cells": [
  {
   "cell_type": "markdown",
   "metadata": {},
   "source": [
    "# Package"
   ]
  },
  {
   "cell_type": "code",
   "execution_count": 1,
   "metadata": {},
   "outputs": [],
   "source": [
    "import numpy as np\n",
    "import matplotlib.pyplot as plt\n",
    "import pandas as pd\n",
    "from sklearn.model_selection import train_test_split\n",
    "from sklearn.preprocessing import MinMaxScaler, StandardScaler, Normalizer\n",
    "from sklearn.decomposition import PCA\n",
    "from sklearn.pipeline import make_pipeline\n",
    "\n",
    "import lightgbm as lgb\n",
    "import xgboost as xgb\n",
    "from sklearn.ensemble import RandomForestRegressor\n",
    "from sklearn.ensemble import AdaBoostRegressor\n",
    "from sklearn.tree import DecisionTreeRegressor\n",
    "from sklearn.neural_network import MLPRegressor \n",
    "from sklearn.linear_model import Lasso\n",
    "from sklearn.svm import LinearSVR\n",
    "from sklearn.metrics import r2_score\n",
    "import pickle"
   ]
  },
  {
   "cell_type": "code",
   "execution_count": 24,
   "metadata": {},
   "outputs": [],
   "source": [
    "def plot_target_pred(y, y_pred, target_next):\n",
    "    fig, (ax1, ax2) = plt.subplots(1, 2, figsize = (12, 4.5))\n",
    "    target_next_pred = target_next+'_pred'\n",
    "    ax1.plot(y, 'b-', label=target_next)\n",
    "    ax1.plot(y_pred, 'r-.', label=target_next_pred)\n",
    "    ax1.legend()\n",
    "    target_next_pred = target_next+'_pred'\n",
    "    ax2.plot(y, y_pred, '.')\n",
    "    ax2.set_xlabel(target_next)\n",
    "    ax2.set_ylabel(target_next_pred)\n",
    "    ax2.legend()\n",
    "    plt.tight_layout()\n",
    "    plt.show() "
   ]
  },
  {
   "cell_type": "code",
   "execution_count": 2,
   "metadata": {},
   "outputs": [],
   "source": [
    "class Stacking:\n",
    "    \n",
    "    def __init__(self, x_train, y_train, x_test, y_test, ls_model_stack, model_final, type_label):\n",
    "        self.trainx = x_train\n",
    "        self.trainy = y_train\n",
    "        self.testx = x_test\n",
    "        self.testy = y_test\n",
    "        self.ls_model_stack = ls_model_stack\n",
    "        self.model_final = model_final\n",
    "        self.type_label = type_label\n",
    "        self.trainx_stacking_input = None\n",
    "        self.trainy_stacking = None\n",
    "        self.trainx_final = None\n",
    "        self.trainy_final = None\n",
    "        self.trainx_final_input = None\n",
    "        self.testx_final_input = np.zeros((x_test.shape[0], len(ls_model_stack)))\n",
    "    \n",
    "    def spliting(self):\n",
    "        if self.type_label == 'discrete':\n",
    "            self.trainx_stacking_input, self.trainx_final, self.trainy_stacking, self.trainy_final = train_test_split (self.trainx, self.trainy, test_size= 0.3, random_state = 42, stratify = self.trainy)\n",
    "        elif self.type_label == 'continuous':\n",
    "            self.trainx_stacking_input, self.trainx_final, self.trainy_stacking, self.trainy_final = train_test_split (self.trainx, self.trainy, test_size= 0.3, random_state = 42)\n",
    "        self.trainx_final_input = np.zeros((self.trainx_final.shape[0], len(self.ls_model_stack)))   \n",
    "    \n",
    "    def modeling_stack_training(self):\n",
    "        for model, i in zip(self.ls_model_stack, range(len(self.ls_model_stack))):\n",
    "            model.fit(self.trainx_stacking_input, self.trainy_stacking)\n",
    "            output = model.predict(self.trainx_final)\n",
    "            self.trainx_final_input[:, i] = output\n",
    "            self.save_model(model, 'stacking_model' + str(i))\n",
    "            \n",
    "    def modeling_final_training(self):\n",
    "        self.model_final.fit(self.trainx_final_input, self.trainy_final)\n",
    "        self.save_model(self.model_final, 'stacking_final')\n",
    "        \n",
    "    def predict_stack_testing(self):\n",
    "        for model, i in zip(self.ls_model_stack, range(len(self.ls_model_stack))):\n",
    "            output = model.predict(self.testx)\n",
    "            self.testx_final_input[:, i] = output\n",
    "    \n",
    "    def predict_final_testing(self):\n",
    "        self.testy_pred = self.model_final.predict(self.testx_final_input)\n",
    "        if self.type_label == 'discrete':\n",
    "            self.testy_pred_prob=self.model_final.predict_proba(self.testx_final_input)\n",
    "            return self.testy_pred, self.testy_pred_prob\n",
    "        return self.testy_pred\n",
    "    \n",
    "    def scoring_testing(self):\n",
    "        if self.type_label == 'discrete':\n",
    "            fpr, tpr, thresholds = roc_curve(self.testy, self.testy_pred_prob[:, 1], pos_label=None)\n",
    "            AUC=auc(fpr, tpr)\n",
    "            return AUC\n",
    "        elif self.type_label == 'continuous':\n",
    "            r2 = r2_score(self.testy, self.testy_pred)\n",
    "            return r2\n",
    "    \n",
    "    def save_model(self, model, filename):\n",
    "        pickle.dump(model, open(filename, 'wb'))"
   ]
  },
  {
   "cell_type": "markdown",
   "metadata": {},
   "source": [
    "# Data"
   ]
  },
  {
   "cell_type": "code",
   "execution_count": 3,
   "metadata": {},
   "outputs": [],
   "source": [
    "file_path = r'C:\\Users\\user\\Desktop\\git_hub\\finished\\ml\\kaggle房價預測\\data\\train_processing.csv'\n",
    "data = pd.read_csv(file_path, encoding=\"Big5\", low_memory=False, index_col=0)"
   ]
  },
  {
   "cell_type": "code",
   "execution_count": 4,
   "metadata": {},
   "outputs": [],
   "source": [
    "data_v1 = data.copy()"
   ]
  },
  {
   "cell_type": "code",
   "execution_count": 5,
   "metadata": {},
   "outputs": [],
   "source": [
    "X = data_v1.drop(\"SalePrice\", axis=1).values\n",
    "y = data_v1[\"SalePrice\"].values.reshape(-1,1)\n",
    "X_train, X_test, y_train, y_test = train_test_split(X, y, test_size=0.3, random_state=42)"
   ]
  },
  {
   "cell_type": "markdown",
   "metadata": {},
   "source": [
    "# Stacking"
   ]
  },
  {
   "cell_type": "markdown",
   "metadata": {},
   "source": [
    "將調參過的所有模型做stacking。集成的模型包含XGBoost、LightGBM、AdaBoost、Random Forest、MLP、SVM、Lasso Regression (以上均調參過)，因為Decision Tree調參的表現低於其他模型較多所以並沒有放進stacking中。Fianl Model為Lasso Regression。"
   ]
  },
  {
   "cell_type": "code",
   "execution_count": 6,
   "metadata": {},
   "outputs": [],
   "source": [
    "dt_pip = make_pipeline(StandardScaler(),\n",
    "                       PCA(n_components = 50),\n",
    "                       DecisionTreeRegressor(max_depth = 8))\n",
    "rf_pip = make_pipeline(StandardScaler(),\n",
    "                       PCA(n_components = 100),\n",
    "                       RandomForestRegressor(max_depth = 8))\n",
    "ada_pip = make_pipeline(StandardScaler(),\n",
    "                        PCA(n_components = 50),\n",
    "                        AdaBoostRegressor(n_estimators = 300, learning_rate = 0.1))\n",
    "ls_pip = make_pipeline(MinMaxScaler(),\n",
    "                       PCA(n_components = 100),\n",
    "                       Lasso(normalize = False, alpha = 0.1))\n",
    "mlp_pip = make_pipeline(Normalizer(), \n",
    "                        PCA(n_components = 100), \n",
    "                        MLPRegressor(activation = 'relu', alpha = 0.01, batch_size = 'auto', \n",
    "                                     hidden_layer_sizes = (64, 64), learning_rate = 'constant', \n",
    "                                     learning_rate_init = 0.1, max_iter = 200, solver = 'adam'))\n",
    "xgb_pip = make_pipeline(StandardScaler(),\n",
    "                        PCA(n_components = 100),\n",
    "                        xgb.XGBRegressor(learning_rate = 0.1, colsample_bytree = 0.7,\n",
    "                                         gamma = 0.1, max_depth = 4, min_child_weight = 1))\n",
    "svm_pip = LinearSVR(C = 0.01)\n",
    "lgb_pip = lgb.LGBMRegressor(reg_lambda = 0.01, learning_rate = 0.1, max_depth = 6, \n",
    "                            min_child_samples = 16, reg_alpha = 0.1)"
   ]
  },
  {
   "cell_type": "code",
   "execution_count": 7,
   "metadata": {},
   "outputs": [],
   "source": [
    "model_stack = [rf_pip, ada_pip, ls_pip, mlp_pip, xgb_pip, svm_pip, lgb_pip]\n",
    "model_final = Lasso()\n",
    "type_label = 'continuous'"
   ]
  },
  {
   "cell_type": "code",
   "execution_count": 8,
   "metadata": {},
   "outputs": [
    {
     "name": "stderr",
     "output_type": "stream",
     "text": [
      "C:\\Users\\user\\Anaconda3\\lib\\site-packages\\sklearn\\ensemble\\forest.py:246: FutureWarning: The default value of n_estimators will change from 10 in version 0.20 to 100 in 0.22.\n",
      "  \"10 in version 0.20 to 100 in 0.22.\", FutureWarning)\n",
      "C:\\Users\\user\\Anaconda3\\lib\\site-packages\\sklearn\\pipeline.py:267: DataConversionWarning: A column-vector y was passed when a 1d array was expected. Please change the shape of y to (n_samples,), for example using ravel().\n",
      "  self._final_estimator.fit(Xt, y, **fit_params)\n",
      "C:\\Users\\user\\Anaconda3\\lib\\site-packages\\sklearn\\utils\\validation.py:761: DataConversionWarning: A column-vector y was passed when a 1d array was expected. Please change the shape of y to (n_samples, ), for example using ravel().\n",
      "  y = column_or_1d(y, warn=True)\n",
      "C:\\Users\\user\\Anaconda3\\lib\\site-packages\\sklearn\\neural_network\\multilayer_perceptron.py:1316: DataConversionWarning: A column-vector y was passed when a 1d array was expected. Please change the shape of y to (n_samples, ), for example using ravel().\n",
      "  y = column_or_1d(y, warn=True)\n",
      "C:\\Users\\user\\Anaconda3\\lib\\site-packages\\sklearn\\neural_network\\multilayer_perceptron.py:562: ConvergenceWarning: Stochastic Optimizer: Maximum iterations (200) reached and the optimization hasn't converged yet.\n",
      "  % self.max_iter, ConvergenceWarning)\n",
      "C:\\Users\\user\\Anaconda3\\lib\\site-packages\\sklearn\\utils\\validation.py:761: DataConversionWarning: A column-vector y was passed when a 1d array was expected. Please change the shape of y to (n_samples, ), for example using ravel().\n",
      "  y = column_or_1d(y, warn=True)\n",
      "C:\\Users\\user\\Anaconda3\\lib\\site-packages\\sklearn\\svm\\base.py:931: ConvergenceWarning: Liblinear failed to converge, increase the number of iterations.\n",
      "  \"the number of iterations.\", ConvergenceWarning)\n",
      "C:\\Users\\user\\Anaconda3\\lib\\site-packages\\sklearn\\utils\\validation.py:761: DataConversionWarning: A column-vector y was passed when a 1d array was expected. Please change the shape of y to (n_samples, ), for example using ravel().\n",
      "  y = column_or_1d(y, warn=True)\n"
     ]
    },
    {
     "data": {
      "text/plain": [
       "0.9032827271995842"
      ]
     },
     "execution_count": 8,
     "metadata": {},
     "output_type": "execute_result"
    }
   ],
   "source": [
    "stacking = Stacking(X_train, y_train, X_test, y_test, model_stack, model_final, type_label)\n",
    "stacking.spliting()\n",
    "stacking.modeling_stack_training()\n",
    "stacking.modeling_final_training()\n",
    "stacking.predict_stack_testing()\n",
    "stacking.predict_final_testing()\n",
    "stacking.scoring_testing()"
   ]
  },
  {
   "cell_type": "code",
   "execution_count": 27,
   "metadata": {},
   "outputs": [
    {
     "name": "stderr",
     "output_type": "stream",
     "text": [
      "No handles with labels found to put in legend.\n"
     ]
    },
    {
     "data": {
      "image/png": "[encoded data removed]",
      "text/plain": [
       "<Figure size 864x324 with 2 Axes>"
      ]
     },
     "metadata": {
      "needs_background": "light"
     },
     "output_type": "display_data"
    }
   ],
   "source": [
    "y_test_pred = stacking.predict_final_testing()\n",
    "plot_target_pred(y_test, y_test_pred, 'SalePrice')"
   ]
  },
  {
   "cell_type": "code",
   "execution_count": 9,
   "metadata": {},
   "outputs": [],
   "source": [
    "r2_stacking = stacking.scoring_testing()"
   ]
  },
  {
   "cell_type": "markdown",
   "metadata": {},
   "source": [
    "# Comparison of Model Performance"
   ]
  },
  {
   "cell_type": "markdown",
   "metadata": {},
   "source": [
    "AdaBoost"
   ]
  },
  {
   "cell_type": "code",
   "execution_count": 14,
   "metadata": {},
   "outputs": [],
   "source": [
    "file_ada = r'C:\\Users\\user\\Desktop\\git_hub\\finished\\ml\\kaggle房價預測\\data\\SearchCV_AdaBoost'\n",
    "ada = pickle.load(open(file_ada,'rb')) \n",
    "r2_ada = ada.score(X_test, y_test) "
   ]
  },
  {
   "cell_type": "markdown",
   "metadata": {},
   "source": [
    "Random Forest"
   ]
  },
  {
   "cell_type": "code",
   "execution_count": 15,
   "metadata": {},
   "outputs": [],
   "source": [
    "file_rf = r'C:\\Users\\user\\Desktop\\git_hub\\finished\\ml\\kaggle房價預測\\data\\SearchCV_RandomForest'\n",
    "rf = pickle.load(open(file_rf,'rb')) \n",
    "r2_rf = rf.score(X_test, y_test) "
   ]
  },
  {
   "cell_type": "markdown",
   "metadata": {},
   "source": [
    "Lasso Regression"
   ]
  },
  {
   "cell_type": "code",
   "execution_count": 16,
   "metadata": {},
   "outputs": [],
   "source": [
    "file_ls = r'C:\\Users\\user\\Desktop\\git_hub\\finished\\ml\\kaggle房價預測\\data\\SearchCV_Lasso'\n",
    "ls = pickle.load(open(file_ls,'rb')) \n",
    "r2_ls = ls.score(X_test, y_test) "
   ]
  },
  {
   "cell_type": "markdown",
   "metadata": {},
   "source": [
    "MLP Regressor"
   ]
  },
  {
   "cell_type": "code",
   "execution_count": 17,
   "metadata": {},
   "outputs": [],
   "source": [
    "file_mlp = r'C:\\Users\\user\\Desktop\\git_hub\\finished\\ml\\kaggle房價預測\\data\\SearchCV_MLP'\n",
    "mlp = pickle.load(open(file_mlp,'rb')) \n",
    "r2_mlp = mlp.score(X_test, y_test) "
   ]
  },
  {
   "cell_type": "markdown",
   "metadata": {},
   "source": [
    "XGBoost"
   ]
  },
  {
   "cell_type": "code",
   "execution_count": 18,
   "metadata": {},
   "outputs": [],
   "source": [
    "file_xgb = r'C:\\Users\\user\\Desktop\\git_hub\\finished\\ml\\kaggle房價預測\\data\\SearchCV_XGBoost'\n",
    "xgb = pickle.load(open(file_xgb,'rb')) \n",
    "r2_xgb = xgb.score(X_test, y_test) "
   ]
  },
  {
   "cell_type": "markdown",
   "metadata": {},
   "source": [
    "SVM"
   ]
  },
  {
   "cell_type": "code",
   "execution_count": 19,
   "metadata": {},
   "outputs": [],
   "source": [
    "file_svm = r'C:\\Users\\user\\Desktop\\git_hub\\finished\\ml\\kaggle房價預測\\data\\SearchCV_SVM'\n",
    "svm = pickle.load(open(file_svm,'rb')) \n",
    "r2_svm = svm.score(X_test, y_test) "
   ]
  },
  {
   "cell_type": "markdown",
   "metadata": {},
   "source": [
    "LightGBM"
   ]
  },
  {
   "cell_type": "code",
   "execution_count": 20,
   "metadata": {},
   "outputs": [],
   "source": [
    "file_gbm = r'C:\\Users\\user\\Desktop\\git_hub\\finished\\ml\\kaggle房價預測\\data\\SearchCV_GBM'\n",
    "gbm = pickle.load(open(file_gbm,'rb')) \n",
    "r2_gbm = gbm.score(X_test, y_test) "
   ]
  },
  {
   "cell_type": "markdown",
   "metadata": {},
   "source": [
    "### Records"
   ]
  },
  {
   "cell_type": "code",
   "execution_count": 23,
   "metadata": {},
   "outputs": [
    {
     "data": {
      "text/html": [
       "<div>\n",
       "<style scoped>\n",
       "    .dataframe tbody tr th:only-of-type {\n",
       "        vertical-align: middle;\n",
       "    }\n",
       "\n",
       "    .dataframe tbody tr th {\n",
       "        vertical-align: top;\n",
       "    }\n",
       "\n",
       "    .dataframe thead th {\n",
       "        text-align: right;\n",
       "    }\n",
       "</style>\n",
       "<table border=\"1\" class=\"dataframe\">\n",
       "  <thead>\n",
       "    <tr style=\"text-align: right;\">\n",
       "      <th></th>\n",
       "      <th>Model</th>\n",
       "      <th>R2_test</th>\n",
       "    </tr>\n",
       "  </thead>\n",
       "  <tbody>\n",
       "    <tr>\n",
       "      <th>1</th>\n",
       "      <td>Stacking</td>\n",
       "      <td>0.9033</td>\n",
       "    </tr>\n",
       "    <tr>\n",
       "      <th>2</th>\n",
       "      <td>LightGBM</td>\n",
       "      <td>0.9007</td>\n",
       "    </tr>\n",
       "    <tr>\n",
       "      <th>3</th>\n",
       "      <td>Extreme Gradient Boosting (XGBoost)</td>\n",
       "      <td>0.9003</td>\n",
       "    </tr>\n",
       "    <tr>\n",
       "      <th>4</th>\n",
       "      <td>Random Forest Regressor</td>\n",
       "      <td>0.8822</td>\n",
       "    </tr>\n",
       "    <tr>\n",
       "      <th>5</th>\n",
       "      <td>MLP Regressor</td>\n",
       "      <td>0.8703</td>\n",
       "    </tr>\n",
       "    <tr>\n",
       "      <th>6</th>\n",
       "      <td>Adaptive Boosting (AdaBoost)</td>\n",
       "      <td>0.8605</td>\n",
       "    </tr>\n",
       "    <tr>\n",
       "      <th>7</th>\n",
       "      <td>Lasso Regression</td>\n",
       "      <td>0.8547</td>\n",
       "    </tr>\n",
       "    <tr>\n",
       "      <th>8</th>\n",
       "      <td>SVM</td>\n",
       "      <td>0.8445</td>\n",
       "    </tr>\n",
       "  </tbody>\n",
       "</table>\n",
       "</div>"
      ],
      "text/plain": [
       "                                 Model  R2_test\n",
       "1                             Stacking   0.9033\n",
       "2                             LightGBM   0.9007\n",
       "3  Extreme Gradient Boosting (XGBoost)   0.9003\n",
       "4              Random Forest Regressor   0.8822\n",
       "5                        MLP Regressor   0.8703\n",
       "6         Adaptive Boosting (AdaBoost)   0.8605\n",
       "7                     Lasso Regression   0.8547\n",
       "8                                  SVM   0.8445"
      ]
     },
     "execution_count": 23,
     "metadata": {},
     "output_type": "execute_result"
    }
   ],
   "source": [
    "records = pd.DataFrame({\n",
    "                        'Model': [\n",
    "                                  'LightGBM',\n",
    "                                  'Lasso Regression', \n",
    "                                  'Random Forest Regressor',  \n",
    "                                  'Adaptive Boosting (AdaBoost)',\n",
    "                                  'Extreme Gradient Boosting (XGBoost)',\n",
    "                                  'MLP Regressor',\n",
    "                                  'Stacking',\n",
    "                                  'SVM'],\n",
    "                        'R2_test': [\n",
    "                                    r2_gbm,\n",
    "                                    r2_ls, \n",
    "                                    r2_rf,  \n",
    "                                    r2_ada,  \n",
    "                                    r2_xgb,\n",
    "                                    r2_mlp,\n",
    "                                    r2_stacking,\n",
    "                                    r2_svm]})\n",
    "\n",
    "records['R2_test']=round(records['R2_test'], 4).values\n",
    "records.sort_values(by = 'R2_test', ascending = False, inplace = True)\n",
    "records.index = range(1, records.shape[0] + 1)\n",
    "records"
   ]
  },
  {
   "cell_type": "code",
   "execution_count": null,
   "metadata": {},
   "outputs": [],
   "source": []
  }
 ],
 "metadata": {
  "kernelspec": {
   "display_name": "Python 3",
   "language": "python",
   "name": "python3"
  },
  "language_info": {
   "codemirror_mode": {
    "name": "ipython",
    "version": 3
   },
   "file_extension": ".py",
   "mimetype": "text/x-python",
   "name": "python",
   "nbconvert_exporter": "python",
   "pygments_lexer": "ipython3",
   "version": "3.7.3"
  }
 },
 "nbformat": 4,
 "nbformat_minor": 4
}
